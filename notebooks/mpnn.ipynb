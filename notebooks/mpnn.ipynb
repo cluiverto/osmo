{
 "cells": [
  {
   "cell_type": "code",
   "execution_count": 1,
   "id": "241df9b7",
   "metadata": {},
   "outputs": [],
   "source": [
    "from torch_geometric.data import Data\n",
    "import torch\n",
    "\n",
    "def mol_to_graph_data_obj(mol, label_vec):\n",
    "    atom_features = []\n",
    "    for atom in mol.GetAtoms():\n",
    "        # Przykładowe cechy atomu: liczba atomowa, stopień, liczba wodorków, hybrydyzacja, ładunek formalny\n",
    "        atom_features.append([\n",
    "            atom.GetAtomicNum(),\n",
    "            atom.GetDegree(),\n",
    "            atom.GetTotalNumHs(),\n",
    "            atom.GetHybridization().real,\n",
    "            atom.GetFormalCharge()\n",
    "        ])\n",
    "    x = torch.tensor(atom_features, dtype=torch.float)\n",
    "\n",
    "    edge_index = []\n",
    "    edge_attr = []\n",
    "    for bond in mol.GetBonds():\n",
    "        i = bond.GetBeginAtomIdx()\n",
    "        j = bond.GetEndAtomIdx()\n",
    "        edge_index.append([i, j])\n",
    "        edge_index.append([j, i])\n",
    "        # Przykładowe cechy wiązania: typ wiązania (jedno, podwójne, potrójne, aromatyczne)\n",
    "        bond_type = bond.GetBondType()\n",
    "        edge_attr.append([bond_type == Chem.rdchem.BondType.SINGLE,\n",
    "                          bond_type == Chem.rdchem.BondType.DOUBLE,\n",
    "                          bond_type == Chem.rdchem.BondType.TRIPLE,\n",
    "                          bond_type == Chem.rdchem.BondType.AROMATIC])\n",
    "        edge_attr.append([bond_type == Chem.rdchem.BondType.SINGLE,\n",
    "                          bond_type == Chem.rdchem.BondType.DOUBLE,\n",
    "                          bond_type == Chem.rdchem.BondType.TRIPLE,\n",
    "                          bond_type == Chem.rdchem.BondType.AROMATIC])\n",
    "\n",
    "    if len(edge_index) > 0:\n",
    "        edge_index = torch.tensor(edge_index, dtype=torch.long).t().contiguous()\n",
    "        edge_attr = torch.tensor(edge_attr, dtype=torch.float)\n",
    "    else:\n",
    "        edge_index = torch.empty((2, 0), dtype=torch.long)\n",
    "        edge_attr = torch.empty((0, 4), dtype=torch.float)\n",
    "\n",
    "    y = torch.tensor(label_vec, dtype=torch.float)\n",
    "\n",
    "    return Data(x=x, edge_index=edge_index, edge_attr=edge_attr, y=y)\n"
   ]
  },
  {
   "cell_type": "code",
   "execution_count": 2,
   "id": "1b86c80f",
   "metadata": {},
   "outputs": [],
   "source": [
    "from torch_geometric.data import Dataset\n",
    "\n",
    "class OdorDataset(Dataset):\n",
    "    def __init__(self, mols, labels):\n",
    "        super().__init__()\n",
    "        self.mols = mols\n",
    "        self.labels = labels\n",
    "\n",
    "    def len(self):\n",
    "        return len(self.mols)\n",
    "\n",
    "    def get(self, idx):\n",
    "        return mol_to_graph_data_obj(self.mols[idx], self.labels[idx])\n"
   ]
  },
  {
   "cell_type": "code",
   "execution_count": 3,
   "id": "b161b32b",
   "metadata": {},
   "outputs": [],
   "source": [
    "import torch.nn as nn\n",
    "import torch.nn.functional as F\n",
    "from torch_geometric.nn import MessagePassing, global_mean_pool\n",
    "from torch_geometric.utils import add_self_loops\n",
    "\n",
    "class MPNNLayer(MessagePassing):\n",
    "    def __init__(self, in_channels, out_channels):\n",
    "        super().__init__(aggr='add')  # sum aggregation\n",
    "        self.mlp = nn.Sequential(\n",
    "            nn.Linear(in_channels * 2 + 4, out_channels),\n",
    "            nn.ReLU(),\n",
    "            nn.Linear(out_channels, out_channels)\n",
    "        )\n",
    "\n",
    "    def forward(self, x, edge_index, edge_attr):\n",
    "        # Dodaj pętlę własną (self-loop)\n",
    "        edge_index, edge_attr = add_self_loops(edge_index, edge_attr=edge_attr, fill_value=0, num_nodes=x.size(0))\n",
    "        return self.propagate(edge_index, x=x, edge_attr=edge_attr)\n",
    "\n",
    "    def message(self, x_i, x_j, edge_attr):\n",
    "        # x_i = target node features, x_j = source node features\n",
    "        tmp = torch.cat([x_i, x_j, edge_attr], dim=-1)\n",
    "        return self.mlp(tmp)\n",
    "\n",
    "class SimpleMPNN(nn.Module):\n",
    "    def __init__(self, num_node_features, num_classes):\n",
    "        super().__init__()\n",
    "        self.mp1 = MPNNLayer(num_node_features, 64)\n",
    "        self.mp2 = MPNNLayer(64, 64)\n",
    "        self.fc1 = nn.Linear(64, 128)\n",
    "        self.fc2 = nn.Linear(128, num_classes)\n",
    "\n",
    "    def forward(self, data):\n",
    "        x, edge_index, edge_attr, batch = data.x, data.edge_index, data.edge_attr, data.batch\n",
    "        x = self.mp1(x, edge_index, edge_attr)\n",
    "        x = F.relu(x)\n",
    "        x = self.mp2(x, edge_index, edge_attr)\n",
    "        x = F.relu(x)\n",
    "        x = global_mean_pool(x, batch)  # pooling po grafach\n",
    "        x = F.relu(self.fc1(x))\n",
    "        x = self.fc2(x)\n",
    "        return x\n"
   ]
  },
  {
   "cell_type": "code",
   "execution_count": 4,
   "id": "0b43ddd8",
   "metadata": {},
   "outputs": [
    {
     "data": {
      "text/html": [
       "<div>\n",
       "<style scoped>\n",
       "    .dataframe tbody tr th:only-of-type {\n",
       "        vertical-align: middle;\n",
       "    }\n",
       "\n",
       "    .dataframe tbody tr th {\n",
       "        vertical-align: top;\n",
       "    }\n",
       "\n",
       "    .dataframe thead th {\n",
       "        text-align: right;\n",
       "    }\n",
       "</style>\n",
       "<table border=\"1\" class=\"dataframe\">\n",
       "  <thead>\n",
       "    <tr style=\"text-align: right;\">\n",
       "      <th></th>\n",
       "      <th>TGSC ID</th>\n",
       "      <th>CID</th>\n",
       "      <th>Concentration %</th>\n",
       "      <th>Solvent</th>\n",
       "      <th>MolecularWeight</th>\n",
       "      <th>IsomericSMILES</th>\n",
       "      <th>IUPACName</th>\n",
       "      <th>name</th>\n",
       "      <th>Labels</th>\n",
       "      <th>mol</th>\n",
       "    </tr>\n",
       "  </thead>\n",
       "  <tbody>\n",
       "    <tr>\n",
       "      <th>0</th>\n",
       "      <td>1000111</td>\n",
       "      <td>7476</td>\n",
       "      <td>100.0</td>\n",
       "      <td>NaN</td>\n",
       "      <td>150.17</td>\n",
       "      <td>CC(=O)C1=CC=C(C=C1)OC</td>\n",
       "      <td>1-(4-methoxyphenyl)ethanone</td>\n",
       "      <td>4'-methoxyacetophenone</td>\n",
       "      <td>[sweet, vanilla, cherry maraschino cherry, pow...</td>\n",
       "      <td>&lt;rdkit.Chem.rdchem.Mol object at 0x0000023D668...</td>\n",
       "    </tr>\n",
       "    <tr>\n",
       "      <th>1</th>\n",
       "      <td>1031871</td>\n",
       "      <td>7478</td>\n",
       "      <td>10.0</td>\n",
       "      <td>dipropylene glycol</td>\n",
       "      <td>152.15</td>\n",
       "      <td>COC1=CC=C(C=C1)C(=O)O</td>\n",
       "      <td>4-methoxybenzoic acid</td>\n",
       "      <td>4-methoxybenzoic acid</td>\n",
       "      <td>[phenolic, animal, fecal, medicinal]</td>\n",
       "      <td>&lt;rdkit.Chem.rdchem.Mol object at 0x0000023D668...</td>\n",
       "    </tr>\n",
       "    <tr>\n",
       "      <th>2</th>\n",
       "      <td>1009281</td>\n",
       "      <td>7501</td>\n",
       "      <td>0.1</td>\n",
       "      <td>triacetin</td>\n",
       "      <td>104.15</td>\n",
       "      <td>C=CC1=CC=CC=C1</td>\n",
       "      <td>styrene</td>\n",
       "      <td>styrene</td>\n",
       "      <td>[sweet, plastic, floral, balsamic]</td>\n",
       "      <td>&lt;rdkit.Chem.rdchem.Mol object at 0x0000023D668...</td>\n",
       "    </tr>\n",
       "    <tr>\n",
       "      <th>3</th>\n",
       "      <td>1001651</td>\n",
       "      <td>244</td>\n",
       "      <td>100.0</td>\n",
       "      <td>NaN</td>\n",
       "      <td>108.14</td>\n",
       "      <td>C1=CC=C(C=C1)CO</td>\n",
       "      <td>phenylmethanol</td>\n",
       "      <td>benzyl alcohol</td>\n",
       "      <td>[sweet, floral, rose, fruity, phenolic, balsam...</td>\n",
       "      <td>&lt;rdkit.Chem.rdchem.Mol object at 0x0000023D668...</td>\n",
       "    </tr>\n",
       "    <tr>\n",
       "      <th>4</th>\n",
       "      <td>1001491</td>\n",
       "      <td>240</td>\n",
       "      <td>10.0</td>\n",
       "      <td>dipropylene glycol</td>\n",
       "      <td>106.12</td>\n",
       "      <td>C1=CC=C(C=C1)C=O</td>\n",
       "      <td>benzaldehyde</td>\n",
       "      <td>benzaldehyde</td>\n",
       "      <td>[sweet, cherry, cherry maraschino cherry, nutt...</td>\n",
       "      <td>&lt;rdkit.Chem.rdchem.Mol object at 0x0000023D668...</td>\n",
       "    </tr>\n",
       "  </tbody>\n",
       "</table>\n",
       "</div>"
      ],
      "text/plain": [
       "   TGSC ID   CID  Concentration %             Solvent  MolecularWeight  \\\n",
       "0  1000111  7476            100.0                 NaN           150.17   \n",
       "1  1031871  7478             10.0  dipropylene glycol           152.15   \n",
       "2  1009281  7501              0.1           triacetin           104.15   \n",
       "3  1001651   244            100.0                 NaN           108.14   \n",
       "4  1001491   240             10.0  dipropylene glycol           106.12   \n",
       "\n",
       "          IsomericSMILES                    IUPACName                    name  \\\n",
       "0  CC(=O)C1=CC=C(C=C1)OC  1-(4-methoxyphenyl)ethanone  4'-methoxyacetophenone   \n",
       "1  COC1=CC=C(C=C1)C(=O)O        4-methoxybenzoic acid   4-methoxybenzoic acid   \n",
       "2         C=CC1=CC=CC=C1                      styrene                 styrene   \n",
       "3        C1=CC=C(C=C1)CO               phenylmethanol          benzyl alcohol   \n",
       "4       C1=CC=C(C=C1)C=O                 benzaldehyde            benzaldehyde   \n",
       "\n",
       "                                              Labels  \\\n",
       "0  [sweet, vanilla, cherry maraschino cherry, pow...   \n",
       "1               [phenolic, animal, fecal, medicinal]   \n",
       "2                 [sweet, plastic, floral, balsamic]   \n",
       "3  [sweet, floral, rose, fruity, phenolic, balsam...   \n",
       "4  [sweet, cherry, cherry maraschino cherry, nutt...   \n",
       "\n",
       "                                                 mol  \n",
       "0  <rdkit.Chem.rdchem.Mol object at 0x0000023D668...  \n",
       "1  <rdkit.Chem.rdchem.Mol object at 0x0000023D668...  \n",
       "2  <rdkit.Chem.rdchem.Mol object at 0x0000023D668...  \n",
       "3  <rdkit.Chem.rdchem.Mol object at 0x0000023D668...  \n",
       "4  <rdkit.Chem.rdchem.Mol object at 0x0000023D668...  "
      ]
     },
     "execution_count": 4,
     "metadata": {},
     "output_type": "execute_result"
    }
   ],
   "source": [
    "import os, sys\n",
    "# Zakładam, że folder 'scripts' jest na tym samym poziomie co 'notebooks'\n",
    "scripts_path = os.path.abspath(os.path.join('..', 'scripts'))\n",
    "if scripts_path not in sys.path:\n",
    "    sys.path.append(scripts_path)\n",
    "\n",
    "# Teraz możesz importować moduł\n",
    "from predicting_odor_from_molecular_structure import *\n",
    "import pandas as pd\n",
    "\n",
    "\n",
    "df = goodscents()\n",
    "df.head()"
   ]
  },
  {
   "cell_type": "code",
   "execution_count": 6,
   "id": "5b38a804",
   "metadata": {},
   "outputs": [
    {
     "data": {
      "text/plain": [
       "(MultiLabelBinarizer(classes=['fruity', 'green', 'sweet', 'floral', 'woody',\n",
       "                              'herbal', 'fatty', 'fresh', 'waxy', 'spicy',\n",
       "                              'citrus', 'rose', 'sulfurous', 'earthy', 'nutty',\n",
       "                              'tropical', 'odorless', 'balsamic', 'oily',\n",
       "                              'minty', 'vegetable', 'powdery', 'musty', 'meaty',\n",
       "                              'creamy', 'pineapple', 'apple', 'aldehydic',\n",
       "                              'roasted', 'ethereal', ...]),\n",
       " (4626, 667))"
      ]
     },
     "execution_count": 6,
     "metadata": {},
     "output_type": "execute_result"
    }
   ],
   "source": [
    "from sklearn.preprocessing import MultiLabelBinarizer\n",
    "\n",
    "classes = label_frequencies(df, labels_column='Labels').Label.to_list()\n",
    "mlb = MultiLabelBinarizer(classes=classes)\n",
    "Y = mlb.fit_transform(df['Labels'])\n",
    "\n",
    "mlb, Y.shape"
   ]
  },
  {
   "cell_type": "code",
   "execution_count": 8,
   "id": "f554f1b2",
   "metadata": {},
   "outputs": [
    {
     "ename": "ValueError",
     "evalue": "Target size (torch.Size([21344])) must be the same as input size (torch.Size([32, 667]))",
     "output_type": "error",
     "traceback": [
      "\u001b[1;31m---------------------------------------------------------------------------\u001b[0m",
      "\u001b[1;31mValueError\u001b[0m                                Traceback (most recent call last)",
      "Cell \u001b[1;32mIn[8], line 25\u001b[0m\n\u001b[0;32m     23\u001b[0m optimizer\u001b[38;5;241m.\u001b[39mzero_grad()\n\u001b[0;32m     24\u001b[0m out \u001b[38;5;241m=\u001b[39m model(batch)\n\u001b[1;32m---> 25\u001b[0m loss \u001b[38;5;241m=\u001b[39m \u001b[43mcriterion\u001b[49m\u001b[43m(\u001b[49m\u001b[43mout\u001b[49m\u001b[43m,\u001b[49m\u001b[43m \u001b[49m\u001b[43mbatch\u001b[49m\u001b[38;5;241;43m.\u001b[39;49m\u001b[43my\u001b[49m\u001b[43m)\u001b[49m\n\u001b[0;32m     26\u001b[0m loss\u001b[38;5;241m.\u001b[39mbackward()\n\u001b[0;32m     27\u001b[0m optimizer\u001b[38;5;241m.\u001b[39mstep()\n",
      "File \u001b[1;32mc:\\Users\\mikoo\\miniconda3\\envs\\primo\\Lib\\site-packages\\torch\\nn\\modules\\module.py:1751\u001b[0m, in \u001b[0;36mModule._wrapped_call_impl\u001b[1;34m(self, *args, **kwargs)\u001b[0m\n\u001b[0;32m   1749\u001b[0m     \u001b[38;5;28;01mreturn\u001b[39;00m \u001b[38;5;28mself\u001b[39m\u001b[38;5;241m.\u001b[39m_compiled_call_impl(\u001b[38;5;241m*\u001b[39margs, \u001b[38;5;241m*\u001b[39m\u001b[38;5;241m*\u001b[39mkwargs)  \u001b[38;5;66;03m# type: ignore[misc]\u001b[39;00m\n\u001b[0;32m   1750\u001b[0m \u001b[38;5;28;01melse\u001b[39;00m:\n\u001b[1;32m-> 1751\u001b[0m     \u001b[38;5;28;01mreturn\u001b[39;00m \u001b[38;5;28;43mself\u001b[39;49m\u001b[38;5;241;43m.\u001b[39;49m\u001b[43m_call_impl\u001b[49m\u001b[43m(\u001b[49m\u001b[38;5;241;43m*\u001b[39;49m\u001b[43margs\u001b[49m\u001b[43m,\u001b[49m\u001b[43m \u001b[49m\u001b[38;5;241;43m*\u001b[39;49m\u001b[38;5;241;43m*\u001b[39;49m\u001b[43mkwargs\u001b[49m\u001b[43m)\u001b[49m\n",
      "File \u001b[1;32mc:\\Users\\mikoo\\miniconda3\\envs\\primo\\Lib\\site-packages\\torch\\nn\\modules\\module.py:1762\u001b[0m, in \u001b[0;36mModule._call_impl\u001b[1;34m(self, *args, **kwargs)\u001b[0m\n\u001b[0;32m   1757\u001b[0m \u001b[38;5;66;03m# If we don't have any hooks, we want to skip the rest of the logic in\u001b[39;00m\n\u001b[0;32m   1758\u001b[0m \u001b[38;5;66;03m# this function, and just call forward.\u001b[39;00m\n\u001b[0;32m   1759\u001b[0m \u001b[38;5;28;01mif\u001b[39;00m \u001b[38;5;129;01mnot\u001b[39;00m (\u001b[38;5;28mself\u001b[39m\u001b[38;5;241m.\u001b[39m_backward_hooks \u001b[38;5;129;01mor\u001b[39;00m \u001b[38;5;28mself\u001b[39m\u001b[38;5;241m.\u001b[39m_backward_pre_hooks \u001b[38;5;129;01mor\u001b[39;00m \u001b[38;5;28mself\u001b[39m\u001b[38;5;241m.\u001b[39m_forward_hooks \u001b[38;5;129;01mor\u001b[39;00m \u001b[38;5;28mself\u001b[39m\u001b[38;5;241m.\u001b[39m_forward_pre_hooks\n\u001b[0;32m   1760\u001b[0m         \u001b[38;5;129;01mor\u001b[39;00m _global_backward_pre_hooks \u001b[38;5;129;01mor\u001b[39;00m _global_backward_hooks\n\u001b[0;32m   1761\u001b[0m         \u001b[38;5;129;01mor\u001b[39;00m _global_forward_hooks \u001b[38;5;129;01mor\u001b[39;00m _global_forward_pre_hooks):\n\u001b[1;32m-> 1762\u001b[0m     \u001b[38;5;28;01mreturn\u001b[39;00m \u001b[43mforward_call\u001b[49m\u001b[43m(\u001b[49m\u001b[38;5;241;43m*\u001b[39;49m\u001b[43margs\u001b[49m\u001b[43m,\u001b[49m\u001b[43m \u001b[49m\u001b[38;5;241;43m*\u001b[39;49m\u001b[38;5;241;43m*\u001b[39;49m\u001b[43mkwargs\u001b[49m\u001b[43m)\u001b[49m\n\u001b[0;32m   1764\u001b[0m result \u001b[38;5;241m=\u001b[39m \u001b[38;5;28;01mNone\u001b[39;00m\n\u001b[0;32m   1765\u001b[0m called_always_called_hooks \u001b[38;5;241m=\u001b[39m \u001b[38;5;28mset\u001b[39m()\n",
      "File \u001b[1;32mc:\\Users\\mikoo\\miniconda3\\envs\\primo\\Lib\\site-packages\\torch\\nn\\modules\\loss.py:821\u001b[0m, in \u001b[0;36mBCEWithLogitsLoss.forward\u001b[1;34m(self, input, target)\u001b[0m\n\u001b[0;32m    820\u001b[0m \u001b[38;5;28;01mdef\u001b[39;00m \u001b[38;5;21mforward\u001b[39m(\u001b[38;5;28mself\u001b[39m, \u001b[38;5;28minput\u001b[39m: Tensor, target: Tensor) \u001b[38;5;241m-\u001b[39m\u001b[38;5;241m>\u001b[39m Tensor:\n\u001b[1;32m--> 821\u001b[0m     \u001b[38;5;28;01mreturn\u001b[39;00m \u001b[43mF\u001b[49m\u001b[38;5;241;43m.\u001b[39;49m\u001b[43mbinary_cross_entropy_with_logits\u001b[49m\u001b[43m(\u001b[49m\n\u001b[0;32m    822\u001b[0m \u001b[43m        \u001b[49m\u001b[38;5;28;43minput\u001b[39;49m\u001b[43m,\u001b[49m\n\u001b[0;32m    823\u001b[0m \u001b[43m        \u001b[49m\u001b[43mtarget\u001b[49m\u001b[43m,\u001b[49m\n\u001b[0;32m    824\u001b[0m \u001b[43m        \u001b[49m\u001b[38;5;28;43mself\u001b[39;49m\u001b[38;5;241;43m.\u001b[39;49m\u001b[43mweight\u001b[49m\u001b[43m,\u001b[49m\n\u001b[0;32m    825\u001b[0m \u001b[43m        \u001b[49m\u001b[43mpos_weight\u001b[49m\u001b[38;5;241;43m=\u001b[39;49m\u001b[38;5;28;43mself\u001b[39;49m\u001b[38;5;241;43m.\u001b[39;49m\u001b[43mpos_weight\u001b[49m\u001b[43m,\u001b[49m\n\u001b[0;32m    826\u001b[0m \u001b[43m        \u001b[49m\u001b[43mreduction\u001b[49m\u001b[38;5;241;43m=\u001b[39;49m\u001b[38;5;28;43mself\u001b[39;49m\u001b[38;5;241;43m.\u001b[39;49m\u001b[43mreduction\u001b[49m\u001b[43m,\u001b[49m\n\u001b[0;32m    827\u001b[0m \u001b[43m    \u001b[49m\u001b[43m)\u001b[49m\n",
      "File \u001b[1;32mc:\\Users\\mikoo\\miniconda3\\envs\\primo\\Lib\\site-packages\\torch\\nn\\functional.py:3639\u001b[0m, in \u001b[0;36mbinary_cross_entropy_with_logits\u001b[1;34m(input, target, weight, size_average, reduce, reduction, pos_weight)\u001b[0m\n\u001b[0;32m   3636\u001b[0m     reduction_enum \u001b[38;5;241m=\u001b[39m _Reduction\u001b[38;5;241m.\u001b[39mget_enum(reduction)\n\u001b[0;32m   3638\u001b[0m \u001b[38;5;28;01mif\u001b[39;00m \u001b[38;5;129;01mnot\u001b[39;00m (target\u001b[38;5;241m.\u001b[39msize() \u001b[38;5;241m==\u001b[39m \u001b[38;5;28minput\u001b[39m\u001b[38;5;241m.\u001b[39msize()):\n\u001b[1;32m-> 3639\u001b[0m     \u001b[38;5;28;01mraise\u001b[39;00m \u001b[38;5;167;01mValueError\u001b[39;00m(\n\u001b[0;32m   3640\u001b[0m         \u001b[38;5;124mf\u001b[39m\u001b[38;5;124m\"\u001b[39m\u001b[38;5;124mTarget size (\u001b[39m\u001b[38;5;132;01m{\u001b[39;00mtarget\u001b[38;5;241m.\u001b[39msize()\u001b[38;5;132;01m}\u001b[39;00m\u001b[38;5;124m) must be the same as input size (\u001b[39m\u001b[38;5;132;01m{\u001b[39;00m\u001b[38;5;28minput\u001b[39m\u001b[38;5;241m.\u001b[39msize()\u001b[38;5;132;01m}\u001b[39;00m\u001b[38;5;124m)\u001b[39m\u001b[38;5;124m\"\u001b[39m\n\u001b[0;32m   3641\u001b[0m     )\n\u001b[0;32m   3643\u001b[0m \u001b[38;5;28;01mreturn\u001b[39;00m torch\u001b[38;5;241m.\u001b[39mbinary_cross_entropy_with_logits(\n\u001b[0;32m   3644\u001b[0m     \u001b[38;5;28minput\u001b[39m, target, weight, pos_weight, reduction_enum\n\u001b[0;32m   3645\u001b[0m )\n",
      "\u001b[1;31mValueError\u001b[0m: Target size (torch.Size([21344])) must be the same as input size (torch.Size([32, 667]))"
     ]
    }
   ],
   "source": [
    "from torch_geometric.loader import DataLoader\n",
    "import torch.optim as optim\n",
    "\n",
    "device = torch.device('cuda' if torch.cuda.is_available() else 'cpu')\n",
    "\n",
    "dataset = OdorDataset(list(df['mol']), Y)  # Y to macierz binarna etykiet\n",
    "train_size = int(0.8 * len(dataset))\n",
    "test_size = len(dataset) - train_size\n",
    "train_dataset, test_dataset = torch.utils.data.random_split(dataset, [train_size, test_size])\n",
    "\n",
    "train_loader = DataLoader(train_dataset, batch_size=32, shuffle=True)\n",
    "test_loader = DataLoader(test_dataset, batch_size=32)\n",
    "\n",
    "model = SimpleMPNN(num_node_features=5, num_classes=Y.shape[1]).to(device)\n",
    "optimizer = optim.Adam(model.parameters(), lr=1e-3)\n",
    "criterion = nn.BCEWithLogitsLoss()\n",
    "\n",
    "for epoch in range(20):\n",
    "    model.train()\n",
    "    total_loss = 0\n",
    "    for batch in train_loader:\n",
    "        batch = batch.to(device)\n",
    "        optimizer.zero_grad()\n",
    "        out = model(batch)\n",
    "        loss = criterion(out, batch.y)\n",
    "        loss.backward()\n",
    "        optimizer.step()\n",
    "        total_loss += loss.item() * batch.num_graphs\n",
    "    print(f\"Epoch {epoch+1}, Loss: {total_loss / len(train_loader.dataset):.4f}\")\n",
    "\n",
    "# Ewaluacja (np. AUROC)\n",
    "model.eval()\n",
    "all_preds = []\n",
    "all_labels = []\n",
    "with torch.no_grad():\n",
    "    for batch in test_loader:\n",
    "        batch = batch.to(device)\n",
    "        out = model(batch)\n",
    "        probs = torch.sigmoid(out).cpu()\n",
    "        all_preds.append(probs)\n",
    "        all_labels.append(batch.y.cpu())\n",
    "all_preds = torch.cat(all_preds).numpy()\n",
    "all_labels = torch.cat(all_labels).numpy()\n",
    "\n",
    "from sklearn.metrics import roc_auc_score\n",
    "print(\"Test AUROC macro:\", roc_auc_score(all_labels, all_preds, average='macro'))\n"
   ]
  },
  {
   "cell_type": "code",
   "execution_count": 10,
   "id": "b8fb5e90",
   "metadata": {},
   "outputs": [
    {
     "data": {
      "text/plain": [
       "torch.Size([32, 667])"
      ]
     },
     "execution_count": 10,
     "metadata": {},
     "output_type": "execute_result"
    }
   ],
   "source": [
    "out.shape"
   ]
  },
  {
   "cell_type": "code",
   "execution_count": 13,
   "id": "83e08cc3",
   "metadata": {},
   "outputs": [
    {
     "data": {
      "text/plain": [
       "torch.Size([21344])"
      ]
     },
     "execution_count": 13,
     "metadata": {},
     "output_type": "execute_result"
    }
   ],
   "source": [
    "batch.y.shape"
   ]
  },
  {
   "cell_type": "code",
   "execution_count": 14,
   "id": "ea6c36d3",
   "metadata": {},
   "outputs": [
    {
     "data": {
      "text/plain": [
       "21344"
      ]
     },
     "execution_count": 14,
     "metadata": {},
     "output_type": "execute_result"
    }
   ],
   "source": [
    "32*667"
   ]
  },
  {
   "cell_type": "code",
   "execution_count": 15,
   "id": "2b66c320",
   "metadata": {},
   "outputs": [
    {
     "data": {
      "text/plain": [
       "tensor([[-0.0744, -0.1585, -0.2344,  ..., -0.0558, -0.2167,  0.0912],\n",
       "        [-0.0662, -0.1641, -0.2109,  ..., -0.0546, -0.1990,  0.1030],\n",
       "        [-0.0768, -0.1528, -0.2414,  ..., -0.0665, -0.2167,  0.0900],\n",
       "        ...,\n",
       "        [-0.0765, -0.1724, -0.2343,  ..., -0.0580, -0.2189,  0.1015],\n",
       "        [-0.0704, -0.1656, -0.2134,  ..., -0.0620, -0.2072,  0.1104],\n",
       "        [-0.0557, -0.1330, -0.2108,  ..., -0.0556, -0.1895,  0.0800]],\n",
       "       device='cuda:0', grad_fn=<AddmmBackward0>)"
      ]
     },
     "execution_count": 15,
     "metadata": {},
     "output_type": "execute_result"
    }
   ],
   "source": [
    "out"
   ]
  },
  {
   "cell_type": "code",
   "execution_count": null,
   "id": "afb9a1c1",
   "metadata": {},
   "outputs": [],
   "source": []
  }
 ],
 "metadata": {
  "kernelspec": {
   "display_name": "primo",
   "language": "python",
   "name": "python3"
  },
  "language_info": {
   "codemirror_mode": {
    "name": "ipython",
    "version": 3
   },
   "file_extension": ".py",
   "mimetype": "text/x-python",
   "name": "python",
   "nbconvert_exporter": "python",
   "pygments_lexer": "ipython3",
   "version": "3.12.4"
  }
 },
 "nbformat": 4,
 "nbformat_minor": 5
}
