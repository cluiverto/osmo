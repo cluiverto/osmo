{
 "cells": [
  {
   "cell_type": "code",
   "execution_count": 1,
   "id": "6d83e46f",
   "metadata": {},
   "outputs": [],
   "source": [
    "import pyrfume\n",
    "import pandas as pd\n",
    "from pprint import pprint\n",
    "from IPython.display import Image\n",
    "from predicting_odor_from_molecular_structure import *"
   ]
  },
  {
   "cell_type": "code",
   "execution_count": 2,
   "id": "eb79b48c",
   "metadata": {},
   "outputs": [
    {
     "data": {
      "text/html": [
       "<div>\n",
       "<style scoped>\n",
       "    .dataframe tbody tr th:only-of-type {\n",
       "        vertical-align: middle;\n",
       "    }\n",
       "\n",
       "    .dataframe tbody tr th {\n",
       "        vertical-align: top;\n",
       "    }\n",
       "\n",
       "    .dataframe thead th {\n",
       "        text-align: right;\n",
       "    }\n",
       "</style>\n",
       "<table border=\"1\" class=\"dataframe\">\n",
       "  <thead>\n",
       "    <tr style=\"text-align: right;\">\n",
       "      <th></th>\n",
       "      <th>IsomericSMILES</th>\n",
       "      <th>name</th>\n",
       "      <th>Labels</th>\n",
       "    </tr>\n",
       "    <tr>\n",
       "      <th>CID</th>\n",
       "      <th></th>\n",
       "      <th></th>\n",
       "      <th></th>\n",
       "    </tr>\n",
       "  </thead>\n",
       "  <tbody>\n",
       "    <tr>\n",
       "      <th>-955348933095</th>\n",
       "      <td>CCCCC=COC(=O)CCCCCCCC</td>\n",
       "      <td>Hexenyl nonanoate</td>\n",
       "      <td>['green', 'oily', 'fruity', 'waxy', 'herbal']</td>\n",
       "    </tr>\n",
       "    <tr>\n",
       "      <th>-923209957509</th>\n",
       "      <td>CC(=O)OCC1C=CC(C(C)C)CC1</td>\n",
       "      <td>Tetrahydrocuminyl acetate</td>\n",
       "      <td>['woody', 'spicy', 'fruity', 'herbal']</td>\n",
       "    </tr>\n",
       "    <tr>\n",
       "      <th>-874408321546</th>\n",
       "      <td>CCCCCCCCC(OC(C)=O)C(=O)OC</td>\n",
       "      <td>Methyl acetoxydecanoate</td>\n",
       "      <td>['peach', 'apricot', 'buttery']</td>\n",
       "    </tr>\n",
       "    <tr>\n",
       "      <th>-873963935677</th>\n",
       "      <td>CCCCC=COC(=O)C(C)CCC</td>\n",
       "      <td>Hexenyl methylvalerate</td>\n",
       "      <td>['green', 'fruity', 'apple', 'tropical']</td>\n",
       "    </tr>\n",
       "    <tr>\n",
       "      <th>-862841422647</th>\n",
       "      <td>CCCC(S)COCC</td>\n",
       "      <td>Ethoxymethylbutanethiol</td>\n",
       "      <td>['catty']</td>\n",
       "    </tr>\n",
       "    <tr>\n",
       "      <th>...</th>\n",
       "      <td>...</td>\n",
       "      <td>...</td>\n",
       "      <td>...</td>\n",
       "    </tr>\n",
       "    <tr>\n",
       "      <th>154241350</th>\n",
       "      <td>CCC1CSSSC1(CC)CC</td>\n",
       "      <td>4,4,5-triethyltrithiane</td>\n",
       "      <td>['green', 'alliaceous', 'savory', 'onion']</td>\n",
       "    </tr>\n",
       "    <tr>\n",
       "      <th>155323379</th>\n",
       "      <td>CC(S)SS</td>\n",
       "      <td>schembl22694105</td>\n",
       "      <td>['roasted', 'alliaceous', 'savory', 'sulfurous']</td>\n",
       "    </tr>\n",
       "    <tr>\n",
       "      <th>158699780</th>\n",
       "      <td>CCC(C)C(=S)OCC(C)C</td>\n",
       "      <td>O-(2-methylpropyl) 2-methylbutanethioate</td>\n",
       "      <td>['ripe', 'creamy', 'fruity', 'tropical', 'stra...</td>\n",
       "    </tr>\n",
       "    <tr>\n",
       "      <th>161504856</th>\n",
       "      <td>CCCCCCCC=COC(=O)CCC</td>\n",
       "      <td>non-1-enyl butanoate</td>\n",
       "      <td>['green', 'fruity', 'melon', 'tropical', 'waxy']</td>\n",
       "    </tr>\n",
       "    <tr>\n",
       "      <th>162353069</th>\n",
       "      <td>C(CSCCC(S)S)C(S)S</td>\n",
       "      <td>3-[3,3-bis(sulfanyl)propylsulfanyl]propane-1,1...</td>\n",
       "      <td>['green', 'fruity', 'alliaceous', 'garlic', 'o...</td>\n",
       "    </tr>\n",
       "  </tbody>\n",
       "</table>\n",
       "<p>3522 rows × 3 columns</p>\n",
       "</div>"
      ],
      "text/plain": [
       "                          IsomericSMILES  \\\n",
       "CID                                        \n",
       "-955348933095      CCCCC=COC(=O)CCCCCCCC   \n",
       "-923209957509   CC(=O)OCC1C=CC(C(C)C)CC1   \n",
       "-874408321546  CCCCCCCCC(OC(C)=O)C(=O)OC   \n",
       "-873963935677       CCCCC=COC(=O)C(C)CCC   \n",
       "-862841422647                CCCC(S)COCC   \n",
       "...                                  ...   \n",
       " 154241350              CCC1CSSSC1(CC)CC   \n",
       " 155323379                       CC(S)SS   \n",
       " 158699780            CCC(C)C(=S)OCC(C)C   \n",
       " 161504856           CCCCCCCC=COC(=O)CCC   \n",
       " 162353069             C(CSCCC(S)S)C(S)S   \n",
       "\n",
       "                                                            name  \\\n",
       "CID                                                                \n",
       "-955348933095                                  Hexenyl nonanoate   \n",
       "-923209957509                          Tetrahydrocuminyl acetate   \n",
       "-874408321546                            Methyl acetoxydecanoate   \n",
       "-873963935677                             Hexenyl methylvalerate   \n",
       "-862841422647                            Ethoxymethylbutanethiol   \n",
       "...                                                          ...   \n",
       " 154241350                               4,4,5-triethyltrithiane   \n",
       " 155323379                                       schembl22694105   \n",
       " 158699780              O-(2-methylpropyl) 2-methylbutanethioate   \n",
       " 161504856                                  non-1-enyl butanoate   \n",
       " 162353069     3-[3,3-bis(sulfanyl)propylsulfanyl]propane-1,1...   \n",
       "\n",
       "                                                          Labels  \n",
       "CID                                                               \n",
       "-955348933095      ['green', 'oily', 'fruity', 'waxy', 'herbal']  \n",
       "-923209957509             ['woody', 'spicy', 'fruity', 'herbal']  \n",
       "-874408321546                    ['peach', 'apricot', 'buttery']  \n",
       "-873963935677           ['green', 'fruity', 'apple', 'tropical']  \n",
       "-862841422647                                          ['catty']  \n",
       "...                                                          ...  \n",
       " 154241350            ['green', 'alliaceous', 'savory', 'onion']  \n",
       " 155323379      ['roasted', 'alliaceous', 'savory', 'sulfurous']  \n",
       " 158699780     ['ripe', 'creamy', 'fruity', 'tropical', 'stra...  \n",
       " 161504856      ['green', 'fruity', 'melon', 'tropical', 'waxy']  \n",
       " 162353069     ['green', 'fruity', 'alliaceous', 'garlic', 'o...  \n",
       "\n",
       "[3522 rows x 3 columns]"
      ]
     },
     "execution_count": 2,
     "metadata": {},
     "output_type": "execute_result"
    }
   ],
   "source": [
    "from predicting_odor_from_molecular_structure import load_and_merge_data\n",
    "\n",
    "merged_df = load_and_merge_data()\n",
    "merged_df"
   ]
  },
  {
   "cell_type": "code",
   "execution_count": 3,
   "id": "294298ef",
   "metadata": {},
   "outputs": [
    {
     "data": {
      "application/vnd.plotly.v1+json": {
       "config": {
        "plotlyServerURL": "https://plot.ly"
       },
       "data": [
        {
         "customdata": [
          [
           1391
          ],
          [
           907
          ],
          [
           825
          ],
          [
           553
          ],
          [
           407
          ],
          [
           406
          ],
          [
           252
          ],
          [
           244
          ],
          [
           239
          ],
          [
           237
          ],
          [
           224
          ],
          [
           218
          ],
          [
           211
          ],
          [
           203
          ],
          [
           201
          ],
          [
           201
          ],
          [
           200
          ],
          [
           195
          ],
          [
           194
          ],
          [
           174
          ],
          [
           173
          ],
          [
           165
          ],
          [
           164
          ],
          [
           163
          ],
          [
           161
          ],
          [
           142
          ],
          [
           139
          ],
          [
           131
          ],
          [
           125
          ],
          [
           123
          ],
          [
           117
          ],
          [
           105
          ],
          [
           97
          ],
          [
           92
          ],
          [
           91
          ],
          [
           85
          ],
          [
           84
          ],
          [
           84
          ],
          [
           84
          ],
          [
           82
          ],
          [
           82
          ],
          [
           81
          ],
          [
           79
          ],
          [
           78
          ],
          [
           71
          ],
          [
           71
          ],
          [
           70
          ],
          [
           69
          ],
          [
           68
          ],
          [
           67
          ],
          [
           61
          ],
          [
           59
          ],
          [
           58
          ],
          [
           57
          ],
          [
           57
          ],
          [
           55
          ],
          [
           55
          ],
          [
           54
          ],
          [
           54
          ],
          [
           53
          ],
          [
           50
          ],
          [
           48
          ],
          [
           48
          ],
          [
           47
          ],
          [
           47
          ],
          [
           46
          ],
          [
           44
          ],
          [
           43
          ],
          [
           42
          ],
          [
           42
          ],
          [
           41
          ],
          [
           41
          ],
          [
           40
          ],
          [
           40
          ],
          [
           40
          ],
          [
           37
          ],
          [
           36
          ],
          [
           35
          ],
          [
           35
          ],
          [
           32
          ],
          [
           31
          ],
          [
           31
          ],
          [
           31
          ],
          [
           30
          ],
          [
           30
          ],
          [
           29
          ],
          [
           29
          ],
          [
           29
          ],
          [
           28
          ],
          [
           28
          ],
          [
           27
          ],
          [
           27
          ],
          [
           27
          ],
          [
           26
          ],
          [
           26
          ],
          [
           26
          ],
          [
           26
          ],
          [
           25
          ],
          [
           25
          ],
          [
           25
          ],
          [
           25
          ],
          [
           25
          ],
          [
           25
          ],
          [
           24
          ],
          [
           23
          ],
          [
           23
          ],
          [
           23
          ],
          [
           23
          ],
          [
           20
          ],
          [
           20
          ],
          [
           20
          ],
          [
           20
          ],
          [
           20
          ]
         ],
         "hovertemplate": "=%{x}<br>Label=%{y}<br>Count=%{customdata[0]}<extra></extra>",
         "legendgroup": "",
         "marker": {
          "color": "#636efa",
          "size": [
           1391,
           907,
           825,
           553,
           407,
           406,
           252,
           244,
           239,
           237,
           224,
           218,
           211,
           203,
           201,
           201,
           200,
           195,
           194,
           174,
           173,
           165,
           164,
           163,
           161,
           142,
           139,
           131,
           125,
           123,
           117,
           105,
           97,
           92,
           91,
           85,
           84,
           84,
           84,
           82,
           82,
           81,
           79,
           78,
           71,
           71,
           70,
           69,
           68,
           67,
           61,
           59,
           58,
           57,
           57,
           55,
           55,
           54,
           54,
           53,
           50,
           48,
           48,
           47,
           47,
           46,
           44,
           43,
           42,
           42,
           41,
           41,
           40,
           40,
           40,
           37,
           36,
           35,
           35,
           32,
           31,
           31,
           31,
           30,
           30,
           29,
           29,
           29,
           28,
           28,
           27,
           27,
           27,
           26,
           26,
           26,
           26,
           25,
           25,
           25,
           25,
           25,
           25,
           24,
           23,
           23,
           23,
           23,
           20,
           20,
           20,
           20,
           20
          ],
          "sizemode": "area",
          "sizeref": 0.3863888888888889,
          "symbol": "circle"
         },
         "mode": "markers",
         "name": "",
         "orientation": "h",
         "showlegend": false,
         "type": "scatter",
         "x": [
          1,
          1,
          1,
          1,
          1,
          1,
          1,
          1,
          1,
          1,
          1,
          1,
          1,
          1,
          1,
          1,
          1,
          1,
          1,
          1,
          1,
          1,
          1,
          1,
          1,
          1,
          1,
          1,
          1,
          1,
          1,
          1,
          1,
          1,
          1,
          1,
          1,
          1,
          1,
          1,
          1,
          1,
          1,
          1,
          1,
          1,
          1,
          1,
          1,
          1,
          1,
          1,
          1,
          1,
          1,
          1,
          1,
          1,
          1,
          1,
          1,
          1,
          1,
          1,
          1,
          1,
          1,
          1,
          1,
          1,
          1,
          1,
          1,
          1,
          1,
          1,
          1,
          1,
          1,
          1,
          1,
          1,
          1,
          1,
          1,
          1,
          1,
          1,
          1,
          1,
          1,
          1,
          1,
          1,
          1,
          1,
          1,
          1,
          1,
          1,
          1,
          1,
          1,
          1,
          1,
          1,
          1,
          1,
          1,
          1,
          1,
          1,
          1
         ],
         "xaxis": "x",
         "y": [
          "fruity",
          "green",
          "sweet",
          "floral",
          "fatty",
          "herbal",
          "sulfurous",
          "waxy",
          "apple",
          "fresh",
          "nutty",
          "meaty",
          "woody",
          "spicy",
          "tropical",
          "citrus",
          "oily",
          "roasted",
          "ethereal",
          "winey",
          "earthy",
          "vegetable",
          "balsamic",
          "rose",
          "caramellic",
          "cheesy",
          "pineapple",
          "burnt",
          "onion",
          "mint",
          "pungent",
          "fermented",
          "buttery",
          "musty",
          "pear",
          "garlic",
          "creamy",
          "alcoholic",
          "melon",
          "honey",
          "savory",
          "phenolic",
          "cocoa",
          "cognac",
          "berry",
          "odorless",
          "camphoreous",
          "dairy",
          "alliaceous",
          "banana",
          "vanilla",
          "rum",
          "mushroom",
          "coffee",
          "fishy",
          "tobacco",
          "aromatic",
          "orange",
          "sharp",
          "leafy",
          "almond",
          "gasoline",
          "animal",
          "peach",
          "grape",
          "smoky",
          "sour",
          "anisic",
          "jasmine",
          "coconut",
          "cherry",
          "hay",
          "solvent",
          "warm",
          "milky",
          "coumarinic",
          "medicinal",
          "pine",
          "tea",
          "apricot",
          "ripe",
          "hazelnut",
          "dry",
          "brandy",
          "ketonic",
          "grassy",
          "chicken",
          "potato",
          "plum",
          "chocolate",
          "cabbage",
          "grapefruit",
          "bread",
          "strawberry",
          "orris",
          "violet",
          "beefy",
          "lemon",
          "metallic",
          "aldehydic",
          "cucumber",
          "malty",
          "cinnamon",
          "chamomile",
          "popcorn",
          "brothy",
          "tomato",
          "black currant",
          "radish",
          "leathery",
          "catty",
          "horseradish",
          "musk"
         ],
         "yaxis": "y"
        }
       ],
       "layout": {
        "legend": {
         "itemsizing": "constant",
         "tracegroupgap": 0
        },
        "showlegend": false,
        "template": {
         "data": {
          "bar": [
           {
            "error_x": {
             "color": "#2a3f5f"
            },
            "error_y": {
             "color": "#2a3f5f"
            },
            "marker": {
             "line": {
              "color": "#E5ECF6",
              "width": 0.5
             },
             "pattern": {
              "fillmode": "overlay",
              "size": 10,
              "solidity": 0.2
             }
            },
            "type": "bar"
           }
          ],
          "barpolar": [
           {
            "marker": {
             "line": {
              "color": "#E5ECF6",
              "width": 0.5
             },
             "pattern": {
              "fillmode": "overlay",
              "size": 10,
              "solidity": 0.2
             }
            },
            "type": "barpolar"
           }
          ],
          "carpet": [
           {
            "aaxis": {
             "endlinecolor": "#2a3f5f",
             "gridcolor": "white",
             "linecolor": "white",
             "minorgridcolor": "white",
             "startlinecolor": "#2a3f5f"
            },
            "baxis": {
             "endlinecolor": "#2a3f5f",
             "gridcolor": "white",
             "linecolor": "white",
             "minorgridcolor": "white",
             "startlinecolor": "#2a3f5f"
            },
            "type": "carpet"
           }
          ],
          "choropleth": [
           {
            "colorbar": {
             "outlinewidth": 0,
             "ticks": ""
            },
            "type": "choropleth"
           }
          ],
          "contour": [
           {
            "colorbar": {
             "outlinewidth": 0,
             "ticks": ""
            },
            "colorscale": [
             [
              0,
              "#0d0887"
             ],
             [
              0.1111111111111111,
              "#46039f"
             ],
             [
              0.2222222222222222,
              "#7201a8"
             ],
             [
              0.3333333333333333,
              "#9c179e"
             ],
             [
              0.4444444444444444,
              "#bd3786"
             ],
             [
              0.5555555555555556,
              "#d8576b"
             ],
             [
              0.6666666666666666,
              "#ed7953"
             ],
             [
              0.7777777777777778,
              "#fb9f3a"
             ],
             [
              0.8888888888888888,
              "#fdca26"
             ],
             [
              1,
              "#f0f921"
             ]
            ],
            "type": "contour"
           }
          ],
          "contourcarpet": [
           {
            "colorbar": {
             "outlinewidth": 0,
             "ticks": ""
            },
            "type": "contourcarpet"
           }
          ],
          "heatmap": [
           {
            "colorbar": {
             "outlinewidth": 0,
             "ticks": ""
            },
            "colorscale": [
             [
              0,
              "#0d0887"
             ],
             [
              0.1111111111111111,
              "#46039f"
             ],
             [
              0.2222222222222222,
              "#7201a8"
             ],
             [
              0.3333333333333333,
              "#9c179e"
             ],
             [
              0.4444444444444444,
              "#bd3786"
             ],
             [
              0.5555555555555556,
              "#d8576b"
             ],
             [
              0.6666666666666666,
              "#ed7953"
             ],
             [
              0.7777777777777778,
              "#fb9f3a"
             ],
             [
              0.8888888888888888,
              "#fdca26"
             ],
             [
              1,
              "#f0f921"
             ]
            ],
            "type": "heatmap"
           }
          ],
          "heatmapgl": [
           {
            "colorbar": {
             "outlinewidth": 0,
             "ticks": ""
            },
            "colorscale": [
             [
              0,
              "#0d0887"
             ],
             [
              0.1111111111111111,
              "#46039f"
             ],
             [
              0.2222222222222222,
              "#7201a8"
             ],
             [
              0.3333333333333333,
              "#9c179e"
             ],
             [
              0.4444444444444444,
              "#bd3786"
             ],
             [
              0.5555555555555556,
              "#d8576b"
             ],
             [
              0.6666666666666666,
              "#ed7953"
             ],
             [
              0.7777777777777778,
              "#fb9f3a"
             ],
             [
              0.8888888888888888,
              "#fdca26"
             ],
             [
              1,
              "#f0f921"
             ]
            ],
            "type": "heatmapgl"
           }
          ],
          "histogram": [
           {
            "marker": {
             "pattern": {
              "fillmode": "overlay",
              "size": 10,
              "solidity": 0.2
             }
            },
            "type": "histogram"
           }
          ],
          "histogram2d": [
           {
            "colorbar": {
             "outlinewidth": 0,
             "ticks": ""
            },
            "colorscale": [
             [
              0,
              "#0d0887"
             ],
             [
              0.1111111111111111,
              "#46039f"
             ],
             [
              0.2222222222222222,
              "#7201a8"
             ],
             [
              0.3333333333333333,
              "#9c179e"
             ],
             [
              0.4444444444444444,
              "#bd3786"
             ],
             [
              0.5555555555555556,
              "#d8576b"
             ],
             [
              0.6666666666666666,
              "#ed7953"
             ],
             [
              0.7777777777777778,
              "#fb9f3a"
             ],
             [
              0.8888888888888888,
              "#fdca26"
             ],
             [
              1,
              "#f0f921"
             ]
            ],
            "type": "histogram2d"
           }
          ],
          "histogram2dcontour": [
           {
            "colorbar": {
             "outlinewidth": 0,
             "ticks": ""
            },
            "colorscale": [
             [
              0,
              "#0d0887"
             ],
             [
              0.1111111111111111,
              "#46039f"
             ],
             [
              0.2222222222222222,
              "#7201a8"
             ],
             [
              0.3333333333333333,
              "#9c179e"
             ],
             [
              0.4444444444444444,
              "#bd3786"
             ],
             [
              0.5555555555555556,
              "#d8576b"
             ],
             [
              0.6666666666666666,
              "#ed7953"
             ],
             [
              0.7777777777777778,
              "#fb9f3a"
             ],
             [
              0.8888888888888888,
              "#fdca26"
             ],
             [
              1,
              "#f0f921"
             ]
            ],
            "type": "histogram2dcontour"
           }
          ],
          "mesh3d": [
           {
            "colorbar": {
             "outlinewidth": 0,
             "ticks": ""
            },
            "type": "mesh3d"
           }
          ],
          "parcoords": [
           {
            "line": {
             "colorbar": {
              "outlinewidth": 0,
              "ticks": ""
             }
            },
            "type": "parcoords"
           }
          ],
          "pie": [
           {
            "automargin": true,
            "type": "pie"
           }
          ],
          "scatter": [
           {
            "fillpattern": {
             "fillmode": "overlay",
             "size": 10,
             "solidity": 0.2
            },
            "type": "scatter"
           }
          ],
          "scatter3d": [
           {
            "line": {
             "colorbar": {
              "outlinewidth": 0,
              "ticks": ""
             }
            },
            "marker": {
             "colorbar": {
              "outlinewidth": 0,
              "ticks": ""
             }
            },
            "type": "scatter3d"
           }
          ],
          "scattercarpet": [
           {
            "marker": {
             "colorbar": {
              "outlinewidth": 0,
              "ticks": ""
             }
            },
            "type": "scattercarpet"
           }
          ],
          "scattergeo": [
           {
            "marker": {
             "colorbar": {
              "outlinewidth": 0,
              "ticks": ""
             }
            },
            "type": "scattergeo"
           }
          ],
          "scattergl": [
           {
            "marker": {
             "colorbar": {
              "outlinewidth": 0,
              "ticks": ""
             }
            },
            "type": "scattergl"
           }
          ],
          "scattermapbox": [
           {
            "marker": {
             "colorbar": {
              "outlinewidth": 0,
              "ticks": ""
             }
            },
            "type": "scattermapbox"
           }
          ],
          "scatterpolar": [
           {
            "marker": {
             "colorbar": {
              "outlinewidth": 0,
              "ticks": ""
             }
            },
            "type": "scatterpolar"
           }
          ],
          "scatterpolargl": [
           {
            "marker": {
             "colorbar": {
              "outlinewidth": 0,
              "ticks": ""
             }
            },
            "type": "scatterpolargl"
           }
          ],
          "scatterternary": [
           {
            "marker": {
             "colorbar": {
              "outlinewidth": 0,
              "ticks": ""
             }
            },
            "type": "scatterternary"
           }
          ],
          "surface": [
           {
            "colorbar": {
             "outlinewidth": 0,
             "ticks": ""
            },
            "colorscale": [
             [
              0,
              "#0d0887"
             ],
             [
              0.1111111111111111,
              "#46039f"
             ],
             [
              0.2222222222222222,
              "#7201a8"
             ],
             [
              0.3333333333333333,
              "#9c179e"
             ],
             [
              0.4444444444444444,
              "#bd3786"
             ],
             [
              0.5555555555555556,
              "#d8576b"
             ],
             [
              0.6666666666666666,
              "#ed7953"
             ],
             [
              0.7777777777777778,
              "#fb9f3a"
             ],
             [
              0.8888888888888888,
              "#fdca26"
             ],
             [
              1,
              "#f0f921"
             ]
            ],
            "type": "surface"
           }
          ],
          "table": [
           {
            "cells": {
             "fill": {
              "color": "#EBF0F8"
             },
             "line": {
              "color": "white"
             }
            },
            "header": {
             "fill": {
              "color": "#C8D4E3"
             },
             "line": {
              "color": "white"
             }
            },
            "type": "table"
           }
          ]
         },
         "layout": {
          "annotationdefaults": {
           "arrowcolor": "#2a3f5f",
           "arrowhead": 0,
           "arrowwidth": 1
          },
          "autotypenumbers": "strict",
          "coloraxis": {
           "colorbar": {
            "outlinewidth": 0,
            "ticks": ""
           }
          },
          "colorscale": {
           "diverging": [
            [
             0,
             "#8e0152"
            ],
            [
             0.1,
             "#c51b7d"
            ],
            [
             0.2,
             "#de77ae"
            ],
            [
             0.3,
             "#f1b6da"
            ],
            [
             0.4,
             "#fde0ef"
            ],
            [
             0.5,
             "#f7f7f7"
            ],
            [
             0.6,
             "#e6f5d0"
            ],
            [
             0.7,
             "#b8e186"
            ],
            [
             0.8,
             "#7fbc41"
            ],
            [
             0.9,
             "#4d9221"
            ],
            [
             1,
             "#276419"
            ]
           ],
           "sequential": [
            [
             0,
             "#0d0887"
            ],
            [
             0.1111111111111111,
             "#46039f"
            ],
            [
             0.2222222222222222,
             "#7201a8"
            ],
            [
             0.3333333333333333,
             "#9c179e"
            ],
            [
             0.4444444444444444,
             "#bd3786"
            ],
            [
             0.5555555555555556,
             "#d8576b"
            ],
            [
             0.6666666666666666,
             "#ed7953"
            ],
            [
             0.7777777777777778,
             "#fb9f3a"
            ],
            [
             0.8888888888888888,
             "#fdca26"
            ],
            [
             1,
             "#f0f921"
            ]
           ],
           "sequentialminus": [
            [
             0,
             "#0d0887"
            ],
            [
             0.1111111111111111,
             "#46039f"
            ],
            [
             0.2222222222222222,
             "#7201a8"
            ],
            [
             0.3333333333333333,
             "#9c179e"
            ],
            [
             0.4444444444444444,
             "#bd3786"
            ],
            [
             0.5555555555555556,
             "#d8576b"
            ],
            [
             0.6666666666666666,
             "#ed7953"
            ],
            [
             0.7777777777777778,
             "#fb9f3a"
            ],
            [
             0.8888888888888888,
             "#fdca26"
            ],
            [
             1,
             "#f0f921"
            ]
           ]
          },
          "colorway": [
           "#636efa",
           "#EF553B",
           "#00cc96",
           "#ab63fa",
           "#FFA15A",
           "#19d3f3",
           "#FF6692",
           "#B6E880",
           "#FF97FF",
           "#FECB52"
          ],
          "font": {
           "color": "#2a3f5f"
          },
          "geo": {
           "bgcolor": "white",
           "lakecolor": "white",
           "landcolor": "#E5ECF6",
           "showlakes": true,
           "showland": true,
           "subunitcolor": "white"
          },
          "hoverlabel": {
           "align": "left"
          },
          "hovermode": "closest",
          "mapbox": {
           "style": "light"
          },
          "paper_bgcolor": "white",
          "plot_bgcolor": "#E5ECF6",
          "polar": {
           "angularaxis": {
            "gridcolor": "white",
            "linecolor": "white",
            "ticks": ""
           },
           "bgcolor": "#E5ECF6",
           "radialaxis": {
            "gridcolor": "white",
            "linecolor": "white",
            "ticks": ""
           }
          },
          "scene": {
           "xaxis": {
            "backgroundcolor": "#E5ECF6",
            "gridcolor": "white",
            "gridwidth": 2,
            "linecolor": "white",
            "showbackground": true,
            "ticks": "",
            "zerolinecolor": "white"
           },
           "yaxis": {
            "backgroundcolor": "#E5ECF6",
            "gridcolor": "white",
            "gridwidth": 2,
            "linecolor": "white",
            "showbackground": true,
            "ticks": "",
            "zerolinecolor": "white"
           },
           "zaxis": {
            "backgroundcolor": "#E5ECF6",
            "gridcolor": "white",
            "gridwidth": 2,
            "linecolor": "white",
            "showbackground": true,
            "ticks": "",
            "zerolinecolor": "white"
           }
          },
          "shapedefaults": {
           "line": {
            "color": "#2a3f5f"
           }
          },
          "ternary": {
           "aaxis": {
            "gridcolor": "white",
            "linecolor": "white",
            "ticks": ""
           },
           "baxis": {
            "gridcolor": "white",
            "linecolor": "white",
            "ticks": ""
           },
           "bgcolor": "#E5ECF6",
           "caxis": {
            "gridcolor": "white",
            "linecolor": "white",
            "ticks": ""
           }
          },
          "title": {
           "x": 0.05
          },
          "xaxis": {
           "automargin": true,
           "gridcolor": "white",
           "linecolor": "white",
           "ticks": "",
           "title": {
            "standoff": 15
           },
           "zerolinecolor": "white",
           "zerolinewidth": 2
          },
          "yaxis": {
           "automargin": true,
           "gridcolor": "white",
           "linecolor": "white",
           "ticks": "",
           "title": {
            "standoff": 15
           },
           "zerolinecolor": "white",
           "zerolinewidth": 2
          }
         }
        },
        "title": {
         "text": "Częstość występowania etykiet zapachowych"
        },
        "xaxis": {
         "anchor": "y",
         "domain": [
          0,
          1
         ],
         "showticklabels": false,
         "title": {
          "text": ""
         }
        },
        "yaxis": {
         "anchor": "x",
         "domain": [
          0,
          1
         ],
         "title": {
          "text": "Etykiety"
         }
        }
       }
      }
     },
     "metadata": {},
     "output_type": "display_data"
    }
   ],
   "source": [
    "from predicting_odor_from_molecular_structure import plot_label_frequencies\n",
    "fig = plot_label_frequencies(merged_df)\n",
    "fig.show()"
   ]
  },
  {
   "cell_type": "code",
   "execution_count": 14,
   "id": "c67855ec",
   "metadata": {},
   "outputs": [
    {
     "data": {
      "text/plain": [
       "Labels\n",
       "['odorless']                                                  56\n",
       "['fruity']                                                    34\n",
       "['fruity', 'sweet']                                           19\n",
       "['gasoline']                                                  19\n",
       "['oily', 'fatty']                                             17\n",
       "                                                              ..\n",
       "['honey', 'fatty', 'floral', 'rose']                           1\n",
       "['roasted', 'meaty', 'sulfurous', 'phenolic', 'smoky']         1\n",
       "['rose', 'green', 'fruity', 'leafy', 'balsamic', 'floral']     1\n",
       "['rose', 'citrus', 'fatty', 'fruity', 'floral', 'sweet']       1\n",
       "['green', 'fruity', 'alliaceous', 'garlic', 'onion']           1\n",
       "Name: count, Length: 2678, dtype: int64"
      ]
     },
     "execution_count": 14,
     "metadata": {},
     "output_type": "execute_result"
    }
   ],
   "source": [
    "merged_df.Labels.value_counts()"
   ]
  },
  {
   "cell_type": "code",
   "execution_count": 33,
   "id": "00985fc4",
   "metadata": {},
   "outputs": [
    {
     "ename": "TypeError",
     "evalue": "unhashable type: 'list'",
     "output_type": "error",
     "traceback": [
      "\u001b[1;31m---------------------------------------------------------------------------\u001b[0m",
      "\u001b[1;31mTypeError\u001b[0m                                 Traceback (most recent call last)",
      "Cell \u001b[1;32mIn[33], line 1\u001b[0m\n\u001b[1;32m----> 1\u001b[0m \u001b[43mmerged_df\u001b[49m\u001b[38;5;241;43m.\u001b[39;49m\u001b[43mLabels\u001b[49m\u001b[38;5;241;43m.\u001b[39;49m\u001b[43munique\u001b[49m\u001b[43m(\u001b[49m\u001b[43m)\u001b[49m\n",
      "File \u001b[1;32mc:\\Users\\mikoo\\miniconda3\\envs\\primo\\Lib\\site-packages\\pandas\\core\\series.py:2407\u001b[0m, in \u001b[0;36mSeries.unique\u001b[1;34m(self)\u001b[0m\n\u001b[0;32m   2344\u001b[0m \u001b[38;5;28;01mdef\u001b[39;00m \u001b[38;5;21munique\u001b[39m(\u001b[38;5;28mself\u001b[39m) \u001b[38;5;241m-\u001b[39m\u001b[38;5;241m>\u001b[39m ArrayLike:  \u001b[38;5;66;03m# pylint: disable=useless-parent-delegation\u001b[39;00m\n\u001b[0;32m   2345\u001b[0m \u001b[38;5;250m    \u001b[39m\u001b[38;5;124;03m\"\"\"\u001b[39;00m\n\u001b[0;32m   2346\u001b[0m \u001b[38;5;124;03m    Return unique values of Series object.\u001b[39;00m\n\u001b[0;32m   2347\u001b[0m \n\u001b[1;32m   (...)\u001b[0m\n\u001b[0;32m   2405\u001b[0m \u001b[38;5;124;03m    Categories (3, object): ['a' < 'b' < 'c']\u001b[39;00m\n\u001b[0;32m   2406\u001b[0m \u001b[38;5;124;03m    \"\"\"\u001b[39;00m\n\u001b[1;32m-> 2407\u001b[0m     \u001b[38;5;28;01mreturn\u001b[39;00m \u001b[38;5;28;43msuper\u001b[39;49m\u001b[43m(\u001b[49m\u001b[43m)\u001b[49m\u001b[38;5;241;43m.\u001b[39;49m\u001b[43munique\u001b[49m\u001b[43m(\u001b[49m\u001b[43m)\u001b[49m\n",
      "File \u001b[1;32mc:\\Users\\mikoo\\miniconda3\\envs\\primo\\Lib\\site-packages\\pandas\\core\\base.py:1025\u001b[0m, in \u001b[0;36mIndexOpsMixin.unique\u001b[1;34m(self)\u001b[0m\n\u001b[0;32m   1023\u001b[0m     result \u001b[38;5;241m=\u001b[39m values\u001b[38;5;241m.\u001b[39munique()\n\u001b[0;32m   1024\u001b[0m \u001b[38;5;28;01melse\u001b[39;00m:\n\u001b[1;32m-> 1025\u001b[0m     result \u001b[38;5;241m=\u001b[39m \u001b[43malgorithms\u001b[49m\u001b[38;5;241;43m.\u001b[39;49m\u001b[43munique1d\u001b[49m\u001b[43m(\u001b[49m\u001b[43mvalues\u001b[49m\u001b[43m)\u001b[49m\n\u001b[0;32m   1026\u001b[0m \u001b[38;5;28;01mreturn\u001b[39;00m result\n",
      "File \u001b[1;32mc:\\Users\\mikoo\\miniconda3\\envs\\primo\\Lib\\site-packages\\pandas\\core\\algorithms.py:401\u001b[0m, in \u001b[0;36munique\u001b[1;34m(values)\u001b[0m\n\u001b[0;32m    307\u001b[0m \u001b[38;5;28;01mdef\u001b[39;00m \u001b[38;5;21munique\u001b[39m(values):\n\u001b[0;32m    308\u001b[0m \u001b[38;5;250m    \u001b[39m\u001b[38;5;124;03m\"\"\"\u001b[39;00m\n\u001b[0;32m    309\u001b[0m \u001b[38;5;124;03m    Return unique values based on a hash table.\u001b[39;00m\n\u001b[0;32m    310\u001b[0m \n\u001b[1;32m   (...)\u001b[0m\n\u001b[0;32m    399\u001b[0m \u001b[38;5;124;03m    array([('a', 'b'), ('b', 'a'), ('a', 'c')], dtype=object)\u001b[39;00m\n\u001b[0;32m    400\u001b[0m \u001b[38;5;124;03m    \"\"\"\u001b[39;00m\n\u001b[1;32m--> 401\u001b[0m     \u001b[38;5;28;01mreturn\u001b[39;00m \u001b[43munique_with_mask\u001b[49m\u001b[43m(\u001b[49m\u001b[43mvalues\u001b[49m\u001b[43m)\u001b[49m\n",
      "File \u001b[1;32mc:\\Users\\mikoo\\miniconda3\\envs\\primo\\Lib\\site-packages\\pandas\\core\\algorithms.py:440\u001b[0m, in \u001b[0;36munique_with_mask\u001b[1;34m(values, mask)\u001b[0m\n\u001b[0;32m    438\u001b[0m table \u001b[38;5;241m=\u001b[39m hashtable(\u001b[38;5;28mlen\u001b[39m(values))\n\u001b[0;32m    439\u001b[0m \u001b[38;5;28;01mif\u001b[39;00m mask \u001b[38;5;129;01mis\u001b[39;00m \u001b[38;5;28;01mNone\u001b[39;00m:\n\u001b[1;32m--> 440\u001b[0m     uniques \u001b[38;5;241m=\u001b[39m \u001b[43mtable\u001b[49m\u001b[38;5;241;43m.\u001b[39;49m\u001b[43munique\u001b[49m\u001b[43m(\u001b[49m\u001b[43mvalues\u001b[49m\u001b[43m)\u001b[49m\n\u001b[0;32m    441\u001b[0m     uniques \u001b[38;5;241m=\u001b[39m _reconstruct_data(uniques, original\u001b[38;5;241m.\u001b[39mdtype, original)\n\u001b[0;32m    442\u001b[0m     \u001b[38;5;28;01mreturn\u001b[39;00m uniques\n",
      "File \u001b[1;32mpandas\\\\_libs\\\\hashtable_class_helper.pxi:7248\u001b[0m, in \u001b[0;36mpandas._libs.hashtable.PyObjectHashTable.unique\u001b[1;34m()\u001b[0m\n",
      "File \u001b[1;32mpandas\\\\_libs\\\\hashtable_class_helper.pxi:7195\u001b[0m, in \u001b[0;36mpandas._libs.hashtable.PyObjectHashTable._unique\u001b[1;34m()\u001b[0m\n",
      "\u001b[1;31mTypeError\u001b[0m: unhashable type: 'list'"
     ]
    }
   ],
   "source": [
    "merged_df.Labels.unique()"
   ]
  },
  {
   "cell_type": "code",
   "execution_count": null,
   "id": "00078c7c",
   "metadata": {},
   "outputs": [],
   "source": [
    "### Cooccurence\n",
    "\n",
    "import pandas as pd\n",
    "import numpy as np\n",
    "\n",
    "# Przykładowe dane\n",
    "df = pd.DataFrame({\n",
    "    'odor_category': [\n",
    "        ['floral', 'fruity'],\n",
    "        ['woody', 'floral'],\n",
    "        ['fruity', 'citrus'],\n",
    "        ['woody', 'citrus'],\n",
    "        # ... (łącznie 109 unikalnych kategorii)\n",
    "    ]\n",
    "})"
   ]
  }
 ],
 "metadata": {
  "kernelspec": {
   "display_name": "primo",
   "language": "python",
   "name": "python3"
  },
  "language_info": {
   "codemirror_mode": {
    "name": "ipython",
    "version": 3
   },
   "file_extension": ".py",
   "mimetype": "text/x-python",
   "name": "python",
   "nbconvert_exporter": "python",
   "pygments_lexer": "ipython3",
   "version": "3.12.4"
  }
 },
 "nbformat": 4,
 "nbformat_minor": 5
}
