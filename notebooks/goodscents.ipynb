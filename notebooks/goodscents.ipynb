{
 "cells": [
  {
   "cell_type": "code",
   "execution_count": 1,
   "id": "6d83e46f",
   "metadata": {},
   "outputs": [],
   "source": [
    "import pyrfume\n",
    "import pandas as pd\n",
    "from pprint import pprint\n",
    "from IPython.display import Image\n",
    "from predicting_odor_from_molecular_structure import *"
   ]
  },
  {
   "cell_type": "code",
   "execution_count": 2,
   "id": "7959b942",
   "metadata": {},
   "outputs": [
    {
     "data": {
      "text/html": [
       "<div>\n",
       "<style scoped>\n",
       "    .dataframe tbody tr th:only-of-type {\n",
       "        vertical-align: middle;\n",
       "    }\n",
       "\n",
       "    .dataframe tbody tr th {\n",
       "        vertical-align: top;\n",
       "    }\n",
       "\n",
       "    .dataframe thead th {\n",
       "        text-align: right;\n",
       "    }\n",
       "</style>\n",
       "<table border=\"1\" class=\"dataframe\">\n",
       "  <thead>\n",
       "    <tr style=\"text-align: right;\">\n",
       "      <th></th>\n",
       "      <th>TGSC ID</th>\n",
       "      <th>CID</th>\n",
       "      <th>Concentration %</th>\n",
       "      <th>Solvent</th>\n",
       "      <th>MolecularWeight</th>\n",
       "      <th>IsomericSMILES</th>\n",
       "      <th>IUPACName</th>\n",
       "      <th>name</th>\n",
       "      <th>Labels</th>\n",
       "    </tr>\n",
       "  </thead>\n",
       "  <tbody>\n",
       "    <tr>\n",
       "      <th>0</th>\n",
       "      <td>1000111</td>\n",
       "      <td>7476</td>\n",
       "      <td>100.0</td>\n",
       "      <td>NaN</td>\n",
       "      <td>150.17</td>\n",
       "      <td>CC(=O)C1=CC=C(C=C1)OC</td>\n",
       "      <td>1-(4-methoxyphenyl)ethanone</td>\n",
       "      <td>4'-methoxyacetophenone</td>\n",
       "      <td>[sweet, vanilla, cherry maraschino cherry, pow...</td>\n",
       "    </tr>\n",
       "    <tr>\n",
       "      <th>1</th>\n",
       "      <td>1031871</td>\n",
       "      <td>7478</td>\n",
       "      <td>10.0</td>\n",
       "      <td>dipropylene glycol</td>\n",
       "      <td>152.15</td>\n",
       "      <td>COC1=CC=C(C=C1)C(=O)O</td>\n",
       "      <td>4-methoxybenzoic acid</td>\n",
       "      <td>4-methoxybenzoic acid</td>\n",
       "      <td>[phenolic, animal, fecal, medicinal]</td>\n",
       "    </tr>\n",
       "    <tr>\n",
       "      <th>2</th>\n",
       "      <td>1009281</td>\n",
       "      <td>7501</td>\n",
       "      <td>0.1</td>\n",
       "      <td>triacetin</td>\n",
       "      <td>104.15</td>\n",
       "      <td>C=CC1=CC=CC=C1</td>\n",
       "      <td>styrene</td>\n",
       "      <td>styrene</td>\n",
       "      <td>[sweet, plastic, floral, balsamic]</td>\n",
       "    </tr>\n",
       "    <tr>\n",
       "      <th>3</th>\n",
       "      <td>1001651</td>\n",
       "      <td>244</td>\n",
       "      <td>100.0</td>\n",
       "      <td>NaN</td>\n",
       "      <td>108.14</td>\n",
       "      <td>C1=CC=C(C=C1)CO</td>\n",
       "      <td>phenylmethanol</td>\n",
       "      <td>benzyl alcohol</td>\n",
       "      <td>[sweet, floral, rose, fruity, phenolic, balsam...</td>\n",
       "    </tr>\n",
       "    <tr>\n",
       "      <th>4</th>\n",
       "      <td>1001491</td>\n",
       "      <td>240</td>\n",
       "      <td>10.0</td>\n",
       "      <td>dipropylene glycol</td>\n",
       "      <td>106.12</td>\n",
       "      <td>C1=CC=C(C=C1)C=O</td>\n",
       "      <td>benzaldehyde</td>\n",
       "      <td>benzaldehyde</td>\n",
       "      <td>[sweet, cherry, cherry maraschino cherry, nutt...</td>\n",
       "    </tr>\n",
       "    <tr>\n",
       "      <th>...</th>\n",
       "      <td>...</td>\n",
       "      <td>...</td>\n",
       "      <td>...</td>\n",
       "      <td>...</td>\n",
       "      <td>...</td>\n",
       "      <td>...</td>\n",
       "      <td>...</td>\n",
       "      <td>...</td>\n",
       "      <td>...</td>\n",
       "    </tr>\n",
       "    <tr>\n",
       "      <th>4621</th>\n",
       "      <td>1020461</td>\n",
       "      <td>11564539</td>\n",
       "      <td>NaN</td>\n",
       "      <td>NaN</td>\n",
       "      <td>170.29</td>\n",
       "      <td>CCCCCCCC(=C)C(C)O</td>\n",
       "      <td>3-methylidenedecan-2-ol</td>\n",
       "      <td>3-methylidenedecan-2-ol</td>\n",
       "      <td>[flowers, orange]</td>\n",
       "    </tr>\n",
       "    <tr>\n",
       "      <th>4622</th>\n",
       "      <td>1027261</td>\n",
       "      <td>46195361</td>\n",
       "      <td>1.0</td>\n",
       "      <td>dipropylene glycol</td>\n",
       "      <td>146.25</td>\n",
       "      <td>CCC1OCCC(S1)C</td>\n",
       "      <td>2-ethyl-4-methyl-1,3-oxathiane</td>\n",
       "      <td>schembl2678282</td>\n",
       "      <td>[vegetable, floral, fruity, apricot, green, tr...</td>\n",
       "    </tr>\n",
       "    <tr>\n",
       "      <th>4623</th>\n",
       "      <td>1028151</td>\n",
       "      <td>46195364</td>\n",
       "      <td>0.1</td>\n",
       "      <td>propylene glycol</td>\n",
       "      <td>174.31</td>\n",
       "      <td>CCCCC1OCCC(S1)C</td>\n",
       "      <td>2-butyl-4-methyl-1,3-oxathiane</td>\n",
       "      <td>schembl2676606</td>\n",
       "      <td>[spicy, leafy, peppery, banana, fruity, oily, ...</td>\n",
       "    </tr>\n",
       "    <tr>\n",
       "      <th>4624</th>\n",
       "      <td>1554361</td>\n",
       "      <td>88571201</td>\n",
       "      <td>NaN</td>\n",
       "      <td>NaN</td>\n",
       "      <td>114.19</td>\n",
       "      <td>CC[C@@H](C)CCC=O</td>\n",
       "      <td>(4R)-4-methylhexanal</td>\n",
       "      <td>(r)-4-methylhexanal</td>\n",
       "      <td>[flowery, fresh, green, warm]</td>\n",
       "    </tr>\n",
       "    <tr>\n",
       "      <th>4625</th>\n",
       "      <td>1554371</td>\n",
       "      <td>12524062</td>\n",
       "      <td>NaN</td>\n",
       "      <td>NaN</td>\n",
       "      <td>114.19</td>\n",
       "      <td>CC[C@H](C)CCC=O</td>\n",
       "      <td>(4S)-4-methylhexanal</td>\n",
       "      <td>[s,(+)]-4-methylhexanal</td>\n",
       "      <td>[bland]</td>\n",
       "    </tr>\n",
       "  </tbody>\n",
       "</table>\n",
       "<p>4626 rows × 9 columns</p>\n",
       "</div>"
      ],
      "text/plain": [
       "      TGSC ID       CID  Concentration %             Solvent  MolecularWeight  \\\n",
       "0     1000111      7476            100.0                 NaN           150.17   \n",
       "1     1031871      7478             10.0  dipropylene glycol           152.15   \n",
       "2     1009281      7501              0.1           triacetin           104.15   \n",
       "3     1001651       244            100.0                 NaN           108.14   \n",
       "4     1001491       240             10.0  dipropylene glycol           106.12   \n",
       "...       ...       ...              ...                 ...              ...   \n",
       "4621  1020461  11564539              NaN                 NaN           170.29   \n",
       "4622  1027261  46195361              1.0  dipropylene glycol           146.25   \n",
       "4623  1028151  46195364              0.1    propylene glycol           174.31   \n",
       "4624  1554361  88571201              NaN                 NaN           114.19   \n",
       "4625  1554371  12524062              NaN                 NaN           114.19   \n",
       "\n",
       "             IsomericSMILES                       IUPACName  \\\n",
       "0     CC(=O)C1=CC=C(C=C1)OC     1-(4-methoxyphenyl)ethanone   \n",
       "1     COC1=CC=C(C=C1)C(=O)O           4-methoxybenzoic acid   \n",
       "2            C=CC1=CC=CC=C1                         styrene   \n",
       "3           C1=CC=C(C=C1)CO                  phenylmethanol   \n",
       "4          C1=CC=C(C=C1)C=O                    benzaldehyde   \n",
       "...                     ...                             ...   \n",
       "4621      CCCCCCCC(=C)C(C)O         3-methylidenedecan-2-ol   \n",
       "4622          CCC1OCCC(S1)C  2-ethyl-4-methyl-1,3-oxathiane   \n",
       "4623        CCCCC1OCCC(S1)C  2-butyl-4-methyl-1,3-oxathiane   \n",
       "4624       CC[C@@H](C)CCC=O            (4R)-4-methylhexanal   \n",
       "4625        CC[C@H](C)CCC=O            (4S)-4-methylhexanal   \n",
       "\n",
       "                         name  \\\n",
       "0      4'-methoxyacetophenone   \n",
       "1       4-methoxybenzoic acid   \n",
       "2                     styrene   \n",
       "3              benzyl alcohol   \n",
       "4                benzaldehyde   \n",
       "...                       ...   \n",
       "4621  3-methylidenedecan-2-ol   \n",
       "4622           schembl2678282   \n",
       "4623           schembl2676606   \n",
       "4624      (r)-4-methylhexanal   \n",
       "4625  [s,(+)]-4-methylhexanal   \n",
       "\n",
       "                                                 Labels  \n",
       "0     [sweet, vanilla, cherry maraschino cherry, pow...  \n",
       "1                  [phenolic, animal, fecal, medicinal]  \n",
       "2                    [sweet, plastic, floral, balsamic]  \n",
       "3     [sweet, floral, rose, fruity, phenolic, balsam...  \n",
       "4     [sweet, cherry, cherry maraschino cherry, nutt...  \n",
       "...                                                 ...  \n",
       "4621                                  [flowers, orange]  \n",
       "4622  [vegetable, floral, fruity, apricot, green, tr...  \n",
       "4623  [spicy, leafy, peppery, banana, fruity, oily, ...  \n",
       "4624                      [flowery, fresh, green, warm]  \n",
       "4625                                            [bland]  \n",
       "\n",
       "[4626 rows x 9 columns]"
      ]
     },
     "execution_count": 2,
     "metadata": {},
     "output_type": "execute_result"
    }
   ],
   "source": [
    "from predicting_odor_from_molecular_structure import goodscents\n",
    "\n",
    "df = goodscents()\n",
    "df"
   ]
  },
  {
   "cell_type": "code",
   "execution_count": 3,
   "id": "472011f9",
   "metadata": {},
   "outputs": [
    {
     "data": {
      "text/html": [
       "<div>\n",
       "<style scoped>\n",
       "    .dataframe tbody tr th:only-of-type {\n",
       "        vertical-align: middle;\n",
       "    }\n",
       "\n",
       "    .dataframe tbody tr th {\n",
       "        vertical-align: top;\n",
       "    }\n",
       "\n",
       "    .dataframe thead th {\n",
       "        text-align: right;\n",
       "    }\n",
       "</style>\n",
       "<table border=\"1\" class=\"dataframe\">\n",
       "  <thead>\n",
       "    <tr style=\"text-align: right;\">\n",
       "      <th></th>\n",
       "      <th>Label</th>\n",
       "      <th>Count</th>\n",
       "    </tr>\n",
       "  </thead>\n",
       "  <tbody>\n",
       "    <tr>\n",
       "      <th>0</th>\n",
       "      <td>fruity</td>\n",
       "      <td>1250</td>\n",
       "    </tr>\n",
       "    <tr>\n",
       "      <th>1</th>\n",
       "      <td>green</td>\n",
       "      <td>1070</td>\n",
       "    </tr>\n",
       "    <tr>\n",
       "      <th>2</th>\n",
       "      <td>sweet</td>\n",
       "      <td>1007</td>\n",
       "    </tr>\n",
       "    <tr>\n",
       "      <th>3</th>\n",
       "      <td>floral</td>\n",
       "      <td>910</td>\n",
       "    </tr>\n",
       "    <tr>\n",
       "      <th>4</th>\n",
       "      <td>woody</td>\n",
       "      <td>623</td>\n",
       "    </tr>\n",
       "    <tr>\n",
       "      <th>...</th>\n",
       "      <td>...</td>\n",
       "      <td>...</td>\n",
       "    </tr>\n",
       "    <tr>\n",
       "      <th>662</th>\n",
       "      <td>mouldy</td>\n",
       "      <td>1</td>\n",
       "    </tr>\n",
       "    <tr>\n",
       "      <th>663</th>\n",
       "      <td>carrot seed</td>\n",
       "      <td>1</td>\n",
       "    </tr>\n",
       "    <tr>\n",
       "      <th>664</th>\n",
       "      <td>light</td>\n",
       "      <td>1</td>\n",
       "    </tr>\n",
       "    <tr>\n",
       "      <th>665</th>\n",
       "      <td>thiamine</td>\n",
       "      <td>1</td>\n",
       "    </tr>\n",
       "    <tr>\n",
       "      <th>666</th>\n",
       "      <td>flowers</td>\n",
       "      <td>1</td>\n",
       "    </tr>\n",
       "  </tbody>\n",
       "</table>\n",
       "<p>667 rows × 2 columns</p>\n",
       "</div>"
      ],
      "text/plain": [
       "           Label  Count\n",
       "0         fruity   1250\n",
       "1          green   1070\n",
       "2          sweet   1007\n",
       "3         floral    910\n",
       "4          woody    623\n",
       "..           ...    ...\n",
       "662       mouldy      1\n",
       "663  carrot seed      1\n",
       "664        light      1\n",
       "665     thiamine      1\n",
       "666      flowers      1\n",
       "\n",
       "[667 rows x 2 columns]"
      ]
     },
     "execution_count": 3,
     "metadata": {},
     "output_type": "execute_result"
    }
   ],
   "source": [
    "label_frequencies(df, labels_column='Labels')"
   ]
  },
  {
   "cell_type": "code",
   "execution_count": 15,
   "id": "e1a18b9a",
   "metadata": {},
   "outputs": [
    {
     "data": {
      "text/html": [
       "<div>\n",
       "<style scoped>\n",
       "    .dataframe tbody tr th:only-of-type {\n",
       "        vertical-align: middle;\n",
       "    }\n",
       "\n",
       "    .dataframe tbody tr th {\n",
       "        vertical-align: top;\n",
       "    }\n",
       "\n",
       "    .dataframe thead th {\n",
       "        text-align: right;\n",
       "    }\n",
       "</style>\n",
       "<table border=\"1\" class=\"dataframe\">\n",
       "  <thead>\n",
       "    <tr style=\"text-align: right;\">\n",
       "      <th></th>\n",
       "      <th>name</th>\n",
       "      <th>Labels</th>\n",
       "    </tr>\n",
       "  </thead>\n",
       "  <tbody>\n",
       "    <tr>\n",
       "      <th>13</th>\n",
       "      <td>1,1-dimethoxyoctane</td>\n",
       "      <td>[leafy, floral, rose, violet, ozone, green, ci...</td>\n",
       "    </tr>\n",
       "    <tr>\n",
       "      <th>85</th>\n",
       "      <td>2-methyl-4-phenyl-2-butanol</td>\n",
       "      <td>[clean, floral, rose, violet, fresh, bois de r...</td>\n",
       "    </tr>\n",
       "    <tr>\n",
       "      <th>201</th>\n",
       "      <td>ethyl 2-octynoate</td>\n",
       "      <td>[violet leaf, violet, oily, waxy]</td>\n",
       "    </tr>\n",
       "    <tr>\n",
       "      <th>204</th>\n",
       "      <td>methyl 2-undecynoate</td>\n",
       "      <td>[meaty, fatty, floral, fruity, violet, green, ...</td>\n",
       "    </tr>\n",
       "    <tr>\n",
       "      <th>371</th>\n",
       "      <td>methyl 2-octynoate</td>\n",
       "      <td>[vegetable, leafy, fatty, floral, melon, cucum...</td>\n",
       "    </tr>\n",
       "    <tr>\n",
       "      <th>389</th>\n",
       "      <td>1-heptanol</td>\n",
       "      <td>[sweet, musty, vegetable, leafy, banana, herba...</td>\n",
       "    </tr>\n",
       "    <tr>\n",
       "      <th>392</th>\n",
       "      <td>nonenoic acid, methyl ester</td>\n",
       "      <td>[sweet, vegetable, melon, fruity, violet, pear...</td>\n",
       "    </tr>\n",
       "    <tr>\n",
       "      <th>632</th>\n",
       "      <td>ethyl myristate</td>\n",
       "      <td>[sweet, orris, violet, waxy]</td>\n",
       "    </tr>\n",
       "    <tr>\n",
       "      <th>664</th>\n",
       "      <td>alpha-ionone</td>\n",
       "      <td>[sweet, floral, fruity, violet, woody, tropica...</td>\n",
       "    </tr>\n",
       "    <tr>\n",
       "      <th>665</th>\n",
       "      <td>7779-30-8</td>\n",
       "      <td>[sweet, tea, floral, fruity, violet, powdery, ...</td>\n",
       "    </tr>\n",
       "    <tr>\n",
       "      <th>666</th>\n",
       "      <td>dtxsid6051643</td>\n",
       "      <td>[floral, violet, powdery, tobacco, creamy, woo...</td>\n",
       "    </tr>\n",
       "    <tr>\n",
       "      <th>667</th>\n",
       "      <td>127-51-5</td>\n",
       "      <td>[sweet, floral, violet, powdery, woody, orris]</td>\n",
       "    </tr>\n",
       "    <tr>\n",
       "      <th>735</th>\n",
       "      <td>[2-methyl-5-(2-methyl-3-methylidene-2-bicyclo[...</td>\n",
       "      <td>[berry, floral, nutty, violet, acidic, powdery...</td>\n",
       "    </tr>\n",
       "    <tr>\n",
       "      <th>739</th>\n",
       "      <td>1,1-dimethoxynon-2-yne</td>\n",
       "      <td>[sweet, foliage, violet, fresh, green]</td>\n",
       "    </tr>\n",
       "    <tr>\n",
       "      <th>757</th>\n",
       "      <td>7779-30-8</td>\n",
       "      <td>[floral, violet, powdery, woody, orris]</td>\n",
       "    </tr>\n",
       "    <tr>\n",
       "      <th>841</th>\n",
       "      <td>4-(2,2-dimethyl-6-methylenecyclohexyl)butan-2-one</td>\n",
       "      <td>[ambergris, warm, violet, amber, tobacco, wood...</td>\n",
       "    </tr>\n",
       "    <tr>\n",
       "      <th>936</th>\n",
       "      <td>142653-61-0</td>\n",
       "      <td>[fatty, floral, fruity, violet, cucumber, oily...</td>\n",
       "    </tr>\n",
       "    <tr>\n",
       "      <th>939</th>\n",
       "      <td>142896-09-1</td>\n",
       "      <td>[leafy, herbal, violet, grassy, green]</td>\n",
       "    </tr>\n",
       "    <tr>\n",
       "      <th>971</th>\n",
       "      <td>methoxy-2,7-octadiene</td>\n",
       "      <td>[fruity, violet, fatty, green]</td>\n",
       "    </tr>\n",
       "    <tr>\n",
       "      <th>1136</th>\n",
       "      <td>(3Z)-undeca-1,3-dien-5-yne</td>\n",
       "      <td>[greasy, floral, violet leaf, violet, fruity, ...</td>\n",
       "    </tr>\n",
       "    <tr>\n",
       "      <th>1166</th>\n",
       "      <td>alpha-campholene acetate</td>\n",
       "      <td>[sweet, woody, floral, violet]</td>\n",
       "    </tr>\n",
       "    <tr>\n",
       "      <th>1442</th>\n",
       "      <td>dtxsid30865028</td>\n",
       "      <td>[sweet, berry, floral, herbal, fruity, violet,...</td>\n",
       "    </tr>\n",
       "    <tr>\n",
       "      <th>1443</th>\n",
       "      <td>22030-19-9</td>\n",
       "      <td>[sweet, seedy, berry, floral, strawberry, viol...</td>\n",
       "    </tr>\n",
       "    <tr>\n",
       "      <th>1512</th>\n",
       "      <td>3-buten-2-one, 4-(2,2,6-trimethyl-7-oxabicyclo...</td>\n",
       "      <td>[sweet, berry, fruity, violet, powdery, woody,...</td>\n",
       "    </tr>\n",
       "    <tr>\n",
       "      <th>1646</th>\n",
       "      <td>3-buten-2-ol, 4-(2,6,6-trimethyl-2-cyclohexen-...</td>\n",
       "      <td>[sweet, berry, floral, violet, powdery, woody,...</td>\n",
       "    </tr>\n",
       "    <tr>\n",
       "      <th>1743</th>\n",
       "      <td>acetaldehyde ethyl cis-3-hexenyl acetal</td>\n",
       "      <td>[vegetable, musty, natural, mushroom, leafy, f...</td>\n",
       "    </tr>\n",
       "    <tr>\n",
       "      <th>1871</th>\n",
       "      <td>dihydro-alpha-ionone</td>\n",
       "      <td>[berry, floral, fruity, violet, powdery, raspb...</td>\n",
       "    </tr>\n",
       "    <tr>\n",
       "      <th>1873</th>\n",
       "      <td>trans-2-nonen-1-ol</td>\n",
       "      <td>[fatty, melon, violet, oily, tallow, green, waxy]</td>\n",
       "    </tr>\n",
       "    <tr>\n",
       "      <th>1875</th>\n",
       "      <td>boronal</td>\n",
       "      <td>[sweet, dry, leafy, floral, woody, nutty, viol...</td>\n",
       "    </tr>\n",
       "    <tr>\n",
       "      <th>2073</th>\n",
       "      <td>(3r)-oct-1-en-3-ol</td>\n",
       "      <td>[mushroom, melon, fruity, violet, fungal, eart...</td>\n",
       "    </tr>\n",
       "    <tr>\n",
       "      <th>2174</th>\n",
       "      <td>(r)-(+)-dihydro-alpha-ionone</td>\n",
       "      <td>[floral, woody, fruity, violet]</td>\n",
       "    </tr>\n",
       "    <tr>\n",
       "      <th>2194</th>\n",
       "      <td>isononyl acetate</td>\n",
       "      <td>[sweet, floral, herbal, fruity, violet, woody,...</td>\n",
       "    </tr>\n",
       "    <tr>\n",
       "      <th>2297</th>\n",
       "      <td>tetrahydroionol</td>\n",
       "      <td>[floral, woody, violet, leathery]</td>\n",
       "    </tr>\n",
       "    <tr>\n",
       "      <th>2551</th>\n",
       "      <td>alpha-ionyl acetate</td>\n",
       "      <td>[sweet, berry, floral, violet, woody]</td>\n",
       "    </tr>\n",
       "    <tr>\n",
       "      <th>2634</th>\n",
       "      <td>perillyl alcohol</td>\n",
       "      <td>[sweet, spicy, floral, violet, cardamom, orang...</td>\n",
       "    </tr>\n",
       "    <tr>\n",
       "      <th>3035</th>\n",
       "      <td>iso-methyl tetrahydroionol</td>\n",
       "      <td>[ambergris, cedar, floral, violet, woody]</td>\n",
       "    </tr>\n",
       "    <tr>\n",
       "      <th>3401</th>\n",
       "      <td>66912-24-1</td>\n",
       "      <td>[floral, herbal, violet, fatty]</td>\n",
       "    </tr>\n",
       "    <tr>\n",
       "      <th>3433</th>\n",
       "      <td>67633-96-9</td>\n",
       "      <td>[natural, leafy, floral, violet, apple, green,...</td>\n",
       "    </tr>\n",
       "    <tr>\n",
       "      <th>3453</th>\n",
       "      <td>6,6-dimethoxy-2,5,5-trimethylhex-2-ene</td>\n",
       "      <td>[peel, violet, fresh, citrus, green, woody, so...</td>\n",
       "    </tr>\n",
       "    <tr>\n",
       "      <th>3467</th>\n",
       "      <td>iritone</td>\n",
       "      <td>[floral, woody, violet, orris]</td>\n",
       "    </tr>\n",
       "    <tr>\n",
       "      <th>3517</th>\n",
       "      <td>2-cyclopentylcyclopentyl crotonate</td>\n",
       "      <td>[plum, floral, rose, fruity, violet, fresh, tr...</td>\n",
       "    </tr>\n",
       "    <tr>\n",
       "      <th>3562</th>\n",
       "      <td>68459-99-4</td>\n",
       "      <td>[floral, woody, violet, sweet]</td>\n",
       "    </tr>\n",
       "    <tr>\n",
       "      <th>3584</th>\n",
       "      <td>isoamyl 2-octynoate</td>\n",
       "      <td>[sweet, leafy, violet, green]</td>\n",
       "    </tr>\n",
       "    <tr>\n",
       "      <th>3585</th>\n",
       "      <td>methyl alpha-ionylacetate</td>\n",
       "      <td>[floral, fruity, violet, vetiver, powdery, woody]</td>\n",
       "    </tr>\n",
       "    <tr>\n",
       "      <th>3586</th>\n",
       "      <td>68555-62-4</td>\n",
       "      <td>[dry, sweet, nutty, violet, tobacco]</td>\n",
       "    </tr>\n",
       "    <tr>\n",
       "      <th>3589</th>\n",
       "      <td>1-penten-3-one, 2-methyl-1-(2,2,6-trimethylcyc...</td>\n",
       "      <td>[berry, violet, powdery, woody, orris]</td>\n",
       "    </tr>\n",
       "    <tr>\n",
       "      <th>3599</th>\n",
       "      <td>68698-58-8</td>\n",
       "      <td>[violet, green]</td>\n",
       "    </tr>\n",
       "    <tr>\n",
       "      <th>3748</th>\n",
       "      <td>dimethylionone</td>\n",
       "      <td>[sweet, floral, violet, powdery, woody]</td>\n",
       "    </tr>\n",
       "    <tr>\n",
       "      <th>3802</th>\n",
       "      <td>methyl trans-2-octenoate</td>\n",
       "      <td>[sweet, animal, costus, melon, fruity, violet,...</td>\n",
       "    </tr>\n",
       "    <tr>\n",
       "      <th>3942</th>\n",
       "      <td>3,6-nonadien-1-ol</td>\n",
       "      <td>[mushroom, fatty, melon, cucumber, violet, oil...</td>\n",
       "    </tr>\n",
       "    <tr>\n",
       "      <th>4003</th>\n",
       "      <td>127-42-4</td>\n",
       "      <td>[sweet, beeswax, floral, fruity, violet, powde...</td>\n",
       "    </tr>\n",
       "    <tr>\n",
       "      <th>4079</th>\n",
       "      <td>alpha-irone</td>\n",
       "      <td>[sweet, berry, floral, violet, powdery, raspbe...</td>\n",
       "    </tr>\n",
       "    <tr>\n",
       "      <th>4080</th>\n",
       "      <td>beta-irone</td>\n",
       "      <td>[sweet, berry, floral, violet, powdery, fresh,...</td>\n",
       "    </tr>\n",
       "    <tr>\n",
       "      <th>4106</th>\n",
       "      <td>4-(2,6,6-trimethyl-cyclohex-1-enyl)-but-3-en-2...</td>\n",
       "      <td>[floral, woody, violet, sweet]</td>\n",
       "    </tr>\n",
       "    <tr>\n",
       "      <th>4134</th>\n",
       "      <td>4-methyl-3-decen-5-ol</td>\n",
       "      <td>[seedy, fruity, violet, oily, kiwi, green, lily]</td>\n",
       "    </tr>\n",
       "    <tr>\n",
       "      <th>4136</th>\n",
       "      <td>81786-73-4</td>\n",
       "      <td>[orris, floral, violet, balsamic, woody, pine]</td>\n",
       "    </tr>\n",
       "    <tr>\n",
       "      <th>4241</th>\n",
       "      <td>carbonic acid, 4-cycloocten-1-yl methyl ester</td>\n",
       "      <td>[tagette, banana unripe banana, floral, fruity...</td>\n",
       "    </tr>\n",
       "    <tr>\n",
       "      <th>4569</th>\n",
       "      <td>benzyl oct-2-ynoate</td>\n",
       "      <td>[melon, methyl heptine carbonate, violet, green]</td>\n",
       "    </tr>\n",
       "  </tbody>\n",
       "</table>\n",
       "</div>"
      ],
      "text/plain": [
       "                                                   name  \\\n",
       "13                                  1,1-dimethoxyoctane   \n",
       "85                          2-methyl-4-phenyl-2-butanol   \n",
       "201                                   ethyl 2-octynoate   \n",
       "204                                methyl 2-undecynoate   \n",
       "371                                  methyl 2-octynoate   \n",
       "389                                          1-heptanol   \n",
       "392                         nonenoic acid, methyl ester   \n",
       "632                                     ethyl myristate   \n",
       "664                                        alpha-ionone   \n",
       "665                                           7779-30-8   \n",
       "666                                       dtxsid6051643   \n",
       "667                                            127-51-5   \n",
       "735   [2-methyl-5-(2-methyl-3-methylidene-2-bicyclo[...   \n",
       "739                              1,1-dimethoxynon-2-yne   \n",
       "757                                           7779-30-8   \n",
       "841   4-(2,2-dimethyl-6-methylenecyclohexyl)butan-2-one   \n",
       "936                                         142653-61-0   \n",
       "939                                         142896-09-1   \n",
       "971                               methoxy-2,7-octadiene   \n",
       "1136                         (3Z)-undeca-1,3-dien-5-yne   \n",
       "1166                           alpha-campholene acetate   \n",
       "1442                                     dtxsid30865028   \n",
       "1443                                         22030-19-9   \n",
       "1512  3-buten-2-one, 4-(2,2,6-trimethyl-7-oxabicyclo...   \n",
       "1646  3-buten-2-ol, 4-(2,6,6-trimethyl-2-cyclohexen-...   \n",
       "1743            acetaldehyde ethyl cis-3-hexenyl acetal   \n",
       "1871                               dihydro-alpha-ionone   \n",
       "1873                                 trans-2-nonen-1-ol   \n",
       "1875                                            boronal   \n",
       "2073                                 (3r)-oct-1-en-3-ol   \n",
       "2174                       (r)-(+)-dihydro-alpha-ionone   \n",
       "2194                                   isononyl acetate   \n",
       "2297                                    tetrahydroionol   \n",
       "2551                                alpha-ionyl acetate   \n",
       "2634                                   perillyl alcohol   \n",
       "3035                         iso-methyl tetrahydroionol   \n",
       "3401                                         66912-24-1   \n",
       "3433                                         67633-96-9   \n",
       "3453             6,6-dimethoxy-2,5,5-trimethylhex-2-ene   \n",
       "3467                                            iritone   \n",
       "3517                 2-cyclopentylcyclopentyl crotonate   \n",
       "3562                                         68459-99-4   \n",
       "3584                                isoamyl 2-octynoate   \n",
       "3585                          methyl alpha-ionylacetate   \n",
       "3586                                         68555-62-4   \n",
       "3589  1-penten-3-one, 2-methyl-1-(2,2,6-trimethylcyc...   \n",
       "3599                                         68698-58-8   \n",
       "3748                                     dimethylionone   \n",
       "3802                           methyl trans-2-octenoate   \n",
       "3942                                  3,6-nonadien-1-ol   \n",
       "4003                                           127-42-4   \n",
       "4079                                        alpha-irone   \n",
       "4080                                         beta-irone   \n",
       "4106  4-(2,6,6-trimethyl-cyclohex-1-enyl)-but-3-en-2...   \n",
       "4134                              4-methyl-3-decen-5-ol   \n",
       "4136                                         81786-73-4   \n",
       "4241      carbonic acid, 4-cycloocten-1-yl methyl ester   \n",
       "4569                                benzyl oct-2-ynoate   \n",
       "\n",
       "                                                 Labels  \n",
       "13    [leafy, floral, rose, violet, ozone, green, ci...  \n",
       "85    [clean, floral, rose, violet, fresh, bois de r...  \n",
       "201                   [violet leaf, violet, oily, waxy]  \n",
       "204   [meaty, fatty, floral, fruity, violet, green, ...  \n",
       "371   [vegetable, leafy, fatty, floral, melon, cucum...  \n",
       "389   [sweet, musty, vegetable, leafy, banana, herba...  \n",
       "392   [sweet, vegetable, melon, fruity, violet, pear...  \n",
       "632                        [sweet, orris, violet, waxy]  \n",
       "664   [sweet, floral, fruity, violet, woody, tropica...  \n",
       "665   [sweet, tea, floral, fruity, violet, powdery, ...  \n",
       "666   [floral, violet, powdery, tobacco, creamy, woo...  \n",
       "667      [sweet, floral, violet, powdery, woody, orris]  \n",
       "735   [berry, floral, nutty, violet, acidic, powdery...  \n",
       "739              [sweet, foliage, violet, fresh, green]  \n",
       "757             [floral, violet, powdery, woody, orris]  \n",
       "841   [ambergris, warm, violet, amber, tobacco, wood...  \n",
       "936   [fatty, floral, fruity, violet, cucumber, oily...  \n",
       "939              [leafy, herbal, violet, grassy, green]  \n",
       "971                      [fruity, violet, fatty, green]  \n",
       "1136  [greasy, floral, violet leaf, violet, fruity, ...  \n",
       "1166                     [sweet, woody, floral, violet]  \n",
       "1442  [sweet, berry, floral, herbal, fruity, violet,...  \n",
       "1443  [sweet, seedy, berry, floral, strawberry, viol...  \n",
       "1512  [sweet, berry, fruity, violet, powdery, woody,...  \n",
       "1646  [sweet, berry, floral, violet, powdery, woody,...  \n",
       "1743  [vegetable, musty, natural, mushroom, leafy, f...  \n",
       "1871  [berry, floral, fruity, violet, powdery, raspb...  \n",
       "1873  [fatty, melon, violet, oily, tallow, green, waxy]  \n",
       "1875  [sweet, dry, leafy, floral, woody, nutty, viol...  \n",
       "2073  [mushroom, melon, fruity, violet, fungal, eart...  \n",
       "2174                    [floral, woody, fruity, violet]  \n",
       "2194  [sweet, floral, herbal, fruity, violet, woody,...  \n",
       "2297                  [floral, woody, violet, leathery]  \n",
       "2551              [sweet, berry, floral, violet, woody]  \n",
       "2634  [sweet, spicy, floral, violet, cardamom, orang...  \n",
       "3035          [ambergris, cedar, floral, violet, woody]  \n",
       "3401                    [floral, herbal, violet, fatty]  \n",
       "3433  [natural, leafy, floral, violet, apple, green,...  \n",
       "3453  [peel, violet, fresh, citrus, green, woody, so...  \n",
       "3467                     [floral, woody, violet, orris]  \n",
       "3517  [plum, floral, rose, fruity, violet, fresh, tr...  \n",
       "3562                     [floral, woody, violet, sweet]  \n",
       "3584                      [sweet, leafy, violet, green]  \n",
       "3585  [floral, fruity, violet, vetiver, powdery, woody]  \n",
       "3586               [dry, sweet, nutty, violet, tobacco]  \n",
       "3589             [berry, violet, powdery, woody, orris]  \n",
       "3599                                    [violet, green]  \n",
       "3748            [sweet, floral, violet, powdery, woody]  \n",
       "3802  [sweet, animal, costus, melon, fruity, violet,...  \n",
       "3942  [mushroom, fatty, melon, cucumber, violet, oil...  \n",
       "4003  [sweet, beeswax, floral, fruity, violet, powde...  \n",
       "4079  [sweet, berry, floral, violet, powdery, raspbe...  \n",
       "4080  [sweet, berry, floral, violet, powdery, fresh,...  \n",
       "4106                     [floral, woody, violet, sweet]  \n",
       "4134   [seedy, fruity, violet, oily, kiwi, green, lily]  \n",
       "4136     [orris, floral, violet, balsamic, woody, pine]  \n",
       "4241  [tagette, banana unripe banana, floral, fruity...  \n",
       "4569   [melon, methyl heptine carbonate, violet, green]  "
      ]
     },
     "execution_count": 15,
     "metadata": {},
     "output_type": "execute_result"
    }
   ],
   "source": [
    "from predicting_odor_from_molecular_structure import search_scent\n",
    "\n",
    "#search_scent(['fruity', 'green'], df)\n",
    "search_scent('violet', df)"
   ]
  },
  {
   "cell_type": "code",
   "execution_count": 20,
   "id": "eebab338",
   "metadata": {},
   "outputs": [
    {
     "data": {
      "image/png": "[encoded data removed]",
      "text/plain": [
       "<Figure size 1500x1200 with 2 Axes>"
      ]
     },
     "metadata": {},
     "output_type": "display_data"
    },
    {
     "data": {
      "text/html": [
       "<div>\n",
       "<style scoped>\n",
       "    .dataframe tbody tr th:only-of-type {\n",
       "        vertical-align: middle;\n",
       "    }\n",
       "\n",
       "    .dataframe tbody tr th {\n",
       "        vertical-align: top;\n",
       "    }\n",
       "\n",
       "    .dataframe thead th {\n",
       "        text-align: right;\n",
       "    }\n",
       "</style>\n",
       "<table border=\"1\" class=\"dataframe\">\n",
       "  <thead>\n",
       "    <tr style=\"text-align: right;\">\n",
       "      <th></th>\n",
       "      <th>fruity</th>\n",
       "      <th>green</th>\n",
       "      <th>sweet</th>\n",
       "      <th>floral</th>\n",
       "      <th>woody</th>\n",
       "      <th>herbal</th>\n",
       "      <th>fatty</th>\n",
       "      <th>fresh</th>\n",
       "      <th>waxy</th>\n",
       "      <th>spicy</th>\n",
       "      <th>...</th>\n",
       "      <th>anisic</th>\n",
       "      <th>alcoholic</th>\n",
       "      <th>hawthorn</th>\n",
       "      <th>chemical</th>\n",
       "      <th>bergamot</th>\n",
       "      <th>vetiver</th>\n",
       "      <th>clove</th>\n",
       "      <th>jammy</th>\n",
       "      <th>marine</th>\n",
       "      <th>anise</th>\n",
       "    </tr>\n",
       "  </thead>\n",
       "  <tbody>\n",
       "    <tr>\n",
       "      <th>fruity</th>\n",
       "      <td>0</td>\n",
       "      <td>416</td>\n",
       "      <td>415</td>\n",
       "      <td>298</td>\n",
       "      <td>111</td>\n",
       "      <td>129</td>\n",
       "      <td>127</td>\n",
       "      <td>112</td>\n",
       "      <td>144</td>\n",
       "      <td>82</td>\n",
       "      <td>...</td>\n",
       "      <td>10</td>\n",
       "      <td>8</td>\n",
       "      <td>3</td>\n",
       "      <td>13</td>\n",
       "      <td>10</td>\n",
       "      <td>1</td>\n",
       "      <td>2</td>\n",
       "      <td>22</td>\n",
       "      <td>5</td>\n",
       "      <td>8</td>\n",
       "    </tr>\n",
       "    <tr>\n",
       "      <th>green</th>\n",
       "      <td>416</td>\n",
       "      <td>0</td>\n",
       "      <td>238</td>\n",
       "      <td>270</td>\n",
       "      <td>136</td>\n",
       "      <td>202</td>\n",
       "      <td>146</td>\n",
       "      <td>177</td>\n",
       "      <td>164</td>\n",
       "      <td>85</td>\n",
       "      <td>...</td>\n",
       "      <td>5</td>\n",
       "      <td>10</td>\n",
       "      <td>2</td>\n",
       "      <td>2</td>\n",
       "      <td>10</td>\n",
       "      <td>3</td>\n",
       "      <td>3</td>\n",
       "      <td>6</td>\n",
       "      <td>12</td>\n",
       "      <td>10</td>\n",
       "    </tr>\n",
       "    <tr>\n",
       "      <th>sweet</th>\n",
       "      <td>415</td>\n",
       "      <td>238</td>\n",
       "      <td>0</td>\n",
       "      <td>304</td>\n",
       "      <td>161</td>\n",
       "      <td>123</td>\n",
       "      <td>65</td>\n",
       "      <td>117</td>\n",
       "      <td>114</td>\n",
       "      <td>121</td>\n",
       "      <td>...</td>\n",
       "      <td>20</td>\n",
       "      <td>9</td>\n",
       "      <td>21</td>\n",
       "      <td>13</td>\n",
       "      <td>8</td>\n",
       "      <td>2</td>\n",
       "      <td>17</td>\n",
       "      <td>19</td>\n",
       "      <td>2</td>\n",
       "      <td>16</td>\n",
       "    </tr>\n",
       "    <tr>\n",
       "      <th>floral</th>\n",
       "      <td>298</td>\n",
       "      <td>270</td>\n",
       "      <td>304</td>\n",
       "      <td>0</td>\n",
       "      <td>156</td>\n",
       "      <td>122</td>\n",
       "      <td>47</td>\n",
       "      <td>122</td>\n",
       "      <td>109</td>\n",
       "      <td>76</td>\n",
       "      <td>...</td>\n",
       "      <td>13</td>\n",
       "      <td>1</td>\n",
       "      <td>22</td>\n",
       "      <td>5</td>\n",
       "      <td>18</td>\n",
       "      <td>6</td>\n",
       "      <td>5</td>\n",
       "      <td>8</td>\n",
       "      <td>11</td>\n",
       "      <td>7</td>\n",
       "    </tr>\n",
       "    <tr>\n",
       "      <th>woody</th>\n",
       "      <td>111</td>\n",
       "      <td>136</td>\n",
       "      <td>161</td>\n",
       "      <td>156</td>\n",
       "      <td>0</td>\n",
       "      <td>152</td>\n",
       "      <td>15</td>\n",
       "      <td>75</td>\n",
       "      <td>26</td>\n",
       "      <td>100</td>\n",
       "      <td>...</td>\n",
       "      <td>3</td>\n",
       "      <td>2</td>\n",
       "      <td>5</td>\n",
       "      <td>5</td>\n",
       "      <td>14</td>\n",
       "      <td>23</td>\n",
       "      <td>12</td>\n",
       "      <td>6</td>\n",
       "      <td>3</td>\n",
       "      <td>3</td>\n",
       "    </tr>\n",
       "    <tr>\n",
       "      <th>...</th>\n",
       "      <td>...</td>\n",
       "      <td>...</td>\n",
       "      <td>...</td>\n",
       "      <td>...</td>\n",
       "      <td>...</td>\n",
       "      <td>...</td>\n",
       "      <td>...</td>\n",
       "      <td>...</td>\n",
       "      <td>...</td>\n",
       "      <td>...</td>\n",
       "      <td>...</td>\n",
       "      <td>...</td>\n",
       "      <td>...</td>\n",
       "      <td>...</td>\n",
       "      <td>...</td>\n",
       "      <td>...</td>\n",
       "      <td>...</td>\n",
       "      <td>...</td>\n",
       "      <td>...</td>\n",
       "      <td>...</td>\n",
       "      <td>...</td>\n",
       "    </tr>\n",
       "    <tr>\n",
       "      <th>vetiver</th>\n",
       "      <td>1</td>\n",
       "      <td>3</td>\n",
       "      <td>2</td>\n",
       "      <td>6</td>\n",
       "      <td>23</td>\n",
       "      <td>4</td>\n",
       "      <td>0</td>\n",
       "      <td>4</td>\n",
       "      <td>2</td>\n",
       "      <td>1</td>\n",
       "      <td>...</td>\n",
       "      <td>0</td>\n",
       "      <td>0</td>\n",
       "      <td>0</td>\n",
       "      <td>0</td>\n",
       "      <td>0</td>\n",
       "      <td>0</td>\n",
       "      <td>0</td>\n",
       "      <td>0</td>\n",
       "      <td>1</td>\n",
       "      <td>0</td>\n",
       "    </tr>\n",
       "    <tr>\n",
       "      <th>clove</th>\n",
       "      <td>2</td>\n",
       "      <td>3</td>\n",
       "      <td>17</td>\n",
       "      <td>5</td>\n",
       "      <td>12</td>\n",
       "      <td>2</td>\n",
       "      <td>0</td>\n",
       "      <td>3</td>\n",
       "      <td>1</td>\n",
       "      <td>28</td>\n",
       "      <td>...</td>\n",
       "      <td>0</td>\n",
       "      <td>0</td>\n",
       "      <td>0</td>\n",
       "      <td>0</td>\n",
       "      <td>0</td>\n",
       "      <td>0</td>\n",
       "      <td>0</td>\n",
       "      <td>0</td>\n",
       "      <td>0</td>\n",
       "      <td>0</td>\n",
       "    </tr>\n",
       "    <tr>\n",
       "      <th>jammy</th>\n",
       "      <td>22</td>\n",
       "      <td>6</td>\n",
       "      <td>19</td>\n",
       "      <td>8</td>\n",
       "      <td>6</td>\n",
       "      <td>1</td>\n",
       "      <td>1</td>\n",
       "      <td>2</td>\n",
       "      <td>0</td>\n",
       "      <td>3</td>\n",
       "      <td>...</td>\n",
       "      <td>1</td>\n",
       "      <td>0</td>\n",
       "      <td>1</td>\n",
       "      <td>0</td>\n",
       "      <td>0</td>\n",
       "      <td>0</td>\n",
       "      <td>0</td>\n",
       "      <td>0</td>\n",
       "      <td>0</td>\n",
       "      <td>0</td>\n",
       "    </tr>\n",
       "    <tr>\n",
       "      <th>marine</th>\n",
       "      <td>5</td>\n",
       "      <td>12</td>\n",
       "      <td>2</td>\n",
       "      <td>11</td>\n",
       "      <td>3</td>\n",
       "      <td>5</td>\n",
       "      <td>1</td>\n",
       "      <td>7</td>\n",
       "      <td>2</td>\n",
       "      <td>0</td>\n",
       "      <td>...</td>\n",
       "      <td>1</td>\n",
       "      <td>0</td>\n",
       "      <td>0</td>\n",
       "      <td>0</td>\n",
       "      <td>0</td>\n",
       "      <td>1</td>\n",
       "      <td>0</td>\n",
       "      <td>0</td>\n",
       "      <td>0</td>\n",
       "      <td>0</td>\n",
       "    </tr>\n",
       "    <tr>\n",
       "      <th>anise</th>\n",
       "      <td>8</td>\n",
       "      <td>10</td>\n",
       "      <td>16</td>\n",
       "      <td>7</td>\n",
       "      <td>3</td>\n",
       "      <td>9</td>\n",
       "      <td>0</td>\n",
       "      <td>1</td>\n",
       "      <td>1</td>\n",
       "      <td>6</td>\n",
       "      <td>...</td>\n",
       "      <td>6</td>\n",
       "      <td>0</td>\n",
       "      <td>1</td>\n",
       "      <td>0</td>\n",
       "      <td>0</td>\n",
       "      <td>0</td>\n",
       "      <td>0</td>\n",
       "      <td>0</td>\n",
       "      <td>0</td>\n",
       "      <td>0</td>\n",
       "    </tr>\n",
       "  </tbody>\n",
       "</table>\n",
       "<p>129 rows × 129 columns</p>\n",
       "</div>"
      ],
      "text/plain": [
       "         fruity  green  sweet  floral  woody  herbal  fatty  fresh  waxy  \\\n",
       "fruity        0    416    415     298    111     129    127    112   144   \n",
       "green       416      0    238     270    136     202    146    177   164   \n",
       "sweet       415    238      0     304    161     123     65    117   114   \n",
       "floral      298    270    304       0    156     122     47    122   109   \n",
       "woody       111    136    161     156      0     152     15     75    26   \n",
       "...         ...    ...    ...     ...    ...     ...    ...    ...   ...   \n",
       "vetiver       1      3      2       6     23       4      0      4     2   \n",
       "clove         2      3     17       5     12       2      0      3     1   \n",
       "jammy        22      6     19       8      6       1      1      2     0   \n",
       "marine        5     12      2      11      3       5      1      7     2   \n",
       "anise         8     10     16       7      3       9      0      1     1   \n",
       "\n",
       "         spicy  ...  anisic  alcoholic  hawthorn  chemical  bergamot  vetiver  \\\n",
       "fruity      82  ...      10          8         3        13        10        1   \n",
       "green       85  ...       5         10         2         2        10        3   \n",
       "sweet      121  ...      20          9        21        13         8        2   \n",
       "floral      76  ...      13          1        22         5        18        6   \n",
       "woody      100  ...       3          2         5         5        14       23   \n",
       "...        ...  ...     ...        ...       ...       ...       ...      ...   \n",
       "vetiver      1  ...       0          0         0         0         0        0   \n",
       "clove       28  ...       0          0         0         0         0        0   \n",
       "jammy        3  ...       1          0         1         0         0        0   \n",
       "marine       0  ...       1          0         0         0         0        1   \n",
       "anise        6  ...       6          0         1         0         0        0   \n",
       "\n",
       "         clove  jammy  marine  anise  \n",
       "fruity       2     22       5      8  \n",
       "green        3      6      12     10  \n",
       "sweet       17     19       2     16  \n",
       "floral       5      8      11      7  \n",
       "woody       12      6       3      3  \n",
       "...        ...    ...     ...    ...  \n",
       "vetiver      0      0       1      0  \n",
       "clove        0      0       0      0  \n",
       "jammy        0      0       0      0  \n",
       "marine       0      0       0      0  \n",
       "anise        0      0       0      0  \n",
       "\n",
       "[129 rows x 129 columns]"
      ]
     },
     "execution_count": 20,
     "metadata": {},
     "output_type": "execute_result"
    }
   ],
   "source": [
    "# Wywołanie funkcji\n",
    "from predicting_odor_from_molecular_structure import pco_occurrence_matrix\n",
    "matrix = pco_occurrence_matrix(df, labels_column='Labels', counts=30)\n",
    "matrix"
   ]
  },
  {
   "cell_type": "code",
   "execution_count": 21,
   "id": "b01a936f",
   "metadata": {},
   "outputs": [
    {
     "data": {
      "image/png": "[encoded data removed]",
      "text/plain": [
       "<Figure size 1500x1200 with 2 Axes>"
      ]
     },
     "metadata": {},
     "output_type": "display_data"
    },
    {
     "data": {
      "text/html": [
       "<div>\n",
       "<style scoped>\n",
       "    .dataframe tbody tr th:only-of-type {\n",
       "        vertical-align: middle;\n",
       "    }\n",
       "\n",
       "    .dataframe tbody tr th {\n",
       "        vertical-align: top;\n",
       "    }\n",
       "\n",
       "    .dataframe thead th {\n",
       "        text-align: right;\n",
       "    }\n",
       "</style>\n",
       "<table border=\"1\" class=\"dataframe\">\n",
       "  <thead>\n",
       "    <tr style=\"text-align: right;\">\n",
       "      <th></th>\n",
       "      <th>fruity</th>\n",
       "      <th>green</th>\n",
       "      <th>sweet</th>\n",
       "      <th>floral</th>\n",
       "      <th>woody</th>\n",
       "      <th>herbal</th>\n",
       "      <th>fatty</th>\n",
       "      <th>fresh</th>\n",
       "      <th>waxy</th>\n",
       "      <th>spicy</th>\n",
       "      <th>...</th>\n",
       "      <th>anisic</th>\n",
       "      <th>alcoholic</th>\n",
       "      <th>hawthorn</th>\n",
       "      <th>chemical</th>\n",
       "      <th>bergamot</th>\n",
       "      <th>vetiver</th>\n",
       "      <th>clove</th>\n",
       "      <th>jammy</th>\n",
       "      <th>marine</th>\n",
       "      <th>anise</th>\n",
       "    </tr>\n",
       "  </thead>\n",
       "  <tbody>\n",
       "    <tr>\n",
       "      <th>fruity</th>\n",
       "      <td>1.000000</td>\n",
       "      <td>0.656271</td>\n",
       "      <td>0.659860</td>\n",
       "      <td>0.734283</td>\n",
       "      <td>0.759343</td>\n",
       "      <td>0.778475</td>\n",
       "      <td>0.715071</td>\n",
       "      <td>0.840909</td>\n",
       "      <td>0.798221</td>\n",
       "      <td>0.771308</td>\n",
       "      <td>...</td>\n",
       "      <td>0.683170</td>\n",
       "      <td>0.626308</td>\n",
       "      <td>0.638025</td>\n",
       "      <td>0.566831</td>\n",
       "      <td>0.641926</td>\n",
       "      <td>0.376462</td>\n",
       "      <td>0.477967</td>\n",
       "      <td>0.618832</td>\n",
       "      <td>0.597332</td>\n",
       "      <td>0.750243</td>\n",
       "    </tr>\n",
       "    <tr>\n",
       "      <th>green</th>\n",
       "      <td>0.656271</td>\n",
       "      <td>1.000000</td>\n",
       "      <td>0.827944</td>\n",
       "      <td>0.755075</td>\n",
       "      <td>0.746036</td>\n",
       "      <td>0.725140</td>\n",
       "      <td>0.727419</td>\n",
       "      <td>0.787854</td>\n",
       "      <td>0.788137</td>\n",
       "      <td>0.759295</td>\n",
       "      <td>...</td>\n",
       "      <td>0.684400</td>\n",
       "      <td>0.526200</td>\n",
       "      <td>0.547628</td>\n",
       "      <td>0.697635</td>\n",
       "      <td>0.720454</td>\n",
       "      <td>0.423316</td>\n",
       "      <td>0.421943</td>\n",
       "      <td>0.704712</td>\n",
       "      <td>0.577129</td>\n",
       "      <td>0.657248</td>\n",
       "    </tr>\n",
       "    <tr>\n",
       "      <th>sweet</th>\n",
       "      <td>0.659860</td>\n",
       "      <td>0.827944</td>\n",
       "      <td>1.000000</td>\n",
       "      <td>0.737342</td>\n",
       "      <td>0.746874</td>\n",
       "      <td>0.798856</td>\n",
       "      <td>0.777714</td>\n",
       "      <td>0.798851</td>\n",
       "      <td>0.793424</td>\n",
       "      <td>0.754948</td>\n",
       "      <td>...</td>\n",
       "      <td>0.653938</td>\n",
       "      <td>0.550058</td>\n",
       "      <td>0.519759</td>\n",
       "      <td>0.651395</td>\n",
       "      <td>0.700334</td>\n",
       "      <td>0.464507</td>\n",
       "      <td>0.405748</td>\n",
       "      <td>0.694306</td>\n",
       "      <td>0.644854</td>\n",
       "      <td>0.620881</td>\n",
       "    </tr>\n",
       "    <tr>\n",
       "      <th>floral</th>\n",
       "      <td>0.734283</td>\n",
       "      <td>0.755075</td>\n",
       "      <td>0.737342</td>\n",
       "      <td>1.000000</td>\n",
       "      <td>0.746591</td>\n",
       "      <td>0.816519</td>\n",
       "      <td>0.777237</td>\n",
       "      <td>0.832553</td>\n",
       "      <td>0.810897</td>\n",
       "      <td>0.820953</td>\n",
       "      <td>...</td>\n",
       "      <td>0.702550</td>\n",
       "      <td>0.577080</td>\n",
       "      <td>0.487480</td>\n",
       "      <td>0.645407</td>\n",
       "      <td>0.657382</td>\n",
       "      <td>0.428164</td>\n",
       "      <td>0.488593</td>\n",
       "      <td>0.720066</td>\n",
       "      <td>0.570434</td>\n",
       "      <td>0.763088</td>\n",
       "    </tr>\n",
       "    <tr>\n",
       "      <th>woody</th>\n",
       "      <td>0.759343</td>\n",
       "      <td>0.746036</td>\n",
       "      <td>0.746874</td>\n",
       "      <td>0.746591</td>\n",
       "      <td>1.000000</td>\n",
       "      <td>0.781301</td>\n",
       "      <td>0.673980</td>\n",
       "      <td>0.820155</td>\n",
       "      <td>0.745896</td>\n",
       "      <td>0.814346</td>\n",
       "      <td>...</td>\n",
       "      <td>0.789525</td>\n",
       "      <td>0.501812</td>\n",
       "      <td>0.654538</td>\n",
       "      <td>0.635428</td>\n",
       "      <td>0.701611</td>\n",
       "      <td>0.416260</td>\n",
       "      <td>0.568034</td>\n",
       "      <td>0.648548</td>\n",
       "      <td>0.638814</td>\n",
       "      <td>0.822797</td>\n",
       "    </tr>\n",
       "    <tr>\n",
       "      <th>...</th>\n",
       "      <td>...</td>\n",
       "      <td>...</td>\n",
       "      <td>...</td>\n",
       "      <td>...</td>\n",
       "      <td>...</td>\n",
       "      <td>...</td>\n",
       "      <td>...</td>\n",
       "      <td>...</td>\n",
       "      <td>...</td>\n",
       "      <td>...</td>\n",
       "      <td>...</td>\n",
       "      <td>...</td>\n",
       "      <td>...</td>\n",
       "      <td>...</td>\n",
       "      <td>...</td>\n",
       "      <td>...</td>\n",
       "      <td>...</td>\n",
       "      <td>...</td>\n",
       "      <td>...</td>\n",
       "      <td>...</td>\n",
       "      <td>...</td>\n",
       "    </tr>\n",
       "    <tr>\n",
       "      <th>vetiver</th>\n",
       "      <td>0.376462</td>\n",
       "      <td>0.423316</td>\n",
       "      <td>0.464507</td>\n",
       "      <td>0.428164</td>\n",
       "      <td>0.416260</td>\n",
       "      <td>0.584007</td>\n",
       "      <td>0.286723</td>\n",
       "      <td>0.466288</td>\n",
       "      <td>0.319265</td>\n",
       "      <td>0.591745</td>\n",
       "      <td>...</td>\n",
       "      <td>0.351131</td>\n",
       "      <td>0.185074</td>\n",
       "      <td>0.368208</td>\n",
       "      <td>0.301131</td>\n",
       "      <td>0.540641</td>\n",
       "      <td>1.000000</td>\n",
       "      <td>0.395019</td>\n",
       "      <td>0.286128</td>\n",
       "      <td>0.379378</td>\n",
       "      <td>0.328184</td>\n",
       "    </tr>\n",
       "    <tr>\n",
       "      <th>clove</th>\n",
       "      <td>0.477967</td>\n",
       "      <td>0.421943</td>\n",
       "      <td>0.405748</td>\n",
       "      <td>0.488593</td>\n",
       "      <td>0.568034</td>\n",
       "      <td>0.570577</td>\n",
       "      <td>0.312437</td>\n",
       "      <td>0.424752</td>\n",
       "      <td>0.346059</td>\n",
       "      <td>0.551088</td>\n",
       "      <td>...</td>\n",
       "      <td>0.650220</td>\n",
       "      <td>0.326776</td>\n",
       "      <td>0.552640</td>\n",
       "      <td>0.574231</td>\n",
       "      <td>0.398608</td>\n",
       "      <td>0.395019</td>\n",
       "      <td>1.000000</td>\n",
       "      <td>0.452042</td>\n",
       "      <td>0.234228</td>\n",
       "      <td>0.608853</td>\n",
       "    </tr>\n",
       "    <tr>\n",
       "      <th>jammy</th>\n",
       "      <td>0.618832</td>\n",
       "      <td>0.704712</td>\n",
       "      <td>0.694306</td>\n",
       "      <td>0.720066</td>\n",
       "      <td>0.648548</td>\n",
       "      <td>0.654220</td>\n",
       "      <td>0.568306</td>\n",
       "      <td>0.625755</td>\n",
       "      <td>0.650358</td>\n",
       "      <td>0.728386</td>\n",
       "      <td>...</td>\n",
       "      <td>0.695797</td>\n",
       "      <td>0.511693</td>\n",
       "      <td>0.575170</td>\n",
       "      <td>0.714726</td>\n",
       "      <td>0.480760</td>\n",
       "      <td>0.286128</td>\n",
       "      <td>0.452042</td>\n",
       "      <td>1.000000</td>\n",
       "      <td>0.378874</td>\n",
       "      <td>0.697886</td>\n",
       "    </tr>\n",
       "    <tr>\n",
       "      <th>marine</th>\n",
       "      <td>0.597332</td>\n",
       "      <td>0.577129</td>\n",
       "      <td>0.644854</td>\n",
       "      <td>0.570434</td>\n",
       "      <td>0.638814</td>\n",
       "      <td>0.692502</td>\n",
       "      <td>0.637860</td>\n",
       "      <td>0.749889</td>\n",
       "      <td>0.697693</td>\n",
       "      <td>0.606582</td>\n",
       "      <td>...</td>\n",
       "      <td>0.460779</td>\n",
       "      <td>0.340472</td>\n",
       "      <td>0.401512</td>\n",
       "      <td>0.344278</td>\n",
       "      <td>0.643603</td>\n",
       "      <td>0.379378</td>\n",
       "      <td>0.234228</td>\n",
       "      <td>0.378874</td>\n",
       "      <td>1.000000</td>\n",
       "      <td>0.524055</td>\n",
       "    </tr>\n",
       "    <tr>\n",
       "      <th>anise</th>\n",
       "      <td>0.750243</td>\n",
       "      <td>0.657248</td>\n",
       "      <td>0.620881</td>\n",
       "      <td>0.763088</td>\n",
       "      <td>0.822797</td>\n",
       "      <td>0.738806</td>\n",
       "      <td>0.605732</td>\n",
       "      <td>0.790143</td>\n",
       "      <td>0.669864</td>\n",
       "      <td>0.839949</td>\n",
       "      <td>...</td>\n",
       "      <td>0.805534</td>\n",
       "      <td>0.556643</td>\n",
       "      <td>0.698874</td>\n",
       "      <td>0.672822</td>\n",
       "      <td>0.587312</td>\n",
       "      <td>0.328184</td>\n",
       "      <td>0.608853</td>\n",
       "      <td>0.697886</td>\n",
       "      <td>0.524055</td>\n",
       "      <td>1.000000</td>\n",
       "    </tr>\n",
       "  </tbody>\n",
       "</table>\n",
       "<p>129 rows × 129 columns</p>\n",
       "</div>"
      ],
      "text/plain": [
       "           fruity     green     sweet    floral     woody    herbal     fatty  \\\n",
       "fruity   1.000000  0.656271  0.659860  0.734283  0.759343  0.778475  0.715071   \n",
       "green    0.656271  1.000000  0.827944  0.755075  0.746036  0.725140  0.727419   \n",
       "sweet    0.659860  0.827944  1.000000  0.737342  0.746874  0.798856  0.777714   \n",
       "floral   0.734283  0.755075  0.737342  1.000000  0.746591  0.816519  0.777237   \n",
       "woody    0.759343  0.746036  0.746874  0.746591  1.000000  0.781301  0.673980   \n",
       "...           ...       ...       ...       ...       ...       ...       ...   \n",
       "vetiver  0.376462  0.423316  0.464507  0.428164  0.416260  0.584007  0.286723   \n",
       "clove    0.477967  0.421943  0.405748  0.488593  0.568034  0.570577  0.312437   \n",
       "jammy    0.618832  0.704712  0.694306  0.720066  0.648548  0.654220  0.568306   \n",
       "marine   0.597332  0.577129  0.644854  0.570434  0.638814  0.692502  0.637860   \n",
       "anise    0.750243  0.657248  0.620881  0.763088  0.822797  0.738806  0.605732   \n",
       "\n",
       "            fresh      waxy     spicy  ...    anisic  alcoholic  hawthorn  \\\n",
       "fruity   0.840909  0.798221  0.771308  ...  0.683170   0.626308  0.638025   \n",
       "green    0.787854  0.788137  0.759295  ...  0.684400   0.526200  0.547628   \n",
       "sweet    0.798851  0.793424  0.754948  ...  0.653938   0.550058  0.519759   \n",
       "floral   0.832553  0.810897  0.820953  ...  0.702550   0.577080  0.487480   \n",
       "woody    0.820155  0.745896  0.814346  ...  0.789525   0.501812  0.654538   \n",
       "...           ...       ...       ...  ...       ...        ...       ...   \n",
       "vetiver  0.466288  0.319265  0.591745  ...  0.351131   0.185074  0.368208   \n",
       "clove    0.424752  0.346059  0.551088  ...  0.650220   0.326776  0.552640   \n",
       "jammy    0.625755  0.650358  0.728386  ...  0.695797   0.511693  0.575170   \n",
       "marine   0.749889  0.697693  0.606582  ...  0.460779   0.340472  0.401512   \n",
       "anise    0.790143  0.669864  0.839949  ...  0.805534   0.556643  0.698874   \n",
       "\n",
       "         chemical  bergamot   vetiver     clove     jammy    marine     anise  \n",
       "fruity   0.566831  0.641926  0.376462  0.477967  0.618832  0.597332  0.750243  \n",
       "green    0.697635  0.720454  0.423316  0.421943  0.704712  0.577129  0.657248  \n",
       "sweet    0.651395  0.700334  0.464507  0.405748  0.694306  0.644854  0.620881  \n",
       "floral   0.645407  0.657382  0.428164  0.488593  0.720066  0.570434  0.763088  \n",
       "woody    0.635428  0.701611  0.416260  0.568034  0.648548  0.638814  0.822797  \n",
       "...           ...       ...       ...       ...       ...       ...       ...  \n",
       "vetiver  0.301131  0.540641  1.000000  0.395019  0.286128  0.379378  0.328184  \n",
       "clove    0.574231  0.398608  0.395019  1.000000  0.452042  0.234228  0.608853  \n",
       "jammy    0.714726  0.480760  0.286128  0.452042  1.000000  0.378874  0.697886  \n",
       "marine   0.344278  0.643603  0.379378  0.234228  0.378874  1.000000  0.524055  \n",
       "anise    0.672822  0.587312  0.328184  0.608853  0.697886  0.524055  1.000000  \n",
       "\n",
       "[129 rows x 129 columns]"
      ]
     },
     "execution_count": 21,
     "metadata": {},
     "output_type": "execute_result"
    }
   ],
   "source": [
    "\n",
    "similarity = pco_similarity_matrix(matrix)\n",
    "similarity"
   ]
  },
  {
   "cell_type": "code",
   "execution_count": 38,
   "id": "d33ef178",
   "metadata": {},
   "outputs": [
    {
     "name": "stderr",
     "output_type": "stream",
     "text": [
      "c:\\Users\\mikoo\\miniconda3\\envs\\primo\\Lib\\site-packages\\sklearn\\cluster\\_kmeans.py:1429: UserWarning:\n",
      "\n",
      "KMeans is known to have a memory leak on Windows with MKL, when there are less chunks than available threads. You can avoid it by setting the environment variable OMP_NUM_THREADS=1.\n",
      "\n"
     ]
    },
    {
     "data": {
      "application/vnd.plotly.v1+json": {
       "config": {
        "plotlyServerURL": "https://plot.ly"
       },
       "data": [
        {
         "hovertemplate": "<b>%{hovertext}</b><br><br>cluster=6<br>PC1=%{x}<br>PC2=%{y}<extra></extra>",
         "hovertext": [
          "fruity",
          "woody",
          "herbal",
          "fresh",
          "spicy",
          "citrus",
          "rose",
          "earthy",
          "balsamic",
          "powdery",
          "aldehydic",
          "honey",
          "leafy",
          "jasmin",
          "clean",
          "natural",
          "tobacco",
          "warm",
          "orange",
          "cortex",
          "violet",
          "hyacinth",
          "geranium",
          "soapy",
          "hay",
          "anisic",
          "anise"
         ],
         "legendgroup": "6",
         "marker": {
          "color": "#636efa",
          "symbol": "circle"
         },
         "mode": "markers",
         "name": "6",
         "orientation": "v",
         "showlegend": true,
         "type": "scatter",
         "x": [
          1.104441805354247,
          1.1166973075517939,
          1.4977389740610902,
          1.7383850017019453,
          1.4889597264745191,
          1.4108734412275008,
          1.0519521395515843,
          1.1702635431540147,
          1.255954916196316,
          1.0134333834961389,
          0.6510922063456743,
          0.8904519998683992,
          0.8907154263404221,
          1.2960869869943936,
          0.8938276906100227,
          1.6654539392136003,
          0.5835957746544965,
          0.7854333873008637,
          0.8843412514538581,
          0.6275016496115903,
          1.1058762768030783,
          0.792802874626807,
          0.5223221894941987,
          0.6912954094831928,
          1.1183346601011095,
          0.5763345016452351,
          0.9410960571224332
         ],
         "xaxis": "x",
         "y": [
          0.23195337893305557,
          0.7092037708562595,
          0.6991480138588819,
          0.44463523837605706,
          0.7658064599596817,
          0.6269185569997483,
          0.5389069530591337,
          0.21584718408534936,
          0.9013337811510727,
          0.5362007024225585,
          0.4483017893913166,
          0.2746987647936607,
          0.35258123000931796,
          0.27490691832908687,
          0.7484135010330073,
          0.5615153212521663,
          1.0234179153720226,
          1.0075749594460557,
          0.18351295456611932,
          0.3577990237032068,
          0.7802794689315586,
          0.3667740959295312,
          0.5564417615534851,
          0.07025500814732584,
          0.7804276994977821,
          0.4410809826050411,
          0.4084934298342229
         ],
         "yaxis": "y"
        },
        {
         "hovertemplate": "<b>%{hovertext}</b><br><br>cluster=0<br>PC1=%{x}<br>PC2=%{y}<extra></extra>",
         "hovertext": [
          "green",
          "sweet",
          "floral",
          "fatty",
          "waxy",
          "tropical",
          "oily",
          "berry",
          "metallic",
          "melon",
          "grape",
          "grassy",
          "plum",
          "weedy",
          "raspberry"
         ],
         "legendgroup": "0",
         "marker": {
          "color": "#EF553B",
          "symbol": "circle"
         },
         "mode": "markers",
         "name": "0",
         "orientation": "v",
         "showlegend": true,
         "type": "scatter",
         "x": [
          1.308607301543055,
          1.3910395863545173,
          1.4920850216042356,
          1.1569135025500124,
          1.6222355708471385,
          1.8464652130337447,
          1.6228023801173368,
          1.500306613027163,
          1.1964291115822232,
          1.2161540435732714,
          1.5133753670253594,
          0.9807965608003624,
          1.1642224114935131,
          1.4668432313319888,
          1.1456937067405595
         ],
         "xaxis": "x",
         "y": [
          -0.020087755102226042,
          0.08483210879779088,
          0.08005604180046874,
          -0.5425290288914856,
          -0.24129347134118237,
          -0.6553699465629325,
          -0.30036398306001544,
          -0.29507004615596916,
          -0.3019797315997375,
          -0.29573023479089366,
          -0.6234727278934327,
          -0.08046687385823112,
          -0.3959687784904136,
          0.17546231294763553,
          -0.12467987139694937
         ],
         "yaxis": "y"
        },
        {
         "hovertemplate": "<b>%{hovertext}</b><br><br>cluster=1<br>PC1=%{x}<br>PC2=%{y}<extra></extra>",
         "hovertext": [
          "sulfurous",
          "mild",
          "burnt"
         ],
         "legendgroup": "1",
         "marker": {
          "color": "#00cc96",
          "symbol": "circle"
         },
         "mode": "markers",
         "name": "1",
         "orientation": "v",
         "showlegend": true,
         "type": "scatter",
         "x": [
          -2.400753245929792,
          -1.8460800723110657,
          -1.9419198308955326
         ],
         "xaxis": "x",
         "y": [
          -1.1569060556238517,
          0.0976085479840052,
          -0.7023789635920717
         ],
         "yaxis": "y"
        },
        {
         "hovertemplate": "<b>%{hovertext}</b><br><br>cluster=5<br>PC1=%{x}<br>PC2=%{y}<extra></extra>",
         "hovertext": [
          "nutty",
          "caramellic",
          "coconut",
          "mushroom",
          "buttery",
          "dairy",
          "cocoa",
          "milky",
          "chocolate",
          "cucumber",
          "brown",
          "lactonic",
          "bready",
          "fishy",
          "almond",
          "acidic",
          "sour",
          "alcoholic",
          "chemical"
         ],
         "legendgroup": "5",
         "marker": {
          "color": "#ab63fa",
          "symbol": "circle"
         },
         "mode": "markers",
         "name": "5",
         "orientation": "v",
         "showlegend": true,
         "type": "scatter",
         "x": [
          -0.651709293288778,
          0.32721973725188247,
          0.2499260857906797,
          0.3283829445410592,
          0.05823432161636256,
          -0.3314712770309884,
          -0.596937478876054,
          -0.2674475961595022,
          -0.8469825069530855,
          -0.20986441412590282,
          -0.6859333111798853,
          -0.12725029577232153,
          -0.8350881173750808,
          -0.47390132804983814,
          0.009318492960511711,
          -0.02995634962540613,
          0.3584520281638716,
          -0.26912723899123725,
          0.30241149866087924
         ],
         "xaxis": "x",
         "y": [
          -0.763252223570437,
          -0.9097265231026247,
          -0.5332552961661761,
          -0.4572207025592505,
          -1.1908460533730056,
          -1.0268619316378436,
          -0.6493942170926092,
          -0.7305841489481516,
          -0.41622312104565895,
          -0.2504532794539534,
          -0.7603627541140964,
          -0.5624595023475304,
          -0.7361928390496738,
          -1.0484118599569825,
          -0.40816668259342037,
          -1.0309154709171593,
          -0.7428407587307222,
          -0.8520228024696955,
          -0.490610952454553
         ],
         "yaxis": "y"
        },
        {
         "hovertemplate": "<b>%{hovertext}</b><br><br>cluster=8<br>PC1=%{x}<br>PC2=%{y}<extra></extra>",
         "hovertext": [
          "odorless",
          "bland"
         ],
         "legendgroup": "8",
         "marker": {
          "color": "#FFA15A",
          "symbol": "circle"
         },
         "mode": "markers",
         "name": "8",
         "orientation": "v",
         "showlegend": true,
         "type": "scatter",
         "x": [
          -5.657433339154202,
          -5.657433339154202
         ],
         "xaxis": "x",
         "y": [
          0.14785148040731738,
          0.14785148040731738
         ],
         "yaxis": "y"
        },
        {
         "hovertemplate": "<b>%{hovertext}</b><br><br>cluster=2<br>PC1=%{x}<br>PC2=%{y}<extra></extra>",
         "hovertext": [
          "minty",
          "phenolic",
          "dry",
          "animal",
          "musk",
          "cooling",
          "vanilla",
          "orris",
          "muguet",
          "grapefruit",
          "lily",
          "lavender",
          "leathery",
          "lemon",
          "celery",
          "ozone",
          "hawthorn",
          "bergamot",
          "marine"
         ],
         "legendgroup": "2",
         "marker": {
          "color": "#19d3f3",
          "symbol": "circle"
         },
         "mode": "markers",
         "name": "2",
         "orientation": "v",
         "showlegend": true,
         "type": "scatter",
         "x": [
          0.44133012117283255,
          0.033314992431771065,
          0.5029696389074717,
          0.17944316212492192,
          -0.7587684656393465,
          -0.42807561523016546,
          -0.5822351447931401,
          0.1605615005678437,
          -0.5810945705465376,
          0.2135133789309125,
          -0.13001583523762358,
          0.3383742060687243,
          -0.4471356791607592,
          -0.21743028488692642,
          0.3237352542275976,
          -0.3925021673569088,
          -0.5728069932716559,
          0.23118969072592802,
          -0.28308409401315904
         ],
         "xaxis": "x",
         "y": [
          0.9830550627890949,
          0.7199643207897019,
          1.0834489210128764,
          0.5681490607479792,
          0.7516550630163705,
          1.1686647033242243,
          0.19547283411746033,
          1.2215856280490154,
          0.9110632408112148,
          0.877005104155784,
          0.8558219950023421,
          1.1804291417690622,
          0.9155463970564521,
          0.9211784090655575,
          0.8088316137588851,
          0.9600051832521975,
          0.7451817740804446,
          1.1502747003307514,
          0.7636753862526178
         ],
         "yaxis": "y"
        },
        {
         "hovertemplate": "<b>%{hovertext}</b><br><br>cluster=7<br>PC1=%{x}<br>PC2=%{y}<extra></extra>",
         "hovertext": [
          "vegetable",
          "musty",
          "creamy",
          "pineapple",
          "apple",
          "ethereal",
          "pungent",
          "winey",
          "pear",
          "cheesy",
          "banana",
          "peach",
          "cherry",
          "apricot",
          "rummy",
          "sharp",
          "fermented",
          "estery",
          "cognac",
          "ripe",
          "strawberry",
          "juicy",
          "jammy"
         ],
         "legendgroup": "7",
         "marker": {
          "color": "#FF6692",
          "symbol": "circle"
         },
         "mode": "markers",
         "name": "7",
         "orientation": "v",
         "showlegend": true,
         "type": "scatter",
         "x": [
          0.5441659593010159,
          0.7135558277371769,
          0.5459637457852884,
          1.1133322453586145,
          1.37859637569861,
          0.9973739235638289,
          0.8643011114540169,
          1.2445979279287849,
          1.2506641281430393,
          0.5302961324844357,
          1.1408669320836622,
          1.0204472653887129,
          1.0033655921870241,
          1.0724883938422052,
          0.8888702616051988,
          1.1724308415103593,
          0.993577586429918,
          0.8853332857874647,
          0.7900507563686546,
          0.910124282890539,
          0.8302486619306544,
          1.280072373426479,
          0.6808192316573765
         ],
         "xaxis": "x",
         "y": [
          -0.6874090262699271,
          -0.5324413155931436,
          -0.628864760988585,
          -1.133882271223866,
          -0.8764088448764333,
          -1.1727458774325024,
          -1.0553663158702267,
          -1.0186875304392438,
          -0.9122306691851995,
          -1.3220915100014152,
          -1.039826654101527,
          -0.9339903626217665,
          -0.5331118275307247,
          -0.792123390676902,
          -1.0508660672985612,
          -0.8879106232898706,
          -1.1360261748303917,
          -1.1706263130500438,
          -1.0139148762484655,
          -1.1070258064181047,
          -0.6464220287894787,
          -0.8009167481873896,
          -0.40035636529165525
         ],
         "yaxis": "y"
        },
        {
         "hovertemplate": "<b>%{hovertext}</b><br><br>cluster=3<br>PC1=%{x}<br>PC2=%{y}<extra></extra>",
         "hovertext": [
          "meaty",
          "roasted",
          "onion",
          "coffee",
          "garlic",
          "alliaceous",
          "savory",
          "cooked"
         ],
         "legendgroup": "3",
         "marker": {
          "color": "#B6E880",
          "symbol": "circle"
         },
         "mode": "markers",
         "name": "3",
         "orientation": "v",
         "showlegend": true,
         "type": "scatter",
         "x": [
          -3.182208397816968,
          -3.820657453114617,
          -3.720737304050638,
          -2.9568407611520033,
          -4.390323906533263,
          -3.955045821970362,
          -2.917695889118411,
          -3.7105244454446793
         ],
         "xaxis": "x",
         "y": [
          -1.146546819100005,
          -0.9683792596057528,
          -1.0485839015515703,
          -1.10946115259509,
          -0.9074620363202562,
          -1.0038300396654256,
          -1.1551882563136358,
          -1.1684751093646695
         ],
         "yaxis": "y"
        },
        {
         "hovertemplate": "<b>%{hovertext}</b><br><br>cluster=4<br>PC1=%{x}<br>PC2=%{y}<extra></extra>",
         "hovertext": [
          "camphoreous",
          "amber",
          "pine",
          "terpenic",
          "cedar",
          "sandalwood",
          "vetiver"
         ],
         "legendgroup": "4",
         "marker": {
          "color": "#FF97FF",
          "symbol": "circle"
         },
         "mode": "markers",
         "name": "4",
         "orientation": "v",
         "showlegend": true,
         "type": "scatter",
         "x": [
          -1.1630176184462169,
          -0.964503951716492,
          -0.9346266475012309,
          -0.7257258980363718,
          -1.8725964529766892,
          -1.6719784763182046,
          -1.9722312549245373
         ],
         "xaxis": "x",
         "y": [
          1.7063416291417566,
          1.4202977057073136,
          1.7615873697084108,
          1.7111205821250859,
          1.8560098092712423,
          1.7059905017914598,
          1.892854302050798
         ],
         "yaxis": "y"
        },
        {
         "hovertemplate": "<b>%{hovertext}</b><br><br>cluster=9<br>PC1=%{x}<br>PC2=%{y}<extra></extra>",
         "hovertext": [
          "medicinal",
          "cinnamon",
          "smoky",
          "coumarinic",
          "mentholic",
          "clove"
         ],
         "legendgroup": "9",
         "marker": {
          "color": "#FECB52",
          "symbol": "circle"
         },
         "mode": "markers",
         "name": "9",
         "orientation": "v",
         "showlegend": true,
         "type": "scatter",
         "x": [
          -1.5214086015513946,
          -0.8825372269551212,
          -2.163253631932927,
          -1.062221627493771,
          -1.9094461496768145,
          -1.5791326370294987
         ],
         "xaxis": "x",
         "y": [
          1.273385094400658,
          0.7122920238925049,
          0.6288445665914854,
          0.01741359160311302,
          1.1866587752636946,
          0.9633751953039437
         ],
         "yaxis": "y"
        }
       ],
       "layout": {
        "legend": {
         "title": {
          "text": "cluster"
         },
         "tracegroupgap": 0
        },
        "template": {
         "data": {
          "bar": [
           {
            "error_x": {
             "color": "#2a3f5f"
            },
            "error_y": {
             "color": "#2a3f5f"
            },
            "marker": {
             "line": {
              "color": "#E5ECF6",
              "width": 0.5
             },
             "pattern": {
              "fillmode": "overlay",
              "size": 10,
              "solidity": 0.2
             }
            },
            "type": "bar"
           }
          ],
          "barpolar": [
           {
            "marker": {
             "line": {
              "color": "#E5ECF6",
              "width": 0.5
             },
             "pattern": {
              "fillmode": "overlay",
              "size": 10,
              "solidity": 0.2
             }
            },
            "type": "barpolar"
           }
          ],
          "carpet": [
           {
            "aaxis": {
             "endlinecolor": "#2a3f5f",
             "gridcolor": "white",
             "linecolor": "white",
             "minorgridcolor": "white",
             "startlinecolor": "#2a3f5f"
            },
            "baxis": {
             "endlinecolor": "#2a3f5f",
             "gridcolor": "white",
             "linecolor": "white",
             "minorgridcolor": "white",
             "startlinecolor": "#2a3f5f"
            },
            "type": "carpet"
           }
          ],
          "choropleth": [
           {
            "colorbar": {
             "outlinewidth": 0,
             "ticks": ""
            },
            "type": "choropleth"
           }
          ],
          "contour": [
           {
            "colorbar": {
             "outlinewidth": 0,
             "ticks": ""
            },
            "colorscale": [
             [
              0,
              "#0d0887"
             ],
             [
              0.1111111111111111,
              "#46039f"
             ],
             [
              0.2222222222222222,
              "#7201a8"
             ],
             [
              0.3333333333333333,
              "#9c179e"
             ],
             [
              0.4444444444444444,
              "#bd3786"
             ],
             [
              0.5555555555555556,
              "#d8576b"
             ],
             [
              0.6666666666666666,
              "#ed7953"
             ],
             [
              0.7777777777777778,
              "#fb9f3a"
             ],
             [
              0.8888888888888888,
              "#fdca26"
             ],
             [
              1,
              "#f0f921"
             ]
            ],
            "type": "contour"
           }
          ],
          "contourcarpet": [
           {
            "colorbar": {
             "outlinewidth": 0,
             "ticks": ""
            },
            "type": "contourcarpet"
           }
          ],
          "heatmap": [
           {
            "colorbar": {
             "outlinewidth": 0,
             "ticks": ""
            },
            "colorscale": [
             [
              0,
              "#0d0887"
             ],
             [
              0.1111111111111111,
              "#46039f"
             ],
             [
              0.2222222222222222,
              "#7201a8"
             ],
             [
              0.3333333333333333,
              "#9c179e"
             ],
             [
              0.4444444444444444,
              "#bd3786"
             ],
             [
              0.5555555555555556,
              "#d8576b"
             ],
             [
              0.6666666666666666,
              "#ed7953"
             ],
             [
              0.7777777777777778,
              "#fb9f3a"
             ],
             [
              0.8888888888888888,
              "#fdca26"
             ],
             [
              1,
              "#f0f921"
             ]
            ],
            "type": "heatmap"
           }
          ],
          "heatmapgl": [
           {
            "colorbar": {
             "outlinewidth": 0,
             "ticks": ""
            },
            "colorscale": [
             [
              0,
              "#0d0887"
             ],
             [
              0.1111111111111111,
              "#46039f"
             ],
             [
              0.2222222222222222,
              "#7201a8"
             ],
             [
              0.3333333333333333,
              "#9c179e"
             ],
             [
              0.4444444444444444,
              "#bd3786"
             ],
             [
              0.5555555555555556,
              "#d8576b"
             ],
             [
              0.6666666666666666,
              "#ed7953"
             ],
             [
              0.7777777777777778,
              "#fb9f3a"
             ],
             [
              0.8888888888888888,
              "#fdca26"
             ],
             [
              1,
              "#f0f921"
             ]
            ],
            "type": "heatmapgl"
           }
          ],
          "histogram": [
           {
            "marker": {
             "pattern": {
              "fillmode": "overlay",
              "size": 10,
              "solidity": 0.2
             }
            },
            "type": "histogram"
           }
          ],
          "histogram2d": [
           {
            "colorbar": {
             "outlinewidth": 0,
             "ticks": ""
            },
            "colorscale": [
             [
              0,
              "#0d0887"
             ],
             [
              0.1111111111111111,
              "#46039f"
             ],
             [
              0.2222222222222222,
              "#7201a8"
             ],
             [
              0.3333333333333333,
              "#9c179e"
             ],
             [
              0.4444444444444444,
              "#bd3786"
             ],
             [
              0.5555555555555556,
              "#d8576b"
             ],
             [
              0.6666666666666666,
              "#ed7953"
             ],
             [
              0.7777777777777778,
              "#fb9f3a"
             ],
             [
              0.8888888888888888,
              "#fdca26"
             ],
             [
              1,
              "#f0f921"
             ]
            ],
            "type": "histogram2d"
           }
          ],
          "histogram2dcontour": [
           {
            "colorbar": {
             "outlinewidth": 0,
             "ticks": ""
            },
            "colorscale": [
             [
              0,
              "#0d0887"
             ],
             [
              0.1111111111111111,
              "#46039f"
             ],
             [
              0.2222222222222222,
              "#7201a8"
             ],
             [
              0.3333333333333333,
              "#9c179e"
             ],
             [
              0.4444444444444444,
              "#bd3786"
             ],
             [
              0.5555555555555556,
              "#d8576b"
             ],
             [
              0.6666666666666666,
              "#ed7953"
             ],
             [
              0.7777777777777778,
              "#fb9f3a"
             ],
             [
              0.8888888888888888,
              "#fdca26"
             ],
             [
              1,
              "#f0f921"
             ]
            ],
            "type": "histogram2dcontour"
           }
          ],
          "mesh3d": [
           {
            "colorbar": {
             "outlinewidth": 0,
             "ticks": ""
            },
            "type": "mesh3d"
           }
          ],
          "parcoords": [
           {
            "line": {
             "colorbar": {
              "outlinewidth": 0,
              "ticks": ""
             }
            },
            "type": "parcoords"
           }
          ],
          "pie": [
           {
            "automargin": true,
            "type": "pie"
           }
          ],
          "scatter": [
           {
            "fillpattern": {
             "fillmode": "overlay",
             "size": 10,
             "solidity": 0.2
            },
            "type": "scatter"
           }
          ],
          "scatter3d": [
           {
            "line": {
             "colorbar": {
              "outlinewidth": 0,
              "ticks": ""
             }
            },
            "marker": {
             "colorbar": {
              "outlinewidth": 0,
              "ticks": ""
             }
            },
            "type": "scatter3d"
           }
          ],
          "scattercarpet": [
           {
            "marker": {
             "colorbar": {
              "outlinewidth": 0,
              "ticks": ""
             }
            },
            "type": "scattercarpet"
           }
          ],
          "scattergeo": [
           {
            "marker": {
             "colorbar": {
              "outlinewidth": 0,
              "ticks": ""
             }
            },
            "type": "scattergeo"
           }
          ],
          "scattergl": [
           {
            "marker": {
             "colorbar": {
              "outlinewidth": 0,
              "ticks": ""
             }
            },
            "type": "scattergl"
           }
          ],
          "scattermapbox": [
           {
            "marker": {
             "colorbar": {
              "outlinewidth": 0,
              "ticks": ""
             }
            },
            "type": "scattermapbox"
           }
          ],
          "scatterpolar": [
           {
            "marker": {
             "colorbar": {
              "outlinewidth": 0,
              "ticks": ""
             }
            },
            "type": "scatterpolar"
           }
          ],
          "scatterpolargl": [
           {
            "marker": {
             "colorbar": {
              "outlinewidth": 0,
              "ticks": ""
             }
            },
            "type": "scatterpolargl"
           }
          ],
          "scatterternary": [
           {
            "marker": {
             "colorbar": {
              "outlinewidth": 0,
              "ticks": ""
             }
            },
            "type": "scatterternary"
           }
          ],
          "surface": [
           {
            "colorbar": {
             "outlinewidth": 0,
             "ticks": ""
            },
            "colorscale": [
             [
              0,
              "#0d0887"
             ],
             [
              0.1111111111111111,
              "#46039f"
             ],
             [
              0.2222222222222222,
              "#7201a8"
             ],
             [
              0.3333333333333333,
              "#9c179e"
             ],
             [
              0.4444444444444444,
              "#bd3786"
             ],
             [
              0.5555555555555556,
              "#d8576b"
             ],
             [
              0.6666666666666666,
              "#ed7953"
             ],
             [
              0.7777777777777778,
              "#fb9f3a"
             ],
             [
              0.8888888888888888,
              "#fdca26"
             ],
             [
              1,
              "#f0f921"
             ]
            ],
            "type": "surface"
           }
          ],
          "table": [
           {
            "cells": {
             "fill": {
              "color": "#EBF0F8"
             },
             "line": {
              "color": "white"
             }
            },
            "header": {
             "fill": {
              "color": "#C8D4E3"
             },
             "line": {
              "color": "white"
             }
            },
            "type": "table"
           }
          ]
         },
         "layout": {
          "annotationdefaults": {
           "arrowcolor": "#2a3f5f",
           "arrowhead": 0,
           "arrowwidth": 1
          },
          "autotypenumbers": "strict",
          "coloraxis": {
           "colorbar": {
            "outlinewidth": 0,
            "ticks": ""
           }
          },
          "colorscale": {
           "diverging": [
            [
             0,
             "#8e0152"
            ],
            [
             0.1,
             "#c51b7d"
            ],
            [
             0.2,
             "#de77ae"
            ],
            [
             0.3,
             "#f1b6da"
            ],
            [
             0.4,
             "#fde0ef"
            ],
            [
             0.5,
             "#f7f7f7"
            ],
            [
             0.6,
             "#e6f5d0"
            ],
            [
             0.7,
             "#b8e186"
            ],
            [
             0.8,
             "#7fbc41"
            ],
            [
             0.9,
             "#4d9221"
            ],
            [
             1,
             "#276419"
            ]
           ],
           "sequential": [
            [
             0,
             "#0d0887"
            ],
            [
             0.1111111111111111,
             "#46039f"
            ],
            [
             0.2222222222222222,
             "#7201a8"
            ],
            [
             0.3333333333333333,
             "#9c179e"
            ],
            [
             0.4444444444444444,
             "#bd3786"
            ],
            [
             0.5555555555555556,
             "#d8576b"
            ],
            [
             0.6666666666666666,
             "#ed7953"
            ],
            [
             0.7777777777777778,
             "#fb9f3a"
            ],
            [
             0.8888888888888888,
             "#fdca26"
            ],
            [
             1,
             "#f0f921"
            ]
           ],
           "sequentialminus": [
            [
             0,
             "#0d0887"
            ],
            [
             0.1111111111111111,
             "#46039f"
            ],
            [
             0.2222222222222222,
             "#7201a8"
            ],
            [
             0.3333333333333333,
             "#9c179e"
            ],
            [
             0.4444444444444444,
             "#bd3786"
            ],
            [
             0.5555555555555556,
             "#d8576b"
            ],
            [
             0.6666666666666666,
             "#ed7953"
            ],
            [
             0.7777777777777778,
             "#fb9f3a"
            ],
            [
             0.8888888888888888,
             "#fdca26"
            ],
            [
             1,
             "#f0f921"
            ]
           ]
          },
          "colorway": [
           "#636efa",
           "#EF553B",
           "#00cc96",
           "#ab63fa",
           "#FFA15A",
           "#19d3f3",
           "#FF6692",
           "#B6E880",
           "#FF97FF",
           "#FECB52"
          ],
          "font": {
           "color": "#2a3f5f"
          },
          "geo": {
           "bgcolor": "white",
           "lakecolor": "white",
           "landcolor": "#E5ECF6",
           "showlakes": true,
           "showland": true,
           "subunitcolor": "white"
          },
          "hoverlabel": {
           "align": "left"
          },
          "hovermode": "closest",
          "mapbox": {
           "style": "light"
          },
          "paper_bgcolor": "white",
          "plot_bgcolor": "#E5ECF6",
          "polar": {
           "angularaxis": {
            "gridcolor": "white",
            "linecolor": "white",
            "ticks": ""
           },
           "bgcolor": "#E5ECF6",
           "radialaxis": {
            "gridcolor": "white",
            "linecolor": "white",
            "ticks": ""
           }
          },
          "scene": {
           "xaxis": {
            "backgroundcolor": "#E5ECF6",
            "gridcolor": "white",
            "gridwidth": 2,
            "linecolor": "white",
            "showbackground": true,
            "ticks": "",
            "zerolinecolor": "white"
           },
           "yaxis": {
            "backgroundcolor": "#E5ECF6",
            "gridcolor": "white",
            "gridwidth": 2,
            "linecolor": "white",
            "showbackground": true,
            "ticks": "",
            "zerolinecolor": "white"
           },
           "zaxis": {
            "backgroundcolor": "#E5ECF6",
            "gridcolor": "white",
            "gridwidth": 2,
            "linecolor": "white",
            "showbackground": true,
            "ticks": "",
            "zerolinecolor": "white"
           }
          },
          "shapedefaults": {
           "line": {
            "color": "#2a3f5f"
           }
          },
          "ternary": {
           "aaxis": {
            "gridcolor": "white",
            "linecolor": "white",
            "ticks": ""
           },
           "baxis": {
            "gridcolor": "white",
            "linecolor": "white",
            "ticks": ""
           },
           "bgcolor": "#E5ECF6",
           "caxis": {
            "gridcolor": "white",
            "linecolor": "white",
            "ticks": ""
           }
          },
          "title": {
           "x": 0.05
          },
          "xaxis": {
           "automargin": true,
           "gridcolor": "white",
           "linecolor": "white",
           "ticks": "",
           "title": {
            "standoff": 15
           },
           "zerolinecolor": "white",
           "zerolinewidth": 2
          },
          "yaxis": {
           "automargin": true,
           "gridcolor": "white",
           "linecolor": "white",
           "ticks": "",
           "title": {
            "standoff": 15
           },
           "zerolinecolor": "white",
           "zerolinewidth": 2
          }
         }
        },
        "title": {
         "text": "PCA + KMeans (k=10) - 2D"
        },
        "xaxis": {
         "anchor": "y",
         "domain": [
          0,
          1
         ],
         "title": {
          "text": "PC1"
         }
        },
        "yaxis": {
         "anchor": "x",
         "domain": [
          0,
          1
         ],
         "title": {
          "text": "PC2"
         }
        }
       }
      }
     },
     "metadata": {},
     "output_type": "display_data"
    },
    {
     "data": {
      "text/html": [
       "<div>\n",
       "<style scoped>\n",
       "    .dataframe tbody tr th:only-of-type {\n",
       "        vertical-align: middle;\n",
       "    }\n",
       "\n",
       "    .dataframe tbody tr th {\n",
       "        vertical-align: top;\n",
       "    }\n",
       "\n",
       "    .dataframe thead th {\n",
       "        text-align: right;\n",
       "    }\n",
       "</style>\n",
       "<table border=\"1\" class=\"dataframe\">\n",
       "  <thead>\n",
       "    <tr style=\"text-align: right;\">\n",
       "      <th></th>\n",
       "      <th>PC1</th>\n",
       "      <th>PC2</th>\n",
       "      <th>cluster</th>\n",
       "      <th>label</th>\n",
       "    </tr>\n",
       "  </thead>\n",
       "  <tbody>\n",
       "    <tr>\n",
       "      <th>0</th>\n",
       "      <td>1.104442</td>\n",
       "      <td>0.231953</td>\n",
       "      <td>6</td>\n",
       "      <td>fruity</td>\n",
       "    </tr>\n",
       "    <tr>\n",
       "      <th>1</th>\n",
       "      <td>1.308607</td>\n",
       "      <td>-0.020088</td>\n",
       "      <td>0</td>\n",
       "      <td>green</td>\n",
       "    </tr>\n",
       "    <tr>\n",
       "      <th>2</th>\n",
       "      <td>1.391040</td>\n",
       "      <td>0.084832</td>\n",
       "      <td>0</td>\n",
       "      <td>sweet</td>\n",
       "    </tr>\n",
       "    <tr>\n",
       "      <th>3</th>\n",
       "      <td>1.492085</td>\n",
       "      <td>0.080056</td>\n",
       "      <td>0</td>\n",
       "      <td>floral</td>\n",
       "    </tr>\n",
       "    <tr>\n",
       "      <th>4</th>\n",
       "      <td>1.116697</td>\n",
       "      <td>0.709204</td>\n",
       "      <td>6</td>\n",
       "      <td>woody</td>\n",
       "    </tr>\n",
       "    <tr>\n",
       "      <th>...</th>\n",
       "      <td>...</td>\n",
       "      <td>...</td>\n",
       "      <td>...</td>\n",
       "      <td>...</td>\n",
       "    </tr>\n",
       "    <tr>\n",
       "      <th>124</th>\n",
       "      <td>-1.972231</td>\n",
       "      <td>1.892854</td>\n",
       "      <td>4</td>\n",
       "      <td>vetiver</td>\n",
       "    </tr>\n",
       "    <tr>\n",
       "      <th>125</th>\n",
       "      <td>-1.579133</td>\n",
       "      <td>0.963375</td>\n",
       "      <td>9</td>\n",
       "      <td>clove</td>\n",
       "    </tr>\n",
       "    <tr>\n",
       "      <th>126</th>\n",
       "      <td>0.680819</td>\n",
       "      <td>-0.400356</td>\n",
       "      <td>7</td>\n",
       "      <td>jammy</td>\n",
       "    </tr>\n",
       "    <tr>\n",
       "      <th>127</th>\n",
       "      <td>-0.283084</td>\n",
       "      <td>0.763675</td>\n",
       "      <td>2</td>\n",
       "      <td>marine</td>\n",
       "    </tr>\n",
       "    <tr>\n",
       "      <th>128</th>\n",
       "      <td>0.941096</td>\n",
       "      <td>0.408493</td>\n",
       "      <td>6</td>\n",
       "      <td>anise</td>\n",
       "    </tr>\n",
       "  </tbody>\n",
       "</table>\n",
       "<p>129 rows × 4 columns</p>\n",
       "</div>"
      ],
      "text/plain": [
       "          PC1       PC2 cluster    label\n",
       "0    1.104442  0.231953       6   fruity\n",
       "1    1.308607 -0.020088       0    green\n",
       "2    1.391040  0.084832       0    sweet\n",
       "3    1.492085  0.080056       0   floral\n",
       "4    1.116697  0.709204       6    woody\n",
       "..        ...       ...     ...      ...\n",
       "124 -1.972231  1.892854       4  vetiver\n",
       "125 -1.579133  0.963375       9    clove\n",
       "126  0.680819 -0.400356       7    jammy\n",
       "127 -0.283084  0.763675       2   marine\n",
       "128  0.941096  0.408493       6    anise\n",
       "\n",
       "[129 rows x 4 columns]"
      ]
     },
     "execution_count": 38,
     "metadata": {},
     "output_type": "execute_result"
    }
   ],
   "source": [
    "from predicting_odor_from_molecular_structure import plotly_pca_kmeans\n",
    "#plotly_pca_kmeans(similarity, n_components=2, n_clusters=6)\n",
    "coords, clusters, df_plot = plotly_pca_kmeans(similarity, n_components=2, n_clusters=10)\n",
    "df_plot"
   ]
  }
 ],
 "metadata": {
  "kernelspec": {
   "display_name": "primo",
   "language": "python",
   "name": "python3"
  },
  "language_info": {
   "codemirror_mode": {
    "name": "ipython",
    "version": 3
   },
   "file_extension": ".py",
   "mimetype": "text/x-python",
   "name": "python",
   "nbconvert_exporter": "python",
   "pygments_lexer": "ipython3",
   "version": "3.12.4"
  }
 },
 "nbformat": 4,
 "nbformat_minor": 5
}
