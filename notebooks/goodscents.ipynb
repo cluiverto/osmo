{
 "cells": [
  {
   "cell_type": "code",
   "execution_count": 1,
   "id": "6d83e46f",
   "metadata": {},
   "outputs": [],
   "source": [
    "import pyrfume\n",
    "import pandas as pd\n",
    "from pprint import pprint\n",
    "from IPython.display import Image\n",
    "from predicting_odor_from_molecular_structure import *"
   ]
  },
  {
   "cell_type": "code",
   "execution_count": 3,
   "id": "7959b942",
   "metadata": {},
   "outputs": [
    {
     "data": {
      "text/html": [
       "<div>\n",
       "<style scoped>\n",
       "    .dataframe tbody tr th:only-of-type {\n",
       "        vertical-align: middle;\n",
       "    }\n",
       "\n",
       "    .dataframe tbody tr th {\n",
       "        vertical-align: top;\n",
       "    }\n",
       "\n",
       "    .dataframe thead th {\n",
       "        text-align: right;\n",
       "    }\n",
       "</style>\n",
       "<table border=\"1\" class=\"dataframe\">\n",
       "  <thead>\n",
       "    <tr style=\"text-align: right;\">\n",
       "      <th></th>\n",
       "      <th>TGSC ID</th>\n",
       "      <th>CID</th>\n",
       "      <th>Concentration %</th>\n",
       "      <th>Solvent</th>\n",
       "      <th>MolecularWeight</th>\n",
       "      <th>IsomericSMILES</th>\n",
       "      <th>IUPACName</th>\n",
       "      <th>name</th>\n",
       "      <th>Labels</th>\n",
       "    </tr>\n",
       "  </thead>\n",
       "  <tbody>\n",
       "    <tr>\n",
       "      <th>0</th>\n",
       "      <td>1000111</td>\n",
       "      <td>7476</td>\n",
       "      <td>100.0</td>\n",
       "      <td>NaN</td>\n",
       "      <td>150.17</td>\n",
       "      <td>CC(=O)C1=CC=C(C=C1)OC</td>\n",
       "      <td>1-(4-methoxyphenyl)ethanone</td>\n",
       "      <td>4'-methoxyacetophenone</td>\n",
       "      <td>[sweet, vanilla, cherry maraschino cherry, pow...</td>\n",
       "    </tr>\n",
       "    <tr>\n",
       "      <th>1</th>\n",
       "      <td>1031871</td>\n",
       "      <td>7478</td>\n",
       "      <td>10.0</td>\n",
       "      <td>dipropylene glycol</td>\n",
       "      <td>152.15</td>\n",
       "      <td>COC1=CC=C(C=C1)C(=O)O</td>\n",
       "      <td>4-methoxybenzoic acid</td>\n",
       "      <td>4-methoxybenzoic acid</td>\n",
       "      <td>[phenolic, animal, fecal, medicinal]</td>\n",
       "    </tr>\n",
       "    <tr>\n",
       "      <th>2</th>\n",
       "      <td>1009281</td>\n",
       "      <td>7501</td>\n",
       "      <td>0.1</td>\n",
       "      <td>triacetin</td>\n",
       "      <td>104.15</td>\n",
       "      <td>C=CC1=CC=CC=C1</td>\n",
       "      <td>styrene</td>\n",
       "      <td>styrene</td>\n",
       "      <td>[sweet, plastic, floral, balsamic]</td>\n",
       "    </tr>\n",
       "    <tr>\n",
       "      <th>3</th>\n",
       "      <td>1001651</td>\n",
       "      <td>244</td>\n",
       "      <td>100.0</td>\n",
       "      <td>NaN</td>\n",
       "      <td>108.14</td>\n",
       "      <td>C1=CC=C(C=C1)CO</td>\n",
       "      <td>phenylmethanol</td>\n",
       "      <td>benzyl alcohol</td>\n",
       "      <td>[sweet, floral, rose, fruity, phenolic, balsam...</td>\n",
       "    </tr>\n",
       "    <tr>\n",
       "      <th>4</th>\n",
       "      <td>1001491</td>\n",
       "      <td>240</td>\n",
       "      <td>10.0</td>\n",
       "      <td>dipropylene glycol</td>\n",
       "      <td>106.12</td>\n",
       "      <td>C1=CC=C(C=C1)C=O</td>\n",
       "      <td>benzaldehyde</td>\n",
       "      <td>benzaldehyde</td>\n",
       "      <td>[sweet, cherry, cherry maraschino cherry, nutt...</td>\n",
       "    </tr>\n",
       "    <tr>\n",
       "      <th>...</th>\n",
       "      <td>...</td>\n",
       "      <td>...</td>\n",
       "      <td>...</td>\n",
       "      <td>...</td>\n",
       "      <td>...</td>\n",
       "      <td>...</td>\n",
       "      <td>...</td>\n",
       "      <td>...</td>\n",
       "      <td>...</td>\n",
       "    </tr>\n",
       "    <tr>\n",
       "      <th>4621</th>\n",
       "      <td>1020461</td>\n",
       "      <td>11564539</td>\n",
       "      <td>NaN</td>\n",
       "      <td>NaN</td>\n",
       "      <td>170.29</td>\n",
       "      <td>CCCCCCCC(=C)C(C)O</td>\n",
       "      <td>3-methylidenedecan-2-ol</td>\n",
       "      <td>3-methylidenedecan-2-ol</td>\n",
       "      <td>[flowers, orange]</td>\n",
       "    </tr>\n",
       "    <tr>\n",
       "      <th>4622</th>\n",
       "      <td>1027261</td>\n",
       "      <td>46195361</td>\n",
       "      <td>1.0</td>\n",
       "      <td>dipropylene glycol</td>\n",
       "      <td>146.25</td>\n",
       "      <td>CCC1OCCC(S1)C</td>\n",
       "      <td>2-ethyl-4-methyl-1,3-oxathiane</td>\n",
       "      <td>schembl2678282</td>\n",
       "      <td>[vegetable, floral, fruity, apricot, green, tr...</td>\n",
       "    </tr>\n",
       "    <tr>\n",
       "      <th>4623</th>\n",
       "      <td>1028151</td>\n",
       "      <td>46195364</td>\n",
       "      <td>0.1</td>\n",
       "      <td>propylene glycol</td>\n",
       "      <td>174.31</td>\n",
       "      <td>CCCCC1OCCC(S1)C</td>\n",
       "      <td>2-butyl-4-methyl-1,3-oxathiane</td>\n",
       "      <td>schembl2676606</td>\n",
       "      <td>[spicy, leafy, peppery, banana, fruity, oily, ...</td>\n",
       "    </tr>\n",
       "    <tr>\n",
       "      <th>4624</th>\n",
       "      <td>1554361</td>\n",
       "      <td>88571201</td>\n",
       "      <td>NaN</td>\n",
       "      <td>NaN</td>\n",
       "      <td>114.19</td>\n",
       "      <td>CC[C@@H](C)CCC=O</td>\n",
       "      <td>(4R)-4-methylhexanal</td>\n",
       "      <td>(r)-4-methylhexanal</td>\n",
       "      <td>[flowery, fresh, green, warm]</td>\n",
       "    </tr>\n",
       "    <tr>\n",
       "      <th>4625</th>\n",
       "      <td>1554371</td>\n",
       "      <td>12524062</td>\n",
       "      <td>NaN</td>\n",
       "      <td>NaN</td>\n",
       "      <td>114.19</td>\n",
       "      <td>CC[C@H](C)CCC=O</td>\n",
       "      <td>(4S)-4-methylhexanal</td>\n",
       "      <td>[s,(+)]-4-methylhexanal</td>\n",
       "      <td>[bland]</td>\n",
       "    </tr>\n",
       "  </tbody>\n",
       "</table>\n",
       "<p>4626 rows × 9 columns</p>\n",
       "</div>"
      ],
      "text/plain": [
       "      TGSC ID       CID  Concentration %             Solvent  MolecularWeight  \\\n",
       "0     1000111      7476            100.0                 NaN           150.17   \n",
       "1     1031871      7478             10.0  dipropylene glycol           152.15   \n",
       "2     1009281      7501              0.1           triacetin           104.15   \n",
       "3     1001651       244            100.0                 NaN           108.14   \n",
       "4     1001491       240             10.0  dipropylene glycol           106.12   \n",
       "...       ...       ...              ...                 ...              ...   \n",
       "4621  1020461  11564539              NaN                 NaN           170.29   \n",
       "4622  1027261  46195361              1.0  dipropylene glycol           146.25   \n",
       "4623  1028151  46195364              0.1    propylene glycol           174.31   \n",
       "4624  1554361  88571201              NaN                 NaN           114.19   \n",
       "4625  1554371  12524062              NaN                 NaN           114.19   \n",
       "\n",
       "             IsomericSMILES                       IUPACName  \\\n",
       "0     CC(=O)C1=CC=C(C=C1)OC     1-(4-methoxyphenyl)ethanone   \n",
       "1     COC1=CC=C(C=C1)C(=O)O           4-methoxybenzoic acid   \n",
       "2            C=CC1=CC=CC=C1                         styrene   \n",
       "3           C1=CC=C(C=C1)CO                  phenylmethanol   \n",
       "4          C1=CC=C(C=C1)C=O                    benzaldehyde   \n",
       "...                     ...                             ...   \n",
       "4621      CCCCCCCC(=C)C(C)O         3-methylidenedecan-2-ol   \n",
       "4622          CCC1OCCC(S1)C  2-ethyl-4-methyl-1,3-oxathiane   \n",
       "4623        CCCCC1OCCC(S1)C  2-butyl-4-methyl-1,3-oxathiane   \n",
       "4624       CC[C@@H](C)CCC=O            (4R)-4-methylhexanal   \n",
       "4625        CC[C@H](C)CCC=O            (4S)-4-methylhexanal   \n",
       "\n",
       "                         name  \\\n",
       "0      4'-methoxyacetophenone   \n",
       "1       4-methoxybenzoic acid   \n",
       "2                     styrene   \n",
       "3              benzyl alcohol   \n",
       "4                benzaldehyde   \n",
       "...                       ...   \n",
       "4621  3-methylidenedecan-2-ol   \n",
       "4622           schembl2678282   \n",
       "4623           schembl2676606   \n",
       "4624      (r)-4-methylhexanal   \n",
       "4625  [s,(+)]-4-methylhexanal   \n",
       "\n",
       "                                                 Labels  \n",
       "0     [sweet, vanilla, cherry maraschino cherry, pow...  \n",
       "1                  [phenolic, animal, fecal, medicinal]  \n",
       "2                    [sweet, plastic, floral, balsamic]  \n",
       "3     [sweet, floral, rose, fruity, phenolic, balsam...  \n",
       "4     [sweet, cherry, cherry maraschino cherry, nutt...  \n",
       "...                                                 ...  \n",
       "4621                                  [flowers, orange]  \n",
       "4622  [vegetable, floral, fruity, apricot, green, tr...  \n",
       "4623  [spicy, leafy, peppery, banana, fruity, oily, ...  \n",
       "4624                      [flowery, fresh, green, warm]  \n",
       "4625                                            [bland]  \n",
       "\n",
       "[4626 rows x 9 columns]"
      ]
     },
     "execution_count": 3,
     "metadata": {},
     "output_type": "execute_result"
    }
   ],
   "source": [
    "df = goodscents()\n",
    "df"
   ]
  },
  {
   "cell_type": "code",
   "execution_count": 4,
   "id": "472011f9",
   "metadata": {},
   "outputs": [
    {
     "data": {
      "text/html": [
       "<div>\n",
       "<style scoped>\n",
       "    .dataframe tbody tr th:only-of-type {\n",
       "        vertical-align: middle;\n",
       "    }\n",
       "\n",
       "    .dataframe tbody tr th {\n",
       "        vertical-align: top;\n",
       "    }\n",
       "\n",
       "    .dataframe thead th {\n",
       "        text-align: right;\n",
       "    }\n",
       "</style>\n",
       "<table border=\"1\" class=\"dataframe\">\n",
       "  <thead>\n",
       "    <tr style=\"text-align: right;\">\n",
       "      <th></th>\n",
       "      <th>Label</th>\n",
       "      <th>Count</th>\n",
       "    </tr>\n",
       "  </thead>\n",
       "  <tbody>\n",
       "    <tr>\n",
       "      <th>0</th>\n",
       "      <td>fruity</td>\n",
       "      <td>1250</td>\n",
       "    </tr>\n",
       "    <tr>\n",
       "      <th>1</th>\n",
       "      <td>green</td>\n",
       "      <td>1070</td>\n",
       "    </tr>\n",
       "    <tr>\n",
       "      <th>2</th>\n",
       "      <td>sweet</td>\n",
       "      <td>1007</td>\n",
       "    </tr>\n",
       "    <tr>\n",
       "      <th>3</th>\n",
       "      <td>floral</td>\n",
       "      <td>910</td>\n",
       "    </tr>\n",
       "    <tr>\n",
       "      <th>4</th>\n",
       "      <td>woody</td>\n",
       "      <td>623</td>\n",
       "    </tr>\n",
       "    <tr>\n",
       "      <th>...</th>\n",
       "      <td>...</td>\n",
       "      <td>...</td>\n",
       "    </tr>\n",
       "    <tr>\n",
       "      <th>128</th>\n",
       "      <td>anise</td>\n",
       "      <td>31</td>\n",
       "    </tr>\n",
       "    <tr>\n",
       "      <th>129</th>\n",
       "      <td>orangeflower</td>\n",
       "      <td>30</td>\n",
       "    </tr>\n",
       "    <tr>\n",
       "      <th>130</th>\n",
       "      <td>licorice</td>\n",
       "      <td>30</td>\n",
       "    </tr>\n",
       "    <tr>\n",
       "      <th>131</th>\n",
       "      <td>peppery</td>\n",
       "      <td>30</td>\n",
       "    </tr>\n",
       "    <tr>\n",
       "      <th>132</th>\n",
       "      <td>cabbage</td>\n",
       "      <td>30</td>\n",
       "    </tr>\n",
       "  </tbody>\n",
       "</table>\n",
       "<p>133 rows × 2 columns</p>\n",
       "</div>"
      ],
      "text/plain": [
       "            Label  Count\n",
       "0          fruity   1250\n",
       "1           green   1070\n",
       "2           sweet   1007\n",
       "3          floral    910\n",
       "4           woody    623\n",
       "..            ...    ...\n",
       "128         anise     31\n",
       "129  orangeflower     30\n",
       "130      licorice     30\n",
       "131       peppery     30\n",
       "132       cabbage     30\n",
       "\n",
       "[133 rows x 2 columns]"
      ]
     },
     "execution_count": 4,
     "metadata": {},
     "output_type": "execute_result"
    }
   ],
   "source": [
    "label_frequencies(df, labels_column='Labels').query(\"Count >= 30\")"
   ]
  },
  {
   "cell_type": "code",
   "execution_count": 5,
   "id": "04638c67",
   "metadata": {},
   "outputs": [
    {
     "data": {
      "text/html": [
       "<div>\n",
       "<style scoped>\n",
       "    .dataframe tbody tr th:only-of-type {\n",
       "        vertical-align: middle;\n",
       "    }\n",
       "\n",
       "    .dataframe tbody tr th {\n",
       "        vertical-align: top;\n",
       "    }\n",
       "\n",
       "    .dataframe thead th {\n",
       "        text-align: right;\n",
       "    }\n",
       "</style>\n",
       "<table border=\"1\" class=\"dataframe\">\n",
       "  <thead>\n",
       "    <tr style=\"text-align: right;\">\n",
       "      <th></th>\n",
       "      <th>TGSC ID</th>\n",
       "      <th>CID</th>\n",
       "      <th>Concentration %</th>\n",
       "      <th>Solvent</th>\n",
       "      <th>MolecularWeight</th>\n",
       "      <th>IsomericSMILES</th>\n",
       "      <th>IUPACName</th>\n",
       "      <th>name</th>\n",
       "      <th>Labels</th>\n",
       "    </tr>\n",
       "  </thead>\n",
       "  <tbody>\n",
       "    <tr>\n",
       "      <th>0</th>\n",
       "      <td>1000111</td>\n",
       "      <td>7476</td>\n",
       "      <td>100.0</td>\n",
       "      <td>NaN</td>\n",
       "      <td>150.17</td>\n",
       "      <td>CC(=O)C1=CC=C(C=C1)OC</td>\n",
       "      <td>1-(4-methoxyphenyl)ethanone</td>\n",
       "      <td>4'-methoxyacetophenone</td>\n",
       "      <td>[sweet, vanilla, powdery, anisic, balsamic, ha...</td>\n",
       "    </tr>\n",
       "    <tr>\n",
       "      <th>1</th>\n",
       "      <td>1031871</td>\n",
       "      <td>7478</td>\n",
       "      <td>10.0</td>\n",
       "      <td>dipropylene glycol</td>\n",
       "      <td>152.15</td>\n",
       "      <td>COC1=CC=C(C=C1)C(=O)O</td>\n",
       "      <td>4-methoxybenzoic acid</td>\n",
       "      <td>4-methoxybenzoic acid</td>\n",
       "      <td>[phenolic, animal, medicinal]</td>\n",
       "    </tr>\n",
       "    <tr>\n",
       "      <th>2</th>\n",
       "      <td>1009281</td>\n",
       "      <td>7501</td>\n",
       "      <td>0.1</td>\n",
       "      <td>triacetin</td>\n",
       "      <td>104.15</td>\n",
       "      <td>C=CC1=CC=CC=C1</td>\n",
       "      <td>styrene</td>\n",
       "      <td>styrene</td>\n",
       "      <td>[sweet, floral, balsamic]</td>\n",
       "    </tr>\n",
       "    <tr>\n",
       "      <th>3</th>\n",
       "      <td>1001651</td>\n",
       "      <td>244</td>\n",
       "      <td>100.0</td>\n",
       "      <td>NaN</td>\n",
       "      <td>108.14</td>\n",
       "      <td>C1=CC=C(C=C1)CO</td>\n",
       "      <td>phenylmethanol</td>\n",
       "      <td>benzyl alcohol</td>\n",
       "      <td>[sweet, floral, rose, fruity, phenolic, balsam...</td>\n",
       "    </tr>\n",
       "    <tr>\n",
       "      <th>4</th>\n",
       "      <td>1001491</td>\n",
       "      <td>240</td>\n",
       "      <td>10.0</td>\n",
       "      <td>dipropylene glycol</td>\n",
       "      <td>106.12</td>\n",
       "      <td>C1=CC=C(C=C1)C=O</td>\n",
       "      <td>benzaldehyde</td>\n",
       "      <td>benzaldehyde</td>\n",
       "      <td>[sweet, cherry, nutty, fruity, powdery, almond...</td>\n",
       "    </tr>\n",
       "    <tr>\n",
       "      <th>...</th>\n",
       "      <td>...</td>\n",
       "      <td>...</td>\n",
       "      <td>...</td>\n",
       "      <td>...</td>\n",
       "      <td>...</td>\n",
       "      <td>...</td>\n",
       "      <td>...</td>\n",
       "      <td>...</td>\n",
       "      <td>...</td>\n",
       "    </tr>\n",
       "    <tr>\n",
       "      <th>4621</th>\n",
       "      <td>1020461</td>\n",
       "      <td>11564539</td>\n",
       "      <td>NaN</td>\n",
       "      <td>NaN</td>\n",
       "      <td>170.29</td>\n",
       "      <td>CCCCCCCC(=C)C(C)O</td>\n",
       "      <td>3-methylidenedecan-2-ol</td>\n",
       "      <td>3-methylidenedecan-2-ol</td>\n",
       "      <td>[orange]</td>\n",
       "    </tr>\n",
       "    <tr>\n",
       "      <th>4622</th>\n",
       "      <td>1027261</td>\n",
       "      <td>46195361</td>\n",
       "      <td>1.0</td>\n",
       "      <td>dipropylene glycol</td>\n",
       "      <td>146.25</td>\n",
       "      <td>CCC1OCCC(S1)C</td>\n",
       "      <td>2-ethyl-4-methyl-1,3-oxathiane</td>\n",
       "      <td>schembl2678282</td>\n",
       "      <td>[vegetable, floral, fruity, apricot, green, tr...</td>\n",
       "    </tr>\n",
       "    <tr>\n",
       "      <th>4623</th>\n",
       "      <td>1028151</td>\n",
       "      <td>46195364</td>\n",
       "      <td>0.1</td>\n",
       "      <td>propylene glycol</td>\n",
       "      <td>174.31</td>\n",
       "      <td>CCCCC1OCCC(S1)C</td>\n",
       "      <td>2-butyl-4-methyl-1,3-oxathiane</td>\n",
       "      <td>schembl2676606</td>\n",
       "      <td>[spicy, leafy, peppery, banana, fruity, oily, ...</td>\n",
       "    </tr>\n",
       "    <tr>\n",
       "      <th>4624</th>\n",
       "      <td>1554361</td>\n",
       "      <td>88571201</td>\n",
       "      <td>NaN</td>\n",
       "      <td>NaN</td>\n",
       "      <td>114.19</td>\n",
       "      <td>CC[C@@H](C)CCC=O</td>\n",
       "      <td>(4R)-4-methylhexanal</td>\n",
       "      <td>(r)-4-methylhexanal</td>\n",
       "      <td>[fresh, green, warm]</td>\n",
       "    </tr>\n",
       "    <tr>\n",
       "      <th>4625</th>\n",
       "      <td>1554371</td>\n",
       "      <td>12524062</td>\n",
       "      <td>NaN</td>\n",
       "      <td>NaN</td>\n",
       "      <td>114.19</td>\n",
       "      <td>CC[C@H](C)CCC=O</td>\n",
       "      <td>(4S)-4-methylhexanal</td>\n",
       "      <td>[s,(+)]-4-methylhexanal</td>\n",
       "      <td>[bland]</td>\n",
       "    </tr>\n",
       "  </tbody>\n",
       "</table>\n",
       "<p>4506 rows × 9 columns</p>\n",
       "</div>"
      ],
      "text/plain": [
       "      TGSC ID       CID  Concentration %             Solvent  MolecularWeight  \\\n",
       "0     1000111      7476            100.0                 NaN           150.17   \n",
       "1     1031871      7478             10.0  dipropylene glycol           152.15   \n",
       "2     1009281      7501              0.1           triacetin           104.15   \n",
       "3     1001651       244            100.0                 NaN           108.14   \n",
       "4     1001491       240             10.0  dipropylene glycol           106.12   \n",
       "...       ...       ...              ...                 ...              ...   \n",
       "4621  1020461  11564539              NaN                 NaN           170.29   \n",
       "4622  1027261  46195361              1.0  dipropylene glycol           146.25   \n",
       "4623  1028151  46195364              0.1    propylene glycol           174.31   \n",
       "4624  1554361  88571201              NaN                 NaN           114.19   \n",
       "4625  1554371  12524062              NaN                 NaN           114.19   \n",
       "\n",
       "             IsomericSMILES                       IUPACName  \\\n",
       "0     CC(=O)C1=CC=C(C=C1)OC     1-(4-methoxyphenyl)ethanone   \n",
       "1     COC1=CC=C(C=C1)C(=O)O           4-methoxybenzoic acid   \n",
       "2            C=CC1=CC=CC=C1                         styrene   \n",
       "3           C1=CC=C(C=C1)CO                  phenylmethanol   \n",
       "4          C1=CC=C(C=C1)C=O                    benzaldehyde   \n",
       "...                     ...                             ...   \n",
       "4621      CCCCCCCC(=C)C(C)O         3-methylidenedecan-2-ol   \n",
       "4622          CCC1OCCC(S1)C  2-ethyl-4-methyl-1,3-oxathiane   \n",
       "4623        CCCCC1OCCC(S1)C  2-butyl-4-methyl-1,3-oxathiane   \n",
       "4624       CC[C@@H](C)CCC=O            (4R)-4-methylhexanal   \n",
       "4625        CC[C@H](C)CCC=O            (4S)-4-methylhexanal   \n",
       "\n",
       "                         name  \\\n",
       "0      4'-methoxyacetophenone   \n",
       "1       4-methoxybenzoic acid   \n",
       "2                     styrene   \n",
       "3              benzyl alcohol   \n",
       "4                benzaldehyde   \n",
       "...                       ...   \n",
       "4621  3-methylidenedecan-2-ol   \n",
       "4622           schembl2678282   \n",
       "4623           schembl2676606   \n",
       "4624      (r)-4-methylhexanal   \n",
       "4625  [s,(+)]-4-methylhexanal   \n",
       "\n",
       "                                                 Labels  \n",
       "0     [sweet, vanilla, powdery, anisic, balsamic, ha...  \n",
       "1                         [phenolic, animal, medicinal]  \n",
       "2                             [sweet, floral, balsamic]  \n",
       "3     [sweet, floral, rose, fruity, phenolic, balsam...  \n",
       "4     [sweet, cherry, nutty, fruity, powdery, almond...  \n",
       "...                                                 ...  \n",
       "4621                                           [orange]  \n",
       "4622  [vegetable, floral, fruity, apricot, green, tr...  \n",
       "4623  [spicy, leafy, peppery, banana, fruity, oily, ...  \n",
       "4624                               [fresh, green, warm]  \n",
       "4625                                            [bland]  \n",
       "\n",
       "[4506 rows x 9 columns]"
      ]
     },
     "execution_count": 5,
     "metadata": {},
     "output_type": "execute_result"
    }
   ],
   "source": [
    "df = reduce_df(df, minimum=30)\n",
    "df#"
   ]
  },
  {
   "cell_type": "code",
   "execution_count": 42,
   "id": "6f6608fc",
   "metadata": {},
   "outputs": [
    {
     "data": {
      "text/plain": [
       "133"
      ]
     },
     "execution_count": 42,
     "metadata": {},
     "output_type": "execute_result"
    }
   ],
   "source": [
    "len(label_frequencies(df, labels_column='Labels').Label.to_list())"
   ]
  },
  {
   "cell_type": "code",
   "execution_count": 15,
   "id": "e1a18b9a",
   "metadata": {},
   "outputs": [
    {
     "data": {
      "text/html": [
       "<div>\n",
       "<style scoped>\n",
       "    .dataframe tbody tr th:only-of-type {\n",
       "        vertical-align: middle;\n",
       "    }\n",
       "\n",
       "    .dataframe tbody tr th {\n",
       "        vertical-align: top;\n",
       "    }\n",
       "\n",
       "    .dataframe thead th {\n",
       "        text-align: right;\n",
       "    }\n",
       "</style>\n",
       "<table border=\"1\" class=\"dataframe\">\n",
       "  <thead>\n",
       "    <tr style=\"text-align: right;\">\n",
       "      <th></th>\n",
       "      <th>name</th>\n",
       "      <th>Labels</th>\n",
       "    </tr>\n",
       "  </thead>\n",
       "  <tbody>\n",
       "    <tr>\n",
       "      <th>156</th>\n",
       "      <td>104691-41-0</td>\n",
       "      <td>[meaty, cocoa, nutty, onion]</td>\n",
       "    </tr>\n",
       "    <tr>\n",
       "      <th>378</th>\n",
       "      <td>1-hexanethiol</td>\n",
       "      <td>[meaty, sulfurous, fatty, garlic, nutty, allia...</td>\n",
       "    </tr>\n",
       "    <tr>\n",
       "      <th>613</th>\n",
       "      <td>propionaldehyde</td>\n",
       "      <td>[meaty, cocoa, pungent, nutty, winey, cognac, ...</td>\n",
       "    </tr>\n",
       "    <tr>\n",
       "      <th>813</th>\n",
       "      <td>difurfuryl sulfide</td>\n",
       "      <td>[meaty, sulfurous, mushroom, cocoa, nutty, cof...</td>\n",
       "    </tr>\n",
       "    <tr>\n",
       "      <th>829</th>\n",
       "      <td>4-methyl-5-thiazoleethanol</td>\n",
       "      <td>[meaty, sulfurous, fatty, nutty, oily, bready,...</td>\n",
       "    </tr>\n",
       "    <tr>\n",
       "      <th>870</th>\n",
       "      <td>2-ethylpyrazine</td>\n",
       "      <td>[musty, fermented, meaty, cocoa, nutty, coffee...</td>\n",
       "    </tr>\n",
       "    <tr>\n",
       "      <th>1058</th>\n",
       "      <td>2-ethyl-4-methylthiazole</td>\n",
       "      <td>[meaty, sulfurous, nutty, savory, coffee, brow...</td>\n",
       "    </tr>\n",
       "    <tr>\n",
       "      <th>1059</th>\n",
       "      <td>2-isopropyl-4-methylthiazole</td>\n",
       "      <td>[vegetable, musty, meaty, sulfurous, nutty, fr...</td>\n",
       "    </tr>\n",
       "    <tr>\n",
       "      <th>1068</th>\n",
       "      <td>2,5-diethylthiazole</td>\n",
       "      <td>[musty, nutty, meaty]</td>\n",
       "    </tr>\n",
       "    <tr>\n",
       "      <th>1211</th>\n",
       "      <td>3,5-diethyl-2-methylpyrazine</td>\n",
       "      <td>[vegetable, nutty, meaty]</td>\n",
       "    </tr>\n",
       "    <tr>\n",
       "      <th>1525</th>\n",
       "      <td>2-methyl-2-thiazoline</td>\n",
       "      <td>[musty, vegetable, meaty, sulfurous, nutty]</td>\n",
       "    </tr>\n",
       "    <tr>\n",
       "      <th>1546</th>\n",
       "      <td>zinc155720</td>\n",
       "      <td>[sweet, meaty, nutty, savory, coffee, roasted,...</td>\n",
       "    </tr>\n",
       "    <tr>\n",
       "      <th>1580</th>\n",
       "      <td>1,3-butanedithiol</td>\n",
       "      <td>[meaty, spicy, sulfurous, garlic, nutty, allia...</td>\n",
       "    </tr>\n",
       "    <tr>\n",
       "      <th>1768</th>\n",
       "      <td>thiazole</td>\n",
       "      <td>[nutty, fishy, meaty]</td>\n",
       "    </tr>\n",
       "    <tr>\n",
       "      <th>1814</th>\n",
       "      <td>2-propionyl-2-thiazoline</td>\n",
       "      <td>[roasted, nutty, meaty, cooked]</td>\n",
       "    </tr>\n",
       "    <tr>\n",
       "      <th>1914</th>\n",
       "      <td>2,5-diethyl-3-methylpyrazine</td>\n",
       "      <td>[meaty, nutty]</td>\n",
       "    </tr>\n",
       "    <tr>\n",
       "      <th>1928</th>\n",
       "      <td>7-methyl-3-octen-2-one</td>\n",
       "      <td>[meaty, fatty, nutty, fruity, oily, lactonic]</td>\n",
       "    </tr>\n",
       "    <tr>\n",
       "      <th>2103</th>\n",
       "      <td>2-heptylfuran</td>\n",
       "      <td>[meaty, fatty, nutty, oily, green, roasted, da...</td>\n",
       "    </tr>\n",
       "    <tr>\n",
       "      <th>2116</th>\n",
       "      <td>5-acetyl-2,4-dimethylthiazole</td>\n",
       "      <td>[musty, meaty, sulfurous, nutty, coffee, earthy]</td>\n",
       "    </tr>\n",
       "    <tr>\n",
       "      <th>2117</th>\n",
       "      <td>5-ethyl-2,4-dimethylthiazole</td>\n",
       "      <td>[roasted, nutty, meaty, earthy]</td>\n",
       "    </tr>\n",
       "    <tr>\n",
       "      <th>3271</th>\n",
       "      <td>thialdine</td>\n",
       "      <td>[meaty, sulfurous, nutty, earthy]</td>\n",
       "    </tr>\n",
       "    <tr>\n",
       "      <th>3364</th>\n",
       "      <td>2-methyl-5-(furfurylthio)pyrazine</td>\n",
       "      <td>[meaty, sulfurous, nutty, coffee, cooked]</td>\n",
       "    </tr>\n",
       "    <tr>\n",
       "      <th>3944</th>\n",
       "      <td>76788-46-0</td>\n",
       "      <td>[musty, vegetable, meaty, sulfurous, nutty, co...</td>\n",
       "    </tr>\n",
       "    <tr>\n",
       "      <th>4159</th>\n",
       "      <td>(z+e)-4-methyl-2-(2-methylpropyl)-4,5-dihydro-...</td>\n",
       "      <td>[roasted, nutty, meaty, cooked]</td>\n",
       "    </tr>\n",
       "    <tr>\n",
       "      <th>4160</th>\n",
       "      <td>(z+e)-5-ethyl-4-methyl-2-(1-methyl propyl) thi...</td>\n",
       "      <td>[roasted, nutty, meaty, cooked]</td>\n",
       "    </tr>\n",
       "    <tr>\n",
       "      <th>4201</th>\n",
       "      <td>852997-30-9</td>\n",
       "      <td>[meaty, fatty, nutty, creamy]</td>\n",
       "    </tr>\n",
       "    <tr>\n",
       "      <th>4448</th>\n",
       "      <td>benzothiazole</td>\n",
       "      <td>[vegetable, meaty, sulfurous, nutty, coffee, b...</td>\n",
       "    </tr>\n",
       "  </tbody>\n",
       "</table>\n",
       "</div>"
      ],
      "text/plain": [
       "                                                   name  \\\n",
       "156                                         104691-41-0   \n",
       "378                                       1-hexanethiol   \n",
       "613                                     propionaldehyde   \n",
       "813                                  difurfuryl sulfide   \n",
       "829                          4-methyl-5-thiazoleethanol   \n",
       "870                                     2-ethylpyrazine   \n",
       "1058                           2-ethyl-4-methylthiazole   \n",
       "1059                       2-isopropyl-4-methylthiazole   \n",
       "1068                                2,5-diethylthiazole   \n",
       "1211                       3,5-diethyl-2-methylpyrazine   \n",
       "1525                              2-methyl-2-thiazoline   \n",
       "1546                                         zinc155720   \n",
       "1580                                  1,3-butanedithiol   \n",
       "1768                                           thiazole   \n",
       "1814                           2-propionyl-2-thiazoline   \n",
       "1914                       2,5-diethyl-3-methylpyrazine   \n",
       "1928                             7-methyl-3-octen-2-one   \n",
       "2103                                      2-heptylfuran   \n",
       "2116                      5-acetyl-2,4-dimethylthiazole   \n",
       "2117                       5-ethyl-2,4-dimethylthiazole   \n",
       "3271                                          thialdine   \n",
       "3364                  2-methyl-5-(furfurylthio)pyrazine   \n",
       "3944                                         76788-46-0   \n",
       "4159  (z+e)-4-methyl-2-(2-methylpropyl)-4,5-dihydro-...   \n",
       "4160  (z+e)-5-ethyl-4-methyl-2-(1-methyl propyl) thi...   \n",
       "4201                                        852997-30-9   \n",
       "4448                                      benzothiazole   \n",
       "\n",
       "                                                 Labels  \n",
       "156                        [meaty, cocoa, nutty, onion]  \n",
       "378   [meaty, sulfurous, fatty, garlic, nutty, allia...  \n",
       "613   [meaty, cocoa, pungent, nutty, winey, cognac, ...  \n",
       "813   [meaty, sulfurous, mushroom, cocoa, nutty, cof...  \n",
       "829   [meaty, sulfurous, fatty, nutty, oily, bready,...  \n",
       "870   [musty, fermented, meaty, cocoa, nutty, coffee...  \n",
       "1058  [meaty, sulfurous, nutty, savory, coffee, brow...  \n",
       "1059  [vegetable, musty, meaty, sulfurous, nutty, fr...  \n",
       "1068                              [musty, nutty, meaty]  \n",
       "1211                          [vegetable, nutty, meaty]  \n",
       "1525        [musty, vegetable, meaty, sulfurous, nutty]  \n",
       "1546  [sweet, meaty, nutty, savory, coffee, roasted,...  \n",
       "1580  [meaty, spicy, sulfurous, garlic, nutty, allia...  \n",
       "1768                              [nutty, fishy, meaty]  \n",
       "1814                    [roasted, nutty, meaty, cooked]  \n",
       "1914                                     [meaty, nutty]  \n",
       "1928      [meaty, fatty, nutty, fruity, oily, lactonic]  \n",
       "2103  [meaty, fatty, nutty, oily, green, roasted, da...  \n",
       "2116   [musty, meaty, sulfurous, nutty, coffee, earthy]  \n",
       "2117                    [roasted, nutty, meaty, earthy]  \n",
       "3271                  [meaty, sulfurous, nutty, earthy]  \n",
       "3364          [meaty, sulfurous, nutty, coffee, cooked]  \n",
       "3944  [musty, vegetable, meaty, sulfurous, nutty, co...  \n",
       "4159                    [roasted, nutty, meaty, cooked]  \n",
       "4160                    [roasted, nutty, meaty, cooked]  \n",
       "4201                      [meaty, fatty, nutty, creamy]  \n",
       "4448  [vegetable, meaty, sulfurous, nutty, coffee, b...  "
      ]
     },
     "execution_count": 15,
     "metadata": {},
     "output_type": "execute_result"
    }
   ],
   "source": [
    "from predicting_odor_from_molecular_structure import search_scent\n",
    "\n",
    "search_scent(['meaty', 'nutty'], df)\n",
    "#search_scent('licorice', df)"
   ]
  },
  {
   "cell_type": "code",
   "execution_count": 26,
   "id": "eebab338",
   "metadata": {},
   "outputs": [
    {
     "data": {
      "image/png": "[encoded data removed]",
      "text/plain": [
       "<Figure size 1500x1200 with 2 Axes>"
      ]
     },
     "metadata": {},
     "output_type": "display_data"
    },
    {
     "data": {
      "image/png": "[encoded data removed]",
      "text/plain": [
       "<Figure size 1500x1200 with 2 Axes>"
      ]
     },
     "metadata": {},
     "output_type": "display_data"
    }
   ],
   "source": [
    "from predicting_odor_from_molecular_structure import pco_occurrence_matrix\n",
    "matrix = pco_occurrence_matrix(df, labels_column='Labels', counts=30)\n",
    "similarity = pco_similarity_matrix(matrix)"
   ]
  },
  {
   "cell_type": "code",
   "execution_count": 30,
   "id": "d33ef178",
   "metadata": {},
   "outputs": [
    {
     "name": "stderr",
     "output_type": "stream",
     "text": [
      "c:\\Users\\mikoo\\miniconda3\\envs\\primo\\Lib\\site-packages\\sklearn\\cluster\\_kmeans.py:1429: UserWarning:\n",
      "\n",
      "KMeans is known to have a memory leak on Windows with MKL, when there are less chunks than available threads. You can avoid it by setting the environment variable OMP_NUM_THREADS=1.\n",
      "\n"
     ]
    },
    {
     "data": {
      "application/vnd.plotly.v1+json": {
       "config": {
        "plotlyServerURL": "https://plot.ly"
       },
       "data": [
        {
         "hovertemplate": "<b>%{hovertext}</b><br><br>cluster=3<br>PC1=%{x}<br>PC2=%{y}<extra></extra>",
         "hovertext": [
          "fruity",
          "green",
          "sweet",
          "floral",
          "woody",
          "herbal",
          "fresh",
          "spicy",
          "citrus",
          "rose",
          "earthy",
          "balsamic",
          "powdery",
          "aldehydic",
          "honey",
          "leafy",
          "jasmin",
          "clean",
          "natural",
          "warm",
          "orange",
          "cortex",
          "violet",
          "geranium",
          "hyacinth",
          "soapy",
          "grassy",
          "weedy",
          "hay",
          "raspberry",
          "anisic",
          "anise"
         ],
         "legendgroup": "3",
         "marker": {
          "color": "#636efa",
          "symbol": "circle"
         },
         "mode": "markers",
         "name": "3",
         "orientation": "v",
         "showlegend": true,
         "type": "scatter",
         "x": [
          1.1044418053542508,
          1.308607301543055,
          1.3910395863545177,
          1.4920850216042354,
          1.116697307551794,
          1.49773897406109,
          1.7383850017019453,
          1.48895972647452,
          1.410873441227501,
          1.051952139551584,
          1.1702635431540147,
          1.2559549161963162,
          1.0134333834961393,
          0.6510922063456746,
          0.8904519998683993,
          0.8907154263404223,
          1.296086986994394,
          0.8938276906100225,
          1.6654539392136005,
          0.7854333873008635,
          0.8843412514538582,
          0.6275016496115902,
          1.1058762768030783,
          0.5223221894941988,
          0.7928028746268069,
          0.6912954094831926,
          0.9807965608003627,
          1.466843231331989,
          1.1183346601011095,
          1.1456937067405597,
          0.5763345016452351,
          0.9410960571224333
         ],
         "xaxis": "x",
         "y": [
          0.23195337893305543,
          -0.020087755102225505,
          0.0848321087977898,
          0.08005604180046982,
          0.7092037708562599,
          0.6991480138588821,
          0.4446352383760574,
          0.7658064599596818,
          0.6269185569997487,
          0.5389069530591339,
          0.21584718408534947,
          0.9013337811510725,
          0.5362007024225582,
          0.4483017893913175,
          0.2746987647936607,
          0.3525812300093186,
          0.2749069183290869,
          0.7484135010330077,
          0.5615153212521665,
          1.0075749594460552,
          0.1835129545661196,
          0.35779902370320726,
          0.7802794689315586,
          0.5564417615534856,
          0.3667740959295317,
          0.07025500814732626,
          -0.08046687385823076,
          0.17546231294763612,
          0.7804276994977819,
          -0.12467987139694922,
          0.44108098260504097,
          0.4084934298342227
         ],
         "yaxis": "y"
        },
        {
         "hovertemplate": "<b>%{hovertext}</b><br><br>cluster=6<br>PC1=%{x}<br>PC2=%{y}<extra></extra>",
         "hovertext": [
          "fatty",
          "waxy",
          "tropical",
          "oily",
          "pineapple",
          "apple",
          "ethereal",
          "berry",
          "metallic",
          "pungent",
          "winey",
          "pear",
          "melon",
          "banana",
          "peach",
          "cherry",
          "apricot",
          "rummy",
          "grape",
          "sharp",
          "fermented",
          "plum",
          "estery",
          "cognac",
          "ripe",
          "strawberry",
          "juicy"
         ],
         "legendgroup": "6",
         "marker": {
          "color": "#EF553B",
          "symbol": "circle"
         },
         "mode": "markers",
         "name": "6",
         "orientation": "v",
         "showlegend": true,
         "type": "scatter",
         "x": [
          1.1569135025500126,
          1.6222355708471379,
          1.8464652130337453,
          1.6228023801173364,
          1.1133322453586147,
          1.3785963756986097,
          0.9973739235638289,
          1.5003066130271632,
          1.1964291115822236,
          0.8643011114540166,
          1.244597927928785,
          1.2506641281430393,
          1.216154043573272,
          1.1408669320836622,
          1.0204472653887129,
          1.003365592187024,
          1.072488393842205,
          0.8888702616051992,
          1.5133753670253596,
          1.1724308415103593,
          0.9935775864299187,
          1.1642224114935138,
          0.8853332857874651,
          0.7900507563686547,
          0.910124282890539,
          0.8302486619306542,
          1.2800723734264794
         ],
         "xaxis": "x",
         "y": [
          -0.5425290288914848,
          -0.24129347134118184,
          -0.6553699465629326,
          -0.30036398306001494,
          -1.133882271223866,
          -0.8764088448764333,
          -1.1727458774325024,
          -0.29507004615596916,
          -0.301979731599737,
          -1.0553663158702271,
          -1.0186875304392435,
          -0.9122306691851991,
          -0.29573023479089305,
          -1.0398266541015266,
          -0.9339903626217662,
          -0.5331118275307251,
          -0.792123390676902,
          -1.0508660672985612,
          -0.6234727278934327,
          -0.88791062328987,
          -1.136026174830392,
          -0.3959687784904135,
          -1.1706263130500436,
          -1.0139148762484655,
          -1.1070258064181047,
          -0.6464220287894782,
          -0.8009167481873894
         ],
         "yaxis": "y"
        },
        {
         "hovertemplate": "<b>%{hovertext}</b><br><br>cluster=5<br>PC1=%{x}<br>PC2=%{y}<extra></extra>",
         "hovertext": [
          "sulfurous",
          "meaty",
          "coffee",
          "burnt",
          "savory"
         ],
         "legendgroup": "5",
         "marker": {
          "color": "#00cc96",
          "symbol": "circle"
         },
         "mode": "markers",
         "name": "5",
         "orientation": "v",
         "showlegend": true,
         "type": "scatter",
         "x": [
          -2.400753245929793,
          -3.182208397816969,
          -2.956840761152004,
          -1.9419198308955328,
          -2.917695889118411
         ],
         "xaxis": "x",
         "y": [
          -1.1569060556238515,
          -1.1465468191000057,
          -1.1094611525950893,
          -0.7023789635920714,
          -1.1551882563136355
         ],
         "yaxis": "y"
        },
        {
         "hovertemplate": "<b>%{hovertext}</b><br><br>cluster=7<br>PC1=%{x}<br>PC2=%{y}<extra></extra>",
         "hovertext": [
          "nutty",
          "vanilla",
          "dairy",
          "cocoa",
          "milky",
          "brown",
          "chocolate",
          "cucumber",
          "lactonic",
          "coumarinic",
          "bready",
          "fishy",
          "alcoholic"
         ],
         "legendgroup": "7",
         "marker": {
          "color": "#ab63fa",
          "symbol": "circle"
         },
         "mode": "markers",
         "name": "7",
         "orientation": "v",
         "showlegend": true,
         "type": "scatter",
         "x": [
          -0.6517092932887779,
          -0.5822351447931405,
          -0.33147127703098866,
          -0.596937478876054,
          -0.26744759615950237,
          -0.6859333111798857,
          -0.8469825069530855,
          -0.20986441412590276,
          -0.12725029577232164,
          -1.0622216274937712,
          -0.8350881173750809,
          -0.4739013280498384,
          -0.2691272389912371
         ],
         "xaxis": "x",
         "y": [
          -0.763252223570437,
          0.1954728341174601,
          -1.026861931637843,
          -0.6493942170926095,
          -0.7305841489481514,
          -0.760362754114097,
          -0.41622312104565923,
          -0.2504532794539525,
          -0.5624595023475302,
          0.01741359160311285,
          -0.7361928390496743,
          -1.0484118599569818,
          -0.8520228024696953
         ],
         "yaxis": "y"
        },
        {
         "hovertemplate": "<b>%{hovertext}</b><br><br>cluster=8<br>PC1=%{x}<br>PC2=%{y}<extra></extra>",
         "hovertext": [
          "odorless",
          "bland"
         ],
         "legendgroup": "8",
         "marker": {
          "color": "#FFA15A",
          "symbol": "circle"
         },
         "mode": "markers",
         "name": "8",
         "orientation": "v",
         "showlegend": true,
         "type": "scatter",
         "x": [
          -5.657433339154201,
          -5.657433339154201
         ],
         "xaxis": "x",
         "y": [
          0.14785148040731802,
          0.1478514804073179
         ],
         "yaxis": "y"
        },
        {
         "hovertemplate": "<b>%{hovertext}</b><br><br>cluster=4<br>PC1=%{x}<br>PC2=%{y}<extra></extra>",
         "hovertext": [
          "minty",
          "phenolic",
          "dry",
          "animal",
          "musk",
          "cooling",
          "tobacco",
          "orris",
          "muguet",
          "grapefruit",
          "lily",
          "leathery",
          "lavender",
          "lemon",
          "celery",
          "ozone",
          "bergamot",
          "hawthorn",
          "marine"
         ],
         "legendgroup": "4",
         "marker": {
          "color": "#19d3f3",
          "symbol": "circle"
         },
         "mode": "markers",
         "name": "4",
         "orientation": "v",
         "showlegend": true,
         "type": "scatter",
         "x": [
          0.44133012117283266,
          0.03331499243177103,
          0.5029696389074718,
          0.17944316212492187,
          -0.7587684656393462,
          -0.4280756152301656,
          0.5835957746544962,
          0.1605615005678436,
          -0.5810945705465377,
          0.21351337893091263,
          -0.13001583523762358,
          -0.44713567916075925,
          0.33837420606872404,
          -0.2174302848869265,
          0.3237352542275975,
          -0.3925021673569087,
          0.231189690725928,
          -0.5728069932716559,
          -0.283084094013159
         ],
         "xaxis": "x",
         "y": [
          0.983055062789095,
          0.7199643207897014,
          1.083448921012876,
          0.5681490607479792,
          0.7516550630163702,
          1.1686647033242246,
          1.0234179153720224,
          1.2215856280490154,
          0.9110632408112156,
          0.8770051041557843,
          0.8558219950023428,
          0.9155463970564516,
          1.1804291417690627,
          0.921178409065558,
          0.8088316137588849,
          0.9600051832521979,
          1.1502747003307516,
          0.7451817740804445,
          0.763675386252618
         ],
         "yaxis": "y"
        },
        {
         "hovertemplate": "<b>%{hovertext}</b><br><br>cluster=0<br>PC1=%{x}<br>PC2=%{y}<extra></extra>",
         "hovertext": [
          "vegetable",
          "musty",
          "creamy",
          "caramellic",
          "coconut",
          "cheesy",
          "mushroom",
          "buttery",
          "almond",
          "acidic",
          "sour",
          "chemical",
          "jammy"
         ],
         "legendgroup": "0",
         "marker": {
          "color": "#FF6692",
          "symbol": "circle"
         },
         "mode": "markers",
         "name": "0",
         "orientation": "v",
         "showlegend": true,
         "type": "scatter",
         "x": [
          0.544165959301016,
          0.7135558277371765,
          0.5459637457852885,
          0.32721973725188247,
          0.24992608579067963,
          0.5302961324844357,
          0.3283829445410592,
          0.05823432161636249,
          0.009318492960511602,
          -0.02995634962540644,
          0.3584520281638716,
          0.30241149866087896,
          0.6808192316573762
         ],
         "xaxis": "x",
         "y": [
          -0.6874090262699265,
          -0.5324413155931436,
          -0.6288647609885851,
          -0.9097265231026244,
          -0.5332552961661763,
          -1.3220915100014152,
          -0.45722070255925,
          -1.1908460533730054,
          -0.40816668259342115,
          -1.030915470917159,
          -0.7428407587307221,
          -0.49061095245455333,
          -0.4003563652916555
         ],
         "yaxis": "y"
        },
        {
         "hovertemplate": "<b>%{hovertext}</b><br><br>cluster=1<br>PC1=%{x}<br>PC2=%{y}<extra></extra>",
         "hovertext": [
          "roasted",
          "onion",
          "garlic",
          "alliaceous",
          "cooked"
         ],
         "legendgroup": "1",
         "marker": {
          "color": "#B6E880",
          "symbol": "circle"
         },
         "mode": "markers",
         "name": "1",
         "orientation": "v",
         "showlegend": true,
         "type": "scatter",
         "x": [
          -3.8206574531146185,
          -3.7207373040506377,
          -4.390323906533264,
          -3.955045821970362,
          -3.710524445444679
         ],
         "xaxis": "x",
         "y": [
          -0.9683792596057523,
          -1.0485839015515697,
          -0.9074620363202557,
          -1.0038300396654245,
          -1.1684751093646695
         ],
         "yaxis": "y"
        },
        {
         "hovertemplate": "<b>%{hovertext}</b><br><br>cluster=2<br>PC1=%{x}<br>PC2=%{y}<extra></extra>",
         "hovertext": [
          "camphoreous",
          "amber",
          "pine",
          "mild",
          "medicinal",
          "terpenic",
          "cinnamon",
          "smoky",
          "cedar",
          "mentholic",
          "sandalwood",
          "vetiver",
          "clove"
         ],
         "legendgroup": "2",
         "marker": {
          "color": "#FF97FF",
          "symbol": "circle"
         },
         "mode": "markers",
         "name": "2",
         "orientation": "v",
         "showlegend": true,
         "type": "scatter",
         "x": [
          -1.163017618446217,
          -0.9645039517164918,
          -0.9346266475012309,
          -1.8460800723110666,
          -1.5214086015513948,
          -0.7257258980363719,
          -0.8825372269551215,
          -2.1632536319329274,
          -1.8725964529766899,
          -1.909446149676815,
          -1.6719784763182048,
          -1.972231254924537,
          -1.5791326370294994
         ],
         "xaxis": "x",
         "y": [
          1.7063416291417561,
          1.420297705707313,
          1.761587369708411,
          0.0976085479840057,
          1.2733850944006582,
          1.7111205821250857,
          0.712292023892505,
          0.6288445665914854,
          1.8560098092712416,
          1.1866587752636948,
          1.7059905017914594,
          1.892854302050798,
          0.9633751953039432
         ],
         "yaxis": "y"
        }
       ],
       "layout": {
        "legend": {
         "title": {
          "text": "cluster"
         },
         "tracegroupgap": 0
        },
        "template": {
         "data": {
          "bar": [
           {
            "error_x": {
             "color": "#2a3f5f"
            },
            "error_y": {
             "color": "#2a3f5f"
            },
            "marker": {
             "line": {
              "color": "#E5ECF6",
              "width": 0.5
             },
             "pattern": {
              "fillmode": "overlay",
              "size": 10,
              "solidity": 0.2
             }
            },
            "type": "bar"
           }
          ],
          "barpolar": [
           {
            "marker": {
             "line": {
              "color": "#E5ECF6",
              "width": 0.5
             },
             "pattern": {
              "fillmode": "overlay",
              "size": 10,
              "solidity": 0.2
             }
            },
            "type": "barpolar"
           }
          ],
          "carpet": [
           {
            "aaxis": {
             "endlinecolor": "#2a3f5f",
             "gridcolor": "white",
             "linecolor": "white",
             "minorgridcolor": "white",
             "startlinecolor": "#2a3f5f"
            },
            "baxis": {
             "endlinecolor": "#2a3f5f",
             "gridcolor": "white",
             "linecolor": "white",
             "minorgridcolor": "white",
             "startlinecolor": "#2a3f5f"
            },
            "type": "carpet"
           }
          ],
          "choropleth": [
           {
            "colorbar": {
             "outlinewidth": 0,
             "ticks": ""
            },
            "type": "choropleth"
           }
          ],
          "contour": [
           {
            "colorbar": {
             "outlinewidth": 0,
             "ticks": ""
            },
            "colorscale": [
             [
              0,
              "#0d0887"
             ],
             [
              0.1111111111111111,
              "#46039f"
             ],
             [
              0.2222222222222222,
              "#7201a8"
             ],
             [
              0.3333333333333333,
              "#9c179e"
             ],
             [
              0.4444444444444444,
              "#bd3786"
             ],
             [
              0.5555555555555556,
              "#d8576b"
             ],
             [
              0.6666666666666666,
              "#ed7953"
             ],
             [
              0.7777777777777778,
              "#fb9f3a"
             ],
             [
              0.8888888888888888,
              "#fdca26"
             ],
             [
              1,
              "#f0f921"
             ]
            ],
            "type": "contour"
           }
          ],
          "contourcarpet": [
           {
            "colorbar": {
             "outlinewidth": 0,
             "ticks": ""
            },
            "type": "contourcarpet"
           }
          ],
          "heatmap": [
           {
            "colorbar": {
             "outlinewidth": 0,
             "ticks": ""
            },
            "colorscale": [
             [
              0,
              "#0d0887"
             ],
             [
              0.1111111111111111,
              "#46039f"
             ],
             [
              0.2222222222222222,
              "#7201a8"
             ],
             [
              0.3333333333333333,
              "#9c179e"
             ],
             [
              0.4444444444444444,
              "#bd3786"
             ],
             [
              0.5555555555555556,
              "#d8576b"
             ],
             [
              0.6666666666666666,
              "#ed7953"
             ],
             [
              0.7777777777777778,
              "#fb9f3a"
             ],
             [
              0.8888888888888888,
              "#fdca26"
             ],
             [
              1,
              "#f0f921"
             ]
            ],
            "type": "heatmap"
           }
          ],
          "heatmapgl": [
           {
            "colorbar": {
             "outlinewidth": 0,
             "ticks": ""
            },
            "colorscale": [
             [
              0,
              "#0d0887"
             ],
             [
              0.1111111111111111,
              "#46039f"
             ],
             [
              0.2222222222222222,
              "#7201a8"
             ],
             [
              0.3333333333333333,
              "#9c179e"
             ],
             [
              0.4444444444444444,
              "#bd3786"
             ],
             [
              0.5555555555555556,
              "#d8576b"
             ],
             [
              0.6666666666666666,
              "#ed7953"
             ],
             [
              0.7777777777777778,
              "#fb9f3a"
             ],
             [
              0.8888888888888888,
              "#fdca26"
             ],
             [
              1,
              "#f0f921"
             ]
            ],
            "type": "heatmapgl"
           }
          ],
          "histogram": [
           {
            "marker": {
             "pattern": {
              "fillmode": "overlay",
              "size": 10,
              "solidity": 0.2
             }
            },
            "type": "histogram"
           }
          ],
          "histogram2d": [
           {
            "colorbar": {
             "outlinewidth": 0,
             "ticks": ""
            },
            "colorscale": [
             [
              0,
              "#0d0887"
             ],
             [
              0.1111111111111111,
              "#46039f"
             ],
             [
              0.2222222222222222,
              "#7201a8"
             ],
             [
              0.3333333333333333,
              "#9c179e"
             ],
             [
              0.4444444444444444,
              "#bd3786"
             ],
             [
              0.5555555555555556,
              "#d8576b"
             ],
             [
              0.6666666666666666,
              "#ed7953"
             ],
             [
              0.7777777777777778,
              "#fb9f3a"
             ],
             [
              0.8888888888888888,
              "#fdca26"
             ],
             [
              1,
              "#f0f921"
             ]
            ],
            "type": "histogram2d"
           }
          ],
          "histogram2dcontour": [
           {
            "colorbar": {
             "outlinewidth": 0,
             "ticks": ""
            },
            "colorscale": [
             [
              0,
              "#0d0887"
             ],
             [
              0.1111111111111111,
              "#46039f"
             ],
             [
              0.2222222222222222,
              "#7201a8"
             ],
             [
              0.3333333333333333,
              "#9c179e"
             ],
             [
              0.4444444444444444,
              "#bd3786"
             ],
             [
              0.5555555555555556,
              "#d8576b"
             ],
             [
              0.6666666666666666,
              "#ed7953"
             ],
             [
              0.7777777777777778,
              "#fb9f3a"
             ],
             [
              0.8888888888888888,
              "#fdca26"
             ],
             [
              1,
              "#f0f921"
             ]
            ],
            "type": "histogram2dcontour"
           }
          ],
          "mesh3d": [
           {
            "colorbar": {
             "outlinewidth": 0,
             "ticks": ""
            },
            "type": "mesh3d"
           }
          ],
          "parcoords": [
           {
            "line": {
             "colorbar": {
              "outlinewidth": 0,
              "ticks": ""
             }
            },
            "type": "parcoords"
           }
          ],
          "pie": [
           {
            "automargin": true,
            "type": "pie"
           }
          ],
          "scatter": [
           {
            "fillpattern": {
             "fillmode": "overlay",
             "size": 10,
             "solidity": 0.2
            },
            "type": "scatter"
           }
          ],
          "scatter3d": [
           {
            "line": {
             "colorbar": {
              "outlinewidth": 0,
              "ticks": ""
             }
            },
            "marker": {
             "colorbar": {
              "outlinewidth": 0,
              "ticks": ""
             }
            },
            "type": "scatter3d"
           }
          ],
          "scattercarpet": [
           {
            "marker": {
             "colorbar": {
              "outlinewidth": 0,
              "ticks": ""
             }
            },
            "type": "scattercarpet"
           }
          ],
          "scattergeo": [
           {
            "marker": {
             "colorbar": {
              "outlinewidth": 0,
              "ticks": ""
             }
            },
            "type": "scattergeo"
           }
          ],
          "scattergl": [
           {
            "marker": {
             "colorbar": {
              "outlinewidth": 0,
              "ticks": ""
             }
            },
            "type": "scattergl"
           }
          ],
          "scattermapbox": [
           {
            "marker": {
             "colorbar": {
              "outlinewidth": 0,
              "ticks": ""
             }
            },
            "type": "scattermapbox"
           }
          ],
          "scatterpolar": [
           {
            "marker": {
             "colorbar": {
              "outlinewidth": 0,
              "ticks": ""
             }
            },
            "type": "scatterpolar"
           }
          ],
          "scatterpolargl": [
           {
            "marker": {
             "colorbar": {
              "outlinewidth": 0,
              "ticks": ""
             }
            },
            "type": "scatterpolargl"
           }
          ],
          "scatterternary": [
           {
            "marker": {
             "colorbar": {
              "outlinewidth": 0,
              "ticks": ""
             }
            },
            "type": "scatterternary"
           }
          ],
          "surface": [
           {
            "colorbar": {
             "outlinewidth": 0,
             "ticks": ""
            },
            "colorscale": [
             [
              0,
              "#0d0887"
             ],
             [
              0.1111111111111111,
              "#46039f"
             ],
             [
              0.2222222222222222,
              "#7201a8"
             ],
             [
              0.3333333333333333,
              "#9c179e"
             ],
             [
              0.4444444444444444,
              "#bd3786"
             ],
             [
              0.5555555555555556,
              "#d8576b"
             ],
             [
              0.6666666666666666,
              "#ed7953"
             ],
             [
              0.7777777777777778,
              "#fb9f3a"
             ],
             [
              0.8888888888888888,
              "#fdca26"
             ],
             [
              1,
              "#f0f921"
             ]
            ],
            "type": "surface"
           }
          ],
          "table": [
           {
            "cells": {
             "fill": {
              "color": "#EBF0F8"
             },
             "line": {
              "color": "white"
             }
            },
            "header": {
             "fill": {
              "color": "#C8D4E3"
             },
             "line": {
              "color": "white"
             }
            },
            "type": "table"
           }
          ]
         },
         "layout": {
          "annotationdefaults": {
           "arrowcolor": "#2a3f5f",
           "arrowhead": 0,
           "arrowwidth": 1
          },
          "autotypenumbers": "strict",
          "coloraxis": {
           "colorbar": {
            "outlinewidth": 0,
            "ticks": ""
           }
          },
          "colorscale": {
           "diverging": [
            [
             0,
             "#8e0152"
            ],
            [
             0.1,
             "#c51b7d"
            ],
            [
             0.2,
             "#de77ae"
            ],
            [
             0.3,
             "#f1b6da"
            ],
            [
             0.4,
             "#fde0ef"
            ],
            [
             0.5,
             "#f7f7f7"
            ],
            [
             0.6,
             "#e6f5d0"
            ],
            [
             0.7,
             "#b8e186"
            ],
            [
             0.8,
             "#7fbc41"
            ],
            [
             0.9,
             "#4d9221"
            ],
            [
             1,
             "#276419"
            ]
           ],
           "sequential": [
            [
             0,
             "#0d0887"
            ],
            [
             0.1111111111111111,
             "#46039f"
            ],
            [
             0.2222222222222222,
             "#7201a8"
            ],
            [
             0.3333333333333333,
             "#9c179e"
            ],
            [
             0.4444444444444444,
             "#bd3786"
            ],
            [
             0.5555555555555556,
             "#d8576b"
            ],
            [
             0.6666666666666666,
             "#ed7953"
            ],
            [
             0.7777777777777778,
             "#fb9f3a"
            ],
            [
             0.8888888888888888,
             "#fdca26"
            ],
            [
             1,
             "#f0f921"
            ]
           ],
           "sequentialminus": [
            [
             0,
             "#0d0887"
            ],
            [
             0.1111111111111111,
             "#46039f"
            ],
            [
             0.2222222222222222,
             "#7201a8"
            ],
            [
             0.3333333333333333,
             "#9c179e"
            ],
            [
             0.4444444444444444,
             "#bd3786"
            ],
            [
             0.5555555555555556,
             "#d8576b"
            ],
            [
             0.6666666666666666,
             "#ed7953"
            ],
            [
             0.7777777777777778,
             "#fb9f3a"
            ],
            [
             0.8888888888888888,
             "#fdca26"
            ],
            [
             1,
             "#f0f921"
            ]
           ]
          },
          "colorway": [
           "#636efa",
           "#EF553B",
           "#00cc96",
           "#ab63fa",
           "#FFA15A",
           "#19d3f3",
           "#FF6692",
           "#B6E880",
           "#FF97FF",
           "#FECB52"
          ],
          "font": {
           "color": "#2a3f5f"
          },
          "geo": {
           "bgcolor": "white",
           "lakecolor": "white",
           "landcolor": "#E5ECF6",
           "showlakes": true,
           "showland": true,
           "subunitcolor": "white"
          },
          "hoverlabel": {
           "align": "left"
          },
          "hovermode": "closest",
          "mapbox": {
           "style": "light"
          },
          "paper_bgcolor": "white",
          "plot_bgcolor": "#E5ECF6",
          "polar": {
           "angularaxis": {
            "gridcolor": "white",
            "linecolor": "white",
            "ticks": ""
           },
           "bgcolor": "#E5ECF6",
           "radialaxis": {
            "gridcolor": "white",
            "linecolor": "white",
            "ticks": ""
           }
          },
          "scene": {
           "xaxis": {
            "backgroundcolor": "#E5ECF6",
            "gridcolor": "white",
            "gridwidth": 2,
            "linecolor": "white",
            "showbackground": true,
            "ticks": "",
            "zerolinecolor": "white"
           },
           "yaxis": {
            "backgroundcolor": "#E5ECF6",
            "gridcolor": "white",
            "gridwidth": 2,
            "linecolor": "white",
            "showbackground": true,
            "ticks": "",
            "zerolinecolor": "white"
           },
           "zaxis": {
            "backgroundcolor": "#E5ECF6",
            "gridcolor": "white",
            "gridwidth": 2,
            "linecolor": "white",
            "showbackground": true,
            "ticks": "",
            "zerolinecolor": "white"
           }
          },
          "shapedefaults": {
           "line": {
            "color": "#2a3f5f"
           }
          },
          "ternary": {
           "aaxis": {
            "gridcolor": "white",
            "linecolor": "white",
            "ticks": ""
           },
           "baxis": {
            "gridcolor": "white",
            "linecolor": "white",
            "ticks": ""
           },
           "bgcolor": "#E5ECF6",
           "caxis": {
            "gridcolor": "white",
            "linecolor": "white",
            "ticks": ""
           }
          },
          "title": {
           "x": 0.05
          },
          "xaxis": {
           "automargin": true,
           "gridcolor": "white",
           "linecolor": "white",
           "ticks": "",
           "title": {
            "standoff": 15
           },
           "zerolinecolor": "white",
           "zerolinewidth": 2
          },
          "yaxis": {
           "automargin": true,
           "gridcolor": "white",
           "linecolor": "white",
           "ticks": "",
           "title": {
            "standoff": 15
           },
           "zerolinecolor": "white",
           "zerolinewidth": 2
          }
         }
        },
        "title": {
         "text": "PCA + KMeans (k=9) - 2D"
        },
        "xaxis": {
         "anchor": "y",
         "domain": [
          0,
          1
         ],
         "title": {
          "text": "PC1"
         }
        },
        "yaxis": {
         "anchor": "x",
         "domain": [
          0,
          1
         ],
         "title": {
          "text": "PC2"
         }
        }
       }
      }
     },
     "metadata": {},
     "output_type": "display_data"
    },
    {
     "data": {
      "text/html": [
       "<div>\n",
       "<style scoped>\n",
       "    .dataframe tbody tr th:only-of-type {\n",
       "        vertical-align: middle;\n",
       "    }\n",
       "\n",
       "    .dataframe tbody tr th {\n",
       "        vertical-align: top;\n",
       "    }\n",
       "\n",
       "    .dataframe thead th {\n",
       "        text-align: right;\n",
       "    }\n",
       "</style>\n",
       "<table border=\"1\" class=\"dataframe\">\n",
       "  <thead>\n",
       "    <tr style=\"text-align: right;\">\n",
       "      <th></th>\n",
       "      <th>PC1</th>\n",
       "      <th>PC2</th>\n",
       "      <th>cluster</th>\n",
       "      <th>label</th>\n",
       "    </tr>\n",
       "  </thead>\n",
       "  <tbody>\n",
       "    <tr>\n",
       "      <th>0</th>\n",
       "      <td>1.104442</td>\n",
       "      <td>0.231953</td>\n",
       "      <td>3</td>\n",
       "      <td>fruity</td>\n",
       "    </tr>\n",
       "    <tr>\n",
       "      <th>1</th>\n",
       "      <td>1.308607</td>\n",
       "      <td>-0.020088</td>\n",
       "      <td>3</td>\n",
       "      <td>green</td>\n",
       "    </tr>\n",
       "    <tr>\n",
       "      <th>2</th>\n",
       "      <td>1.391040</td>\n",
       "      <td>0.084832</td>\n",
       "      <td>3</td>\n",
       "      <td>sweet</td>\n",
       "    </tr>\n",
       "    <tr>\n",
       "      <th>3</th>\n",
       "      <td>1.492085</td>\n",
       "      <td>0.080056</td>\n",
       "      <td>3</td>\n",
       "      <td>floral</td>\n",
       "    </tr>\n",
       "    <tr>\n",
       "      <th>4</th>\n",
       "      <td>1.116697</td>\n",
       "      <td>0.709204</td>\n",
       "      <td>3</td>\n",
       "      <td>woody</td>\n",
       "    </tr>\n",
       "    <tr>\n",
       "      <th>...</th>\n",
       "      <td>...</td>\n",
       "      <td>...</td>\n",
       "      <td>...</td>\n",
       "      <td>...</td>\n",
       "    </tr>\n",
       "    <tr>\n",
       "      <th>124</th>\n",
       "      <td>-0.572807</td>\n",
       "      <td>0.745182</td>\n",
       "      <td>4</td>\n",
       "      <td>hawthorn</td>\n",
       "    </tr>\n",
       "    <tr>\n",
       "      <th>125</th>\n",
       "      <td>0.680819</td>\n",
       "      <td>-0.400356</td>\n",
       "      <td>0</td>\n",
       "      <td>jammy</td>\n",
       "    </tr>\n",
       "    <tr>\n",
       "      <th>126</th>\n",
       "      <td>-0.283084</td>\n",
       "      <td>0.763675</td>\n",
       "      <td>4</td>\n",
       "      <td>marine</td>\n",
       "    </tr>\n",
       "    <tr>\n",
       "      <th>127</th>\n",
       "      <td>0.941096</td>\n",
       "      <td>0.408493</td>\n",
       "      <td>3</td>\n",
       "      <td>anise</td>\n",
       "    </tr>\n",
       "    <tr>\n",
       "      <th>128</th>\n",
       "      <td>-1.579133</td>\n",
       "      <td>0.963375</td>\n",
       "      <td>2</td>\n",
       "      <td>clove</td>\n",
       "    </tr>\n",
       "  </tbody>\n",
       "</table>\n",
       "<p>129 rows × 4 columns</p>\n",
       "</div>"
      ],
      "text/plain": [
       "          PC1       PC2 cluster     label\n",
       "0    1.104442  0.231953       3    fruity\n",
       "1    1.308607 -0.020088       3     green\n",
       "2    1.391040  0.084832       3     sweet\n",
       "3    1.492085  0.080056       3    floral\n",
       "4    1.116697  0.709204       3     woody\n",
       "..        ...       ...     ...       ...\n",
       "124 -0.572807  0.745182       4  hawthorn\n",
       "125  0.680819 -0.400356       0     jammy\n",
       "126 -0.283084  0.763675       4    marine\n",
       "127  0.941096  0.408493       3     anise\n",
       "128 -1.579133  0.963375       2     clove\n",
       "\n",
       "[129 rows x 4 columns]"
      ]
     },
     "execution_count": 30,
     "metadata": {},
     "output_type": "execute_result"
    }
   ],
   "source": [
    "from predicting_odor_from_molecular_structure import plotly_pca_kmeans\n",
    "#plotly_pca_kmeans(similarity, n_components=2, n_clusters=6)\n",
    "coords, clusters, df_plot = plotly_pca_kmeans(similarity, n_components=2, n_clusters=9)\n",
    "df_plot"
   ]
  },
  {
   "cell_type": "markdown",
   "id": "849f3f44",
   "metadata": {},
   "source": [
    "### Featurization"
   ]
  },
  {
   "cell_type": "code",
   "execution_count": 31,
   "id": "9072425f",
   "metadata": {},
   "outputs": [
    {
     "data": {
      "text/plain": [
       "(4506, 9)"
      ]
     },
     "execution_count": 31,
     "metadata": {},
     "output_type": "execute_result"
    }
   ],
   "source": [
    "df.shape"
   ]
  },
  {
   "cell_type": "code",
   "execution_count": 32,
   "id": "4b00105e",
   "metadata": {},
   "outputs": [
    {
     "name": "stderr",
     "output_type": "stream",
     "text": [
      "100%|██████████| 4506/4506 [00:50<00:00, 89.82it/s] \n"
     ]
    },
    {
     "data": {
      "text/html": [
       "<div>\n",
       "<style scoped>\n",
       "    .dataframe tbody tr th:only-of-type {\n",
       "        vertical-align: middle;\n",
       "    }\n",
       "\n",
       "    .dataframe tbody tr th {\n",
       "        vertical-align: top;\n",
       "    }\n",
       "\n",
       "    .dataframe thead th {\n",
       "        text-align: right;\n",
       "    }\n",
       "</style>\n",
       "<table border=\"1\" class=\"dataframe\">\n",
       "  <thead>\n",
       "    <tr style=\"text-align: right;\">\n",
       "      <th></th>\n",
       "      <th>TGSC ID</th>\n",
       "      <th>CID</th>\n",
       "      <th>Concentration %</th>\n",
       "      <th>Solvent</th>\n",
       "      <th>MolecularWeight</th>\n",
       "      <th>IsomericSMILES</th>\n",
       "      <th>IUPACName</th>\n",
       "      <th>name</th>\n",
       "      <th>Labels</th>\n",
       "      <th>mol</th>\n",
       "      <th>morgan_fp</th>\n",
       "      <th>daylight_fp</th>\n",
       "    </tr>\n",
       "  </thead>\n",
       "  <tbody>\n",
       "    <tr>\n",
       "      <th>0</th>\n",
       "      <td>1000111</td>\n",
       "      <td>7476</td>\n",
       "      <td>100.0</td>\n",
       "      <td>NaN</td>\n",
       "      <td>150.17</td>\n",
       "      <td>CC(=O)C1=CC=C(C=C1)OC</td>\n",
       "      <td>1-(4-methoxyphenyl)ethanone</td>\n",
       "      <td>4'-methoxyacetophenone</td>\n",
       "      <td>[sweet, vanilla, powdery, anisic, balsamic, ha...</td>\n",
       "      <td>&lt;rdkit.Chem.rdchem.Mol object at 0x000001C08C5...</td>\n",
       "      <td>[0, 0, 0, 0, 0, 0, 0, 0, 0, 0, 0, 0, 0, 0, 0, ...</td>\n",
       "      <td>[0, 0, 0, 0, 0, 0, 0, 0, 0, 0, 0, 0, 0, 0, 0, ...</td>\n",
       "    </tr>\n",
       "    <tr>\n",
       "      <th>1</th>\n",
       "      <td>1031871</td>\n",
       "      <td>7478</td>\n",
       "      <td>10.0</td>\n",
       "      <td>dipropylene glycol</td>\n",
       "      <td>152.15</td>\n",
       "      <td>COC1=CC=C(C=C1)C(=O)O</td>\n",
       "      <td>4-methoxybenzoic acid</td>\n",
       "      <td>4-methoxybenzoic acid</td>\n",
       "      <td>[phenolic, animal, medicinal]</td>\n",
       "      <td>&lt;rdkit.Chem.rdchem.Mol object at 0x000001C08C4...</td>\n",
       "      <td>[0, 0, 0, 0, 0, 0, 0, 0, 0, 0, 0, 0, 0, 0, 0, ...</td>\n",
       "      <td>[0, 0, 0, 0, 0, 0, 0, 0, 0, 0, 0, 0, 0, 0, 0, ...</td>\n",
       "    </tr>\n",
       "    <tr>\n",
       "      <th>2</th>\n",
       "      <td>1009281</td>\n",
       "      <td>7501</td>\n",
       "      <td>0.1</td>\n",
       "      <td>triacetin</td>\n",
       "      <td>104.15</td>\n",
       "      <td>C=CC1=CC=CC=C1</td>\n",
       "      <td>styrene</td>\n",
       "      <td>styrene</td>\n",
       "      <td>[sweet, floral, balsamic]</td>\n",
       "      <td>&lt;rdkit.Chem.rdchem.Mol object at 0x000001C08C4...</td>\n",
       "      <td>[0, 0, 0, 0, 0, 0, 0, 0, 0, 0, 0, 0, 0, 0, 0, ...</td>\n",
       "      <td>[0, 0, 0, 0, 0, 0, 0, 0, 0, 0, 0, 0, 0, 0, 0, ...</td>\n",
       "    </tr>\n",
       "    <tr>\n",
       "      <th>3</th>\n",
       "      <td>1001651</td>\n",
       "      <td>244</td>\n",
       "      <td>100.0</td>\n",
       "      <td>NaN</td>\n",
       "      <td>108.14</td>\n",
       "      <td>C1=CC=C(C=C1)CO</td>\n",
       "      <td>phenylmethanol</td>\n",
       "      <td>benzyl alcohol</td>\n",
       "      <td>[sweet, floral, rose, fruity, phenolic, balsam...</td>\n",
       "      <td>&lt;rdkit.Chem.rdchem.Mol object at 0x000001C08C4...</td>\n",
       "      <td>[0, 0, 0, 0, 0, 0, 0, 0, 0, 0, 0, 0, 0, 0, 0, ...</td>\n",
       "      <td>[0, 0, 0, 0, 0, 0, 0, 0, 0, 0, 0, 0, 0, 0, 0, ...</td>\n",
       "    </tr>\n",
       "    <tr>\n",
       "      <th>4</th>\n",
       "      <td>1001491</td>\n",
       "      <td>240</td>\n",
       "      <td>10.0</td>\n",
       "      <td>dipropylene glycol</td>\n",
       "      <td>106.12</td>\n",
       "      <td>C1=CC=C(C=C1)C=O</td>\n",
       "      <td>benzaldehyde</td>\n",
       "      <td>benzaldehyde</td>\n",
       "      <td>[sweet, cherry, nutty, fruity, powdery, almond...</td>\n",
       "      <td>&lt;rdkit.Chem.rdchem.Mol object at 0x000001C08C4...</td>\n",
       "      <td>[0, 0, 0, 0, 0, 0, 0, 0, 0, 0, 0, 0, 0, 0, 0, ...</td>\n",
       "      <td>[0, 0, 0, 0, 0, 0, 0, 0, 0, 0, 0, 0, 0, 0, 0, ...</td>\n",
       "    </tr>\n",
       "    <tr>\n",
       "      <th>...</th>\n",
       "      <td>...</td>\n",
       "      <td>...</td>\n",
       "      <td>...</td>\n",
       "      <td>...</td>\n",
       "      <td>...</td>\n",
       "      <td>...</td>\n",
       "      <td>...</td>\n",
       "      <td>...</td>\n",
       "      <td>...</td>\n",
       "      <td>...</td>\n",
       "      <td>...</td>\n",
       "      <td>...</td>\n",
       "    </tr>\n",
       "    <tr>\n",
       "      <th>4621</th>\n",
       "      <td>1020461</td>\n",
       "      <td>11564539</td>\n",
       "      <td>NaN</td>\n",
       "      <td>NaN</td>\n",
       "      <td>170.29</td>\n",
       "      <td>CCCCCCCC(=C)C(C)O</td>\n",
       "      <td>3-methylidenedecan-2-ol</td>\n",
       "      <td>3-methylidenedecan-2-ol</td>\n",
       "      <td>[orange]</td>\n",
       "      <td>&lt;rdkit.Chem.rdchem.Mol object at 0x000001C08D5...</td>\n",
       "      <td>[0, 1, 0, 0, 0, 0, 0, 0, 0, 0, 0, 0, 0, 0, 0, ...</td>\n",
       "      <td>[0, 0, 0, 0, 0, 0, 0, 0, 0, 0, 0, 0, 0, 0, 0, ...</td>\n",
       "    </tr>\n",
       "    <tr>\n",
       "      <th>4622</th>\n",
       "      <td>1027261</td>\n",
       "      <td>46195361</td>\n",
       "      <td>1.0</td>\n",
       "      <td>dipropylene glycol</td>\n",
       "      <td>146.25</td>\n",
       "      <td>CCC1OCCC(S1)C</td>\n",
       "      <td>2-ethyl-4-methyl-1,3-oxathiane</td>\n",
       "      <td>schembl2678282</td>\n",
       "      <td>[vegetable, floral, fruity, apricot, green, tr...</td>\n",
       "      <td>&lt;rdkit.Chem.rdchem.Mol object at 0x000001C08D5...</td>\n",
       "      <td>[0, 0, 0, 0, 0, 0, 0, 0, 0, 0, 0, 0, 0, 0, 0, ...</td>\n",
       "      <td>[0, 0, 0, 0, 0, 0, 1, 0, 0, 0, 0, 0, 0, 0, 0, ...</td>\n",
       "    </tr>\n",
       "    <tr>\n",
       "      <th>4623</th>\n",
       "      <td>1028151</td>\n",
       "      <td>46195364</td>\n",
       "      <td>0.1</td>\n",
       "      <td>propylene glycol</td>\n",
       "      <td>174.31</td>\n",
       "      <td>CCCCC1OCCC(S1)C</td>\n",
       "      <td>2-butyl-4-methyl-1,3-oxathiane</td>\n",
       "      <td>schembl2676606</td>\n",
       "      <td>[spicy, leafy, peppery, banana, fruity, oily, ...</td>\n",
       "      <td>&lt;rdkit.Chem.rdchem.Mol object at 0x000001C08D5...</td>\n",
       "      <td>[0, 0, 0, 0, 0, 0, 0, 0, 0, 0, 0, 0, 0, 0, 0, ...</td>\n",
       "      <td>[0, 0, 0, 0, 0, 0, 1, 0, 0, 0, 0, 1, 0, 0, 0, ...</td>\n",
       "    </tr>\n",
       "    <tr>\n",
       "      <th>4624</th>\n",
       "      <td>1554361</td>\n",
       "      <td>88571201</td>\n",
       "      <td>NaN</td>\n",
       "      <td>NaN</td>\n",
       "      <td>114.19</td>\n",
       "      <td>CC[C@@H](C)CCC=O</td>\n",
       "      <td>(4R)-4-methylhexanal</td>\n",
       "      <td>(r)-4-methylhexanal</td>\n",
       "      <td>[fresh, green, warm]</td>\n",
       "      <td>&lt;rdkit.Chem.rdchem.Mol object at 0x000001C08D5...</td>\n",
       "      <td>[0, 1, 0, 0, 0, 0, 0, 0, 0, 0, 0, 0, 0, 0, 0, ...</td>\n",
       "      <td>[0, 0, 0, 0, 0, 0, 0, 0, 0, 0, 0, 0, 0, 0, 0, ...</td>\n",
       "    </tr>\n",
       "    <tr>\n",
       "      <th>4625</th>\n",
       "      <td>1554371</td>\n",
       "      <td>12524062</td>\n",
       "      <td>NaN</td>\n",
       "      <td>NaN</td>\n",
       "      <td>114.19</td>\n",
       "      <td>CC[C@H](C)CCC=O</td>\n",
       "      <td>(4S)-4-methylhexanal</td>\n",
       "      <td>[s,(+)]-4-methylhexanal</td>\n",
       "      <td>[bland]</td>\n",
       "      <td>&lt;rdkit.Chem.rdchem.Mol object at 0x000001C08D5...</td>\n",
       "      <td>[0, 1, 0, 0, 0, 0, 0, 0, 0, 0, 0, 0, 0, 0, 0, ...</td>\n",
       "      <td>[0, 0, 0, 0, 0, 0, 0, 0, 0, 0, 0, 0, 0, 0, 0, ...</td>\n",
       "    </tr>\n",
       "  </tbody>\n",
       "</table>\n",
       "<p>4506 rows × 12 columns</p>\n",
       "</div>"
      ],
      "text/plain": [
       "      TGSC ID       CID  Concentration %             Solvent  MolecularWeight  \\\n",
       "0     1000111      7476            100.0                 NaN           150.17   \n",
       "1     1031871      7478             10.0  dipropylene glycol           152.15   \n",
       "2     1009281      7501              0.1           triacetin           104.15   \n",
       "3     1001651       244            100.0                 NaN           108.14   \n",
       "4     1001491       240             10.0  dipropylene glycol           106.12   \n",
       "...       ...       ...              ...                 ...              ...   \n",
       "4621  1020461  11564539              NaN                 NaN           170.29   \n",
       "4622  1027261  46195361              1.0  dipropylene glycol           146.25   \n",
       "4623  1028151  46195364              0.1    propylene glycol           174.31   \n",
       "4624  1554361  88571201              NaN                 NaN           114.19   \n",
       "4625  1554371  12524062              NaN                 NaN           114.19   \n",
       "\n",
       "             IsomericSMILES                       IUPACName  \\\n",
       "0     CC(=O)C1=CC=C(C=C1)OC     1-(4-methoxyphenyl)ethanone   \n",
       "1     COC1=CC=C(C=C1)C(=O)O           4-methoxybenzoic acid   \n",
       "2            C=CC1=CC=CC=C1                         styrene   \n",
       "3           C1=CC=C(C=C1)CO                  phenylmethanol   \n",
       "4          C1=CC=C(C=C1)C=O                    benzaldehyde   \n",
       "...                     ...                             ...   \n",
       "4621      CCCCCCCC(=C)C(C)O         3-methylidenedecan-2-ol   \n",
       "4622          CCC1OCCC(S1)C  2-ethyl-4-methyl-1,3-oxathiane   \n",
       "4623        CCCCC1OCCC(S1)C  2-butyl-4-methyl-1,3-oxathiane   \n",
       "4624       CC[C@@H](C)CCC=O            (4R)-4-methylhexanal   \n",
       "4625        CC[C@H](C)CCC=O            (4S)-4-methylhexanal   \n",
       "\n",
       "                         name  \\\n",
       "0      4'-methoxyacetophenone   \n",
       "1       4-methoxybenzoic acid   \n",
       "2                     styrene   \n",
       "3              benzyl alcohol   \n",
       "4                benzaldehyde   \n",
       "...                       ...   \n",
       "4621  3-methylidenedecan-2-ol   \n",
       "4622           schembl2678282   \n",
       "4623           schembl2676606   \n",
       "4624      (r)-4-methylhexanal   \n",
       "4625  [s,(+)]-4-methylhexanal   \n",
       "\n",
       "                                                 Labels  \\\n",
       "0     [sweet, vanilla, powdery, anisic, balsamic, ha...   \n",
       "1                         [phenolic, animal, medicinal]   \n",
       "2                             [sweet, floral, balsamic]   \n",
       "3     [sweet, floral, rose, fruity, phenolic, balsam...   \n",
       "4     [sweet, cherry, nutty, fruity, powdery, almond...   \n",
       "...                                                 ...   \n",
       "4621                                           [orange]   \n",
       "4622  [vegetable, floral, fruity, apricot, green, tr...   \n",
       "4623  [spicy, leafy, peppery, banana, fruity, oily, ...   \n",
       "4624                               [fresh, green, warm]   \n",
       "4625                                            [bland]   \n",
       "\n",
       "                                                    mol  \\\n",
       "0     <rdkit.Chem.rdchem.Mol object at 0x000001C08C5...   \n",
       "1     <rdkit.Chem.rdchem.Mol object at 0x000001C08C4...   \n",
       "2     <rdkit.Chem.rdchem.Mol object at 0x000001C08C4...   \n",
       "3     <rdkit.Chem.rdchem.Mol object at 0x000001C08C4...   \n",
       "4     <rdkit.Chem.rdchem.Mol object at 0x000001C08C4...   \n",
       "...                                                 ...   \n",
       "4621  <rdkit.Chem.rdchem.Mol object at 0x000001C08D5...   \n",
       "4622  <rdkit.Chem.rdchem.Mol object at 0x000001C08D5...   \n",
       "4623  <rdkit.Chem.rdchem.Mol object at 0x000001C08D5...   \n",
       "4624  <rdkit.Chem.rdchem.Mol object at 0x000001C08D5...   \n",
       "4625  <rdkit.Chem.rdchem.Mol object at 0x000001C08D5...   \n",
       "\n",
       "                                              morgan_fp  \\\n",
       "0     [0, 0, 0, 0, 0, 0, 0, 0, 0, 0, 0, 0, 0, 0, 0, ...   \n",
       "1     [0, 0, 0, 0, 0, 0, 0, 0, 0, 0, 0, 0, 0, 0, 0, ...   \n",
       "2     [0, 0, 0, 0, 0, 0, 0, 0, 0, 0, 0, 0, 0, 0, 0, ...   \n",
       "3     [0, 0, 0, 0, 0, 0, 0, 0, 0, 0, 0, 0, 0, 0, 0, ...   \n",
       "4     [0, 0, 0, 0, 0, 0, 0, 0, 0, 0, 0, 0, 0, 0, 0, ...   \n",
       "...                                                 ...   \n",
       "4621  [0, 1, 0, 0, 0, 0, 0, 0, 0, 0, 0, 0, 0, 0, 0, ...   \n",
       "4622  [0, 0, 0, 0, 0, 0, 0, 0, 0, 0, 0, 0, 0, 0, 0, ...   \n",
       "4623  [0, 0, 0, 0, 0, 0, 0, 0, 0, 0, 0, 0, 0, 0, 0, ...   \n",
       "4624  [0, 1, 0, 0, 0, 0, 0, 0, 0, 0, 0, 0, 0, 0, 0, ...   \n",
       "4625  [0, 1, 0, 0, 0, 0, 0, 0, 0, 0, 0, 0, 0, 0, 0, ...   \n",
       "\n",
       "                                            daylight_fp  \n",
       "0     [0, 0, 0, 0, 0, 0, 0, 0, 0, 0, 0, 0, 0, 0, 0, ...  \n",
       "1     [0, 0, 0, 0, 0, 0, 0, 0, 0, 0, 0, 0, 0, 0, 0, ...  \n",
       "2     [0, 0, 0, 0, 0, 0, 0, 0, 0, 0, 0, 0, 0, 0, 0, ...  \n",
       "3     [0, 0, 0, 0, 0, 0, 0, 0, 0, 0, 0, 0, 0, 0, 0, ...  \n",
       "4     [0, 0, 0, 0, 0, 0, 0, 0, 0, 0, 0, 0, 0, 0, 0, ...  \n",
       "...                                                 ...  \n",
       "4621  [0, 0, 0, 0, 0, 0, 0, 0, 0, 0, 0, 0, 0, 0, 0, ...  \n",
       "4622  [0, 0, 0, 0, 0, 0, 1, 0, 0, 0, 0, 0, 0, 0, 0, ...  \n",
       "4623  [0, 0, 0, 0, 0, 0, 1, 0, 0, 0, 0, 1, 0, 0, 0, ...  \n",
       "4624  [0, 0, 0, 0, 0, 0, 0, 0, 0, 0, 0, 0, 0, 0, 0, ...  \n",
       "4625  [0, 0, 0, 0, 0, 0, 0, 0, 0, 0, 0, 0, 0, 0, 0, ...  \n",
       "\n",
       "[4506 rows x 12 columns]"
      ]
     },
     "execution_count": 32,
     "metadata": {},
     "output_type": "execute_result"
    }
   ],
   "source": [
    "### Random forest Mordred\n",
    "from predicting_odor_from_molecular_structure import create_features\n",
    "\n",
    "dfx = create_features(df)\n",
    "dfx\n"
   ]
  },
  {
   "cell_type": "code",
   "execution_count": 33,
   "id": "6d4cc52a",
   "metadata": {},
   "outputs": [
    {
     "name": "stderr",
     "output_type": "stream",
     "text": [
      "100%|██████████| 4506/4506 [00:49<00:00, 91.20it/s] \n"
     ]
    }
   ],
   "source": [
    "calc = Calculator(descriptors, ignore_3D=True)\n",
    "mordred_features = calc.pandas(df['mol'])"
   ]
  },
  {
   "cell_type": "code",
   "execution_count": 65,
   "id": "0f81e737",
   "metadata": {},
   "outputs": [
    {
     "data": {
      "text/html": [
       "<div>\n",
       "<style scoped>\n",
       "    .dataframe tbody tr th:only-of-type {\n",
       "        vertical-align: middle;\n",
       "    }\n",
       "\n",
       "    .dataframe tbody tr th {\n",
       "        vertical-align: top;\n",
       "    }\n",
       "\n",
       "    .dataframe thead th {\n",
       "        text-align: right;\n",
       "    }\n",
       "</style>\n",
       "<table border=\"1\" class=\"dataframe\">\n",
       "  <thead>\n",
       "    <tr style=\"text-align: right;\">\n",
       "      <th></th>\n",
       "      <th>ABC</th>\n",
       "      <th>ABCGG</th>\n",
       "      <th>nAcid</th>\n",
       "      <th>nBase</th>\n",
       "      <th>SpAbs_A</th>\n",
       "      <th>SpMax_A</th>\n",
       "      <th>SpDiam_A</th>\n",
       "      <th>SpAD_A</th>\n",
       "      <th>SpMAD_A</th>\n",
       "      <th>LogEE_A</th>\n",
       "      <th>...</th>\n",
       "      <th>SRW10</th>\n",
       "      <th>TSRW10</th>\n",
       "      <th>MW</th>\n",
       "      <th>AMW</th>\n",
       "      <th>WPath</th>\n",
       "      <th>WPol</th>\n",
       "      <th>Zagreb1</th>\n",
       "      <th>Zagreb2</th>\n",
       "      <th>mZagreb1</th>\n",
       "      <th>mZagreb2</th>\n",
       "    </tr>\n",
       "  </thead>\n",
       "  <tbody>\n",
       "    <tr>\n",
       "      <th>0</th>\n",
       "      <td>7.956514</td>\n",
       "      <td>7.451864</td>\n",
       "      <td>0</td>\n",
       "      <td>0</td>\n",
       "      <td>13.619695</td>\n",
       "      <td>2.250875</td>\n",
       "      <td>4.501749</td>\n",
       "      <td>13.619695</td>\n",
       "      <td>1.238154</td>\n",
       "      <td>3.286693</td>\n",
       "      <td>...</td>\n",
       "      <td>8.906935</td>\n",
       "      <td>40.567492</td>\n",
       "      <td>150.068080</td>\n",
       "      <td>7.146099</td>\n",
       "      <td>162</td>\n",
       "      <td>13</td>\n",
       "      <td>50.0</td>\n",
       "      <td>55.0</td>\n",
       "      <td>4.583333</td>\n",
       "      <td>2.611111</td>\n",
       "    </tr>\n",
       "    <tr>\n",
       "      <th>1</th>\n",
       "      <td>7.956514</td>\n",
       "      <td>7.451864</td>\n",
       "      <td>1</td>\n",
       "      <td>0</td>\n",
       "      <td>13.619695</td>\n",
       "      <td>2.250875</td>\n",
       "      <td>4.501749</td>\n",
       "      <td>13.619695</td>\n",
       "      <td>1.238154</td>\n",
       "      <td>3.286693</td>\n",
       "      <td>...</td>\n",
       "      <td>8.906935</td>\n",
       "      <td>40.567492</td>\n",
       "      <td>152.047344</td>\n",
       "      <td>8.002492</td>\n",
       "      <td>162</td>\n",
       "      <td>13</td>\n",
       "      <td>50.0</td>\n",
       "      <td>55.0</td>\n",
       "      <td>4.583333</td>\n",
       "      <td>2.611111</td>\n",
       "    </tr>\n",
       "    <tr>\n",
       "      <th>2</th>\n",
       "      <td>5.656854</td>\n",
       "      <td>5.427660</td>\n",
       "      <td>0</td>\n",
       "      <td>0</td>\n",
       "      <td>10.424292</td>\n",
       "      <td>2.135779</td>\n",
       "      <td>4.271558</td>\n",
       "      <td>10.424292</td>\n",
       "      <td>1.303037</td>\n",
       "      <td>2.969338</td>\n",
       "      <td>...</td>\n",
       "      <td>8.298291</td>\n",
       "      <td>35.247635</td>\n",
       "      <td>104.062600</td>\n",
       "      <td>6.503913</td>\n",
       "      <td>64</td>\n",
       "      <td>7</td>\n",
       "      <td>34.0</td>\n",
       "      <td>36.0</td>\n",
       "      <td>2.611111</td>\n",
       "      <td>2.000000</td>\n",
       "    </tr>\n",
       "    <tr>\n",
       "      <th>3</th>\n",
       "      <td>5.656854</td>\n",
       "      <td>5.427660</td>\n",
       "      <td>0</td>\n",
       "      <td>0</td>\n",
       "      <td>10.424292</td>\n",
       "      <td>2.135779</td>\n",
       "      <td>4.271558</td>\n",
       "      <td>10.424292</td>\n",
       "      <td>1.303037</td>\n",
       "      <td>2.969338</td>\n",
       "      <td>...</td>\n",
       "      <td>8.298291</td>\n",
       "      <td>35.247635</td>\n",
       "      <td>108.057515</td>\n",
       "      <td>6.753595</td>\n",
       "      <td>64</td>\n",
       "      <td>7</td>\n",
       "      <td>34.0</td>\n",
       "      <td>36.0</td>\n",
       "      <td>2.611111</td>\n",
       "      <td>2.000000</td>\n",
       "    </tr>\n",
       "    <tr>\n",
       "      <th>4</th>\n",
       "      <td>5.656854</td>\n",
       "      <td>5.427660</td>\n",
       "      <td>0</td>\n",
       "      <td>0</td>\n",
       "      <td>10.424292</td>\n",
       "      <td>2.135779</td>\n",
       "      <td>4.271558</td>\n",
       "      <td>10.424292</td>\n",
       "      <td>1.303037</td>\n",
       "      <td>2.969338</td>\n",
       "      <td>...</td>\n",
       "      <td>8.298291</td>\n",
       "      <td>35.247635</td>\n",
       "      <td>106.041865</td>\n",
       "      <td>7.574419</td>\n",
       "      <td>64</td>\n",
       "      <td>7</td>\n",
       "      <td>34.0</td>\n",
       "      <td>36.0</td>\n",
       "      <td>2.611111</td>\n",
       "      <td>2.000000</td>\n",
       "    </tr>\n",
       "    <tr>\n",
       "      <th>...</th>\n",
       "      <td>...</td>\n",
       "      <td>...</td>\n",
       "      <td>...</td>\n",
       "      <td>...</td>\n",
       "      <td>...</td>\n",
       "      <td>...</td>\n",
       "      <td>...</td>\n",
       "      <td>...</td>\n",
       "      <td>...</td>\n",
       "      <td>...</td>\n",
       "      <td>...</td>\n",
       "      <td>...</td>\n",
       "      <td>...</td>\n",
       "      <td>...</td>\n",
       "      <td>...</td>\n",
       "      <td>...</td>\n",
       "      <td>...</td>\n",
       "      <td>...</td>\n",
       "      <td>...</td>\n",
       "      <td>...</td>\n",
       "      <td>...</td>\n",
       "    </tr>\n",
       "    <tr>\n",
       "      <th>4621</th>\n",
       "      <td>8.065904</td>\n",
       "      <td>7.893227</td>\n",
       "      <td>0</td>\n",
       "      <td>0</td>\n",
       "      <td>13.812926</td>\n",
       "      <td>2.092177</td>\n",
       "      <td>4.184353</td>\n",
       "      <td>13.812926</td>\n",
       "      <td>1.151077</td>\n",
       "      <td>3.306818</td>\n",
       "      <td>...</td>\n",
       "      <td>8.302266</td>\n",
       "      <td>40.156271</td>\n",
       "      <td>170.167065</td>\n",
       "      <td>5.004914</td>\n",
       "      <td>256</td>\n",
       "      <td>11</td>\n",
       "      <td>46.0</td>\n",
       "      <td>46.0</td>\n",
       "      <td>5.722222</td>\n",
       "      <td>3.027778</td>\n",
       "    </tr>\n",
       "    <tr>\n",
       "      <th>4622</th>\n",
       "      <td>6.473351</td>\n",
       "      <td>6.191587</td>\n",
       "      <td>0</td>\n",
       "      <td>0</td>\n",
       "      <td>11.142106</td>\n",
       "      <td>2.200122</td>\n",
       "      <td>4.400244</td>\n",
       "      <td>11.142106</td>\n",
       "      <td>1.238012</td>\n",
       "      <td>3.089776</td>\n",
       "      <td>...</td>\n",
       "      <td>8.606851</td>\n",
       "      <td>37.313444</td>\n",
       "      <td>146.076536</td>\n",
       "      <td>6.351154</td>\n",
       "      <td>88</td>\n",
       "      <td>9</td>\n",
       "      <td>40.0</td>\n",
       "      <td>43.0</td>\n",
       "      <td>3.472222</td>\n",
       "      <td>2.166667</td>\n",
       "    </tr>\n",
       "    <tr>\n",
       "      <th>4623</th>\n",
       "      <td>7.887564</td>\n",
       "      <td>7.276324</td>\n",
       "      <td>0</td>\n",
       "      <td>0</td>\n",
       "      <td>13.649148</td>\n",
       "      <td>2.212234</td>\n",
       "      <td>4.424468</td>\n",
       "      <td>13.649148</td>\n",
       "      <td>1.240832</td>\n",
       "      <td>3.278334</td>\n",
       "      <td>...</td>\n",
       "      <td>8.711608</td>\n",
       "      <td>40.046626</td>\n",
       "      <td>174.107836</td>\n",
       "      <td>6.003718</td>\n",
       "      <td>170</td>\n",
       "      <td>11</td>\n",
       "      <td>48.0</td>\n",
       "      <td>51.0</td>\n",
       "      <td>3.972222</td>\n",
       "      <td>2.666667</td>\n",
       "    </tr>\n",
       "    <tr>\n",
       "      <th>4624</th>\n",
       "      <td>5.059137</td>\n",
       "      <td>5.436502</td>\n",
       "      <td>0</td>\n",
       "      <td>0</td>\n",
       "      <td>9.40926</td>\n",
       "      <td>1.989044</td>\n",
       "      <td>3.978088</td>\n",
       "      <td>9.40926</td>\n",
       "      <td>1.176158</td>\n",
       "      <td>2.88852</td>\n",
       "      <td>...</td>\n",
       "      <td>7.623153</td>\n",
       "      <td>33.372552</td>\n",
       "      <td>114.104465</td>\n",
       "      <td>5.186567</td>\n",
       "      <td>76</td>\n",
       "      <td>6</td>\n",
       "      <td>28.0</td>\n",
       "      <td>27.0</td>\n",
       "      <td>4.111111</td>\n",
       "      <td>2.166667</td>\n",
       "    </tr>\n",
       "    <tr>\n",
       "      <th>4625</th>\n",
       "      <td>5.059137</td>\n",
       "      <td>5.436502</td>\n",
       "      <td>0</td>\n",
       "      <td>0</td>\n",
       "      <td>9.40926</td>\n",
       "      <td>1.989044</td>\n",
       "      <td>3.978088</td>\n",
       "      <td>9.40926</td>\n",
       "      <td>1.176158</td>\n",
       "      <td>2.88852</td>\n",
       "      <td>...</td>\n",
       "      <td>7.623153</td>\n",
       "      <td>33.372552</td>\n",
       "      <td>114.104465</td>\n",
       "      <td>5.186567</td>\n",
       "      <td>76</td>\n",
       "      <td>6</td>\n",
       "      <td>28.0</td>\n",
       "      <td>27.0</td>\n",
       "      <td>4.111111</td>\n",
       "      <td>2.166667</td>\n",
       "    </tr>\n",
       "  </tbody>\n",
       "</table>\n",
       "<p>4506 rows × 1613 columns</p>\n",
       "</div>"
      ],
      "text/plain": [
       "           ABC     ABCGG  nAcid  nBase    SpAbs_A   SpMax_A  SpDiam_A  \\\n",
       "0     7.956514  7.451864      0      0  13.619695  2.250875  4.501749   \n",
       "1     7.956514  7.451864      1      0  13.619695  2.250875  4.501749   \n",
       "2     5.656854  5.427660      0      0  10.424292  2.135779  4.271558   \n",
       "3     5.656854  5.427660      0      0  10.424292  2.135779  4.271558   \n",
       "4     5.656854  5.427660      0      0  10.424292  2.135779  4.271558   \n",
       "...        ...       ...    ...    ...        ...       ...       ...   \n",
       "4621  8.065904  7.893227      0      0  13.812926  2.092177  4.184353   \n",
       "4622  6.473351  6.191587      0      0  11.142106  2.200122  4.400244   \n",
       "4623  7.887564  7.276324      0      0  13.649148  2.212234  4.424468   \n",
       "4624  5.059137  5.436502      0      0    9.40926  1.989044  3.978088   \n",
       "4625  5.059137  5.436502      0      0    9.40926  1.989044  3.978088   \n",
       "\n",
       "         SpAD_A   SpMAD_A   LogEE_A  ...     SRW10     TSRW10          MW  \\\n",
       "0     13.619695  1.238154  3.286693  ...  8.906935  40.567492  150.068080   \n",
       "1     13.619695  1.238154  3.286693  ...  8.906935  40.567492  152.047344   \n",
       "2     10.424292  1.303037  2.969338  ...  8.298291  35.247635  104.062600   \n",
       "3     10.424292  1.303037  2.969338  ...  8.298291  35.247635  108.057515   \n",
       "4     10.424292  1.303037  2.969338  ...  8.298291  35.247635  106.041865   \n",
       "...         ...       ...       ...  ...       ...        ...         ...   \n",
       "4621  13.812926  1.151077  3.306818  ...  8.302266  40.156271  170.167065   \n",
       "4622  11.142106  1.238012  3.089776  ...  8.606851  37.313444  146.076536   \n",
       "4623  13.649148  1.240832  3.278334  ...  8.711608  40.046626  174.107836   \n",
       "4624    9.40926  1.176158   2.88852  ...  7.623153  33.372552  114.104465   \n",
       "4625    9.40926  1.176158   2.88852  ...  7.623153  33.372552  114.104465   \n",
       "\n",
       "           AMW WPath WPol  Zagreb1  Zagreb2  mZagreb1  mZagreb2  \n",
       "0     7.146099   162   13     50.0     55.0  4.583333  2.611111  \n",
       "1     8.002492   162   13     50.0     55.0  4.583333  2.611111  \n",
       "2     6.503913    64    7     34.0     36.0  2.611111  2.000000  \n",
       "3     6.753595    64    7     34.0     36.0  2.611111  2.000000  \n",
       "4     7.574419    64    7     34.0     36.0  2.611111  2.000000  \n",
       "...        ...   ...  ...      ...      ...       ...       ...  \n",
       "4621  5.004914   256   11     46.0     46.0  5.722222  3.027778  \n",
       "4622  6.351154    88    9     40.0     43.0  3.472222  2.166667  \n",
       "4623  6.003718   170   11     48.0     51.0  3.972222  2.666667  \n",
       "4624  5.186567    76    6     28.0     27.0  4.111111  2.166667  \n",
       "4625  5.186567    76    6     28.0     27.0  4.111111  2.166667  \n",
       "\n",
       "[4506 rows x 1613 columns]"
      ]
     },
     "execution_count": 65,
     "metadata": {},
     "output_type": "execute_result"
    }
   ],
   "source": [
    "mordred_features"
   ]
  },
  {
   "cell_type": "code",
   "execution_count": 66,
   "id": "f980c20b",
   "metadata": {},
   "outputs": [
    {
     "data": {
      "text/plain": [
       "array([[ 7.95651408,  7.45186446,  0.        , ..., 55.        ,\n",
       "         4.58333333,  2.61111111],\n",
       "       [ 7.95651408,  7.45186446,  1.        , ..., 55.        ,\n",
       "         4.58333333,  2.61111111],\n",
       "       [ 5.65685425,  5.42766007,  0.        , ..., 36.        ,\n",
       "         2.61111111,  2.        ],\n",
       "       ...,\n",
       "       [ 7.88756439,  7.27632423,  0.        , ..., 51.        ,\n",
       "         3.97222222,  2.66666667],\n",
       "       [ 5.05913727,  5.43650183,  0.        , ..., 27.        ,\n",
       "         4.11111111,  2.16666667],\n",
       "       [ 5.05913727,  5.43650183,  0.        , ..., 27.        ,\n",
       "         4.11111111,  2.16666667]])"
      ]
     },
     "execution_count": 66,
     "metadata": {},
     "output_type": "execute_result"
    }
   ],
   "source": [
    "from sklearn.impute import KNNImputer\n",
    "\n",
    "mordred_features_clean = mordred_features.dropna(axis=1, thresh=int(0.8*len(mordred_features)))\n",
    "imputer = KNNImputer()\n",
    "mordred_imputed = imputer.fit_transform(mordred_features_clean)\n",
    "mordred_imputed"
   ]
  },
  {
   "cell_type": "code",
   "execution_count": 68,
   "id": "2257b9a9",
   "metadata": {},
   "outputs": [
    {
     "data": {
      "text/plain": [
       "(4506, 1539)"
      ]
     },
     "execution_count": 68,
     "metadata": {},
     "output_type": "execute_result"
    }
   ],
   "source": [
    "mordred_imputed.shape"
   ]
  },
  {
   "cell_type": "code",
   "execution_count": 67,
   "id": "b4ddb59c",
   "metadata": {},
   "outputs": [],
   "source": [
    "from sklearn.preprocessing import MultiLabelBinarizer\n",
    "\n",
    "mlb = MultiLabelBinarizer(classes=label_frequencies(df, labels_column='Labels').Label.to_list())\n",
    "Y = mlb.fit_transform(dfx['Labels'])"
   ]
  },
  {
   "cell_type": "code",
   "execution_count": 69,
   "id": "ec850cad",
   "metadata": {},
   "outputs": [],
   "source": [
    "from skmultilearn.model_selection import iterative_train_test_split\n",
    "\n",
    "\n",
    "X_train, y_train, X_test, y_test = iterative_train_test_split(mordred_imputed, Y, test_size=0.2)"
   ]
  },
  {
   "cell_type": "code",
   "execution_count": 70,
   "id": "a6ca396c",
   "metadata": {},
   "outputs": [],
   "source": [
    "import numpy as np\n",
    "\n",
    "# Załóżmy, że df to Twój oryginalny DataFrame\n",
    "indices = np.arange(len(dfx))\n",
    "X_with_idx = np.concatenate([mordred_imputed, indices.reshape(-1, 1)], axis=1)\n",
    "\n",
    "# Split (przyjmując, że Y to macierz etykiet)\n",
    "X_train, y_train, X_test, y_test = iterative_train_test_split(X_with_idx, Y, test_size=0.2)\n",
    "\n",
    "# Odczytaj indeksy z ostatniej kolumny\n",
    "train_indices = X_train[:, -1].astype(int)\n",
    "test_indices = X_test[:, -1].astype(int)\n",
    "\n",
    "# Teraz możesz łatwo powiązać podzbiory z oryginalnym df:\n",
    "df_train = df.iloc[train_indices]\n",
    "df_test = df.iloc[test_indices]"
   ]
  },
  {
   "cell_type": "code",
   "execution_count": 77,
   "id": "3497355a",
   "metadata": {},
   "outputs": [
    {
     "data": {
      "text/plain": [
       "((3552,), (954,), (3552, 12), (954, 12))"
      ]
     },
     "execution_count": 77,
     "metadata": {},
     "output_type": "execute_result"
    }
   ],
   "source": [
    "train_indices.shape, test_indices.shape, df_train.shape, df_test.shape"
   ]
  },
  {
   "cell_type": "code",
   "execution_count": 78,
   "id": "201e29d0",
   "metadata": {},
   "outputs": [
    {
     "data": {
      "text/html": [
       "<style>#sk-container-id-1 {\n",
       "  /* Definition of color scheme common for light and dark mode */\n",
       "  --sklearn-color-text: black;\n",
       "  --sklearn-color-line: gray;\n",
       "  /* Definition of color scheme for unfitted estimators */\n",
       "  --sklearn-color-unfitted-level-0: #fff5e6;\n",
       "  --sklearn-color-unfitted-level-1: #f6e4d2;\n",
       "  --sklearn-color-unfitted-level-2: #ffe0b3;\n",
       "  --sklearn-color-unfitted-level-3: chocolate;\n",
       "  /* Definition of color scheme for fitted estimators */\n",
       "  --sklearn-color-fitted-level-0: #f0f8ff;\n",
       "  --sklearn-color-fitted-level-1: #d4ebff;\n",
       "  --sklearn-color-fitted-level-2: #b3dbfd;\n",
       "  --sklearn-color-fitted-level-3: cornflowerblue;\n",
       "\n",
       "  /* Specific color for light theme */\n",
       "  --sklearn-color-text-on-default-background: var(--sg-text-color, var(--theme-code-foreground, var(--jp-content-font-color1, black)));\n",
       "  --sklearn-color-background: var(--sg-background-color, var(--theme-background, var(--jp-layout-color0, white)));\n",
       "  --sklearn-color-border-box: var(--sg-text-color, var(--theme-code-foreground, var(--jp-content-font-color1, black)));\n",
       "  --sklearn-color-icon: #696969;\n",
       "\n",
       "  @media (prefers-color-scheme: dark) {\n",
       "    /* Redefinition of color scheme for dark theme */\n",
       "    --sklearn-color-text-on-default-background: var(--sg-text-color, var(--theme-code-foreground, var(--jp-content-font-color1, white)));\n",
       "    --sklearn-color-background: var(--sg-background-color, var(--theme-background, var(--jp-layout-color0, #111)));\n",
       "    --sklearn-color-border-box: var(--sg-text-color, var(--theme-code-foreground, var(--jp-content-font-color1, white)));\n",
       "    --sklearn-color-icon: #878787;\n",
       "  }\n",
       "}\n",
       "\n",
       "#sk-container-id-1 {\n",
       "  color: var(--sklearn-color-text);\n",
       "}\n",
       "\n",
       "#sk-container-id-1 pre {\n",
       "  padding: 0;\n",
       "}\n",
       "\n",
       "#sk-container-id-1 input.sk-hidden--visually {\n",
       "  border: 0;\n",
       "  clip: rect(1px 1px 1px 1px);\n",
       "  clip: rect(1px, 1px, 1px, 1px);\n",
       "  height: 1px;\n",
       "  margin: -1px;\n",
       "  overflow: hidden;\n",
       "  padding: 0;\n",
       "  position: absolute;\n",
       "  width: 1px;\n",
       "}\n",
       "\n",
       "#sk-container-id-1 div.sk-dashed-wrapped {\n",
       "  border: 1px dashed var(--sklearn-color-line);\n",
       "  margin: 0 0.4em 0.5em 0.4em;\n",
       "  box-sizing: border-box;\n",
       "  padding-bottom: 0.4em;\n",
       "  background-color: var(--sklearn-color-background);\n",
       "}\n",
       "\n",
       "#sk-container-id-1 div.sk-container {\n",
       "  /* jupyter's `normalize.less` sets `[hidden] { display: none; }`\n",
       "     but bootstrap.min.css set `[hidden] { display: none !important; }`\n",
       "     so we also need the `!important` here to be able to override the\n",
       "     default hidden behavior on the sphinx rendered scikit-learn.org.\n",
       "     See: https://github.com/scikit-learn/scikit-learn/issues/21755 */\n",
       "  display: inline-block !important;\n",
       "  position: relative;\n",
       "}\n",
       "\n",
       "#sk-container-id-1 div.sk-text-repr-fallback {\n",
       "  display: none;\n",
       "}\n",
       "\n",
       "div.sk-parallel-item,\n",
       "div.sk-serial,\n",
       "div.sk-item {\n",
       "  /* draw centered vertical line to link estimators */\n",
       "  background-image: linear-gradient(var(--sklearn-color-text-on-default-background), var(--sklearn-color-text-on-default-background));\n",
       "  background-size: 2px 100%;\n",
       "  background-repeat: no-repeat;\n",
       "  background-position: center center;\n",
       "}\n",
       "\n",
       "/* Parallel-specific style estimator block */\n",
       "\n",
       "#sk-container-id-1 div.sk-parallel-item::after {\n",
       "  content: \"\";\n",
       "  width: 100%;\n",
       "  border-bottom: 2px solid var(--sklearn-color-text-on-default-background);\n",
       "  flex-grow: 1;\n",
       "}\n",
       "\n",
       "#sk-container-id-1 div.sk-parallel {\n",
       "  display: flex;\n",
       "  align-items: stretch;\n",
       "  justify-content: center;\n",
       "  background-color: var(--sklearn-color-background);\n",
       "  position: relative;\n",
       "}\n",
       "\n",
       "#sk-container-id-1 div.sk-parallel-item {\n",
       "  display: flex;\n",
       "  flex-direction: column;\n",
       "}\n",
       "\n",
       "#sk-container-id-1 div.sk-parallel-item:first-child::after {\n",
       "  align-self: flex-end;\n",
       "  width: 50%;\n",
       "}\n",
       "\n",
       "#sk-container-id-1 div.sk-parallel-item:last-child::after {\n",
       "  align-self: flex-start;\n",
       "  width: 50%;\n",
       "}\n",
       "\n",
       "#sk-container-id-1 div.sk-parallel-item:only-child::after {\n",
       "  width: 0;\n",
       "}\n",
       "\n",
       "/* Serial-specific style estimator block */\n",
       "\n",
       "#sk-container-id-1 div.sk-serial {\n",
       "  display: flex;\n",
       "  flex-direction: column;\n",
       "  align-items: center;\n",
       "  background-color: var(--sklearn-color-background);\n",
       "  padding-right: 1em;\n",
       "  padding-left: 1em;\n",
       "}\n",
       "\n",
       "\n",
       "/* Toggleable style: style used for estimator/Pipeline/ColumnTransformer box that is\n",
       "clickable and can be expanded/collapsed.\n",
       "- Pipeline and ColumnTransformer use this feature and define the default style\n",
       "- Estimators will overwrite some part of the style using the `sk-estimator` class\n",
       "*/\n",
       "\n",
       "/* Pipeline and ColumnTransformer style (default) */\n",
       "\n",
       "#sk-container-id-1 div.sk-toggleable {\n",
       "  /* Default theme specific background. It is overwritten whether we have a\n",
       "  specific estimator or a Pipeline/ColumnTransformer */\n",
       "  background-color: var(--sklearn-color-background);\n",
       "}\n",
       "\n",
       "/* Toggleable label */\n",
       "#sk-container-id-1 label.sk-toggleable__label {\n",
       "  cursor: pointer;\n",
       "  display: block;\n",
       "  width: 100%;\n",
       "  margin-bottom: 0;\n",
       "  padding: 0.5em;\n",
       "  box-sizing: border-box;\n",
       "  text-align: center;\n",
       "}\n",
       "\n",
       "#sk-container-id-1 label.sk-toggleable__label-arrow:before {\n",
       "  /* Arrow on the left of the label */\n",
       "  content: \"▸\";\n",
       "  float: left;\n",
       "  margin-right: 0.25em;\n",
       "  color: var(--sklearn-color-icon);\n",
       "}\n",
       "\n",
       "#sk-container-id-1 label.sk-toggleable__label-arrow:hover:before {\n",
       "  color: var(--sklearn-color-text);\n",
       "}\n",
       "\n",
       "/* Toggleable content - dropdown */\n",
       "\n",
       "#sk-container-id-1 div.sk-toggleable__content {\n",
       "  max-height: 0;\n",
       "  max-width: 0;\n",
       "  overflow: hidden;\n",
       "  text-align: left;\n",
       "  /* unfitted */\n",
       "  background-color: var(--sklearn-color-unfitted-level-0);\n",
       "}\n",
       "\n",
       "#sk-container-id-1 div.sk-toggleable__content.fitted {\n",
       "  /* fitted */\n",
       "  background-color: var(--sklearn-color-fitted-level-0);\n",
       "}\n",
       "\n",
       "#sk-container-id-1 div.sk-toggleable__content pre {\n",
       "  margin: 0.2em;\n",
       "  border-radius: 0.25em;\n",
       "  color: var(--sklearn-color-text);\n",
       "  /* unfitted */\n",
       "  background-color: var(--sklearn-color-unfitted-level-0);\n",
       "}\n",
       "\n",
       "#sk-container-id-1 div.sk-toggleable__content.fitted pre {\n",
       "  /* unfitted */\n",
       "  background-color: var(--sklearn-color-fitted-level-0);\n",
       "}\n",
       "\n",
       "#sk-container-id-1 input.sk-toggleable__control:checked~div.sk-toggleable__content {\n",
       "  /* Expand drop-down */\n",
       "  max-height: 200px;\n",
       "  max-width: 100%;\n",
       "  overflow: auto;\n",
       "}\n",
       "\n",
       "#sk-container-id-1 input.sk-toggleable__control:checked~label.sk-toggleable__label-arrow:before {\n",
       "  content: \"▾\";\n",
       "}\n",
       "\n",
       "/* Pipeline/ColumnTransformer-specific style */\n",
       "\n",
       "#sk-container-id-1 div.sk-label input.sk-toggleable__control:checked~label.sk-toggleable__label {\n",
       "  color: var(--sklearn-color-text);\n",
       "  background-color: var(--sklearn-color-unfitted-level-2);\n",
       "}\n",
       "\n",
       "#sk-container-id-1 div.sk-label.fitted input.sk-toggleable__control:checked~label.sk-toggleable__label {\n",
       "  background-color: var(--sklearn-color-fitted-level-2);\n",
       "}\n",
       "\n",
       "/* Estimator-specific style */\n",
       "\n",
       "/* Colorize estimator box */\n",
       "#sk-container-id-1 div.sk-estimator input.sk-toggleable__control:checked~label.sk-toggleable__label {\n",
       "  /* unfitted */\n",
       "  background-color: var(--sklearn-color-unfitted-level-2);\n",
       "}\n",
       "\n",
       "#sk-container-id-1 div.sk-estimator.fitted input.sk-toggleable__control:checked~label.sk-toggleable__label {\n",
       "  /* fitted */\n",
       "  background-color: var(--sklearn-color-fitted-level-2);\n",
       "}\n",
       "\n",
       "#sk-container-id-1 div.sk-label label.sk-toggleable__label,\n",
       "#sk-container-id-1 div.sk-label label {\n",
       "  /* The background is the default theme color */\n",
       "  color: var(--sklearn-color-text-on-default-background);\n",
       "}\n",
       "\n",
       "/* On hover, darken the color of the background */\n",
       "#sk-container-id-1 div.sk-label:hover label.sk-toggleable__label {\n",
       "  color: var(--sklearn-color-text);\n",
       "  background-color: var(--sklearn-color-unfitted-level-2);\n",
       "}\n",
       "\n",
       "/* Label box, darken color on hover, fitted */\n",
       "#sk-container-id-1 div.sk-label.fitted:hover label.sk-toggleable__label.fitted {\n",
       "  color: var(--sklearn-color-text);\n",
       "  background-color: var(--sklearn-color-fitted-level-2);\n",
       "}\n",
       "\n",
       "/* Estimator label */\n",
       "\n",
       "#sk-container-id-1 div.sk-label label {\n",
       "  font-family: monospace;\n",
       "  font-weight: bold;\n",
       "  display: inline-block;\n",
       "  line-height: 1.2em;\n",
       "}\n",
       "\n",
       "#sk-container-id-1 div.sk-label-container {\n",
       "  text-align: center;\n",
       "}\n",
       "\n",
       "/* Estimator-specific */\n",
       "#sk-container-id-1 div.sk-estimator {\n",
       "  font-family: monospace;\n",
       "  border: 1px dotted var(--sklearn-color-border-box);\n",
       "  border-radius: 0.25em;\n",
       "  box-sizing: border-box;\n",
       "  margin-bottom: 0.5em;\n",
       "  /* unfitted */\n",
       "  background-color: var(--sklearn-color-unfitted-level-0);\n",
       "}\n",
       "\n",
       "#sk-container-id-1 div.sk-estimator.fitted {\n",
       "  /* fitted */\n",
       "  background-color: var(--sklearn-color-fitted-level-0);\n",
       "}\n",
       "\n",
       "/* on hover */\n",
       "#sk-container-id-1 div.sk-estimator:hover {\n",
       "  /* unfitted */\n",
       "  background-color: var(--sklearn-color-unfitted-level-2);\n",
       "}\n",
       "\n",
       "#sk-container-id-1 div.sk-estimator.fitted:hover {\n",
       "  /* fitted */\n",
       "  background-color: var(--sklearn-color-fitted-level-2);\n",
       "}\n",
       "\n",
       "/* Specification for estimator info (e.g. \"i\" and \"?\") */\n",
       "\n",
       "/* Common style for \"i\" and \"?\" */\n",
       "\n",
       ".sk-estimator-doc-link,\n",
       "a:link.sk-estimator-doc-link,\n",
       "a:visited.sk-estimator-doc-link {\n",
       "  float: right;\n",
       "  font-size: smaller;\n",
       "  line-height: 1em;\n",
       "  font-family: monospace;\n",
       "  background-color: var(--sklearn-color-background);\n",
       "  border-radius: 1em;\n",
       "  height: 1em;\n",
       "  width: 1em;\n",
       "  text-decoration: none !important;\n",
       "  margin-left: 1ex;\n",
       "  /* unfitted */\n",
       "  border: var(--sklearn-color-unfitted-level-1) 1pt solid;\n",
       "  color: var(--sklearn-color-unfitted-level-1);\n",
       "}\n",
       "\n",
       ".sk-estimator-doc-link.fitted,\n",
       "a:link.sk-estimator-doc-link.fitted,\n",
       "a:visited.sk-estimator-doc-link.fitted {\n",
       "  /* fitted */\n",
       "  border: var(--sklearn-color-fitted-level-1) 1pt solid;\n",
       "  color: var(--sklearn-color-fitted-level-1);\n",
       "}\n",
       "\n",
       "/* On hover */\n",
       "div.sk-estimator:hover .sk-estimator-doc-link:hover,\n",
       ".sk-estimator-doc-link:hover,\n",
       "div.sk-label-container:hover .sk-estimator-doc-link:hover,\n",
       ".sk-estimator-doc-link:hover {\n",
       "  /* unfitted */\n",
       "  background-color: var(--sklearn-color-unfitted-level-3);\n",
       "  color: var(--sklearn-color-background);\n",
       "  text-decoration: none;\n",
       "}\n",
       "\n",
       "div.sk-estimator.fitted:hover .sk-estimator-doc-link.fitted:hover,\n",
       ".sk-estimator-doc-link.fitted:hover,\n",
       "div.sk-label-container:hover .sk-estimator-doc-link.fitted:hover,\n",
       ".sk-estimator-doc-link.fitted:hover {\n",
       "  /* fitted */\n",
       "  background-color: var(--sklearn-color-fitted-level-3);\n",
       "  color: var(--sklearn-color-background);\n",
       "  text-decoration: none;\n",
       "}\n",
       "\n",
       "/* Span, style for the box shown on hovering the info icon */\n",
       ".sk-estimator-doc-link span {\n",
       "  display: none;\n",
       "  z-index: 9999;\n",
       "  position: relative;\n",
       "  font-weight: normal;\n",
       "  right: .2ex;\n",
       "  padding: .5ex;\n",
       "  margin: .5ex;\n",
       "  width: min-content;\n",
       "  min-width: 20ex;\n",
       "  max-width: 50ex;\n",
       "  color: var(--sklearn-color-text);\n",
       "  box-shadow: 2pt 2pt 4pt #999;\n",
       "  /* unfitted */\n",
       "  background: var(--sklearn-color-unfitted-level-0);\n",
       "  border: .5pt solid var(--sklearn-color-unfitted-level-3);\n",
       "}\n",
       "\n",
       ".sk-estimator-doc-link.fitted span {\n",
       "  /* fitted */\n",
       "  background: var(--sklearn-color-fitted-level-0);\n",
       "  border: var(--sklearn-color-fitted-level-3);\n",
       "}\n",
       "\n",
       ".sk-estimator-doc-link:hover span {\n",
       "  display: block;\n",
       "}\n",
       "\n",
       "/* \"?\"-specific style due to the `<a>` HTML tag */\n",
       "\n",
       "#sk-container-id-1 a.estimator_doc_link {\n",
       "  float: right;\n",
       "  font-size: 1rem;\n",
       "  line-height: 1em;\n",
       "  font-family: monospace;\n",
       "  background-color: var(--sklearn-color-background);\n",
       "  border-radius: 1rem;\n",
       "  height: 1rem;\n",
       "  width: 1rem;\n",
       "  text-decoration: none;\n",
       "  /* unfitted */\n",
       "  color: var(--sklearn-color-unfitted-level-1);\n",
       "  border: var(--sklearn-color-unfitted-level-1) 1pt solid;\n",
       "}\n",
       "\n",
       "#sk-container-id-1 a.estimator_doc_link.fitted {\n",
       "  /* fitted */\n",
       "  border: var(--sklearn-color-fitted-level-1) 1pt solid;\n",
       "  color: var(--sklearn-color-fitted-level-1);\n",
       "}\n",
       "\n",
       "/* On hover */\n",
       "#sk-container-id-1 a.estimator_doc_link:hover {\n",
       "  /* unfitted */\n",
       "  background-color: var(--sklearn-color-unfitted-level-3);\n",
       "  color: var(--sklearn-color-background);\n",
       "  text-decoration: none;\n",
       "}\n",
       "\n",
       "#sk-container-id-1 a.estimator_doc_link.fitted:hover {\n",
       "  /* fitted */\n",
       "  background-color: var(--sklearn-color-fitted-level-3);\n",
       "}\n",
       "</style><div id=\"sk-container-id-1\" class=\"sk-top-container\"><div class=\"sk-text-repr-fallback\"><pre>ClassifierChain(base_estimator=RandomForestClassifier(random_state=42),\n",
       "                order=&#x27;random&#x27;, random_state=42)</pre><b>In a Jupyter environment, please rerun this cell to show the HTML representation or trust the notebook. <br />On GitHub, the HTML representation is unable to render, please try loading this page with nbviewer.org.</b></div><div class=\"sk-container\" hidden><div class=\"sk-item sk-dashed-wrapped\"><div class=\"sk-label-container\"><div class=\"sk-label fitted sk-toggleable\"><input class=\"sk-toggleable__control sk-hidden--visually\" id=\"sk-estimator-id-1\" type=\"checkbox\" ><label for=\"sk-estimator-id-1\" class=\"sk-toggleable__label fitted sk-toggleable__label-arrow fitted\">&nbsp;&nbsp;ClassifierChain<a class=\"sk-estimator-doc-link fitted\" rel=\"noreferrer\" target=\"_blank\" href=\"https://scikit-learn.org/1.5/modules/generated/sklearn.multioutput.ClassifierChain.html\">?<span>Documentation for ClassifierChain</span></a><span class=\"sk-estimator-doc-link fitted\">i<span>Fitted</span></span></label><div class=\"sk-toggleable__content fitted\"><pre>ClassifierChain(base_estimator=RandomForestClassifier(random_state=42),\n",
       "                order=&#x27;random&#x27;, random_state=42)</pre></div> </div></div><div class=\"sk-parallel\"><div class=\"sk-parallel-item\"><div class=\"sk-item\"><div class=\"sk-label-container\"><div class=\"sk-label fitted sk-toggleable\"><input class=\"sk-toggleable__control sk-hidden--visually\" id=\"sk-estimator-id-2\" type=\"checkbox\" ><label for=\"sk-estimator-id-2\" class=\"sk-toggleable__label fitted sk-toggleable__label-arrow fitted\">base_estimator: RandomForestClassifier</label><div class=\"sk-toggleable__content fitted\"><pre>RandomForestClassifier(random_state=42)</pre></div> </div></div><div class=\"sk-serial\"><div class=\"sk-item\"><div class=\"sk-estimator fitted sk-toggleable\"><input class=\"sk-toggleable__control sk-hidden--visually\" id=\"sk-estimator-id-3\" type=\"checkbox\" ><label for=\"sk-estimator-id-3\" class=\"sk-toggleable__label fitted sk-toggleable__label-arrow fitted\">&nbsp;RandomForestClassifier<a class=\"sk-estimator-doc-link fitted\" rel=\"noreferrer\" target=\"_blank\" href=\"https://scikit-learn.org/1.5/modules/generated/sklearn.ensemble.RandomForestClassifier.html\">?<span>Documentation for RandomForestClassifier</span></a></label><div class=\"sk-toggleable__content fitted\"><pre>RandomForestClassifier(random_state=42)</pre></div> </div></div></div></div></div></div></div></div></div>"
      ],
      "text/plain": [
       "ClassifierChain(base_estimator=RandomForestClassifier(random_state=42),\n",
       "                order='random', random_state=42)"
      ]
     },
     "execution_count": 78,
     "metadata": {},
     "output_type": "execute_result"
    }
   ],
   "source": [
    "from sklearn.ensemble import RandomForestClassifier\n",
    "from sklearn.multioutput import ClassifierChain\n",
    "\n",
    "# Binary Relevance (pojedynczy RF na każdą etykietę)\n",
    "rf = RandomForestClassifier(n_estimators=100, random_state=42)\n",
    "rf.fit(X_train, y_train)\n",
    "\n",
    "# Classifier Chains\n",
    "chain = ClassifierChain(base_estimator=RandomForestClassifier(n_estimators=100, random_state=42), order='random', random_state=42)\n",
    "chain.fit(X_train, y_train)\n",
    "\n",
    "\n",
    "\n",
    "# 5 minut trening!!!!!"
   ]
  },
  {
   "cell_type": "code",
   "execution_count": null,
   "id": "67e9b5f1",
   "metadata": {},
   "outputs": [
    {
     "data": {
      "text/plain": [
       "['random_forest_model.pkl']"
      ]
     },
     "execution_count": 82,
     "metadata": {},
     "output_type": "execute_result"
    }
   ],
   "source": [
    "#import joblib\n",
    "#joblib.dump(rf, 'random_forest_model.pkl')\n",
    "#joblib.dump(chain, 'classifier_chain_model.pkl')\n"
   ]
  },
  {
   "cell_type": "code",
   "execution_count": 96,
   "id": "143846d6",
   "metadata": {},
   "outputs": [
    {
     "name": "stdout",
     "output_type": "stream",
     "text": [
      "Binary Relevance Micro F1: 0.2912344925767745\n",
      "Classifier Chains Micro F1: 0.30367543683470577\n"
     ]
    }
   ],
   "source": [
    "from sklearn.metrics import f1_score\n",
    "\n",
    "y_pred = rf.predict(X_test)\n",
    "print(\"Binary Relevance Micro F1:\", f1_score(y_test, y_pred, average='micro'))\n",
    "\n",
    "y_pred_chain = chain.predict(X_test)\n",
    "print(\"Classifier Chains Micro F1:\", f1_score(y_test, y_pred_chain, average='micro'))"
   ]
  },
  {
   "cell_type": "code",
   "execution_count": 99,
   "id": "e7bd60ae",
   "metadata": {},
   "outputs": [
    {
     "name": "stdout",
     "output_type": "stream",
     "text": [
      "Molekuła nr 460:\n",
      "  Prawdziwe etykiety: ('sweet', 'spicy', 'minty')\n",
      "  Predykowane etykiety: ('minty',)\n",
      "----------------------------------------\n",
      "Molekuła nr 171:\n",
      "  Prawdziwe etykiety: ('sweet', 'woody')\n",
      "  Predykowane etykiety: ()\n",
      "----------------------------------------\n",
      "Molekuła nr 345:\n",
      "  Prawdziwe etykiety: ('citrus', 'lemon')\n",
      "  Predykowane etykiety: ('sweet', 'citrus', 'lemon')\n",
      "----------------------------------------\n",
      "Molekuła nr 931:\n",
      "  Prawdziwe etykiety: ('meaty', 'roasted')\n",
      "  Predykowane etykiety: ()\n",
      "----------------------------------------\n",
      "Molekuła nr 124:\n",
      "  Prawdziwe etykiety: ('green', 'earthy', 'nutty', 'musty', 'roasted', 'cocoa', 'brown', 'chocolate')\n",
      "  Predykowane etykiety: ('nutty',)\n",
      "----------------------------------------\n"
     ]
    }
   ],
   "source": [
    "# Załóżmy, że masz indeksy molekuł w X_test_indices (np. z oryginalnego df)\n",
    "# Jeśli nie, możesz np. wybrać kilka losowych próbek z testu:\n",
    "\n",
    "import numpy as np\n",
    "\n",
    "sample_indices = np.random.choice(X_test.shape[0], size=5, replace=False)\n",
    "\n",
    "for idx in sample_indices:\n",
    "    true_labels = mlb.inverse_transform(y_test[idx].reshape(1, -1))[0]\n",
    "    pred_labels = mlb.inverse_transform(y_pred[idx].reshape(1, -1))[0]\n",
    "    print(f\"Molekuła nr {idx}:\")\n",
    "    print(f\"  Prawdziwe etykiety: {true_labels}\")\n",
    "    print(f\"  Predykowane etykiety: {pred_labels}\")\n",
    "    print(\"-\" * 40)"
   ]
  },
  {
   "cell_type": "code",
   "execution_count": 100,
   "id": "0a8a74bf",
   "metadata": {},
   "outputs": [
    {
     "name": "stdout",
     "output_type": "stream",
     "text": [
      "F1: 0.00, Precision: 0.00, Recall: 0.00\n"
     ]
    }
   ],
   "source": [
    "from sklearn.metrics import f1_score, precision_score, recall_score\n",
    "\n",
    "def sample_metrics(y_true_sample, y_pred_sample):\n",
    "    f1 = f1_score(y_true_sample, y_pred_sample, average='binary')\n",
    "    precision = precision_score(y_true_sample, y_pred_sample, average='binary')\n",
    "    recall = recall_score(y_true_sample, y_pred_sample, average='binary')\n",
    "    return f1, precision, recall\n",
    "\n",
    "# Przykład:\n",
    "f1, prec, rec = sample_metrics(y_test[10], y_pred[10])\n",
    "print(f\"F1: {f1:.2f}, Precision: {prec:.2f}, Recall: {rec:.2f}\")"
   ]
  },
  {
   "cell_type": "code",
   "execution_count": 101,
   "id": "689ac055",
   "metadata": {},
   "outputs": [
    {
     "name": "stderr",
     "output_type": "stream",
     "text": [
      "c:\\Users\\mikoo\\miniconda3\\envs\\primo\\Lib\\site-packages\\sklearn\\metrics\\_classification.py:1531: UndefinedMetricWarning:\n",
      "\n",
      "Precision is ill-defined and being set to 0.0 in labels with no predicted samples. Use `zero_division` parameter to control this behavior.\n",
      "\n"
     ]
    },
    {
     "data": {
      "text/html": [
       "<div>\n",
       "<style scoped>\n",
       "    .dataframe tbody tr th:only-of-type {\n",
       "        vertical-align: middle;\n",
       "    }\n",
       "\n",
       "    .dataframe tbody tr th {\n",
       "        vertical-align: top;\n",
       "    }\n",
       "\n",
       "    .dataframe thead th {\n",
       "        text-align: right;\n",
       "    }\n",
       "</style>\n",
       "<table border=\"1\" class=\"dataframe\">\n",
       "  <thead>\n",
       "    <tr style=\"text-align: right;\">\n",
       "      <th></th>\n",
       "      <th>label</th>\n",
       "      <th>precision</th>\n",
       "      <th>recall</th>\n",
       "      <th>f1_score</th>\n",
       "    </tr>\n",
       "  </thead>\n",
       "  <tbody>\n",
       "    <tr>\n",
       "      <th>0</th>\n",
       "      <td>fruity</td>\n",
       "      <td>0.675676</td>\n",
       "      <td>0.500000</td>\n",
       "      <td>0.574713</td>\n",
       "    </tr>\n",
       "    <tr>\n",
       "      <th>1</th>\n",
       "      <td>green</td>\n",
       "      <td>0.688000</td>\n",
       "      <td>0.398148</td>\n",
       "      <td>0.504399</td>\n",
       "    </tr>\n",
       "    <tr>\n",
       "      <th>2</th>\n",
       "      <td>sweet</td>\n",
       "      <td>0.457143</td>\n",
       "      <td>0.234146</td>\n",
       "      <td>0.309677</td>\n",
       "    </tr>\n",
       "    <tr>\n",
       "      <th>3</th>\n",
       "      <td>floral</td>\n",
       "      <td>0.619835</td>\n",
       "      <td>0.401070</td>\n",
       "      <td>0.487013</td>\n",
       "    </tr>\n",
       "    <tr>\n",
       "      <th>4</th>\n",
       "      <td>woody</td>\n",
       "      <td>0.658537</td>\n",
       "      <td>0.412214</td>\n",
       "      <td>0.507042</td>\n",
       "    </tr>\n",
       "    <tr>\n",
       "      <th>...</th>\n",
       "      <td>...</td>\n",
       "      <td>...</td>\n",
       "      <td>...</td>\n",
       "      <td>...</td>\n",
       "    </tr>\n",
       "    <tr>\n",
       "      <th>128</th>\n",
       "      <td>clove</td>\n",
       "      <td>0.666667</td>\n",
       "      <td>0.333333</td>\n",
       "      <td>0.444444</td>\n",
       "    </tr>\n",
       "    <tr>\n",
       "      <th>129</th>\n",
       "      <td>cabbage</td>\n",
       "      <td>0.000000</td>\n",
       "      <td>0.000000</td>\n",
       "      <td>0.000000</td>\n",
       "    </tr>\n",
       "    <tr>\n",
       "      <th>130</th>\n",
       "      <td>licorice</td>\n",
       "      <td>0.500000</td>\n",
       "      <td>0.142857</td>\n",
       "      <td>0.222222</td>\n",
       "    </tr>\n",
       "    <tr>\n",
       "      <th>131</th>\n",
       "      <td>orangeflower</td>\n",
       "      <td>0.000000</td>\n",
       "      <td>0.000000</td>\n",
       "      <td>0.000000</td>\n",
       "    </tr>\n",
       "    <tr>\n",
       "      <th>132</th>\n",
       "      <td>peppery</td>\n",
       "      <td>0.000000</td>\n",
       "      <td>0.000000</td>\n",
       "      <td>0.000000</td>\n",
       "    </tr>\n",
       "  </tbody>\n",
       "</table>\n",
       "<p>133 rows × 4 columns</p>\n",
       "</div>"
      ],
      "text/plain": [
       "            label  precision    recall  f1_score\n",
       "0          fruity   0.675676  0.500000  0.574713\n",
       "1           green   0.688000  0.398148  0.504399\n",
       "2           sweet   0.457143  0.234146  0.309677\n",
       "3          floral   0.619835  0.401070  0.487013\n",
       "4           woody   0.658537  0.412214  0.507042\n",
       "..            ...        ...       ...       ...\n",
       "128         clove   0.666667  0.333333  0.444444\n",
       "129       cabbage   0.000000  0.000000  0.000000\n",
       "130      licorice   0.500000  0.142857  0.222222\n",
       "131  orangeflower   0.000000  0.000000  0.000000\n",
       "132       peppery   0.000000  0.000000  0.000000\n",
       "\n",
       "[133 rows x 4 columns]"
      ]
     },
     "execution_count": 101,
     "metadata": {},
     "output_type": "execute_result"
    }
   ],
   "source": [
    "# 10. Ewaluacja per etykieta\n",
    "precision = precision_score(y_test, y_pred, average=None)\n",
    "recall = recall_score(y_test, y_pred, average=None)\n",
    "f1 = f1_score(y_test, y_pred, average=None)\n",
    "\n",
    "results = pd.DataFrame({\n",
    "    'label': mlb.classes_,\n",
    "    'precision': precision,\n",
    "    'recall': recall,\n",
    "    'f1_score': f1\n",
    "})\n",
    "\n",
    "results"
   ]
  },
  {
   "cell_type": "code",
   "execution_count": 103,
   "id": "77164e28",
   "metadata": {},
   "outputs": [
    {
     "data": {
      "text/html": [
       "<div>\n",
       "<style scoped>\n",
       "    .dataframe tbody tr th:only-of-type {\n",
       "        vertical-align: middle;\n",
       "    }\n",
       "\n",
       "    .dataframe tbody tr th {\n",
       "        vertical-align: top;\n",
       "    }\n",
       "\n",
       "    .dataframe thead th {\n",
       "        text-align: right;\n",
       "    }\n",
       "</style>\n",
       "<table border=\"1\" class=\"dataframe\">\n",
       "  <thead>\n",
       "    <tr style=\"text-align: right;\">\n",
       "      <th></th>\n",
       "      <th>label</th>\n",
       "      <th>precision</th>\n",
       "      <th>recall</th>\n",
       "      <th>f1_score</th>\n",
       "    </tr>\n",
       "  </thead>\n",
       "  <tbody>\n",
       "    <tr>\n",
       "      <th>66</th>\n",
       "      <td>burnt</td>\n",
       "      <td>0.000000</td>\n",
       "      <td>0.000000</td>\n",
       "      <td>0.000000</td>\n",
       "    </tr>\n",
       "    <tr>\n",
       "      <th>92</th>\n",
       "      <td>plum</td>\n",
       "      <td>0.000000</td>\n",
       "      <td>0.000000</td>\n",
       "      <td>0.000000</td>\n",
       "    </tr>\n",
       "    <tr>\n",
       "      <th>89</th>\n",
       "      <td>grassy</td>\n",
       "      <td>0.000000</td>\n",
       "      <td>0.000000</td>\n",
       "      <td>0.000000</td>\n",
       "    </tr>\n",
       "    <tr>\n",
       "      <th>87</th>\n",
       "      <td>chocolate</td>\n",
       "      <td>0.000000</td>\n",
       "      <td>0.000000</td>\n",
       "      <td>0.000000</td>\n",
       "    </tr>\n",
       "    <tr>\n",
       "      <th>86</th>\n",
       "      <td>brown</td>\n",
       "      <td>0.000000</td>\n",
       "      <td>0.000000</td>\n",
       "      <td>0.000000</td>\n",
       "    </tr>\n",
       "    <tr>\n",
       "      <th>...</th>\n",
       "      <td>...</td>\n",
       "      <td>...</td>\n",
       "      <td>...</td>\n",
       "      <td>...</td>\n",
       "    </tr>\n",
       "    <tr>\n",
       "      <th>4</th>\n",
       "      <td>woody</td>\n",
       "      <td>0.658537</td>\n",
       "      <td>0.412214</td>\n",
       "      <td>0.507042</td>\n",
       "    </tr>\n",
       "    <tr>\n",
       "      <th>114</th>\n",
       "      <td>mentholic</td>\n",
       "      <td>0.750000</td>\n",
       "      <td>0.428571</td>\n",
       "      <td>0.545455</td>\n",
       "    </tr>\n",
       "    <tr>\n",
       "      <th>0</th>\n",
       "      <td>fruity</td>\n",
       "      <td>0.675676</td>\n",
       "      <td>0.500000</td>\n",
       "      <td>0.574713</td>\n",
       "    </tr>\n",
       "    <tr>\n",
       "      <th>12</th>\n",
       "      <td>sulfurous</td>\n",
       "      <td>0.630435</td>\n",
       "      <td>0.580000</td>\n",
       "      <td>0.604167</td>\n",
       "    </tr>\n",
       "    <tr>\n",
       "      <th>16</th>\n",
       "      <td>odorless</td>\n",
       "      <td>0.812500</td>\n",
       "      <td>0.577778</td>\n",
       "      <td>0.675325</td>\n",
       "    </tr>\n",
       "  </tbody>\n",
       "</table>\n",
       "<p>133 rows × 4 columns</p>\n",
       "</div>"
      ],
      "text/plain": [
       "         label  precision    recall  f1_score\n",
       "66       burnt   0.000000  0.000000  0.000000\n",
       "92        plum   0.000000  0.000000  0.000000\n",
       "89      grassy   0.000000  0.000000  0.000000\n",
       "87   chocolate   0.000000  0.000000  0.000000\n",
       "86       brown   0.000000  0.000000  0.000000\n",
       "..         ...        ...       ...       ...\n",
       "4        woody   0.658537  0.412214  0.507042\n",
       "114  mentholic   0.750000  0.428571  0.545455\n",
       "0       fruity   0.675676  0.500000  0.574713\n",
       "12   sulfurous   0.630435  0.580000  0.604167\n",
       "16    odorless   0.812500  0.577778  0.675325\n",
       "\n",
       "[133 rows x 4 columns]"
      ]
     },
     "execution_count": 103,
     "metadata": {},
     "output_type": "execute_result"
    }
   ],
   "source": [
    "results.sort_values(by='f1_score')"
   ]
  },
  {
   "cell_type": "code",
   "execution_count": null,
   "id": "b4f13d5c",
   "metadata": {},
   "outputs": [],
   "source": []
  }
 ],
 "metadata": {
  "kernelspec": {
   "display_name": "primo",
   "language": "python",
   "name": "python3"
  },
  "language_info": {
   "codemirror_mode": {
    "name": "ipython",
    "version": 3
   },
   "file_extension": ".py",
   "mimetype": "text/x-python",
   "name": "python",
   "nbconvert_exporter": "python",
   "pygments_lexer": "ipython3",
   "version": "3.12.4"
  }
 },
 "nbformat": 4,
 "nbformat_minor": 5
}
