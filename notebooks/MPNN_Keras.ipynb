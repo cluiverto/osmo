{
 "cells": [
  {
   "cell_type": "code",
   "execution_count": 1,
   "id": "5c304056",
   "metadata": {},
   "outputs": [
    {
     "name": "stdout",
     "output_type": "stream",
     "text": [
      "WARNING:tensorflow:From c:\\Users\\mikoo\\miniconda3\\envs\\primo\\Lib\\site-packages\\tf_keras\\src\\losses.py:2976: The name tf.losses.sparse_softmax_cross_entropy is deprecated. Please use tf.compat.v1.losses.sparse_softmax_cross_entropy instead.\n",
      "\n"
     ]
    },
    {
     "data": {
      "application/vnd.jupyter.widget-view+json": {
       "model_id": "e9cc9d7a2b624c238723ab4bfb0a3229",
       "version_major": 2,
       "version_minor": 0
      },
      "text/plain": [
       "Fetching 10 files:   0%|          | 0/10 [00:00<?, ?it/s]"
      ]
     },
     "metadata": {},
     "output_type": "display_data"
    },
    {
     "name": "stdout",
     "output_type": "stream",
     "text": [
      "WARNING:tensorflow:From c:\\Users\\mikoo\\miniconda3\\envs\\primo\\Lib\\site-packages\\tf_keras\\src\\saving\\legacy\\saved_model\\load.py:109: The name tf.gfile.Exists is deprecated. Please use tf.io.gfile.exists instead.\n",
      "\n",
      "WARNING:tensorflow:From c:\\Users\\mikoo\\miniconda3\\envs\\primo\\Lib\\site-packages\\tf_keras\\src\\engine\\functional.py:156: The name tf.executing_eagerly_outside_functions is deprecated. Please use tf.compat.v1.executing_eagerly_outside_functions instead.\n",
      "\n",
      "WARNING:tensorflow:From c:\\Users\\mikoo\\miniconda3\\envs\\primo\\Lib\\site-packages\\tf_keras\\src\\saving\\legacy\\saved_model\\load.py:180: The name tf.logging.warning is deprecated. Please use tf.compat.v1.logging.warning instead.\n",
      "\n"
     ]
    },
    {
     "name": "stderr",
     "output_type": "stream",
     "text": [
      "WARNING:tensorflow:From c:\\Users\\mikoo\\miniconda3\\envs\\primo\\Lib\\site-packages\\tf_keras\\src\\saving\\legacy\\saved_model\\load.py:180: The name tf.logging.warning is deprecated. Please use tf.compat.v1.logging.warning instead.\n",
      "\n"
     ]
    },
    {
     "name": "stdout",
     "output_type": "stream",
     "text": [
      "WARNING:tensorflow:No training configuration found in save file, so the model was *not* compiled. Compile it manually.\n"
     ]
    },
    {
     "name": "stderr",
     "output_type": "stream",
     "text": [
      "WARNING:tensorflow:No training configuration found in save file, so the model was *not* compiled. Compile it manually.\n"
     ]
    },
    {
     "data": {
      "text/plain": [
       "<tf_keras.src.engine.functional.Functional at 0x164d4921e80>"
      ]
     },
     "execution_count": 1,
     "metadata": {},
     "output_type": "execute_result"
    }
   ],
   "source": [
    "# Note: 'keras<3.x' or 'tf_keras' must be installed (legacy)\n",
    "# See https://github.com/keras-team/tf-keras for more details.\n",
    "from huggingface_hub import from_pretrained_keras\n",
    "\n",
    "model = from_pretrained_keras(\"keras-io/MPNN-for-molecular-property-prediction\")\n",
    "model"
   ]
  },
  {
   "cell_type": "code",
   "execution_count": 2,
   "id": "c1b94aa4",
   "metadata": {},
   "outputs": [],
   "source": [
    "import keras\n",
    "import pandas as pd\n",
    "import os, sys\n",
    "\n",
    "# Zakładam, że folder 'scripts' jest na tym samym poziomie co 'notebooks'\n",
    "scripts_path = os.path.abspath(os.path.join('..', 'scripts'))\n",
    "if scripts_path not in sys.path:\n",
    "    sys.path.append(scripts_path)\n",
    "\n",
    "from graph_utils import *"
   ]
  },
  {
   "cell_type": "code",
   "execution_count": 3,
   "id": "232302b5",
   "metadata": {},
   "outputs": [
    {
     "data": {
      "text/html": [
       "<div>\n",
       "<style scoped>\n",
       "    .dataframe tbody tr th:only-of-type {\n",
       "        vertical-align: middle;\n",
       "    }\n",
       "\n",
       "    .dataframe tbody tr th {\n",
       "        vertical-align: top;\n",
       "    }\n",
       "\n",
       "    .dataframe thead th {\n",
       "        text-align: right;\n",
       "    }\n",
       "</style>\n",
       "<table border=\"1\" class=\"dataframe\">\n",
       "  <thead>\n",
       "    <tr style=\"text-align: right;\">\n",
       "      <th></th>\n",
       "      <th>name</th>\n",
       "      <th>p_np</th>\n",
       "      <th>smiles</th>\n",
       "    </tr>\n",
       "  </thead>\n",
       "  <tbody>\n",
       "    <tr>\n",
       "      <th>96</th>\n",
       "      <td>cefoxitin</td>\n",
       "      <td>1</td>\n",
       "      <td>CO[C@]1(NC(=O)Cc2sccc2)[C@H]3SCC(=C(N3C1=O)C(O...</td>\n",
       "    </tr>\n",
       "    <tr>\n",
       "      <th>97</th>\n",
       "      <td>Org34167</td>\n",
       "      <td>1</td>\n",
       "      <td>NC(CC=C)c1ccccc1c2noc3c2cccc3</td>\n",
       "    </tr>\n",
       "    <tr>\n",
       "      <th>98</th>\n",
       "      <td>9-OH Risperidone</td>\n",
       "      <td>1</td>\n",
       "      <td>OC1C(N2CCC1)=NC(C)=C(CCN3CCC(CC3)c4c5ccc(F)cc5...</td>\n",
       "    </tr>\n",
       "    <tr>\n",
       "      <th>99</th>\n",
       "      <td>acetaminophen</td>\n",
       "      <td>1</td>\n",
       "      <td>CC(=O)Nc1ccc(O)cc1</td>\n",
       "    </tr>\n",
       "    <tr>\n",
       "      <th>100</th>\n",
       "      <td>acetylsalicylate</td>\n",
       "      <td>0</td>\n",
       "      <td>CC(=O)Oc1ccccc1C(O)=O</td>\n",
       "    </tr>\n",
       "    <tr>\n",
       "      <th>101</th>\n",
       "      <td>allopurinol</td>\n",
       "      <td>0</td>\n",
       "      <td>O=C1N=CN=C2NNC=C12</td>\n",
       "    </tr>\n",
       "    <tr>\n",
       "      <th>102</th>\n",
       "      <td>Alprostadil</td>\n",
       "      <td>0</td>\n",
       "      <td>CCCCC[C@H](O)/C=C/[C@H]1[C@H](O)CC(=O)[C@@H]1C...</td>\n",
       "    </tr>\n",
       "    <tr>\n",
       "      <th>103</th>\n",
       "      <td>aminophylline</td>\n",
       "      <td>0</td>\n",
       "      <td>CN1C(=O)N(C)c2nc[nH]c2C1=O.CN3C(=O)N(C)c4nc[nH...</td>\n",
       "    </tr>\n",
       "  </tbody>\n",
       "</table>\n",
       "</div>"
      ],
      "text/plain": [
       "                 name  p_np                                             smiles\n",
       "96          cefoxitin     1  CO[C@]1(NC(=O)Cc2sccc2)[C@H]3SCC(=C(N3C1=O)C(O...\n",
       "97           Org34167     1                      NC(CC=C)c1ccccc1c2noc3c2cccc3\n",
       "98   9-OH Risperidone     1  OC1C(N2CCC1)=NC(C)=C(CCN3CCC(CC3)c4c5ccc(F)cc5...\n",
       "99      acetaminophen     1                                 CC(=O)Nc1ccc(O)cc1\n",
       "100  acetylsalicylate     0                              CC(=O)Oc1ccccc1C(O)=O\n",
       "101       allopurinol     0                                 O=C1N=CN=C2NNC=C12\n",
       "102       Alprostadil     0  CCCCC[C@H](O)/C=C/[C@H]1[C@H](O)CC(=O)[C@@H]1C...\n",
       "103     aminophylline     0  CN1C(=O)N(C)c2nc[nH]c2C1=O.CN3C(=O)N(C)c4nc[nH..."
      ]
     },
     "execution_count": 3,
     "metadata": {},
     "output_type": "execute_result"
    }
   ],
   "source": [
    "csv_path = keras.utils.get_file(\n",
    "    \"BBBP.csv\", \"https://deepchemdata.s3-us-west-1.amazonaws.com/datasets/BBBP.csv\"\n",
    ")\n",
    "\n",
    "df = pd.read_csv(csv_path, usecols=[1, 2, 3])\n",
    "df.iloc[96:104]"
   ]
  },
  {
   "cell_type": "code",
   "execution_count": 4,
   "id": "121798f4",
   "metadata": {},
   "outputs": [
    {
     "name": "stderr",
     "output_type": "stream",
     "text": [
      "[17:54:09] Explicit valence for atom # 12 N, 4, is greater than permitted\n",
      "[17:54:09] WARNING: not removing hydrogen atom without neighbors\n",
      "[17:54:09] WARNING: not removing hydrogen atom without neighbors\n",
      "[17:54:09] Explicit valence for atom # 5 N, 4, is greater than permitted\n",
      "[17:54:09] WARNING: not removing hydrogen atom without neighbors\n",
      "[17:54:09] WARNING: not removing hydrogen atom without neighbors\n",
      "[17:54:09] WARNING: not removing hydrogen atom without neighbors\n",
      "[17:54:09] Explicit valence for atom # 5 N, 4, is greater than permitted\n",
      "[17:54:09] WARNING: not removing hydrogen atom without neighbors\n",
      "[17:54:09] WARNING: not removing hydrogen atom without neighbors\n",
      "[17:54:10] WARNING: not removing hydrogen atom without neighbors\n",
      "[17:54:10] WARNING: not removing hydrogen atom without neighbors\n"
     ]
    },
    {
     "name": "stdout",
     "output_type": "stream",
     "text": [
      "Invalid SMILES string: c1c(c(ncc1)CSCCN\\C(=[NH]\\C#N)NCC)Br\n",
      "Invalid SMILES string: n1c(csc1\\[NH]=C(\\N)N)c1cccc(c1)NC(C)=O\n",
      "Invalid SMILES string: c1(cc(N\\C(=[NH]\\c2cccc(c2)CC)C)ccc1)CC\n"
     ]
    },
    {
     "name": "stderr",
     "output_type": "stream",
     "text": [
      "[17:54:10] WARNING: not removing hydrogen atom without neighbors\n",
      "[17:54:10] Explicit valence for atom # 5 N, 4, is greater than permitted\n",
      "[17:54:10] WARNING: not removing hydrogen atom without neighbors\n",
      "[17:54:10] WARNING: not removing hydrogen atom without neighbors\n",
      "[17:54:10] WARNING: not removing hydrogen atom without neighbors\n",
      "[17:54:10] Explicit valence for atom # 6 N, 4, is greater than permitted\n",
      "[17:54:10] WARNING: not removing hydrogen atom without neighbors\n",
      "[17:54:10] WARNING: not removing hydrogen atom without neighbors\n",
      "[17:54:10] WARNING: not removing hydrogen atom without neighbors\n",
      "[17:54:10] Explicit valence for atom # 5 N, 4, is greater than permitted\n",
      "[17:54:10] Explicit valence for atom # 5 N, 4, is greater than permitted\n",
      "[17:54:10] WARNING: not removing hydrogen atom without neighbors\n",
      "[17:54:10] WARNING: not removing hydrogen atom without neighbors\n",
      "[17:54:10] Explicit valence for atom # 11 N, 4, is greater than permitted\n"
     ]
    },
    {
     "name": "stdout",
     "output_type": "stream",
     "text": [
      "Invalid SMILES string: n1c(csc1\\[NH]=C(\\N)N)c1ccccc1\n",
      "Invalid SMILES string: c1(nc(NC(N)=[NH2])sc1)CSCCNC(=[NH]C#N)NC\n",
      "Invalid SMILES string: n1c(csc1\\[NH]=C(\\N)N)c1cccc(c1)N\n",
      "Invalid SMILES string: s1cc(nc1\\[NH]=C(\\N)N)C\n",
      "Invalid SMILES string: s1cc(CSCCN\\C(NC)=[NH]\\C#N)nc1\\[NH]=C(\\N)N\n"
     ]
    },
    {
     "name": "stderr",
     "output_type": "stream",
     "text": [
      "[17:54:10] WARNING: not removing hydrogen atom without neighbors\n",
      "[17:54:10] WARNING: not removing hydrogen atom without neighbors\n",
      "[17:54:10] WARNING: not removing hydrogen atom without neighbors\n",
      "[17:54:10] WARNING: not removing hydrogen atom without neighbors\n",
      "[17:54:10] WARNING: not removing hydrogen atom without neighbors\n",
      "[17:54:10] WARNING: not removing hydrogen atom without neighbors\n",
      "[17:54:10] WARNING: not removing hydrogen atom without neighbors\n",
      "[17:54:10] WARNING: not removing hydrogen atom without neighbors\n",
      "[17:54:10] WARNING: not removing hydrogen atom without neighbors\n",
      "[17:54:10] Explicit valence for atom # 6 N, 4, is greater than permitted\n",
      "[17:54:10] WARNING: not removing hydrogen atom without neighbors\n",
      "[17:54:10] WARNING: not removing hydrogen atom without neighbors\n",
      "[17:54:10] WARNING: not removing hydrogen atom without neighbors\n",
      "[17:54:10] Explicit valence for atom # 5 N, 4, is greater than permitted\n",
      "[17:54:10] WARNING: not removing hydrogen atom without neighbors\n",
      "[17:54:10] WARNING: not removing hydrogen atom without neighbors\n",
      "[17:54:10] WARNING: not removing hydrogen atom without neighbors\n",
      "[17:54:10] WARNING: not removing hydrogen atom without neighbors\n",
      "[17:54:10] WARNING: not removing hydrogen atom without neighbors\n",
      "[17:54:10] WARNING: not removing hydrogen atom without neighbors\n"
     ]
    },
    {
     "name": "stdout",
     "output_type": "stream",
     "text": [
      "Invalid SMILES string: Cc1nc(sc1)\\[NH]=C(\\N)N\n",
      "Invalid SMILES string: n1c(csc1\\[NH]=C(\\N)N)c1cccc(c1)N\\C(NC)=[NH]\\C#N\n",
      "Invalid SMILES string: O=N([O-])C1=C(CN=C1NCCSCc2ncccc2)Cc3ccccc3\n"
     ]
    },
    {
     "name": "stderr",
     "output_type": "stream",
     "text": [
      "[17:54:10] WARNING: not removing hydrogen atom without neighbors\n",
      "[17:54:10] WARNING: not removing hydrogen atom without neighbors\n",
      "[17:54:10] WARNING: not removing hydrogen atom without neighbors\n",
      "[17:54:10] Explicit valence for atom # 1 N, 4, is greater than permitted\n",
      "[17:54:10] WARNING: not removing hydrogen atom without neighbors\n"
     ]
    }
   ],
   "source": [
    "# Shuffle array of indices ranging from 0 to 2049\n",
    "permuted_indices = np.random.permutation(np.arange(df.shape[0]))\n",
    "\n",
    "# Train set: 80 % of data\n",
    "train_index = permuted_indices[: int(df.shape[0] * 0.8)]\n",
    "x_train = graphs_from_smiles(df.iloc[train_index].smiles)\n",
    "y_train = df.iloc[train_index].p_np\n",
    "\n",
    "# Valid set: 19 % of data\n",
    "valid_index = permuted_indices[int(df.shape[0] * 0.8) : int(df.shape[0] * 0.99)]\n",
    "x_valid = graphs_from_smiles(df.iloc[valid_index].smiles)\n",
    "y_valid = df.iloc[valid_index].p_np\n",
    "\n",
    "# Test set: 1 % of data\n",
    "test_index = permuted_indices[int(df.shape[0] * 0.99) :]\n",
    "x_test = graphs_from_smiles(df.iloc[test_index].smiles)\n",
    "y_test = df.iloc[test_index].p_np"
   ]
  },
  {
   "cell_type": "code",
   "execution_count": 5,
   "id": "d80843b5",
   "metadata": {},
   "outputs": [
    {
     "name": "stdout",
     "output_type": "stream",
     "text": [
      "Name:\tacetylsalicylate\n",
      "SMILES:\tCC(=O)Oc1ccccc1C(O)=O\n",
      "BBBP:\t0\n",
      "Molecule:\n"
     ]
    },
    {
     "data": {
      "image/png": "[encoded data removed]",
      "text/plain": [
       "<rdkit.Chem.rdchem.Mol at 0x164ddb46490>"
      ]
     },
     "execution_count": 5,
     "metadata": {},
     "output_type": "execute_result"
    }
   ],
   "source": [
    "print(f\"Name:\\t{df.name[100]}\\nSMILES:\\t{df.smiles[100]}\\nBBBP:\\t{df.p_np[100]}\")\n",
    "molecule = molecule_from_smiles(df.iloc[100].smiles)\n",
    "print(\"Molecule:\")\n",
    "molecule"
   ]
  },
  {
   "cell_type": "code",
   "execution_count": 6,
   "id": "7c509c98",
   "metadata": {},
   "outputs": [
    {
     "name": "stdout",
     "output_type": "stream",
     "text": [
      "Graph (including self-loops):\n",
      "\tatom features\t (13, 29)\n",
      "\tbond features\t (39, 7)\n",
      "\tpair indices\t (39, 2)\n"
     ]
    }
   ],
   "source": [
    "graph = graph_from_molecule(molecule)\n",
    "print(\"Graph (including self-loops):\")\n",
    "print(\"\\tatom features\\t\", graph[0].shape)\n",
    "print(\"\\tbond features\\t\", graph[1].shape)\n",
    "print(\"\\tpair indices\\t\", graph[2].shape)"
   ]
  },
  {
   "cell_type": "code",
   "execution_count": 7,
   "id": "97dd9ee7",
   "metadata": {},
   "outputs": [],
   "source": [
    "atom_dim=x_train[0][0][0].shape[0]\n",
    "bond_dim=x_train[1][0][0].shape[0]"
   ]
  },
  {
   "cell_type": "code",
   "execution_count": 8,
   "id": "e1264f68",
   "metadata": {},
   "outputs": [
    {
     "data": {
      "text/plain": [
       "(29, 7)"
      ]
     },
     "execution_count": 8,
     "metadata": {},
     "output_type": "execute_result"
    }
   ],
   "source": [
    "atom_dim, bond_dim"
   ]
  },
  {
   "cell_type": "code",
   "execution_count": 14,
   "id": "e3263855",
   "metadata": {},
   "outputs": [
    {
     "data": {
      "text/plain": [
       "(29, 7)"
      ]
     },
     "execution_count": 14,
     "metadata": {},
     "output_type": "execute_result"
    }
   ],
   "source": [
    "x_train[0][0][0].shape[0], x_train[1][0][0].shape[0]"
   ]
  },
  {
   "cell_type": "code",
   "execution_count": 19,
   "id": "ef672727",
   "metadata": {},
   "outputs": [
    {
     "name": "stdout",
     "output_type": "stream",
     "text": [
      "\u001b[1;31mType:\u001b[0m        tuple\n",
      "\u001b[1;31mString form:\u001b[0m\n",
      "([tensor([[0., 0., 0., 0., 0., 0., 0., 0., 1., 0., 0., 0., 0., 0., 0., 0., 1., 0.,\n",
      "           0., 0 <...>  8],\n",
      "           [20, 20],\n",
      "           [20,  7],\n",
      "           [20, 21],\n",
      "           [21, 21],\n",
      "           [21, 20]])])\n",
      "\u001b[1;31mLength:\u001b[0m      3\n",
      "\u001b[1;31mDocstring:\u001b[0m  \n",
      "Built-in immutable sequence.\n",
      "\n",
      "If no argument is given, the constructor returns an empty tuple.\n",
      "If iterable is specified the tuple is initialized from iterable's items.\n",
      "\n",
      "If the argument is a tuple, the return value is the same object."
     ]
    }
   ],
   "source": [
    "x_train?"
   ]
  },
  {
   "cell_type": "code",
   "execution_count": 15,
   "id": "997bbbfa",
   "metadata": {},
   "outputs": [
    {
     "data": {
      "text/plain": [
       "MPNNModel(\n",
       "  (message_passing): MessagePassing(\n",
       "    (message_step): EdgeNetwork()\n",
       "    (update_step): GRUCell(64, 64)\n",
       "  )\n",
       "  (transformer_readout): TransformerEncoderReadout(\n",
       "    (partition_padding): PartitionPadding()\n",
       "    (attention): MultiheadAttention(\n",
       "      (out_proj): NonDynamicallyQuantizableLinear(in_features=64, out_features=64, bias=True)\n",
       "    )\n",
       "    (dense_proj): Sequential(\n",
       "      (0): Linear(in_features=64, out_features=512, bias=True)\n",
       "      (1): ReLU()\n",
       "      (2): Linear(in_features=512, out_features=64, bias=True)\n",
       "    )\n",
       "    (layernorm_1): LayerNorm((64,), eps=1e-05, elementwise_affine=True)\n",
       "    (layernorm_2): LayerNorm((64,), eps=1e-05, elementwise_affine=True)\n",
       "  )\n",
       "  (dense1): Linear(in_features=512, out_features=512, bias=True)\n",
       "  (dense2): Linear(in_features=512, out_features=1, bias=True)\n",
       ")"
      ]
     },
     "execution_count": 15,
     "metadata": {},
     "output_type": "execute_result"
    }
   ],
   "source": [
    "mpnn = MPNNModel(\n",
    "    atom_dim=x_train[0][0][0].shape[0], bond_dim=x_train[1][0][0].shape[0],\n",
    ")\n",
    "\n",
    "# mpnn.compile(\n",
    "#     #loss=keras.losses.BinaryCrossentropy(),\n",
    "#     #optimizer=keras.optimizers.Adam(learning_rate=5e-4),\n",
    "#    # metrics=[keras.metrics.AUC(name=\"AUC\")],\n",
    "# )\n",
    "\n",
    "#keras.utils.plot_model(mpnn)#$, show_dtype=True, show_shapes=True)\n",
    "mpnn"
   ]
  },
  {
   "cell_type": "code",
   "execution_count": 20,
   "id": "d23962e3",
   "metadata": {},
   "outputs": [
    {
     "ename": "AttributeError",
     "evalue": "'MPNNModel' object has no attribute 'fit'",
     "output_type": "error",
     "traceback": [
      "\u001b[1;31m---------------------------------------------------------------------------\u001b[0m",
      "\u001b[1;31mAttributeError\u001b[0m                            Traceback (most recent call last)",
      "Cell \u001b[1;32mIn[20], line 5\u001b[0m\n\u001b[0;32m      2\u001b[0m valid_dataset \u001b[38;5;241m=\u001b[39m MPNNDataset(x_valid, y_valid)\n\u001b[0;32m      3\u001b[0m test_dataset \u001b[38;5;241m=\u001b[39m MPNNDataset(x_test, y_test)\n\u001b[1;32m----> 5\u001b[0m history \u001b[38;5;241m=\u001b[39m \u001b[43mmpnn\u001b[49m\u001b[38;5;241;43m.\u001b[39;49m\u001b[43mfit\u001b[49m(\n\u001b[0;32m      6\u001b[0m     train_dataset,\n\u001b[0;32m      7\u001b[0m     validation_data\u001b[38;5;241m=\u001b[39mvalid_dataset,\n\u001b[0;32m      8\u001b[0m     epochs\u001b[38;5;241m=\u001b[39m\u001b[38;5;241m40\u001b[39m,\n\u001b[0;32m      9\u001b[0m     verbose\u001b[38;5;241m=\u001b[39m\u001b[38;5;241m2\u001b[39m,\n\u001b[0;32m     10\u001b[0m     class_weight\u001b[38;5;241m=\u001b[39m{\u001b[38;5;241m0\u001b[39m: \u001b[38;5;241m2.0\u001b[39m, \u001b[38;5;241m1\u001b[39m: \u001b[38;5;241m0.5\u001b[39m},\n\u001b[0;32m     11\u001b[0m )\n\u001b[0;32m     13\u001b[0m plt\u001b[38;5;241m.\u001b[39mfigure(figsize\u001b[38;5;241m=\u001b[39m(\u001b[38;5;241m10\u001b[39m, \u001b[38;5;241m6\u001b[39m))\n\u001b[0;32m     14\u001b[0m plt\u001b[38;5;241m.\u001b[39mplot(history\u001b[38;5;241m.\u001b[39mhistory[\u001b[38;5;124m\"\u001b[39m\u001b[38;5;124mAUC\u001b[39m\u001b[38;5;124m\"\u001b[39m], label\u001b[38;5;241m=\u001b[39m\u001b[38;5;124m\"\u001b[39m\u001b[38;5;124mtrain AUC\u001b[39m\u001b[38;5;124m\"\u001b[39m)\n",
      "File \u001b[1;32mc:\\Users\\mikoo\\miniconda3\\envs\\primo\\Lib\\site-packages\\torch\\nn\\modules\\module.py:1940\u001b[0m, in \u001b[0;36mModule.__getattr__\u001b[1;34m(self, name)\u001b[0m\n\u001b[0;32m   1938\u001b[0m     \u001b[38;5;28;01mif\u001b[39;00m name \u001b[38;5;129;01min\u001b[39;00m modules:\n\u001b[0;32m   1939\u001b[0m         \u001b[38;5;28;01mreturn\u001b[39;00m modules[name]\n\u001b[1;32m-> 1940\u001b[0m \u001b[38;5;28;01mraise\u001b[39;00m \u001b[38;5;167;01mAttributeError\u001b[39;00m(\n\u001b[0;32m   1941\u001b[0m     \u001b[38;5;124mf\u001b[39m\u001b[38;5;124m\"\u001b[39m\u001b[38;5;124m'\u001b[39m\u001b[38;5;132;01m{\u001b[39;00m\u001b[38;5;28mtype\u001b[39m(\u001b[38;5;28mself\u001b[39m)\u001b[38;5;241m.\u001b[39m\u001b[38;5;18m__name__\u001b[39m\u001b[38;5;132;01m}\u001b[39;00m\u001b[38;5;124m'\u001b[39m\u001b[38;5;124m object has no attribute \u001b[39m\u001b[38;5;124m'\u001b[39m\u001b[38;5;132;01m{\u001b[39;00mname\u001b[38;5;132;01m}\u001b[39;00m\u001b[38;5;124m'\u001b[39m\u001b[38;5;124m\"\u001b[39m\n\u001b[0;32m   1942\u001b[0m )\n",
      "\u001b[1;31mAttributeError\u001b[0m: 'MPNNModel' object has no attribute 'fit'"
     ]
    }
   ],
   "source": [
    "train_dataset = MPNNDataset(x_train, y_train)\n",
    "valid_dataset = MPNNDataset(x_valid, y_valid)\n",
    "test_dataset = MPNNDataset(x_test, y_test)\n",
    "\n",
    "history = mpnn.fit(\n",
    "    train_dataset,\n",
    "    validation_data=valid_dataset,\n",
    "    epochs=40,\n",
    "    verbose=2,\n",
    "    class_weight={0: 2.0, 1: 0.5},\n",
    ")\n",
    "\n",
    "plt.figure(figsize=(10, 6))\n",
    "plt.plot(history.history[\"AUC\"], label=\"train AUC\")\n",
    "plt.plot(history.history[\"val_AUC\"], label=\"valid AUC\")\n",
    "plt.xlabel(\"Epochs\", fontsize=16)\n",
    "plt.ylabel(\"AUC\", fontsize=16)\n",
    "plt.legend(fontsize=16)"
   ]
  }
 ],
 "metadata": {
  "kernelspec": {
   "display_name": "primo",
   "language": "python",
   "name": "python3"
  },
  "language_info": {
   "codemirror_mode": {
    "name": "ipython",
    "version": 3
   },
   "file_extension": ".py",
   "mimetype": "text/x-python",
   "name": "python",
   "nbconvert_exporter": "python",
   "pygments_lexer": "ipython3",
   "version": "3.12.4"
  }
 },
 "nbformat": 4,
 "nbformat_minor": 5
}
