{
 "cells": [
  {
   "cell_type": "code",
   "execution_count": 2,
   "metadata": {},
   "outputs": [
    {
     "data": {
      "text/plain": [
       "(<llama_index.core.indices.vector_store.base.VectorStoreIndex at 0x21e3198e0f0>,\n",
       " Ollama(callback_manager=<llama_index.core.callbacks.base.CallbackManager object at 0x0000021E2F921D30>, system_prompt=None, messages_to_prompt=<function messages_to_prompt at 0x0000021E1FCC1DA0>, completion_to_prompt=<function default_completion_to_prompt at 0x0000021E1FD9BF60>, output_parser=None, pydantic_program_mode=<PydanticProgramMode.DEFAULT: 'default'>, query_wrapper_prompt=None, base_url='http://localhost:11434', model='qwen2:7b', temperature=0.75, context_window=3900, request_timeout=30.0, prompt_key='prompt', json_mode=False, additional_kwargs={}, is_function_calling_model=True, keep_alive=None))"
      ]
     },
     "execution_count": 2,
     "metadata": {},
     "output_type": "execute_result"
    }
   ],
   "source": [
    "from index import create_index, create_llm\n",
    "\n",
    "\n",
    "index = create_index()\n",
    "llm = create_llm()\n",
    "\n",
    "index, llm"
   ]
  },
  {
   "cell_type": "code",
   "execution_count": 1,
   "metadata": {},
   "outputs": [
    {
     "data": {
      "application/vnd.jupyter.widget-view+json": {
       "model_id": "3ca7c0dec8404b999f2dc2f35a52a4d2",
       "version_major": 2,
       "version_minor": 0
      },
      "text/plain": [
       "tokenizer_config.json:   0%|          | 0.00/1.29k [00:00<?, ?B/s]"
      ]
     },
     "metadata": {},
     "output_type": "display_data"
    },
    {
     "name": "stderr",
     "output_type": "stream",
     "text": [
      "c:\\Users\\mikoo\\miniconda3\\envs\\primo\\Lib\\site-packages\\huggingface_hub\\file_download.py:142: UserWarning: `huggingface_hub` cache-system uses symlinks by default to efficiently store duplicated files but your machine does not support them in C:\\Users\\mikoo\\.cache\\huggingface\\hub\\models--Qwen--Qwen2-7B-Instruct. Caching files will still work but in a degraded version that might require more space on your disk. This warning can be disabled by setting the `HF_HUB_DISABLE_SYMLINKS_WARNING` environment variable. For more details, see https://huggingface.co/docs/huggingface_hub/how-to-cache#limitations.\n",
      "To support symlinks on Windows, you either need to activate Developer Mode or to run Python as an administrator. In order to activate developer mode, see this article: https://docs.microsoft.com/en-us/windows/apps/get-started/enable-your-device-for-development\n",
      "  warnings.warn(message)\n"
     ]
    },
    {
     "data": {
      "application/vnd.jupyter.widget-view+json": {
       "model_id": "7a86bf1284da4f00bb99b86329a15fff",
       "version_major": 2,
       "version_minor": 0
      },
      "text/plain": [
       "vocab.json:   0%|          | 0.00/2.78M [00:00<?, ?B/s]"
      ]
     },
     "metadata": {},
     "output_type": "display_data"
    },
    {
     "data": {
      "application/vnd.jupyter.widget-view+json": {
       "model_id": "a22fac9cf2bf4ad2abe488a668737840",
       "version_major": 2,
       "version_minor": 0
      },
      "text/plain": [
       "merges.txt:   0%|          | 0.00/1.67M [00:00<?, ?B/s]"
      ]
     },
     "metadata": {},
     "output_type": "display_data"
    },
    {
     "data": {
      "application/vnd.jupyter.widget-view+json": {
       "model_id": "eef56fe73f864709a41a8c8ae0d8da08",
       "version_major": 2,
       "version_minor": 0
      },
      "text/plain": [
       "tokenizer.json:   0%|          | 0.00/7.03M [00:00<?, ?B/s]"
      ]
     },
     "metadata": {},
     "output_type": "display_data"
    },
    {
     "name": "stderr",
     "output_type": "stream",
     "text": [
      "Sliding Window Attention is enabled but not implemented for `sdpa`; unexpected results may be encountered.\n"
     ]
    },
    {
     "data": {
      "application/vnd.jupyter.widget-view+json": {
       "model_id": "c5f34c02e2394edebefe655e55a73522",
       "version_major": 2,
       "version_minor": 0
      },
      "text/plain": [
       "Loading checkpoint shards:   0%|          | 0/4 [00:00<?, ?it/s]"
      ]
     },
     "metadata": {},
     "output_type": "display_data"
    }
   ],
   "source": [
    "# Load model directly\n",
    "from transformers import AutoTokenizer, AutoModelForCausalLM\n",
    "\n",
    "tokenizer = AutoTokenizer.from_pretrained(\"Qwen/Qwen2-7B-Instruct\")\n",
    "model = AutoModelForCausalLM.from_pretrained(\"Qwen/Qwen2-7B-Instruct\")"
   ]
  },
  {
   "cell_type": "markdown",
   "metadata": {},
   "source": [
    "#### as query engine"
   ]
  },
  {
   "cell_type": "code",
   "execution_count": 3,
   "metadata": {},
   "outputs": [
    {
     "data": {
      "text/plain": [
       "Response(response='Minister właściwy do spraw informatyzacji prowadzi rejestr obywateli Ukrainy.', source_nodes=[NodeWithScore(node=TextNode(id_='4371c3d3-f643-41c9-a468-cd9e9b994a18', embedding=None, metadata={'page_label': '5', 'file_name': 'specustawa_12032022.pdf', 'file_path': 'C:\\\\Users\\\\mikoo\\\\Downloads\\\\specustawa_12032022.pdf', 'file_type': 'application/pdf', 'file_size': 832598, 'creation_date': '2025-03-13', 'last_modified_date': '2025-03-13'}, excluded_embed_metadata_keys=['file_name', 'file_type', 'file_size', 'creation_date', 'last_modified_date', 'last_accessed_date'], excluded_llm_metadata_keys=['file_name', 'file_type', 'file_size', 'creation_date', 'last_modified_date', 'last_accessed_date'], relationships={<NodeRelationship.SOURCE: '1'>: RelatedNodeInfo(node_id='383d67d6-6398-470b-bff7-13d29d41719a', node_type='4', metadata={'page_label': '5', 'file_name': 'specustawa_12032022.pdf', 'file_path': 'C:\\\\Users\\\\mikoo\\\\Downloads\\\\specustawa_12032022.pdf', 'file_type': 'application/pdf', 'file_size': 832598, 'creation_date': '2025-03-13', 'last_modified_date': '2025-03-13'}, hash='29d2bfd6e667844a0e6a33e0b52a6a4e7403b1901168f0df74b0eeb5ec46fa32'), <NodeRelationship.PREVIOUS: '2'>: RelatedNodeInfo(node_id='0d6092eb-4665-46bc-9410-b75b301eda6e', node_type='1', metadata={'page_label': '5', 'file_name': 'specustawa_12032022.pdf', 'file_path': 'C:\\\\Users\\\\mikoo\\\\Downloads\\\\specustawa_12032022.pdf', 'file_type': 'application/pdf', 'file_size': 832598, 'creation_date': '2025-03-13', 'last_modified_date': '2025-03-13'}, hash='35e374d1cb04361d7f333678d16d00be9ac192424d85cd4cf7a5f8595c51529d')}, metadata_template='{key}: {value}', metadata_separator='\\n', text='Art. 5. 1. Organ gminy może zapewnić obywatelowi Ukrainy, którego pobyt na terytorium Rzeczypospolitej Polskiej \\nuznaje się za legalny na podstawie art. 2 ust. 1, możliwość nieodpłatnego wykonania fotografii, o której mowa w art. 4 ust. 7. \\n2. Zadanie, o którym mowa w ust. 1, jest zadaniem zleconym z zakresu administracji rządowej. \\nArt. 6. 1. Minister właściwy do spraw informatyzacji prowadzi rejestr obywateli Ukrainy, którym nadano numer PESEL, \\nw sposób określony w art. 4. \\n2. Rejestr prowadzi się w  systemie teleinformatycznym, o którym mowa w  art. 55 ustawy z  dnia 6  sierpnia 2010  r. \\no dowodach osobistych. \\n3. Prowadząc rejestr, o którym mowa w ust. 1, minister właściwy do sprawy informatyzacji: \\n1) zapewnia ochronę przed nieuprawnionym dostępem do rejestru; \\n2) zapewnia integralność danych w rejestrze; \\n3) zapewnia dostępność systemu teleinformatycznego, w  którym rejestr jest prowadzony, dla podmiotów przetwarzają-\\ncych dane w rejestrze; \\n4) przeciwdziała uszkodzeniom systemu teleinformatycznego, w którym rejestr jest prowadzony; \\n5) określa zasady bezpieczeństwa przetwarzanych danych, w tym danych osobowych; \\n6) zapewnia rozliczalność działań dokonywanych na danych rejestru. \\n4. Minister właściwy do spraw informatyzacji jest administratorem danych przetwarzanych w  rejestrze, o  którym \\nmowa w ust. 1. \\n5. W rejestrze, o którym mowa w ust. 1, gromadzi się: \\n1) dane, o których mowa w art. 4 ust. 4 pkt 1–4, 10–16 i 18; \\n2) numer PESEL; \\n3) fotografię, o której mowa w art. 4 ust. 7; \\n4) odciski palców;', mimetype='text/plain', start_char_idx=1979, end_char_idx=3514, metadata_seperator='\\n', text_template='{metadata_str}\\n\\n{content}'), score=0.6810022930123993)], metadata={'4371c3d3-f643-41c9-a468-cd9e9b994a18': {'page_label': '5', 'file_name': 'specustawa_12032022.pdf', 'file_path': 'C:\\\\Users\\\\mikoo\\\\Downloads\\\\specustawa_12032022.pdf', 'file_type': 'application/pdf', 'file_size': 832598, 'creation_date': '2025-03-13', 'last_modified_date': '2025-03-13'}})"
      ]
     },
     "execution_count": 3,
     "metadata": {},
     "output_type": "execute_result"
    }
   ],
   "source": [
    "query_engine = index.as_query_engine(llm=llm)\n",
    "response = query_engine.query(\"Kto prowadzi rejestr obywateli Ukrainy?\")\n",
    "response"
   ]
  },
  {
   "cell_type": "code",
   "execution_count": 4,
   "metadata": {},
   "outputs": [
    {
     "name": "stdout",
     "output_type": "stream",
     "text": [
      "Typ:  <class 'llama_index.core.base.response.schema.Response'>\n",
      "Tekst:  Minister właściwy do spraw informatyzacji prowadzi rejestr obywateli Ukrainy.\n",
      "Źródło:  > Source (Doc id: 4371c3d3-f643-41c9-a468-cd9e9b994a18): Art. 5. 1. Organ gminy może zapewnić obywatelowi Ukrainy, którego pobyt na terytorium Rzeczypospo...\n"
     ]
    }
   ],
   "source": [
    "print(f\"Typ:  {type(response)}\")\n",
    "print(f\"Tekst:  {response.response}\")\n",
    "print(f\"Źródło:  {response.get_formatted_sources()}\")"
   ]
  },
  {
   "cell_type": "code",
   "execution_count": 5,
   "metadata": {},
   "outputs": [
    {
     "name": "stdout",
     "output_type": "stream",
     "text": [
      "Rejestr obywateli Ukrainy prowadzi Minister właściwy do spraw informatyzacji."
     ]
    }
   ],
   "source": [
    "query_engine = index.as_query_engine(llm=llm, streaming=True)\n",
    "streaming_response = query_engine.query(\"Kto prowadzi rejestr obywateli Ukrainy?\")\n",
    "streaming_response.print_response_stream()"
   ]
  },
  {
   "cell_type": "code",
   "execution_count": 6,
   "metadata": {},
   "outputs": [
    {
     "name": "stdout",
     "output_type": "stream",
     "text": [
      "<generator object stream_chat_response_to_tokens.<locals>.gen at 0x0000021E3AD8EB50>\n",
      "> Source (Node id: 4371c3d3-f643-41c9-a468-cd9e9b994a18): Art. 5. 1. Organ gminy może zapewnić obywatelowi Ukrainy, którego pobyt na terytorium Rzeczypospo...\n",
      "Rejestr obywateli Ukrainy prowadzi Minister właściwy do spraw informatyzacji.\n",
      "Rejestr obywateli Ukrainy prowadzi Minister właściwy do spraw informatyzacji.\n",
      "None\n"
     ]
    }
   ],
   "source": [
    "print(streaming_response.response_gen)\n",
    "print(streaming_response.get_formatted_sources())\n",
    "print(streaming_response.get_response())\n",
    "print(streaming_response.print_response_stream())"
   ]
  },
  {
   "cell_type": "markdown",
   "metadata": {},
   "source": [
    "Response modes"
   ]
  },
  {
   "cell_type": "code",
   "execution_count": 16,
   "metadata": {},
   "outputs": [
    {
     "name": "stdout",
     "output_type": "stream",
     "text": [
      "Ustawa dotyczy przepisów dotyczących wykonywania prac w obszarach pokrytych wodami, w pasie drogowym oraz wykorzystywania kanałów technologicznych. Zdefiniowane są warunki dozwolone dla eksploatacji instalacji i wymagania dotyczące zgłoszenia do właściwego organu ochrony środowiska. Ustawa także omagaćcy problem obciążenia nieruchomości usługą wykonawców prac w pasie drogowym.\n"
     ]
    }
   ],
   "source": [
    "query_engine = index.as_query_engine(\n",
    "    llm=llm,\n",
    "    response_mode=\"compact\",\n",
    ")\n",
    "response = query_engine.query(\"O czym mówi ustawa?\")\n",
    "print(response)"
   ]
  },
  {
   "cell_type": "markdown",
   "metadata": {},
   "source": [
    "#### "
   ]
  },
  {
   "cell_type": "code",
   "execution_count": 17,
   "metadata": {},
   "outputs": [
    {
     "name": "stdout",
     "output_type": "stream",
     "text": [
      "Ustawa odnosi się do różnych aspektów praw dotyczących użytkowania gruntów pokrytych wodami i wykonywania prac na nich. Ustawę to regulują przepisy dotyczące zawarcia umowy, wykonywania prac w obrębie pasa drogowego bez wymagania sporządzania projektu organizacji ruchu czy płacenia opłat, korzystanie z kanału technologicznego na drogach publicznych oraz eksploatacji instalacji. Ustawa również omaga to co do zgłoszenia w odniesieniu do ochrony środowiska, a także przepisy dotyczące obciążyności nieruchomości usługą polegającą na wykonywaniu określonych prac przez operatora telekomunikacyjnego.\n"
     ]
    }
   ],
   "source": [
    "query_engine = index.as_query_engine(\n",
    "    llm=llm,\n",
    "    response_mode=\"refine\",\n",
    ")\n",
    "response = query_engine.query(\"O czym mówi ustawa?\")\n",
    "print(response)"
   ]
  },
  {
   "cell_type": "code",
   "execution_count": 19,
   "metadata": {},
   "outputs": [
    {
     "name": "stdout",
     "output_type": "stream",
     "text": [
      "Ustawa mówi o różnych aspektach wykonywania prac na gruntach pokrytych wodami, np. zawarciu umowy użytkowania takich gruntów, wykonywaniu prac w pasie drogowym bez wymagania sporządzania projektu organizacji ruchu lub pobierania opłat, korzystaniu z kanałów technologicznych na drogach publicznych oraz przystąpieniu do eksploatacji instalacji. Tekst również omawia odpowiednie zgłoszenia dla operatora telekomunikacyjnego oraz obciążyność nieruchomości służbą związującą wykonywanie określonych prac.\n"
     ]
    }
   ],
   "source": [
    "query_engine = index.as_query_engine(\n",
    "    llm=llm,\n",
    "    response_mode=\"tree_summarize\",\n",
    ")\n",
    "response = query_engine.query(\"O czym mówi ustawa?\")\n",
    "print(response)"
   ]
  },
  {
   "cell_type": "code",
   "execution_count": 20,
   "metadata": {},
   "outputs": [
    {
     "name": "stdout",
     "output_type": "stream",
     "text": [
      "Response 1: Ustawa mówiona w kontekście odnosi się do Prawa wodnego z dnia 20 lipca 2017 roku oraz do ustawy o drogach publicznych z dnia 21 marca 1985 roku. W niej są omawiane kwestie związane z zawarciem umowy dotyczącej użytkowania gruntów pokrytych wodami, wykonywaniem prac w pasie drogowym bez konieczności sporządzania projektu organizacji ruchu i opłat za taką akcję, wykorzystywaniem kanałów technologicznych na drogach publicznych oraz prawem eksploatacji instalacji. Ustawa również omaga się z przepisami dotyczącymi ochrony środowiska, podkreślając wymagania związanych z zgłoszeniem operacji prowadzonej przez operatora telekomunikacyjnego.\n"
     ]
    }
   ],
   "source": [
    "query_engine = index.as_query_engine(\n",
    "    llm=llm,\n",
    "    response_mode=\"accumulate\",\n",
    ")\n",
    "response = query_engine.query(\"O czym mówi ustawa?\")\n",
    "print(response)"
   ]
  },
  {
   "cell_type": "code",
   "execution_count": 21,
   "metadata": {},
   "outputs": [
    {
     "name": "stdout",
     "output_type": "stream",
     "text": [
      "Ustawa porusza tematy związane z zawarciem umowy w sprawie użytkowania gruntów pokrytych wodami, wykonywaniem prac w obrębie pasa drogowego, wykorzystaniem kanału technologicznego na drogach publicznych, przystąpieniem do eksploatacji instalacji oraz obciążeniem nieruchomości usługą.\n"
     ]
    }
   ],
   "source": [
    "query_engine = index.as_query_engine(\n",
    "    llm=llm,\n",
    "    response_mode=\"simple_summarize\",\n",
    ")\n",
    "response = query_engine.query(\"O czym mówi ustawa?\")\n",
    "print(response)"
   ]
  },
  {
   "cell_type": "markdown",
   "metadata": {},
   "source": [
    "Nie widze aby sposob wyswietlania mial wieksze znaczenie niz losowosc odpowiedzi"
   ]
  },
  {
   "cell_type": "code",
   "execution_count": 38,
   "metadata": {},
   "outputs": [
    {
     "name": "stdout",
     "output_type": "stream",
     "text": [
      "Ustawa mowa o zawarciu umowy w sprawie użytkowania gruntów pokrytych wodami, regulacji wykonywania prac w obrębie pasa drogowego drogi publicznej bez wymagania sporządzenia projektu organizacji ruchu i bez pobierania opłaty, wykorzystaniu kanału technologicznego do wykonywania prac na drogach publicznych, przystąpieniu do eksploatacji instalacji przed doręceniem zgłoszenia w organ ochrony środowiska zgodnie z danymi przepisami prawa, oraz prawie operatora telekomunikacyjnego wykonywającego takich prac.\n"
     ]
    }
   ],
   "source": [
    "query_engine = index.as_query_engine(\n",
    "    llm=llm,\n",
    "    response_mode=\"simple_summarize\",\n",
    ")\n",
    "response = query_engine.query(\"O czym mówi ustawa?\")\n",
    "print(response)"
   ]
  },
  {
   "cell_type": "code",
   "execution_count": 41,
   "metadata": {},
   "outputs": [
    {
     "name": "stdout",
     "output_type": "stream",
     "text": [
      "\n",
      "Źródła:\n",
      "  * Dokument: 3c631f9f-4ef7-42b0-8ff0-0e4d2761e31a\n",
      "\n",
      "    Fragment tekstu: ©Kancelaria Sejmu  s. 40/45 \n",
      "2022-03-14 \n",
      "c) zawarcia umowy w sprawie użytkowania gruntów pokrytych wodami, o  której mowa w art. 261 ust. 1 \n",
      "pkt 8 ustawy z dnia 20 lipca 2017 r. – Prawo wodne (Dz.  U. z 2021 r. poz. 2233 i 2368 oraz z  2022 r. \n",
      "poz. 88 i 258); \n",
      "2) w przypadku, gdy wykonywanie tych prac ma nastąpić w  obrębie pasa drogowego drogi publicznej – może \n",
      "nastąpić po poinformowaniu właściwego zarządcy drogi o  planowanym zakresie zajęcia pasa drogowego, \n",
      "przy czym nie jest wymagane sporządzenie projektu organizacji ruchu, o którym mowa w przepisach wyko-\n",
      "nawczych wydanych na podstawie art. 10 ust. 12 ustawy z dnia 20 czerwca 1997 r. – Prawo o ruchu drogo-\n",
      "wym (Dz. U. z 2021 r. poz. 450, z późn. zm.12)), oraz nie pobiera się opłaty, o  której mowa w art. 40 ust. 3 \n",
      "ustawy z dnia 21 marca 1985 r. o drogach publicznych; \n",
      "3) w przypadku, gdy do wykonywania tych prac możliwe jest wykorzystanie kanału technologicznego, o którym \n",
      "mowa w art. 39 ust. 6 ustawy z dnia 21 marca 1985 r. o drogach publicznych, udostepnienie kanału techno-\n",
      "logicznego następuje niezwłocznie pod nadzorem zarzą dcy drogi i  nie pobiera się opłaty, o  której mowa \n",
      "w art. 39 ust. 7g tej ustawy. \n",
      "4. Przystąpienie do eksploatacji instalacji, o  których mowa w ust. 1, jest możliwe przed doręczeniem właś -\n",
      "ciwemu organowi ochrony środowiska zgłoszenia, o  którym mowa w  art. 152 ust. 1 ustawy z  dnia 27  kwietnia \n",
      "2001 r. – Prawo ochrony środowiska (Dz.  U. z 2021 r. poz. 1973, 2127 i  2269). W takim przypadku zgłoszenie \n",
      "doręcza się właściwemu organowi w  terminie 30  dni od dnia rozpoczęcia eksploatacji tej instalacji. Przepisów \n",
      "art. 152 ust. 4–4c oraz art. 152b ustawy z dnia 27 kwietnia 2001 r. – Prawo ochrony środowiska nie stosuje się. \n",
      "5. Na rzecz operatora telekomunikacyjnego, który wykonuje prace, o których mowa w ust. 1, nieruchomość \n",
      "można obciążyć służebnością polegającą na tym, że może on wykonywać te prace i korzystać w okresie, o którym \n",
      "mowa w  tym przepisie, z  nieruchomości obciążonej, zgodnie z  przeznaczeniem urządzeń, o  których mowa \n",
      "w ust. 1.”; \n",
      "2) po art. 13 dodaje się art. 13a w brzmieniu: \n",
      "„Art. 13a. 1.\n",
      "\n",
      "    Podobieństwo: 0.5735626103755462\n",
      "\n",
      "----------------------------------------\n"
     ]
    }
   ],
   "source": [
    "print(\"\\nŹródła:\")\n",
    "for node in response.source_nodes:\n",
    "    print(f\"  * Dokument: {node.node.ref_doc_id}\\n\")\n",
    "    print(f\"    Fragment tekstu: {node.node.get_content()}\\n\")\n",
    "    print(f\"    Podobieństwo: {node.score}\\n\")\n",
    "    print(\"-\" * 40)"
   ]
  },
  {
   "cell_type": "code",
   "execution_count": 49,
   "metadata": {},
   "outputs": [
    {
     "name": "stdout",
     "output_type": "stream",
     "text": [
      "Ustawa o pomocy obywatelom Ukrainy dotyczy szczegółów regulacji dotyczących pobytu obywateli Ukrainy, którzy przybyli na terytorium Rzeczypospolitej Polskiej bezpośrednio z terytorium Ukrainy w związku z działaniami wojennymi prowadzonymi na terytorium tego państwa. Ustawa obejmuje również pomoc zapewnianą przez odpowiednich podmiotów, utworzenie Funduszu Pomocy oraz niektóre uprawnienia obywateli Ukrainy i Polski związanych z wjeżdżaniem i pobytu na terytorium Rzeczypospolitej Polskiej.\n"
     ]
    }
   ],
   "source": [
    "query_engine = index.as_query_engine(\n",
    "    llm=llm,\n",
    "    response_mode=\"tree_summarize\",\n",
    ")\n",
    "response = query_engine.query(\"Czego dotyczy ustawa o pomocy obywatelom Ukrainy?\")\n",
    "print(response)"
   ]
  },
  {
   "cell_type": "code",
   "execution_count": 43,
   "metadata": {},
   "outputs": [
    {
     "name": "stdout",
     "output_type": "stream",
     "text": [
      "\n",
      "Źródła:\n",
      "  * Dokument: f75563de-ebb4-4f5c-82a0-106931bd1a8a\n",
      "\n",
      "    Fragment tekstu: ©Kancelaria Sejmu  s. 1/45 \n",
      "2022-03-14 \n",
      " \n",
      "Dz.U. 2022 poz. 583 \n",
      " \n",
      "USTAWA  \n",
      "z dnia 12 marca 2022 r. \n",
      "o pomocy obywatelom Ukrainy w związku z konfliktem zbrojnym na terytorium tego państwa1) \n",
      "Art. 1. 1. Ustawa określa szczególne zasady zalegalizowania pobytu obywateli Ukrainy, którzy przybyli na terytorium \n",
      "Rzeczypospolitej Polskiej bezpośrednio z terytorium Ukrainy w związku z działaniami wojennymi prowadzonymi na terytorium \n",
      "tego państwa, oraz obywateli Ukrainy posiadających Kartę Polaka, którzy wraz z najbliższą rodziną z powodu tych działań \n",
      "wojennych przybyli na terytorium Rzeczypospolitej Polskiej. \n",
      "2. Ilekroć w ustawie jest mowa o obywatelu Ukrainy, rozumie się przez to także nieposiadającego obywatelstwa ukraińskiego \n",
      "małżonka obywatela Ukrainy, o ile przybył on na terytorium Rzeczypospolitej Polskiej bezpośrednio z  terytorium Ukrainy \n",
      "w związku z działaniami wojennymi prowadzonymi na terytorium tego państwa. \n",
      "3. Ustawa określa również: \n",
      "1) szczególne zasady powierzenia pracy obywatelom Ukrainy, przebywającym legalnie na terytorium Rzeczypospolitej \n",
      "Polskiej; \n",
      "2) pomoc zapewnianą przez wojewodów, jednostki samorządu terytorialnego oraz inne podmioty obywatelom Ukrainy;  \n",
      "3) utworzenie Funduszu Pomocy w celu finansowania lub dofinansowania realizacji zadań na rzecz pomocy obywatelom \n",
      "Ukrainy; \n",
      "4) niektóre uprawnienia obywateli Ukrainy, których pobyt na terytorium Rzeczypospolitej Polskiej jest uznawany za legalny; \n",
      "5) szczególne zasady przedłużania okresów legalnego pobytu obywateli Ukrainy oraz wydanych im przez organy polskie \n",
      "dokumentów dotyczących uprawnień w zakresie wjazdu i pobytu na terytorium Rzeczypospolitej Polskiej; \n",
      "6) niektóre uprawnienia obywateli polskich i  obywateli Ukrainy będących studentami, naucz ycielami akademickimi lub \n",
      "pracownikami naukowymi wjeżdżającymi z terytorium Ukrainy; \n",
      "7) szczególne regulacje dotyczące kształcenia, wychowania i  opieki dzieci i  uczniów będących obywatelami Ukrainy, \n",
      "w tym wsparcia jednostek samorządu terytorialnego w realizacji dodatkowych zadań oświatowych w tym zakresie; \n",
      "8) szczególne zasady organizacji i funkcjonowania uczelni w związku z zapewnianiem miejsc na studiach dla obywateli \n",
      "Ukrainy, o których mowa w ust. 1; \n",
      "9) szczególne zasady podejmowania i wykonywania działalności gospodarczej przez obywateli Ukrainy, przebywających \n",
      "legalnie na terytorium Rzeczypospolitej Polskiej. \n",
      "Art. 2. 1. Jeżeli obywatel Ukrainy, o  którym mowa w  art. 1 ust.\n",
      "\n",
      "    Podobieństwo: 0.7269757631472595\n",
      "\n",
      "----------------------------------------\n"
     ]
    }
   ],
   "source": [
    "print(\"\\nŹródła:\")\n",
    "for node in response.source_nodes:\n",
    "    print(f\"  * Dokument: {node.node.ref_doc_id}\\n\")\n",
    "    print(f\"    Fragment tekstu: {node.node.get_content()}\\n\")\n",
    "    print(f\"    Podobieństwo: {node.score}\\n\")\n",
    "    print(\"-\" * 40)"
   ]
  },
  {
   "cell_type": "code",
   "execution_count": 48,
   "metadata": {},
   "outputs": [
    {
     "ename": "ValueError",
     "evalue": "Unknown mode: tree",
     "output_type": "error",
     "traceback": [
      "\u001b[1;31m---------------------------------------------------------------------------\u001b[0m",
      "\u001b[1;31mValueError\u001b[0m                                Traceback (most recent call last)",
      "Cell \u001b[1;32mIn[48], line 1\u001b[0m\n\u001b[1;32m----> 1\u001b[0m query_engine \u001b[38;5;241m=\u001b[39m \u001b[43mindex\u001b[49m\u001b[38;5;241;43m.\u001b[39;49m\u001b[43mas_query_engine\u001b[49m\u001b[43m(\u001b[49m\n\u001b[0;32m      2\u001b[0m \u001b[43m    \u001b[49m\u001b[43mllm\u001b[49m\u001b[38;5;241;43m=\u001b[39;49m\u001b[43mllm\u001b[49m\u001b[43m,\u001b[49m\n\u001b[0;32m      3\u001b[0m \u001b[43m    \u001b[49m\u001b[43mresponse_mode\u001b[49m\u001b[38;5;241;43m=\u001b[39;49m\u001b[38;5;124;43m\"\u001b[39;49m\u001b[38;5;124;43mtree\u001b[39;49m\u001b[38;5;124;43m\"\u001b[39;49m\u001b[43m,\u001b[49m\n\u001b[0;32m      4\u001b[0m \u001b[43m)\u001b[49m\n\u001b[0;32m      5\u001b[0m response \u001b[38;5;241m=\u001b[39m query_engine\u001b[38;5;241m.\u001b[39mquery(\u001b[38;5;124m\"\u001b[39m\u001b[38;5;124mOd kogo nie można pobierać odcisków palców?\u001b[39m\u001b[38;5;124m\"\u001b[39m)\n\u001b[0;32m      6\u001b[0m \u001b[38;5;28mprint\u001b[39m(response)\n",
      "File \u001b[1;32mc:\\Users\\mikoo\\miniconda3\\envs\\primo\\Lib\\site-packages\\llama_index\\core\\indices\\base.py:381\u001b[0m, in \u001b[0;36mBaseIndex.as_query_engine\u001b[1;34m(self, llm, **kwargs)\u001b[0m\n\u001b[0;32m    374\u001b[0m retriever \u001b[38;5;241m=\u001b[39m \u001b[38;5;28mself\u001b[39m\u001b[38;5;241m.\u001b[39mas_retriever(\u001b[38;5;241m*\u001b[39m\u001b[38;5;241m*\u001b[39mkwargs)\n\u001b[0;32m    375\u001b[0m llm \u001b[38;5;241m=\u001b[39m (\n\u001b[0;32m    376\u001b[0m     resolve_llm(llm, callback_manager\u001b[38;5;241m=\u001b[39m\u001b[38;5;28mself\u001b[39m\u001b[38;5;241m.\u001b[39m_callback_manager)\n\u001b[0;32m    377\u001b[0m     \u001b[38;5;28;01mif\u001b[39;00m llm\n\u001b[0;32m    378\u001b[0m     \u001b[38;5;28;01melse\u001b[39;00m Settings\u001b[38;5;241m.\u001b[39mllm\n\u001b[0;32m    379\u001b[0m )\n\u001b[1;32m--> 381\u001b[0m \u001b[38;5;28;01mreturn\u001b[39;00m \u001b[43mRetrieverQueryEngine\u001b[49m\u001b[38;5;241;43m.\u001b[39;49m\u001b[43mfrom_args\u001b[49m\u001b[43m(\u001b[49m\n\u001b[0;32m    382\u001b[0m \u001b[43m    \u001b[49m\u001b[43mretriever\u001b[49m\u001b[43m,\u001b[49m\n\u001b[0;32m    383\u001b[0m \u001b[43m    \u001b[49m\u001b[43mllm\u001b[49m\u001b[38;5;241;43m=\u001b[39;49m\u001b[43mllm\u001b[49m\u001b[43m,\u001b[49m\n\u001b[0;32m    384\u001b[0m \u001b[43m    \u001b[49m\u001b[38;5;241;43m*\u001b[39;49m\u001b[38;5;241;43m*\u001b[39;49m\u001b[43mkwargs\u001b[49m\u001b[43m,\u001b[49m\n\u001b[0;32m    385\u001b[0m \u001b[43m\u001b[49m\u001b[43m)\u001b[49m\n",
      "File \u001b[1;32mc:\\Users\\mikoo\\miniconda3\\envs\\primo\\Lib\\site-packages\\llama_index\\core\\query_engine\\retriever_query_engine.py:102\u001b[0m, in \u001b[0;36mRetrieverQueryEngine.from_args\u001b[1;34m(cls, retriever, llm, response_synthesizer, node_postprocessors, callback_manager, response_mode, text_qa_template, refine_template, summary_template, simple_template, output_cls, use_async, streaming, **kwargs)\u001b[0m\n\u001b[0;32m     79\u001b[0m \u001b[38;5;250m\u001b[39m\u001b[38;5;124;03m\"\"\"Initialize a RetrieverQueryEngine object.\".\u001b[39;00m\n\u001b[0;32m     80\u001b[0m \n\u001b[0;32m     81\u001b[0m \u001b[38;5;124;03mArgs:\u001b[39;00m\n\u001b[1;32m   (...)\u001b[0m\n\u001b[0;32m     98\u001b[0m \u001b[38;5;124;03m    streaming (bool): Whether to use streaming.\u001b[39;00m\n\u001b[0;32m     99\u001b[0m \u001b[38;5;124;03m\"\"\"\u001b[39;00m\n\u001b[0;32m    100\u001b[0m llm \u001b[38;5;241m=\u001b[39m llm \u001b[38;5;129;01mor\u001b[39;00m Settings\u001b[38;5;241m.\u001b[39mllm\n\u001b[1;32m--> 102\u001b[0m response_synthesizer \u001b[38;5;241m=\u001b[39m response_synthesizer \u001b[38;5;129;01mor\u001b[39;00m \u001b[43mget_response_synthesizer\u001b[49m\u001b[43m(\u001b[49m\n\u001b[0;32m    103\u001b[0m \u001b[43m    \u001b[49m\u001b[43mllm\u001b[49m\u001b[38;5;241;43m=\u001b[39;49m\u001b[43mllm\u001b[49m\u001b[43m,\u001b[49m\n\u001b[0;32m    104\u001b[0m \u001b[43m    \u001b[49m\u001b[43mtext_qa_template\u001b[49m\u001b[38;5;241;43m=\u001b[39;49m\u001b[43mtext_qa_template\u001b[49m\u001b[43m,\u001b[49m\n\u001b[0;32m    105\u001b[0m \u001b[43m    \u001b[49m\u001b[43mrefine_template\u001b[49m\u001b[38;5;241;43m=\u001b[39;49m\u001b[43mrefine_template\u001b[49m\u001b[43m,\u001b[49m\n\u001b[0;32m    106\u001b[0m \u001b[43m    \u001b[49m\u001b[43msummary_template\u001b[49m\u001b[38;5;241;43m=\u001b[39;49m\u001b[43msummary_template\u001b[49m\u001b[43m,\u001b[49m\n\u001b[0;32m    107\u001b[0m \u001b[43m    \u001b[49m\u001b[43msimple_template\u001b[49m\u001b[38;5;241;43m=\u001b[39;49m\u001b[43msimple_template\u001b[49m\u001b[43m,\u001b[49m\n\u001b[0;32m    108\u001b[0m \u001b[43m    \u001b[49m\u001b[43mresponse_mode\u001b[49m\u001b[38;5;241;43m=\u001b[39;49m\u001b[43mresponse_mode\u001b[49m\u001b[43m,\u001b[49m\n\u001b[0;32m    109\u001b[0m \u001b[43m    \u001b[49m\u001b[43moutput_cls\u001b[49m\u001b[38;5;241;43m=\u001b[39;49m\u001b[43moutput_cls\u001b[49m\u001b[43m,\u001b[49m\n\u001b[0;32m    110\u001b[0m \u001b[43m    \u001b[49m\u001b[43muse_async\u001b[49m\u001b[38;5;241;43m=\u001b[39;49m\u001b[43muse_async\u001b[49m\u001b[43m,\u001b[49m\n\u001b[0;32m    111\u001b[0m \u001b[43m    \u001b[49m\u001b[43mstreaming\u001b[49m\u001b[38;5;241;43m=\u001b[39;49m\u001b[43mstreaming\u001b[49m\u001b[43m,\u001b[49m\n\u001b[0;32m    112\u001b[0m \u001b[43m\u001b[49m\u001b[43m)\u001b[49m\n\u001b[0;32m    114\u001b[0m callback_manager \u001b[38;5;241m=\u001b[39m callback_manager \u001b[38;5;129;01mor\u001b[39;00m Settings\u001b[38;5;241m.\u001b[39mcallback_manager\n\u001b[0;32m    116\u001b[0m \u001b[38;5;28;01mreturn\u001b[39;00m \u001b[38;5;28mcls\u001b[39m(\n\u001b[0;32m    117\u001b[0m     retriever\u001b[38;5;241m=\u001b[39mretriever,\n\u001b[0;32m    118\u001b[0m     response_synthesizer\u001b[38;5;241m=\u001b[39mresponse_synthesizer,\n\u001b[0;32m    119\u001b[0m     callback_manager\u001b[38;5;241m=\u001b[39mcallback_manager,\n\u001b[0;32m    120\u001b[0m     node_postprocessors\u001b[38;5;241m=\u001b[39mnode_postprocessors,\n\u001b[0;32m    121\u001b[0m )\n",
      "File \u001b[1;32mc:\\Users\\mikoo\\miniconda3\\envs\\primo\\Lib\\site-packages\\llama_index\\core\\response_synthesizers\\factory.py:151\u001b[0m, in \u001b[0;36mget_response_synthesizer\u001b[1;34m(llm, prompt_helper, text_qa_template, refine_template, summary_template, simple_template, response_mode, callback_manager, use_async, streaming, structured_answer_filtering, output_cls, program_factory, verbose)\u001b[0m\n\u001b[0;32m    146\u001b[0m     \u001b[38;5;28;01mreturn\u001b[39;00m ContextOnly(\n\u001b[0;32m    147\u001b[0m         callback_manager\u001b[38;5;241m=\u001b[39mcallback_manager,\n\u001b[0;32m    148\u001b[0m         streaming\u001b[38;5;241m=\u001b[39mstreaming,\n\u001b[0;32m    149\u001b[0m     )\n\u001b[0;32m    150\u001b[0m \u001b[38;5;28;01melse\u001b[39;00m:\n\u001b[1;32m--> 151\u001b[0m     \u001b[38;5;28;01mraise\u001b[39;00m \u001b[38;5;167;01mValueError\u001b[39;00m(\u001b[38;5;124mf\u001b[39m\u001b[38;5;124m\"\u001b[39m\u001b[38;5;124mUnknown mode: \u001b[39m\u001b[38;5;132;01m{\u001b[39;00mresponse_mode\u001b[38;5;132;01m}\u001b[39;00m\u001b[38;5;124m\"\u001b[39m)\n",
      "\u001b[1;31mValueError\u001b[0m: Unknown mode: tree"
     ]
    }
   ],
   "source": [
    "query_engine = index.as_query_engine(\n",
    "    llm=llm,\n",
    "    response_mode=\"tree\",\n",
    ")\n",
    "response = query_engine.query(\"Od kogo nie można pobierać odcisków palców?\")\n",
    "print(response)"
   ]
  },
  {
   "cell_type": "code",
   "execution_count": 47,
   "metadata": {},
   "outputs": [
    {
     "name": "stdout",
     "output_type": "stream",
     "text": [
      "\n",
      "Źródła:\n",
      "  * Dokument: cc750565-a988-4da4-bf79-e9df97245345\n",
      "\n",
      "    Fragment tekstu: 3 pkt 14 ustawy z dnia 17 lutego 2005 r. o informatyzacji \n",
      "działalności podmiotów realizujących zadania publiczne. \n",
      "6. Do danych, o których mowa w ust. 4, stosuje się sposób transliteracji określony w art. 14 ust. 2 ustawy z dnia 25 listo-\n",
      "pada 2004 r. o zawodzie tłumacza przysięgłego (Dz. U. z 2019 r. poz. 1326). \n",
      "7. Do wniosku, o  którym mowa w  ust. 1, załącza się fotografię, spełniającą wymagania określone w  art. 29 ustawy \n",
      "z dnia 6 sierpnia 2010 r. o dowodach osobistych (Dz. U. z 2021 r. poz. 816, 1000 i 1978). \n",
      "8. Podczas składania wniosku, o którym mowa w ust. 1, pobiera się od osoby, której dotyczy wniosek, odciski palców. \n",
      "9. Odcisków palców nie pobiera się od osoby: \n",
      "1) która nie ukończyła 12. roku życia; \n",
      "2) od której chwilowo fizycznie nie jest możliwe pobranie odcisków któregokolwie k z palców; \n",
      "3) od której pobranie odcisków palców jest fizycznie niemożliwe. \n",
      "10. Odciski palców pobiera się w sposób określony w przepisach wydanych na podstawie art. 54 ustawy z dnia 6 sierpnia \n",
      "2010 r. o dowodach osobistych. \n",
      "11. Organ gminy potwierdza toż samość na podstawie dokumentu podróży, Karty Polaka lub innego dokumentu ze \n",
      "zdjęciem umożliwiającego ustalenie tożsamości, a  w przypadku osób, które nie ukończyły 18.  roku życia, również doku-\n",
      "mentu potwierdzającego urodzenie, i wprowadza dane do rejestru PESEL. \n",
      "12. Potwierdzenie tożsamości może nastąpić na podstawie dokumentu unieważnionego, jeżeli umożliwia on ustalenie \n",
      "tożsamości osoby. \n",
      "13. Oświadczenia, o których mowa w ust. 4, składa się pod rygorem odpowiedzialności karnej za złożenie fałszywego \n",
      "oświadczenia. Klauzula, o której mowa w ust. 4 pkt 21, zastępuje pouczenie organu uprawnionego do odebrania oświadczenia\n",
      "\n",
      "    Podobieństwo: 0.6176080976835737\n",
      "\n",
      "----------------------------------------\n"
     ]
    }
   ],
   "source": [
    "print(\"\\nŹródła:\")\n",
    "for node in response.source_nodes:\n",
    "    print(f\"  * Dokument: {node.node.ref_doc_id}\\n\")\n",
    "    print(f\"    Fragment tekstu: {node.node.get_content()}\\n\")\n",
    "    print(f\"    Podobieństwo: {node.score}\\n\")\n",
    "    print(\"-\" * 40)"
   ]
  },
  {
   "cell_type": "code",
   "execution_count": null,
   "metadata": {},
   "outputs": [],
   "source": []
  },
  {
   "cell_type": "code",
   "execution_count": null,
   "metadata": {},
   "outputs": [],
   "source": []
  },
  {
   "cell_type": "code",
   "execution_count": null,
   "metadata": {},
   "outputs": [],
   "source": []
  },
  {
   "cell_type": "code",
   "execution_count": null,
   "metadata": {},
   "outputs": [],
   "source": []
  },
  {
   "cell_type": "code",
   "execution_count": null,
   "metadata": {},
   "outputs": [],
   "source": []
  },
  {
   "cell_type": "code",
   "execution_count": null,
   "metadata": {},
   "outputs": [],
   "source": []
  },
  {
   "cell_type": "code",
   "execution_count": 13,
   "metadata": {},
   "outputs": [
    {
     "name": "stdout",
     "output_type": "stream",
     "text": [
      "get_formatted_sources: <bound method Response.get_formatted_sources of Response(response='Ustawa o pomocy obywatelom Ukrainy dotyczy szczegółów dotyczących uzależnienia pobytu obywateli Ukrainy, którzy przybyli na terytorium Rzeczypospolitej Polskiej bezpośrednio z terytorium Ukrainy w związku z działaniami wojennymi prowadzonymi na terytorium tego państwa. Ustawa obejmuje także obywateli Ukrainy posiadających Kartę Polaka, którzy wraz z najbliższą rodziną z powodu tych działań wojskowych przybyli na terytorium Rzeczypospolitej Polskiej. Kwestie obejmowane w ustawie to szczegóły dotyczące powierzenia pracy obywatelom Ukrainy, pomoc zapewnianą przez wojewodów i jednostki samorządu terytorialnego dla obywateli Ukrainy, utworzenie Funduszu Pomocy do finansowania lub dofinansowania realizacji zadań na rzecz pomocy obywatelom Ukrainy, niektóre uprawnienia obywateli Ukrainy, szczególne zasady przedłużania okresów legalnego pobytu obywateli Ukrainy oraz wydanych im przez organy polskie dokumentów dotyczących uprawnień w zakresie wjazdu i pobytu na terytorium Rzeczypospolitej Polskiej, niektóre uprawnienia obywateli polskich i obywateli Ukrainy, uprawnienia studentów, nauczycieli akademickich lub pracowników naukowych, wsparcie jednostek samorządu terytorialnego w realizacji dodatkowych zadań oświatowych dotyczących dzieci i uczniów obywateli Ukrainy, szczególne regulacje dotyczące kształcenia, wychowania i opieki nad dziećmi i uczniami obywatelami Ukrainy oraz szczególne zasady organizacji i funkcjonowania uczelni w związku z zapewnianiem miejsc na studiach dla obywateli Ukrainy.', source_nodes=[NodeWithScore(node=TextNode(id_='46f63618-662a-4355-b19d-745b7fe585f8', embedding=None, metadata={'page_label': '1', 'file_name': 'specustawa_12032022.pdf', 'file_path': 'C:\\\\Users\\\\mikoo\\\\Downloads\\\\specustawa_12032022.pdf', 'file_type': 'application/pdf', 'file_size': 832598, 'creation_date': '2025-03-13', 'last_modified_date': '2025-03-13'}, excluded_embed_metadata_keys=['file_name', 'file_type', 'file_size', 'creation_date', 'last_modified_date', 'last_accessed_date'], excluded_llm_metadata_keys=['file_name', 'file_type', 'file_size', 'creation_date', 'last_modified_date', 'last_accessed_date'], relationships={<NodeRelationship.SOURCE: '1'>: RelatedNodeInfo(node_id='f75563de-ebb4-4f5c-82a0-106931bd1a8a', node_type='4', metadata={'page_label': '1', 'file_name': 'specustawa_12032022.pdf', 'file_path': 'C:\\\\Users\\\\mikoo\\\\Downloads\\\\specustawa_12032022.pdf', 'file_type': 'application/pdf', 'file_size': 832598, 'creation_date': '2025-03-13', 'last_modified_date': '2025-03-13'}, hash='dfbde13c839f0bd6a4726a6b7093685af90b0f552146d4c86d607971e517a0b8'), <NodeRelationship.NEXT: '3'>: RelatedNodeInfo(node_id='b0b2b713-d0fa-4e95-bd33-19bed38e2244', node_type='1', metadata={}, hash='4014649fadce78da851850c7e71669eba3329574aa21a975ae0e1fe13b9da68d')}, metadata_template='{key}: {value}', metadata_separator='\\n', text='©Kancelaria Sejmu  s. 1/45 \\n2022-03-14 \\n \\nDz.U. 2022 poz. 583 \\n \\nUSTAWA  \\nz dnia 12 marca 2022 r. \\no pomocy obywatelom Ukrainy w związku z konfliktem zbrojnym na terytorium tego państwa1) \\nArt. 1. 1. Ustawa określa szczególne zasady zalegalizowania pobytu obywateli Ukrainy, którzy przybyli na terytorium \\nRzeczypospolitej Polskiej bezpośrednio z terytorium Ukrainy w związku z działaniami wojennymi prowadzonymi na terytorium \\ntego państwa, oraz obywateli Ukrainy posiadających Kartę Polaka, którzy wraz z najbliższą rodziną z powodu tych działań \\nwojennych przybyli na terytorium Rzeczypospolitej Polskiej. \\n2. Ilekroć w ustawie jest mowa o obywatelu Ukrainy, rozumie się przez to także nieposiadającego obywatelstwa ukraińskiego \\nmałżonka obywatela Ukrainy, o ile przybył on na terytorium Rzeczypospolitej Polskiej bezpośrednio z  terytorium Ukrainy \\nw związku z działaniami wojennymi prowadzonymi na terytorium tego państwa. \\n3. Ustawa określa również: \\n1) szczególne zasady powierzenia pracy obywatelom Ukrainy, przebywającym legalnie na terytorium Rzeczypospolitej \\nPolskiej; \\n2) pomoc zapewnianą przez wojewodów, jednostki samorządu terytorialnego oraz inne podmioty obywatelom Ukrainy;  \\n3) utworzenie Funduszu Pomocy w celu finansowania lub dofinansowania realizacji zadań na rzecz pomocy obywatelom \\nUkrainy; \\n4) niektóre uprawnienia obywateli Ukrainy, których pobyt na terytorium Rzeczypospolitej Polskiej jest uznawany za legalny; \\n5) szczególne zasady przedłużania okresów legalnego pobytu obywateli Ukrainy oraz wydanych im przez organy polskie \\ndokumentów dotyczących uprawnień w zakresie wjazdu i pobytu na terytorium Rzeczypospolitej Polskiej; \\n6) niektóre uprawnienia obywateli polskich i  obywateli Ukrainy będących studentami, naucz ycielami akademickimi lub \\npracownikami naukowymi wjeżdżającymi z terytorium Ukrainy; \\n7) szczególne regulacje dotyczące kształcenia, wychowania i  opieki dzieci i  uczniów będących obywatelami Ukrainy, \\nw tym wsparcia jednostek samorządu terytorialnego w realizacji dodatkowych zadań oświatowych w tym zakresie; \\n8) szczególne zasady organizacji i funkcjonowania uczelni w związku z zapewnianiem miejsc na studiach dla obywateli \\nUkrainy, o których mowa w ust. 1; \\n9) szczególne zasady podejmowania i wykonywania działalności gospodarczej przez obywateli Ukrainy, przebywających \\nlegalnie na terytorium Rzeczypospolitej Polskiej. \\nArt. 2. 1. Jeżeli obywatel Ukrainy, o  którym mowa w  art. 1 ust.', mimetype='text/plain', start_char_idx=0, end_char_idx=2450, metadata_seperator='\\n', text_template='{metadata_str}\\n\\n{content}'), score=0.7269757631472595)], metadata={'46f63618-662a-4355-b19d-745b7fe585f8': {'page_label': '1', 'file_name': 'specustawa_12032022.pdf', 'file_path': 'C:\\\\Users\\\\mikoo\\\\Downloads\\\\specustawa_12032022.pdf', 'file_type': 'application/pdf', 'file_size': 832598, 'creation_date': '2025-03-13', 'last_modified_date': '2025-03-13'}})>\n",
      "\n",
      "metadata: {'46f63618-662a-4355-b19d-745b7fe585f8': {'page_label': '1', 'file_name': 'specustawa_12032022.pdf', 'file_path': 'C:\\\\Users\\\\mikoo\\\\Downloads\\\\specustawa_12032022.pdf', 'file_type': 'application/pdf', 'file_size': 832598, 'creation_date': '2025-03-13', 'last_modified_date': '2025-03-13'}}\n",
      "\n",
      "response: Ustawa o pomocy obywatelom Ukrainy dotyczy szczegółów dotyczących uzależnienia pobytu obywateli Ukrainy, którzy przybyli na terytorium Rzeczypospolitej Polskiej bezpośrednio z terytorium Ukrainy w związku z działaniami wojennymi prowadzonymi na terytorium tego państwa. Ustawa obejmuje także obywateli Ukrainy posiadających Kartę Polaka, którzy wraz z najbliższą rodziną z powodu tych działań wojskowych przybyli na terytorium Rzeczypospolitej Polskiej. Kwestie obejmowane w ustawie to szczegóły dotyczące powierzenia pracy obywatelom Ukrainy, pomoc zapewnianą przez wojewodów i jednostki samorządu terytorialnego dla obywateli Ukrainy, utworzenie Funduszu Pomocy do finansowania lub dofinansowania realizacji zadań na rzecz pomocy obywatelom Ukrainy, niektóre uprawnienia obywateli Ukrainy, szczególne zasady przedłużania okresów legalnego pobytu obywateli Ukrainy oraz wydanych im przez organy polskie dokumentów dotyczących uprawnień w zakresie wjazdu i pobytu na terytorium Rzeczypospolitej Polskiej, niektóre uprawnienia obywateli polskich i obywateli Ukrainy, uprawnienia studentów, nauczycieli akademickich lub pracowników naukowych, wsparcie jednostek samorządu terytorialnego w realizacji dodatkowych zadań oświatowych dotyczących dzieci i uczniów obywateli Ukrainy, szczególne regulacje dotyczące kształcenia, wychowania i opieki nad dziećmi i uczniami obywatelami Ukrainy oraz szczególne zasady organizacji i funkcjonowania uczelni w związku z zapewnianiem miejsc na studiach dla obywateli Ukrainy.\n",
      "\n",
      "source_nodes: [NodeWithScore(node=TextNode(id_='46f63618-662a-4355-b19d-745b7fe585f8', embedding=None, metadata={'page_label': '1', 'file_name': 'specustawa_12032022.pdf', 'file_path': 'C:\\\\Users\\\\mikoo\\\\Downloads\\\\specustawa_12032022.pdf', 'file_type': 'application/pdf', 'file_size': 832598, 'creation_date': '2025-03-13', 'last_modified_date': '2025-03-13'}, excluded_embed_metadata_keys=['file_name', 'file_type', 'file_size', 'creation_date', 'last_modified_date', 'last_accessed_date'], excluded_llm_metadata_keys=['file_name', 'file_type', 'file_size', 'creation_date', 'last_modified_date', 'last_accessed_date'], relationships={<NodeRelationship.SOURCE: '1'>: RelatedNodeInfo(node_id='f75563de-ebb4-4f5c-82a0-106931bd1a8a', node_type='4', metadata={'page_label': '1', 'file_name': 'specustawa_12032022.pdf', 'file_path': 'C:\\\\Users\\\\mikoo\\\\Downloads\\\\specustawa_12032022.pdf', 'file_type': 'application/pdf', 'file_size': 832598, 'creation_date': '2025-03-13', 'last_modified_date': '2025-03-13'}, hash='dfbde13c839f0bd6a4726a6b7093685af90b0f552146d4c86d607971e517a0b8'), <NodeRelationship.NEXT: '3'>: RelatedNodeInfo(node_id='b0b2b713-d0fa-4e95-bd33-19bed38e2244', node_type='1', metadata={}, hash='4014649fadce78da851850c7e71669eba3329574aa21a975ae0e1fe13b9da68d')}, metadata_template='{key}: {value}', metadata_separator='\\n', text='©Kancelaria Sejmu  s. 1/45 \\n2022-03-14 \\n \\nDz.U. 2022 poz. 583 \\n \\nUSTAWA  \\nz dnia 12 marca 2022 r. \\no pomocy obywatelom Ukrainy w związku z konfliktem zbrojnym na terytorium tego państwa1) \\nArt. 1. 1. Ustawa określa szczególne zasady zalegalizowania pobytu obywateli Ukrainy, którzy przybyli na terytorium \\nRzeczypospolitej Polskiej bezpośrednio z terytorium Ukrainy w związku z działaniami wojennymi prowadzonymi na terytorium \\ntego państwa, oraz obywateli Ukrainy posiadających Kartę Polaka, którzy wraz z najbliższą rodziną z powodu tych działań \\nwojennych przybyli na terytorium Rzeczypospolitej Polskiej. \\n2. Ilekroć w ustawie jest mowa o obywatelu Ukrainy, rozumie się przez to także nieposiadającego obywatelstwa ukraińskiego \\nmałżonka obywatela Ukrainy, o ile przybył on na terytorium Rzeczypospolitej Polskiej bezpośrednio z  terytorium Ukrainy \\nw związku z działaniami wojennymi prowadzonymi na terytorium tego państwa. \\n3. Ustawa określa również: \\n1) szczególne zasady powierzenia pracy obywatelom Ukrainy, przebywającym legalnie na terytorium Rzeczypospolitej \\nPolskiej; \\n2) pomoc zapewnianą przez wojewodów, jednostki samorządu terytorialnego oraz inne podmioty obywatelom Ukrainy;  \\n3) utworzenie Funduszu Pomocy w celu finansowania lub dofinansowania realizacji zadań na rzecz pomocy obywatelom \\nUkrainy; \\n4) niektóre uprawnienia obywateli Ukrainy, których pobyt na terytorium Rzeczypospolitej Polskiej jest uznawany za legalny; \\n5) szczególne zasady przedłużania okresów legalnego pobytu obywateli Ukrainy oraz wydanych im przez organy polskie \\ndokumentów dotyczących uprawnień w zakresie wjazdu i pobytu na terytorium Rzeczypospolitej Polskiej; \\n6) niektóre uprawnienia obywateli polskich i  obywateli Ukrainy będących studentami, naucz ycielami akademickimi lub \\npracownikami naukowymi wjeżdżającymi z terytorium Ukrainy; \\n7) szczególne regulacje dotyczące kształcenia, wychowania i  opieki dzieci i  uczniów będących obywatelami Ukrainy, \\nw tym wsparcia jednostek samorządu terytorialnego w realizacji dodatkowych zadań oświatowych w tym zakresie; \\n8) szczególne zasady organizacji i funkcjonowania uczelni w związku z zapewnianiem miejsc na studiach dla obywateli \\nUkrainy, o których mowa w ust. 1; \\n9) szczególne zasady podejmowania i wykonywania działalności gospodarczej przez obywateli Ukrainy, przebywających \\nlegalnie na terytorium Rzeczypospolitej Polskiej. \\nArt. 2. 1. Jeżeli obywatel Ukrainy, o  którym mowa w  art. 1 ust.', mimetype='text/plain', start_char_idx=0, end_char_idx=2450, metadata_seperator='\\n', text_template='{metadata_str}\\n\\n{content}'), score=0.7269757631472595)]\n",
      "\n"
     ]
    }
   ],
   "source": [
    "# Wyświetlanie wszystkich elementów obiektu response\n",
    "for attr_name in dir(response):\n",
    "    if not attr_name.startswith('__'):\n",
    "        attr_value = getattr(response, attr_name)\n",
    "        print(f\"{attr_name}: {attr_value}\\n\")\n"
   ]
  },
  {
   "cell_type": "code",
   "execution_count": null,
   "metadata": {},
   "outputs": [
    {
     "name": "stdout",
     "output_type": "stream",
     "text": [
      "Ustawa o pomocy obywatelom Ukrainy dotyczy szczegółów dotyczących uzależnienia pobytu obywateli Ukrainy, którzy przybyli na terytorium Rzeczypospolitej Polskiej bezpośrednio z terytorium Ukrainy w związku z działaniami wojennymi prowadzonymi na terytorium tego państwa. Ustawa obejmuje także obywateli Ukrainy posiadających Kartę Polaka, którzy wraz z najbliższą rodziną z powodu tych działań wojskowych przybyli na terytorium Rzeczypospolitej Polskiej. Kwestie obejmowane w ustawie to szczegóły dotyczące powierzenia pracy obywatelom Ukrainy, pomoc zapewnianą przez wojewodów i jednostki samorządu terytorialnego dla obywateli Ukrainy, utworzenie Funduszu Pomocy do finansowania lub dofinansowania realizacji zadań na rzecz pomocy obywatelom Ukrainy, niektóre uprawnienia obywateli Ukrainy, szczególne zasady przedłużania okresów legalnego pobytu obywateli Ukrainy oraz wydanych im przez organy polskie dokumentów dotyczących uprawnień w zakresie wjazdu i pobytu na terytorium Rzeczypospolitej Polskiej, niektóre uprawnienia obywateli polskich i obywateli Ukrainy, uprawnienia studentów, nauczycieli akademickich lub pracowników naukowych, wsparcie jednostek samorządu terytorialnego w realizacji dodatkowych zadań oświatowych dotyczących dzieci i uczniów obywateli Ukrainy, szczególne regulacje dotyczące kształcenia, wychowania i opieki nad dziećmi i uczniami obywatelami Ukrainy oraz szczególne zasady organizacji i funkcjonowania uczelni w związku z zapewnianiem miejsc na studiach dla obywateli Ukrainy.\n",
      "46f63618-662a-4355-b19d-745b7fe585f8\n",
      "None\n"
     ]
    }
   ],
   "source": []
  },
  {
   "cell_type": "code",
   "execution_count": 15,
   "metadata": {},
   "outputs": [
    {
     "name": "stdout",
     "output_type": "stream",
     "text": [
      "Odpowiedź:\n",
      "Ustawa o pomocy obywatelom Ukrainy dotyczy szczegółów dotyczących uzależnienia pobytu obywateli Ukrainy, którzy przybyli na terytorium Rzeczypospolitej Polskiej bezpośrednio z terytorium Ukrainy w związku z działaniami wojennymi prowadzonymi na terytorium tego państwa. Ustawa obejmuje także obywateli Ukrainy posiadających Kartę Polaka, którzy wraz z najbliższą rodziną z powodu tych działań wojskowych przybyli na terytorium Rzeczypospolitej Polskiej. Kwestie obejmowane w ustawie to szczegóły dotyczące powierzenia pracy obywatelom Ukrainy, pomoc zapewnianą przez wojewodów i jednostki samorządu terytorialnego dla obywateli Ukrainy, utworzenie Funduszu Pomocy do finansowania lub dofinansowania realizacji zadań na rzecz pomocy obywatelom Ukrainy, niektóre uprawnienia obywateli Ukrainy, szczególne zasady przedłużania okresów legalnego pobytu obywateli Ukrainy oraz wydanych im przez organy polskie dokumentów dotyczących uprawnień w zakresie wjazdu i pobytu na terytorium Rzeczypospolitej Polskiej, niektóre uprawnienia obywateli polskich i obywateli Ukrainy, uprawnienia studentów, nauczycieli akademickich lub pracowników naukowych, wsparcie jednostek samorządu terytorialnego w realizacji dodatkowych zadań oświatowych dotyczących dzieci i uczniów obywateli Ukrainy, szczególne regulacje dotyczące kształcenia, wychowania i opieki nad dziećmi i uczniami obywatelami Ukrainy oraz szczególne zasady organizacji i funkcjonowania uczelni w związku z zapewnianiem miejsc na studiach dla obywateli Ukrainy.\n",
      "\n",
      "Metadane źródeł:\n",
      "ID węzła: 46f63618-662a-4355-b19d-745b7fe585f8\n",
      "Strona: 1\n",
      " Nazwa pliku: specustawa_12032022.pdf\n",
      "Ścieżka pliku: C:\\Users\\mikoo\\Downloads\\specustawa_12032022.pdf\n",
      "Typ pliku: application/pdf\n",
      "Rozmiar pliku: 832598 bajtów\n",
      "Data utworzenia: 2025-03-13\n",
      "Data modyfikacji: 2025-03-13\n",
      "\n"
     ]
    }
   ],
   "source": [
    "# Wyświetlanie odpowiedzi\n",
    "print(\"Odpowiedź:\")\n",
    "print(response.response)\n",
    "\n",
    "# Wyświetlanie metadanych źródeł\n",
    "print(\"\\nMetadane źródeł:\")\n",
    "for node in response.source_nodes:\n",
    "    print(f\"ID węzła: {node.node.id_}\")\n",
    "    print(f\"Strona: {node.metadata['page_label']}\")\n",
    "    print(f\" Nazwa pliku: {node.metadata['file_name']}\")\n",
    "    print(f\"Ścieżka pliku: {node.metadata['file_path']}\")\n",
    "    print(f\"Typ pliku: {node.metadata['file_type']}\")\n",
    "    print(f\"Rozmiar pliku: {node.metadata['file_size']} bajtów\")\n",
    "    print(f\"Data utworzenia: {node.metadata['creation_date']}\")\n",
    "    print(f\"Data modyfikacji: {node.metadata['last_modified_date']}\\n\")\n"
   ]
  }
 ],
 "metadata": {
  "kernelspec": {
   "display_name": "primo",
   "language": "python",
   "name": "python3"
  },
  "language_info": {
   "codemirror_mode": {
    "name": "ipython",
    "version": 3
   },
   "file_extension": ".py",
   "mimetype": "text/x-python",
   "name": "python",
   "nbconvert_exporter": "python",
   "pygments_lexer": "ipython3",
   "version": "3.12.4"
  }
 },
 "nbformat": 4,
 "nbformat_minor": 2
}
