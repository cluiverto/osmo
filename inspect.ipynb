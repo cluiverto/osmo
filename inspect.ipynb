{
 "cells": [
  {
   "cell_type": "code",
   "execution_count": 2,
   "metadata": {},
   "outputs": [
    {
     "data": {
      "text/plain": [
       "BertTokenizerFast(name_or_path='BAAI/bge-small-en-v1.5', vocab_size=30522, model_max_length=512, is_fast=True, padding_side='right', truncation_side='right', special_tokens={'unk_token': '[UNK]', 'sep_token': '[SEP]', 'pad_token': '[PAD]', 'cls_token': '[CLS]', 'mask_token': '[MASK]'}, clean_up_tokenization_spaces=True, added_tokens_decoder={\n",
       "\t0: AddedToken(\"[PAD]\", rstrip=False, lstrip=False, single_word=False, normalized=False, special=True),\n",
       "\t100: AddedToken(\"[UNK]\", rstrip=False, lstrip=False, single_word=False, normalized=False, special=True),\n",
       "\t101: AddedToken(\"[CLS]\", rstrip=False, lstrip=False, single_word=False, normalized=False, special=True),\n",
       "\t102: AddedToken(\"[SEP]\", rstrip=False, lstrip=False, single_word=False, normalized=False, special=True),\n",
       "\t103: AddedToken(\"[MASK]\", rstrip=False, lstrip=False, single_word=False, normalized=False, special=True),\n",
       "}\n",
       ")"
      ]
     },
     "execution_count": 2,
     "metadata": {},
     "output_type": "execute_result"
    }
   ],
   "source": [
    "from llama_index.embeddings.huggingface import HuggingFaceEmbedding\n",
    "from transformers import AutoTokenizer\n",
    "\n",
    "embed_model = HuggingFaceEmbedding(model_name=\"BAAI/bge-small-en-v1.5\")\n",
    "\n",
    "from transformers import AutoTokenizer\n",
    "tokenizer = AutoTokenizer.from_pretrained(\"BAAI/bge-small-en-v1.5\")\n",
    "tokenizer"
   ]
  },
  {
   "cell_type": "code",
   "execution_count": null,
   "metadata": {},
   "outputs": [
    {
     "name": "stdout",
     "output_type": "stream",
     "text": [
      "Ustawa mowi o różnych aspektach praw i obowiązków związanych z wykonywaniem prac na grunty pokryte wodami oraz drogach publicznych. To obejmuje zawaranie umowy użytkowania gruntów pokrytych wodami, wymianę przepisów dotyczących wykonywania prac w pasie drogowym bez potrzeby sporządzania projektu organizacji ruchu oraz bez płacenia opłat, korzystanie z kanałów technologicznych na drogach publicznych oraz eksploatację instalacji. Ustawa również mówi o prawach operatora telekomunikacyjnego wykonywującego te prace i obciążyności nieruchomości związanych z tą działalnością.\n"
     ]
    }
   ],
   "source": [
    "import os, chromadb\n",
    "from llama_index.vector_stores.chroma import ChromaVectorStore\n",
    "from llama_index.embeddings.huggingface import HuggingFaceEmbedding\n",
    "from llama_index.core import VectorStoreIndex\n",
    "from llama_index.llms.huggingface import HuggingFaceLLM\n",
    "from llama_index.llms.ollama import Ollama\n",
    "\n",
    "db = chromadb.PersistentClient(path=\"./OSMO\")\n",
    "chroma_collection = db.get_or_create_collection(\"dataset-laymen\")\n",
    "vector_store = ChromaVectorStore(chroma_collection=chroma_collection)\n",
    "embed_model = HuggingFaceEmbedding(model_name=\"BAAI/bge-small-en-v1.5\")\n",
    "\n",
    "\n",
    "index = VectorStoreIndex.from_vector_store(vector_store, embed_model=embed_model)\n",
    "llm = Ollama(model=\"qwen2:7b\")\n",
    "query_engine = index.as_query_engine(llm=llm)"
   ]
  },
  {
   "cell_type": "code",
   "execution_count": 55,
   "metadata": {},
   "outputs": [
    {
     "name": "stdout",
     "output_type": "stream",
     "text": [
      "Ustawa określa procesy i wymagania związane z wykorzystaniem elektronicznych dokumentów, w tym certyfikatów, do stwierdzania tożsamości obywateli Ukrainy na terytorium Rzeczypospolitej Polskiej. Ustawa również reguluje dostępność i funkcje publicznej aplikacji mobilnej oraz ustawienia dotyczące wyjazdu obywateli Ukrainy z Polski.\n"
     ]
    }
   ],
   "source": [
    "response = query_engine.query(\"Co określa ustawa?\")\n",
    "print(response)"
   ]
  },
  {
   "cell_type": "code",
   "execution_count": 57,
   "metadata": {},
   "outputs": [
    {
     "name": "stdout",
     "output_type": "stream",
     "text": [
      "\n",
      "Źródła:\n",
      "  * Dokument: c850b223-7a96-45a2-a5d2-56a6ca4c4e77\n",
      "\n",
      "    Fragment tekstu: 2 ust. 1, który pobrał doku-\n",
      "ment elektroniczny, o którym mowa w ust. 1 pkt 1, funkcjonalność pozwalającą na: \n",
      "1) dostęp do usługi online obsługiwanej przy użyciu tej aplikacji; \n",
      "2) potwierdzenie udziału w usługach świadczonych na rzecz użytkownika tej aplikacji w określonym miejscu i czasie; \n",
      "3) wykorzystanie tej aplikacji w  celu przekazywania d anych w  ramach usług świadczonych na rzecz użytkownika tej \n",
      "aplikacji. \n",
      "3. Minister właściwy do spraw informatyzacji może zapewnić obywatelowi Ukrainy, którego pobyt na terytorium Rzeczy-\n",
      "pospolitej Polskiej uznaje się za legalny na podstawie art.  2 ust. 1, będącemu użytkownikiem publicznej aplikacji mobilnej, \n",
      "możliwość posługiwania się certyfikatem, o którym mowa w art. 19e ust. 2a ustawy z dnia 17 lutego 2005 r. o informatyzacji \n",
      "działalności podmiotów realizujących zadania publiczne, po uwierzytelnieniu przy użyciu środka identyfikacji elektronicz-\n",
      "nej, o którym mowa w art. 20a ust. 1 tej ustawy. \n",
      "4. Certyfikat może zawierać dane, o których mowa w art. 4 ust. 4 pkt 1, 2 i 4 oraz art. 6 ust. 5 pkt 2. \n",
      "5. Rada Ministrów określi, w  drodze rozporządzenia, procedury, w  których dokument elektroniczny, o  którym mowa \n",
      "w ust. 1 pkt 1, oraz usługi, w których certyfikat, o którym mowa w ust. 4, mogą być wykorzystywane do stwierdzania toż-\n",
      "samości obywatela Ukrainy, którego pobyt na terytorium Rzeczypospolitej Polskiej uznaje się za legalny na podstawie art. 2 \n",
      "ust. 1, mając na uwadze ułatwienie im sprawnego i bezpiecznego załatwiania spraw urzędowych. \n",
      "6. W sprawach dotyczących publicznej aplikacji mo bilnej nieuregulowanych w  ustawie stosuje się przepisy ustawy \n",
      "z dnia 17 lutego 2005 r. o informatyzacji działalności podmiotów realizujących zadania publiczne. \n",
      "Art. 11. 1. Uprawnienie, o  którym mowa w  art. 2 ust. 1, jest niezależne od innych uprawnień do w jazdu i pobytu na \n",
      "terytorium Rzeczypospolitej Polskiej wynikających z przepisów prawa. \n",
      "2. Wyjazd obywatela Ukrainy z terytorium Rzeczypospolitej Polskiej na okres powyżej 1 miesiąca pozbawia go upraw-\n",
      "nienia, o którym mowa w art. 2 ust. 1. \n",
      "Art. 12. 1. Wojewoda może zapewnić pomoc obywatelom Ukrainy, o których mowa w art. 1 ust. 1, polegającą na: \n",
      "1) zakwaterowaniu; \n",
      "2) zapewnieniu całodziennego wyżywienia zbiorowego;\n",
      "\n",
      "    Podobieństwo: 0.5854122293032314\n",
      "\n",
      "----------------------------------------\n"
     ]
    }
   ],
   "source": [
    "print(\"\\nŹródła:\")\n",
    "for node in response.source_nodes:\n",
    "    print(f\"  * Dokument: {node.node.ref_doc_id}\\n\")\n",
    "    print(f\"    Fragment tekstu: {node.node.get_content()}\\n\")\n",
    "    print(f\"    Podobieństwo: {node.score}\\n\")\n",
    "    print(\"-\" * 40)"
   ]
  },
  {
   "cell_type": "code",
   "execution_count": 37,
   "metadata": {},
   "outputs": [
    {
     "name": "stdout",
     "output_type": "stream",
     "text": [
      "Ustawa dotyczy różnych aspektów życia w Rzeczypospolitej Polskiej. To obejmuje kwestie związane z numerem PESEL, odpowiedzialnością karną za fałszywe oświadczenia, possible wykonania fotografii dla obywateli Ukrainy, administracji rządowej, rejestrowaniu obywateli i udzielaniu pomocy społecznej społeczkom lokalnym i regionalnym innych państw. Wymienia także różne zmiany w różnych ustawach dotyczących przepisów dotyczące ochrony cudzoziemców, zwolnienia od opłat za wydanie wizy oraz praw związanych z samorządami powiatowymi i woевództwami.\n"
     ]
    }
   ],
   "source": [
    "import os, chromadb\n",
    "from llama_index.vector_stores.chroma import ChromaVectorStore\n",
    "from llama_index.embeddings.huggingface import HuggingFaceEmbedding\n",
    "from llama_index.core import VectorStoreIndex\n",
    "from llama_index.llms.huggingface import HuggingFaceLLM\n",
    "from llama_index.llms.ollama import Ollama\n",
    "\n",
    "db2 = chromadb.PersistentClient(path=\"./ustawy_BAAI\")\n",
    "chroma_collection2 = db2.get_or_create_collection(\"pomoc_ukrainie\")\n",
    "vector_store2 = ChromaVectorStore(chroma_collection=chroma_collection2)\n",
    "embed_model2 = HuggingFaceEmbedding(model_name=\"BAAI/bge-small-en-v1.5\")\n",
    "\n",
    "index2 = VectorStoreIndex.from_vector_store(vector_store2, embed_model=embed_model2)\n",
    "llm = Ollama(model=\"qwen2:7b\")\n",
    "query_engine2 = index2.as_query_engine(llm=llm)\n",
    "\n",
    "response2 = query_engine2.query(\"O czym mówi ustawa?\")\n",
    "print(response2)"
   ]
  },
  {
   "cell_type": "code",
   "execution_count": 38,
   "metadata": {},
   "outputs": [
    {
     "name": "stdout",
     "output_type": "stream",
     "text": [
      "\n",
      "Źródła:\n",
      "  * Dokument: 8a9bd787-8bca-4ea3-b6e4-dc355b1755c7\n",
      "\n",
      "    Fragment tekstu: ©Kancelaria Sejmu  s. 5/45 \n",
      "2022-03-14 \n",
      "o odpowiedzialności karnej za złożenie fałszywego oświadczenia. W przypadku braku dokumentów, o których mowa w ust. 11, \n",
      "potwierdzenie tożsamości następuje na podstawie oświadczenia. \n",
      "14. Komendant Główny Straży Granicznej zapewnia możliwość weryfikacji danych osoby, której ma zostać nadany \n",
      "numer PESEL, z danymi zgromadzonymi w rejestrze, o którym mowa w art. 3 ust. 3. \n",
      "15. Kopię dokumentu, na pods tawie którego dokonano ustalenia tożsamości, lub oświadczenie, o  którym mowa \n",
      "w ust. 13, przechowuje organ gminy wraz z wnioskiem. \n",
      "16. Organ gminy odmawia w drodze decyzji nadania numeru PESEL, w przypadku gdy: \n",
      "1) fotografia załączona do wniosku nie spełnia wymań określonych w art. 29 ustawy z dnia 6 sierpnia 2010 r. o dowodach \n",
      "osobistych; \n",
      "2) nie zostały pobrane odciski palców, z wyjątkiem przypadków, o których mowa w ust. 9; \n",
      "3) potwierdzenie tożsamości nastąpiło na podstawie oświadczenia, o  którym mowa w  ust. 13, a w wyniku weryfikacji, \n",
      "o której mowa w ust. 14, ustalono, że w rejestrze, o którym mowa w art. 3 ust. 3, zamieszczono serię i numer dokumentu \n",
      "stanowiącego podstawę przekroczenia granicy. \n",
      "17. Od decyzji, o której mowa w ust. 16, nie służy odwołanie. \n",
      "18. Minister właściwy do spraw informatyzacji udostępni w  Biuletynie Informacji Publicznej na swojej stronie pod-\n",
      "miotowej: \n",
      "1) wzór wniosku, o którym mowa w ust. 1; \n",
      "2) wzór wydruku, o którym mowa w art. 9 ust. 3 pkt 2. \n",
      "19. Wzory, o których mowa w ust. 18, są sporządzane w języku polskim i ukraińskim, a także mogą być sporządzone \n",
      "również w innych językach. \n",
      "20. Dane, o których mowa w art. 8 pkt 1, 2, 3a–6, 9–11, 24, pkt 24a lit. d ustawy z dnia 24 września 2010 r. o ewidencji \n",
      "ludności, minister właściwy do spraw informatyzacji przekazuje z rejestru PESEL do rejestru, o którym mowa w art. 3 ust. 3. \n",
      "21. W sprawach dotyczących numeru PESEL nieuregulowanych ustawą stosuje się przepisy ustawy z dnia 24 września \n",
      "2010 r. o ewidencji ludności. \n",
      "Art. 5. 1. Organ gminy może zapewnić obywatelowi Ukrainy, którego pobyt na terytorium Rzeczypospolitej Polskiej \n",
      "uznaje się za legalny na podstawie art. 2 ust. 1, możliwość nieodpłatnego wykonania fotografii, o której mowa w art. 4 ust. 7. \n",
      "2. Zadanie, o którym mowa w ust. 1, jest zadaniem zleconym z zakresu administracji rządowej. \n",
      "Art. 6. 1. Minister właściwy do spraw informatyzacji prowadzi rejestr obywateli Ukrainy, którym nadano numer PESEL, \n",
      "w sposób określony w art. 4. \n",
      "2.\n",
      "\n",
      "    Podobieństwo: 0.5380715516903745\n",
      "\n",
      "----------------------------------------\n",
      "  * Dokument: bef62609-4402-4b58-bb37-e808e87133f7\n",
      "\n",
      "    Fragment tekstu: Wykonywanie zawodu w  podmiotach leczniczych \n",
      "udzielających świadczeń ofiarom konfliktu zbrojnego na Ukrainie nie wymaga zgody, o  której mowa w ust. 16.”. \n",
      "Art. 78. W ustawie z dnia 5 czerwca 1998 r. o samorządzie powiatowym (Dz. U. z 2022 r. poz. 528) w art. 7a dotych-\n",
      "czasową treść oznacza się jako ust. 1 i dodaje się ust. 2 w brzmieniu: \n",
      "„2. Powiaty, związki i stowarzyszenia powiatów mogą udzielać pomocy, w tym pomocy finansowej, społeczno-\n",
      "ściom lokalnym i regionalnym innych państw. Podstawą udzielania tej pomocy jest uchwała organu stanowiącego po-\n",
      "wiatu, związku powiatów lub właściwego organ statutowego stowarzyszenia powiatów.”.  \n",
      "Art. 79. W ustawie z dnia 5 czerwca 1998 r. o samorządzie województwa (Dz. U. z 2022 r. poz. 547) w art. 8a dotych-\n",
      "czasową treść oznacza się jako ust. 1 i dodaje się ust. 2 w brzmieniu: \n",
      "„2. Województwa mogą udzielać pomocy, w  tym pomocy finansowej, społecznościom lokalnym i  regionalnym \n",
      "innych państw. Podstawą udzielania tej pomocy jest w uchwała sejmiku województwa.”. \n",
      "Art. 80. W ustawie z  dnia 13  czerwca 2003  r. o  udzielaniu cudzoziemcom ochrony na terytorium Rzeczypospolitej \n",
      "Polskiej (Dz. U. z 2021 r. poz. 1108 i 1918) wprowadza się następujące zmiany: \n",
      "1) w art. 74 po ust. 1 dodaje się ust. 1a w brzmieniu: \n",
      "„1a. Świadczenia pieniężnego można udzielić wnioskodawcy oraz osobie, w  imieniu której wnioskodawca wy-\n",
      "stępuje, bez konieczności zgłoszenia się w ośrodku.”; \n",
      "2) w art. 106 dodaje się ust. 4 w brzmieniu: \n",
      "„4. Przepisy niniejszego rozdziału mają zastosowanie w zakresie nieuregulowanym odrębnymi przepisami, które \n",
      "określają kategorie osób korzystających w Rzeczypospolitej Polskiej z ochrony czasowej.”; \n",
      "3) w art. 109 dotychczasową treść oznacza się jako ust. 1 i dodaje się ust. 2 w brzmieniu: \n",
      "„2. Szef Urzędu odmawia skorzystania z ochrony czasowej w drodze decyzji, która jest ostateczna.”; \n",
      "4) w art. 110: \n",
      "a) uchyla się ust. 2 i 3, \n",
      "b) ust. 4 otrzymuje brzmienie: \n",
      "„4. Za wydanie wizy, o której mowa w ust. 1, nie pobiera się opłat.”,\n",
      "\n",
      "    Podobieństwo: 0.52360895226199\n",
      "\n",
      "----------------------------------------\n"
     ]
    }
   ],
   "source": [
    "print(\"\\nŹródła:\")\n",
    "for node in response2.source_nodes:\n",
    "    print(f\"  * Dokument: {node.node.ref_doc_id}\\n\")\n",
    "    print(f\"    Fragment tekstu: {node.node.get_content()}\\n\")\n",
    "    print(f\"    Podobieństwo: {node.score}\\n\")\n",
    "    print(\"-\" * 40)"
   ]
  },
  {
   "cell_type": "code",
   "execution_count": 58,
   "metadata": {},
   "outputs": [
    {
     "name": "stdout",
     "output_type": "stream",
     "text": [
      "Ustawa określa procedury związane z dokumentami elektronicznymi, usługami online i wykazywaną tożsamości obywateli Ukrainy na terytorium Rzeczypospolitej Polskiej. W szczególności ustawę dotycząca funkcjonowania publicznych aplikacji mobilnych i wykorzystania certyfikatów do potwierdzenia legalnego biorącego się w Polsce przez obywateli Ukrainy.\n",
      "Ustawa określa szczególne zasady zalegalizowania pobytu obywateli Ukrainy, którzy przybyli na terytorium Rzeczypospolitej Polskiej bezpośrednio z terytorium Ukrainy w związku z działaniami wojennymi prowadzonymi na terytorium tego państwa. Ustawa także określa pomoc zapewnianą przez wojewodów, jednostki samorządu terytorialnego oraz inne podmioty obywatelom Ukrainy, utworzenie Funduszu Pomocy do finansowania lub dofinansowania realizacji zadań na rzecz pomocy obywatelom Ukrainy. Ponadto ustawa określa niektóre uprawnienia obywateli Ukrainy, szczególne zasady powierzenia pracy obywatelom Ukrainy, przedłużania okresów legalnego pobytu obywateli Ukrainy oraz wydanych im przez organy polskie dokumentów dotyczących uprawnień w zakresie wjazdu i pobytu na terytorium Rzeczypospolitej Polskiej. Ustawa także określa szczególne zasady organizacji i funkcjonowania uczelni w związku z zapewnianiem miejsc na studiach dla obywateli Ukrainy, oraz regulacje dotyczące kształcenia, wychowywania i opieki dzieci i uczniów będących obywatelami Ukrainy.\n"
     ]
    }
   ],
   "source": [
    "query = \"Co określa ustawa?\"\n",
    "response = query_engine.query(query)\n",
    "response2 = query_engine2.query(query)\n",
    "\n",
    "print(response)\n",
    "print(response2)"
   ]
  },
  {
   "cell_type": "code",
   "execution_count": 59,
   "metadata": {},
   "outputs": [
    {
     "name": "stdout",
     "output_type": "stream",
     "text": [
      "\n",
      "Źródła:\n",
      "  * Dokument: b48e2893-02ff-47b4-be15-679a03c036f0\n",
      "\n",
      "    Fragment tekstu: ©Kancelaria Sejmu  s. 1/45 \n",
      "2022-03-14 \n",
      " \n",
      "Dz.U. 2022 poz. 583 \n",
      " \n",
      "USTAWA  \n",
      "z dnia 12 marca 2022 r. \n",
      "o pomocy obywatelom Ukrainy w związku z konfliktem zbrojnym na terytorium tego państwa1) \n",
      "Art. 1. 1. Ustawa określa szczególne zasady zalegalizowania pobytu obywateli Ukrainy, którzy przybyli na terytorium \n",
      "Rzeczypospolitej Polskiej bezpośrednio z terytorium Ukrainy w związku z działaniami wojennymi prowadzonymi na terytorium \n",
      "tego państwa, oraz obywateli Ukrainy posiadających Kartę Polaka, którzy wraz z najbliższą rodziną z powodu tych działań \n",
      "wojennych przybyli na terytorium Rzeczypospolitej Polskiej. \n",
      "2. Ilekroć w ustawie jest mowa o obywatelu Ukrainy, rozumie się przez to także nieposiadającego obywatelstwa ukraińskiego \n",
      "małżonka obywatela Ukrainy, o ile przybył on na terytorium Rzeczypospolitej Polskiej bezpośrednio z  terytorium Ukrainy \n",
      "w związku z działaniami wojennymi prowadzonymi na terytorium tego państwa. \n",
      "3. Ustawa określa również: \n",
      "1) szczególne zasady powierzenia pracy obywatelom Ukrainy, przebywającym legalnie na terytorium Rzeczypospolitej \n",
      "Polskiej; \n",
      "2) pomoc zapewnianą przez wojewodów, jednostki samorządu terytorialnego oraz inne podmioty obywatelom Ukrainy;  \n",
      "3) utworzenie Funduszu Pomocy w celu finansowania lub dofinansowania realizacji zadań na rzecz pomocy obywatelom \n",
      "Ukrainy; \n",
      "4) niektóre uprawnienia obywateli Ukrainy, których pobyt na terytorium Rzeczypospolitej Polskiej jest uznawany za legalny; \n",
      "5) szczególne zasady przedłużania okresów legalnego pobytu obywateli Ukrainy oraz wydanych im przez organy polskie \n",
      "dokumentów dotyczących uprawnień w zakresie wjazdu i pobytu na terytorium Rzeczypospolitej Polskiej; \n",
      "6) niektóre uprawnienia obywateli polskich i  obywateli Ukrainy będących studentami, naucz ycielami akademickimi lub \n",
      "pracownikami naukowymi wjeżdżającymi z terytorium Ukrainy; \n",
      "7) szczególne regulacje dotyczące kształcenia, wychowania i  opieki dzieci i  uczniów będących obywatelami Ukrainy, \n",
      "w tym wsparcia jednostek samorządu terytorialnego w realizacji dodatkowych zadań oświatowych w tym zakresie; \n",
      "8) szczególne zasady organizacji i funkcjonowania uczelni w związku z zapewnianiem miejsc na studiach dla obywateli \n",
      "Ukrainy, o których mowa w ust. 1; \n",
      "9) szczególne zasady podejmowania i wykonywania działalności gospodarczej przez obywateli Ukrainy, przebywających \n",
      "legalnie na terytorium Rzeczypospolitej Polskiej. \n",
      "Art. 2. 1. Jeżeli obywatel Ukrainy, o  którym mowa w  art. 1 ust.\n",
      "\n",
      "    Podobieństwo: 0.5252304206356737\n",
      "\n",
      "----------------------------------------\n",
      "  * Dokument: 4cf72640-78a2-4bd0-b31b-e84b346dc37c\n",
      "\n",
      "    Fragment tekstu: 1, nie rozpatruje się \n",
      "innych okoliczności niż te określone w ust. 1 i 4. \n",
      "6. Obywatelowi Ukrainy cofa się zezwolenie na pobyt czasowy, o którym mowa w ust. 1, gdy wystąpiła przynajmniej \n",
      "jedna z okoliczności, o których mowa w ust. 4 pkt 1 lub 2. \n",
      "7. Wniosek o udzielenie zezwolenia na pobyt czasowy, o którym mowa w ust. 1, obywatel Ukrainy składa nie wcześniej \n",
      "niż po upływie 9 miesięcy od dnia wjazdu, o  którym mowa w art. 2 ust. 1, a nie później niż w okresie 18 miesięcy od dnia \n",
      "24 lutego 2022 r. Wniosek złożony przed upływem 9 miesięcy od dnia wjazdu wojewoda pozostawia bez rozpoznania. \n",
      "                                                           \n",
      "5) Zmiany tekstu jednolitego wymienionej ustawy zostały ogłoszone w Dz. U. z 2021 r. poz. 1292, 1559, 1773, 1834, 1981, 2105, 2120, \n",
      "2232, 2270, 2427 i 2469 oraz z 2022 r. poz. 64, 91, 526 i 583.\n",
      "\n",
      "    Podobieństwo: 0.5129516792156845\n",
      "\n",
      "----------------------------------------\n"
     ]
    }
   ],
   "source": [
    "print(\"\\nŹródła:\")\n",
    "for node in response2.source_nodes:\n",
    "    print(f\"  * Dokument: {node.node.ref_doc_id}\\n\")\n",
    "    print(f\"    Fragment tekstu: {node.node.get_content()}\\n\")\n",
    "    print(f\"    Podobieństwo: {node.score}\\n\")\n",
    "    print(\"-\" * 40)"
   ]
  },
  {
   "cell_type": "code",
   "execution_count": 60,
   "metadata": {},
   "outputs": [
    {
     "name": "stdout",
     "output_type": "stream",
     "text": [
      "\n",
      "Źródła:\n",
      "  * Dokument: c850b223-7a96-45a2-a5d2-56a6ca4c4e77\n",
      "\n",
      "    Fragment tekstu: 2 ust. 1, który pobrał doku-\n",
      "ment elektroniczny, o którym mowa w ust. 1 pkt 1, funkcjonalność pozwalającą na: \n",
      "1) dostęp do usługi online obsługiwanej przy użyciu tej aplikacji; \n",
      "2) potwierdzenie udziału w usługach świadczonych na rzecz użytkownika tej aplikacji w określonym miejscu i czasie; \n",
      "3) wykorzystanie tej aplikacji w  celu przekazywania d anych w  ramach usług świadczonych na rzecz użytkownika tej \n",
      "aplikacji. \n",
      "3. Minister właściwy do spraw informatyzacji może zapewnić obywatelowi Ukrainy, którego pobyt na terytorium Rzeczy-\n",
      "pospolitej Polskiej uznaje się za legalny na podstawie art.  2 ust. 1, będącemu użytkownikiem publicznej aplikacji mobilnej, \n",
      "możliwość posługiwania się certyfikatem, o którym mowa w art. 19e ust. 2a ustawy z dnia 17 lutego 2005 r. o informatyzacji \n",
      "działalności podmiotów realizujących zadania publiczne, po uwierzytelnieniu przy użyciu środka identyfikacji elektronicz-\n",
      "nej, o którym mowa w art. 20a ust. 1 tej ustawy. \n",
      "4. Certyfikat może zawierać dane, o których mowa w art. 4 ust. 4 pkt 1, 2 i 4 oraz art. 6 ust. 5 pkt 2. \n",
      "5. Rada Ministrów określi, w  drodze rozporządzenia, procedury, w  których dokument elektroniczny, o  którym mowa \n",
      "w ust. 1 pkt 1, oraz usługi, w których certyfikat, o którym mowa w ust. 4, mogą być wykorzystywane do stwierdzania toż-\n",
      "samości obywatela Ukrainy, którego pobyt na terytorium Rzeczypospolitej Polskiej uznaje się za legalny na podstawie art. 2 \n",
      "ust. 1, mając na uwadze ułatwienie im sprawnego i bezpiecznego załatwiania spraw urzędowych. \n",
      "6. W sprawach dotyczących publicznej aplikacji mo bilnej nieuregulowanych w  ustawie stosuje się przepisy ustawy \n",
      "z dnia 17 lutego 2005 r. o informatyzacji działalności podmiotów realizujących zadania publiczne. \n",
      "Art. 11. 1. Uprawnienie, o  którym mowa w  art. 2 ust. 1, jest niezależne od innych uprawnień do w jazdu i pobytu na \n",
      "terytorium Rzeczypospolitej Polskiej wynikających z przepisów prawa. \n",
      "2. Wyjazd obywatela Ukrainy z terytorium Rzeczypospolitej Polskiej na okres powyżej 1 miesiąca pozbawia go upraw-\n",
      "nienia, o którym mowa w art. 2 ust. 1. \n",
      "Art. 12. 1. Wojewoda może zapewnić pomoc obywatelom Ukrainy, o których mowa w art. 1 ust. 1, polegającą na: \n",
      "1) zakwaterowaniu; \n",
      "2) zapewnieniu całodziennego wyżywienia zbiorowego;\n",
      "\n",
      "    Podobieństwo: 0.5854122293032314\n",
      "\n",
      "----------------------------------------\n"
     ]
    }
   ],
   "source": [
    "print(\"\\nŹródła:\")\n",
    "for node in response.source_nodes:\n",
    "    print(f\"  * Dokument: {node.node.ref_doc_id}\\n\")\n",
    "    print(f\"    Fragment tekstu: {node.node.get_content()}\\n\")\n",
    "    print(f\"    Podobieństwo: {node.score}\\n\")\n",
    "    print(\"-\" * 40)"
   ]
  }
 ],
 "metadata": {
  "kernelspec": {
   "display_name": "primo",
   "language": "python",
   "name": "python3"
  },
  "language_info": {
   "codemirror_mode": {
    "name": "ipython",
    "version": 3
   },
   "file_extension": ".py",
   "mimetype": "text/x-python",
   "name": "python",
   "nbconvert_exporter": "python",
   "pygments_lexer": "ipython3",
   "version": "3.12.4"
  }
 },
 "nbformat": 4,
 "nbformat_minor": 2
}
